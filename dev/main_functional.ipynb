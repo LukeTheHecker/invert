{
 "cells": [
  {
   "cell_type": "code",
   "execution_count": 1,
   "metadata": {},
   "outputs": [],
   "source": [
    "%load_ext autoreload\n",
    "%autoreload 2\n",
    "%matplotlib qt\n",
    "import sys; sys.path.insert(0, '../')\n",
    "import numpy as np\n",
    "from matplotlib import pyplot as plt\n",
    "from scipy.stats import pearsonr\n",
    "import mne\n",
    "from esinet import Simulation\n",
    "from esinet.forward import get_info, create_forward_model\n",
    "from esinet.util import unpack_fwd\n",
    "pp = dict(surface='white', hemi='both')"
   ]
  },
  {
   "cell_type": "markdown",
   "metadata": {},
   "source": [
    "# Get Forward Model"
   ]
  },
  {
   "cell_type": "code",
   "execution_count": 2,
   "metadata": {},
   "outputs": [
    {
     "name": "stderr",
     "output_type": "stream",
     "text": [
      "[Parallel(n_jobs=4)]: Using backend LokyBackend with 4 concurrent workers.\n",
      "[Parallel(n_jobs=4)]: Done   2 out of   4 | elapsed:    1.9s remaining:    1.9s\n",
      "[Parallel(n_jobs=4)]: Done   4 out of   4 | elapsed:    2.0s remaining:    0.0s\n",
      "[Parallel(n_jobs=4)]: Done   4 out of   4 | elapsed:    2.0s finished\n",
      "[Parallel(n_jobs=4)]: Using backend LokyBackend with 4 concurrent workers.\n",
      "[Parallel(n_jobs=4)]: Done   2 out of   4 | elapsed:    0.1s remaining:    0.1s\n",
      "[Parallel(n_jobs=4)]: Done   4 out of   4 | elapsed:    0.1s remaining:    0.0s\n",
      "[Parallel(n_jobs=4)]: Done   4 out of   4 | elapsed:    0.1s finished\n",
      "[Parallel(n_jobs=4)]: Using backend LokyBackend with 4 concurrent workers.\n",
      "[Parallel(n_jobs=4)]: Done   2 out of   4 | elapsed:    0.1s remaining:    0.1s\n",
      "[Parallel(n_jobs=4)]: Done   4 out of   4 | elapsed:    0.2s remaining:    0.0s\n",
      "[Parallel(n_jobs=4)]: Done   4 out of   4 | elapsed:    0.2s finished\n"
     ]
    }
   ],
   "source": [
    "info = get_info(kind='biosemi32')\n",
    "fwd = create_forward_model(info=info, sampling='ico3')\n",
    "\n",
    "leadfield, pos = unpack_fwd(fwd)[1:3]\n",
    "n_chans, n_dipoles = leadfield.shape"
   ]
  },
  {
   "cell_type": "markdown",
   "metadata": {},
   "source": [
    "# Get sample data"
   ]
  },
  {
   "cell_type": "code",
   "execution_count": 93,
   "metadata": {},
   "outputs": [
    {
     "name": "stdout",
     "output_type": "stream",
     "text": [
      "-- number of adjacent vertices : 1284\n",
      "Simulating data based on sparse patches.\n"
     ]
    },
    {
     "name": "stderr",
     "output_type": "stream",
     "text": [
      "100%|██████████| 2/2 [00:00<00:00,  3.44it/s]\n",
      "100%|██████████| 2/2 [00:00<00:00, 282.17it/s]\n"
     ]
    },
    {
     "name": "stdout",
     "output_type": "stream",
     "text": [
      "source data shape:  (1284, 1000) (1284, 1000)\n"
     ]
    },
    {
     "name": "stderr",
     "output_type": "stream",
     "text": [
      "100%|██████████| 2/2 [00:00<00:00, 17.24it/s]"
     ]
    },
    {
     "name": "stdout",
     "output_type": "stream",
     "text": [
      "Using control points [1.18668609e-08 2.04346565e-08 6.08158610e-08]\n"
     ]
    },
    {
     "name": "stderr",
     "output_type": "stream",
     "text": [
      "\n"
     ]
    },
    {
     "name": "stdout",
     "output_type": "stream",
     "text": [
      "For automatic theme detection, \"darkdetect\" has to be installed! You can install it with `pip install darkdetect`\n",
      "To use light mode, \"qdarkstyle\" has to be installed! You can install it with `pip install qdarkstyle`\n"
     ]
    }
   ],
   "source": [
    "settings = dict(number_of_sources=3, extents=(25, 40), duration_of_trial=1, target_snr=10)\n",
    "\n",
    "sim = Simulation(fwd, info, settings).simulate(2)\n",
    "stc = sim.source_data[0]\n",
    "evoked = sim.eeg_data[0].average()\n",
    "\n",
    "brain = stc.plot(**pp)\n",
    "brain.add_text(0.1, 0.9, 'Ground Truth', 'title',\n",
    "               font_size=14)"
   ]
  },
  {
   "cell_type": "markdown",
   "metadata": {},
   "source": [
    "# Regularization Optimizations"
   ]
  },
  {
   "cell_type": "code",
   "execution_count": 95,
   "metadata": {},
   "outputs": [
    {
     "name": "stderr",
     "output_type": "stream",
     "text": [
      "c:\\Users\\Lukas\\Documents\\projects\\invert\\dev\\..\\invert\\solvers\\wrop.py:119: RuntimeWarning: divide by zero encountered in power\n",
      "  A = -d**-drop_off\n"
     ]
    },
    {
     "name": "stdout",
     "output_type": "stream",
     "text": [
      "Using control points [2.16276313e-09 2.71430102e-09 8.08474223e-09]\n",
      "For automatic theme detection, \"darkdetect\" has to be installed! You can install it with `pip install darkdetect`\n",
      "To use light mode, \"qdarkstyle\" has to be installed! You can install it with `pip install qdarkstyle`\n",
      "filtered out idx 11\n",
      "filtered out idx 11\n",
      "Using control points [1.12443118e-08 1.33682760e-08 3.81063807e-08]\n",
      "For automatic theme detection, \"darkdetect\" has to be installed! You can install it with `pip install darkdetect`\n",
      "To use light mode, \"qdarkstyle\" has to be installed! You can install it with `pip install qdarkstyle`\n"
     ]
    },
    {
     "data": {
      "text/plain": [
       "<mne.viz._brain._brain.Brain at 0x18a11e50190>"
      ]
     },
     "execution_count": 95,
     "metadata": {},
     "output_type": "execute_result"
    }
   ],
   "source": [
    "from invert.solvers.multiple_sparse_priors import SolverMultipleSparsePriors\n",
    "from invert.solvers.loreta import SolverLORETA, SolverSLORETA, SolverELORETA\n",
    "from invert.solvers.wrop import SolverBackusGilbert, SolverLAURA\n",
    "from invert.solvers.smap import SolverSMAP\n",
    "from invert.solvers.minimum_norm_estimates import SolverDynamicStatisticalParametricMapping, SolverWeightedMinimumNorm, SolverMinimumNorm\n",
    "\n",
    "solver = SolverLAURA()\n",
    "\n",
    "\n",
    "solver.make_inverse_operator(fwd, alpha='auto')\n",
    "stc_hat = solver.apply_inverse_operator(evoked)\n",
    "stc_hat.plot(**pp, brain_kwargs=dict(title=solver.name))\n",
    "\n",
    "solver = SolverLORETA()\n",
    "\n",
    "solver.make_inverse_operator(fwd, alpha='auto')\n",
    "stc_hat = solver.apply_inverse_operator(evoked)\n",
    "stc_hat.plot(**pp, brain_kwargs=dict(title=solver.name))"
   ]
  },
  {
   "cell_type": "code",
   "execution_count": 92,
   "metadata": {},
   "outputs": [
    {
     "name": "stdout",
     "output_type": "stream",
     "text": [
      "Using 12 temporal mode(s)\n",
      "Iteration 1. Free Energy Improvement: 10.61\n",
      "Iteration 2. Free Energy Improvement: 8.17\n",
      "Iteration 3. Free Energy Improvement: 145.50\n",
      "Iteration 4. Free Energy Improvement: 108.53\n",
      "Iteration 5. Free Energy Improvement: 361.28\n",
      "Iteration 6. Free Energy Improvement: 13.43\n",
      "Iteration 7. Free Energy Improvement: 4.58\n",
      "Iteration 8. Free Energy Improvement: 4.93\n",
      "Iteration 9. Free Energy Improvement: 4.30\n",
      "Iteration 10. Free Energy Improvement: 3.83\n",
      "Iteration 11. Free Energy Improvement: 25.28\n",
      "Iteration 12. Free Energy Improvement: 3.68\n",
      "Iteration 13. Free Energy Improvement: 3.30\n",
      "Iteration 14. Free Energy Improvement: 5.70\n",
      "Iteration 15. Free Energy Improvement: 2.81\n",
      "Iteration 16. Free Energy Improvement: 2.87\n",
      "Iteration 17. Free Energy Improvement: 3.04\n",
      "Iteration 18. Free Energy Improvement: 3.31\n",
      "Iteration 19. Free Energy Improvement: 3.68\n",
      "Iteration 20. Free Energy Improvement: 3.23\n",
      "Iteration 21. Free Energy Improvement: 2.93\n",
      "Iteration 22. Free Energy Improvement: 5.57\n",
      "Iteration 23. Free Energy Improvement: 3.05\n",
      "Iteration 24. Free Energy Improvement: 3.58\n",
      "Iteration 25. Free Energy Improvement: 2.73\n",
      "Iteration 26. Free Energy Improvement: 3.41\n",
      "Iteration 27. Free Energy Improvement: 2.89\n",
      "Iteration 28. Free Energy Improvement: 3.10\n",
      "Iteration 29. Free Energy Improvement: 2.80\n",
      "Iteration 30. Free Energy Improvement: 2.54\n",
      "Iteration 31. Free Energy Improvement: 2.38\n",
      "Iteration 32. Free Energy Improvement: 2.43\n",
      "Iteration 33. Free Energy Improvement: 2.67\n",
      "Iteration 34. Free Energy Improvement: 4.37\n",
      "Iteration 35. Free Energy Improvement: 2.39\n",
      "Iteration 36. Free Energy Improvement: 2.57\n",
      "Iteration 37. Free Energy Improvement: 2.43\n",
      "Iteration 38. Free Energy Improvement: 2.85\n",
      "Iteration 39. Free Energy Improvement: 3.21\n",
      "Iteration 40. Free Energy Improvement: 2.48\n",
      "Iteration 41. Free Energy Improvement: 3.89\n",
      "Iteration 42. Free Energy Improvement: 2.53\n",
      "Iteration 43. Free Energy Improvement: 2.71\n",
      "Iteration 44. Free Energy Improvement: 2.26\n",
      "Iteration 45. Free Energy Improvement: 40.71\n",
      "Iteration 46. Free Energy Improvement: 2.34\n",
      "Iteration 47. Free Energy Improvement: 2.10\n",
      "Iteration 48. Free Energy Improvement: 2.71\n",
      "Iteration 49. Free Energy Improvement: 1.85\n",
      "Iteration 50. Free Energy Improvement: 1.97\n",
      "Iteration 51. Free Energy Improvement: 2.27\n",
      "Iteration 52. Free Energy Improvement: 2.38\n",
      "Iteration 53. Free Energy Improvement: 2.10\n",
      "Iteration 54. Free Energy Improvement: 18.79\n",
      "Iteration 55. Free Energy Improvement: 1.77\n",
      "Iteration 56. Free Energy Improvement: 1.86\n",
      "Iteration 57. Free Energy Improvement: 2.23\n",
      "Iteration 58. Free Energy Improvement: 2.14\n",
      "Iteration 59. Free Energy Improvement: 1.96\n",
      "Iteration 60. Free Energy Improvement: 1.81\n",
      "Iteration 61. Free Energy Improvement: 1.95\n",
      "Iteration 62. Free Energy Improvement: 2.19\n",
      "Iteration 63. Free Energy Improvement: 2.00\n",
      "Iteration 64. Free Energy Improvement: 2.00\n",
      "Iteration 65. Free Energy Improvement: 4.60\n",
      "Iteration 66. Free Energy Improvement: 2.06\n",
      "Iteration 67. Free Energy Improvement: 1.89\n",
      "Iteration 68. Free Energy Improvement: 1.87\n",
      "Iteration 69. Free Energy Improvement: 2.17\n",
      "Iteration 70. Free Energy Improvement: 2.00\n",
      "Iteration 71. Free Energy Improvement: 2.19\n",
      "Iteration 72. Free Energy Improvement: 2.13\n",
      "Iteration 73. Free Energy Improvement: 1.92\n",
      "Iteration 74. Free Energy Improvement: 3.49\n",
      "Iteration 75. Free Energy Improvement: 1.58\n",
      "Iteration 76. Free Energy Improvement: 1.65\n",
      "Iteration 77. Free Energy Improvement: 1.92\n",
      "Iteration 78. Free Energy Improvement: 2.01\n",
      "Iteration 79. Free Energy Improvement: 1.79\n",
      "Iteration 80. Free Energy Improvement: 1.67\n",
      "Iteration 81. Free Energy Improvement: 1.52\n",
      "Iteration 82. Free Energy Improvement: 1.57\n",
      "Iteration 83. Free Energy Improvement: 1.75\n",
      "Iteration 84. Free Energy Improvement: 1.99\n",
      "Iteration 85. Free Energy Improvement: 1.76\n",
      "Iteration 86. Free Energy Improvement: 1.64\n",
      "Iteration 87. Free Energy Improvement: 1.46\n",
      "Iteration 88. Free Energy Improvement: 1.47\n",
      "Iteration 89. Free Energy Improvement: 1.47\n",
      "Iteration 90. Free Energy Improvement: 1.48\n",
      "Iteration 91. Free Energy Improvement: 1.49\n",
      "Iteration 92. Free Energy Improvement: 1.50\n",
      "Iteration 93. Free Energy Improvement: 1.52\n",
      "Iteration 94. Free Energy Improvement: 1.56\n",
      "Iteration 95. Free Energy Improvement: 1.66\n",
      "Iteration 96. Free Energy Improvement: 1.91\n",
      "Iteration 97. Free Energy Improvement: 1.87\n",
      "Iteration 98. Free Energy Improvement: 1.78\n",
      "Iteration 99. Free Energy Improvement: 1.92\n",
      "Iteration 100. Free Energy Improvement: 20.32\n",
      "Iteration 101. Free Energy Improvement: 1.41\n",
      "Iteration 102. Free Energy Improvement: 1.46\n",
      "Iteration 103. Free Energy Improvement: 1.65\n",
      "Iteration 104. Free Energy Improvement: 1.81\n",
      "Iteration 105. Free Energy Improvement: 1.63\n",
      "Iteration 106. Free Energy Improvement: 1.52\n",
      "Iteration 107. Free Energy Improvement: 1.37\n",
      "Iteration 108. Free Energy Improvement: 1.38\n",
      "Iteration 109. Free Energy Improvement: 1.40\n",
      "Iteration 110. Free Energy Improvement: 1.44\n",
      "Iteration 111. Free Energy Improvement: 1.56\n",
      "Iteration 112. Free Energy Improvement: 1.78\n",
      "Iteration 113. Free Energy Improvement: 1.61\n",
      "Iteration 114. Free Energy Improvement: 1.51\n",
      "Iteration 115. Free Energy Improvement: 1.40\n",
      "Iteration 116. Free Energy Improvement: 1.51\n",
      "Iteration 117. Free Energy Improvement: 1.79\n",
      "Iteration 118. Free Energy Improvement: 1.64\n",
      "Iteration 119. Free Energy Improvement: 1.51\n",
      "Iteration 120. Free Energy Improvement: 1.32\n",
      "Iteration 121. Free Energy Improvement: 1.33\n",
      "Iteration 122. Free Energy Improvement: 1.35\n",
      "Iteration 123. Free Energy Improvement: 1.36\n",
      "Iteration 124. Free Energy Improvement: 1.40\n",
      "Iteration 125. Free Energy Improvement: 1.49\n",
      "Iteration 126. Free Energy Improvement: 1.72\n",
      "Iteration 127. Free Energy Improvement: 1.58\n",
      "Iteration 128. Free Energy Improvement: 1.48\n",
      "<class 'numpy.ndarray'> (1284, 1000)\n",
      "Using control points [8.02489941e-10 9.94941007e-10 4.04986382e-09]\n",
      "For automatic theme detection, \"darkdetect\" has to be installed! You can install it with `pip install darkdetect`\n",
      "To use light mode, \"qdarkstyle\" has to be installed! You can install it with `pip install qdarkstyle`\n",
      "filtered out idx 8\n",
      "filtered out idx 8\n",
      "filtered out idx 8\n",
      "filtered out idx 8\n",
      "filtered out idx 8\n",
      "idx = 1, r=0.01\n",
      "<class 'numpy.ndarray'> (1284, 1000)\n",
      "Using control points [2.07162446e-09 2.48762261e-09 7.36641122e-09]\n",
      "For automatic theme detection, \"darkdetect\" has to be installed! You can install it with `pip install darkdetect`\n",
      "To use light mode, \"qdarkstyle\" has to be installed! You can install it with `pip install qdarkstyle`\n",
      "idx = 10, r=18.73817422860385\n",
      "<class 'numpy.ndarray'> (1284, 1000)\n",
      "Using control points [5.14326519e-09 6.38507227e-09 1.83263784e-08]\n",
      "For automatic theme detection, \"darkdetect\" has to be installed! You can install it with `pip install darkdetect`\n",
      "To use light mode, \"qdarkstyle\" has to be installed! You can install it with `pip install qdarkstyle`\n",
      "idx = 9, r=8.111308307896872\n",
      "<class 'numpy.ndarray'> (1284, 1000)\n",
      "Using control points [7.71810965e-10 9.67960772e-10 3.27171414e-09]\n",
      "For automatic theme detection, \"darkdetect\" has to be installed! You can install it with `pip install darkdetect`\n",
      "To use light mode, \"qdarkstyle\" has to be installed! You can install it with `pip install qdarkstyle`\n",
      "<class 'numpy.ndarray'> (1284, 1000)\n",
      "Using control points [1.58221381e-09 1.75716756e-09 3.27070036e-09]\n",
      "For automatic theme detection, \"darkdetect\" has to be installed! You can install it with `pip install darkdetect`\n",
      "To use light mode, \"qdarkstyle\" has to be installed! You can install it with `pip install qdarkstyle`\n"
     ]
    },
    {
     "name": "stderr",
     "output_type": "stream",
     "text": [
      "c:\\Users\\Lukas\\Documents\\projects\\invert\\dev\\..\\invert\\solvers\\wrop.py:119: RuntimeWarning: divide by zero encountered in power\n",
      "  A = -d**-drop_off\n"
     ]
    },
    {
     "name": "stdout",
     "output_type": "stream",
     "text": [
      "idx = 10, r=18.73817422860385\n",
      "<class 'numpy.ndarray'> (1284, 1000)\n",
      "Using control points [3.98340706e-10 4.83675241e-10 1.36553032e-09]\n",
      "For automatic theme detection, \"darkdetect\" has to be installed! You can install it with `pip install darkdetect`\n",
      "To use light mode, \"qdarkstyle\" has to be installed! You can install it with `pip install qdarkstyle`\n",
      "idx = 3, r=0.0533669923120631\n",
      "<class 'numpy.ndarray'> (1284, 1000)\n",
      "Using control points [5.89482238e-09 7.10940597e-09 1.87693903e-08]\n",
      "For automatic theme detection, \"darkdetect\" has to be installed! You can install it with `pip install darkdetect`\n",
      "To use light mode, \"qdarkstyle\" has to be installed! You can install it with `pip install qdarkstyle`\n",
      "alpha must be set to a float when using Dynamic Statistical Parametric Mapping, auto does not work yet.\n",
      "<class 'numpy.ndarray'> (1284, 1000)\n",
      "Using control points [3.24547326e-06 4.08672745e-06 1.41410127e-05]\n",
      "For automatic theme detection, \"darkdetect\" has to be installed! You can install it with `pip install darkdetect`\n",
      "To use light mode, \"qdarkstyle\" has to be installed! You can install it with `pip install qdarkstyle`\n",
      "idx = 4, r=0.12328467394420659\n",
      "<class 'numpy.ndarray'> (1284, 1000)\n",
      "Using control points [8.93630521e-13 1.03928160e-12 2.31239860e-12]\n",
      "For automatic theme detection, \"darkdetect\" has to be installed! You can install it with `pip install darkdetect`\n",
      "To use light mode, \"qdarkstyle\" has to be installed! You can install it with `pip install qdarkstyle`\n",
      "idx = 10, r=18.73817422860385\n",
      "<class 'numpy.ndarray'> (1284, 1000)\n",
      "Using control points [6.37213141e-10 8.05329713e-10 2.88528620e-09]\n",
      "For automatic theme detection, \"darkdetect\" has to be installed! You can install it with `pip install darkdetect`\n",
      "To use light mode, \"qdarkstyle\" has to be installed! You can install it with `pip install qdarkstyle`\n"
     ]
    }
   ],
   "source": [
    "from invert.solvers.multiple_sparse_priors import SolverMultipleSparsePriors\n",
    "from invert.solvers.loreta import SolverLORETA, SolverSLORETA, SolverELORETA\n",
    "from invert.solvers.wrop import SolverBackusGilbert, SolverLAURA\n",
    "from invert.solvers.smap import SolverSMAP\n",
    "from invert.solvers.minimum_norm_estimates import SolverDynamicStatisticalParametricMapping, SolverWeightedMinimumNorm, SolverMinimumNorm\n",
    "solvers = [SolverMultipleSparsePriors, SolverLORETA, SolverSLORETA, SolverELORETA, SolverBackusGilbert, SolverLAURA, SolverSMAP, SolverDynamicStatisticalParametricMapping, SolverWeightedMinimumNorm, SolverMinimumNorm]\n",
    "\n",
    "for solver in solvers:\n",
    "    solver_ = solver()\n",
    "    if solver_.name == \"Multiple Sparse Priors\":\n",
    "        solver_.make_inverse_operator(fwd, evoked, alpha='auto')\n",
    "    else:\n",
    "        solver_.make_inverse_operator(fwd, alpha='auto')\n",
    "    stc_hat = solver_.apply_inverse_operator(evoked)\n",
    "    stc_hat.plot(**pp, brain_kwargs=dict(title=solver_.name))\n",
    "\n"
   ]
  },
  {
   "cell_type": "code",
   "execution_count": 17,
   "metadata": {},
   "outputs": [
    {
     "name": "stdout",
     "output_type": "stream",
     "text": [
      "Using control points [4.75057550e-08 5.53502160e-08 1.36987867e-07]\n",
      "For automatic theme detection, \"darkdetect\" has to be installed! You can install it with `pip install darkdetect`\n",
      "To use light mode, \"qdarkstyle\" has to be installed! You can install it with `pip install qdarkstyle`\n"
     ]
    },
    {
     "data": {
      "text/plain": [
       "<mne.viz._brain._brain.Brain at 0x29be42e3b50>"
      ]
     },
     "execution_count": 17,
     "metadata": {},
     "output_type": "execute_result"
    }
   ],
   "source": [
    "from mne.minimum_norm import make_inverse_operator as mne_inverse\n",
    "from mne.minimum_norm import apply_inverse as mne_apply\n",
    "from mne import make_ad_hoc_cov\n",
    "noise_cov = make_ad_hoc_cov(evoked.info, verbose=0)\n",
    "mne_io = mne_inverse(evoked.info, fwd, noise_cov=noise_cov, fixed=True, loose=0, depth=0, verbose=0)\n",
    "stc_hat = mne_apply(evoked, mne_io, method=\"MNE\", verbose=0)\n",
    "stc_hat.plot(**pp)"
   ]
  },
  {
   "cell_type": "code",
   "execution_count": null,
   "metadata": {},
   "outputs": [],
   "source": []
  }
 ],
 "metadata": {
  "kernelspec": {
   "display_name": "Python (invertenv)",
   "language": "python",
   "name": "invertenv"
  },
  "language_info": {
   "codemirror_mode": {
    "name": "ipython",
    "version": 3
   },
   "file_extension": ".py",
   "mimetype": "text/x-python",
   "name": "python",
   "nbconvert_exporter": "python",
   "pygments_lexer": "ipython3",
   "version": "3.8.10"
  },
  "orig_nbformat": 4,
  "vscode": {
   "interpreter": {
    "hash": "dda1e5657e486f74a7b39841fb8103db2af51a77394f44c39a7821a371af47bd"
   }
  }
 },
 "nbformat": 4,
 "nbformat_minor": 2
}
