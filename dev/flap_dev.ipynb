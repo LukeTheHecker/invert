{
 "cells": [
  {
   "cell_type": "code",
   "execution_count": 1,
   "metadata": {},
   "outputs": [],
   "source": [
    "%load_ext autoreload\n",
    "%autoreload 2\n",
    "%matplotlib qt\n",
    "\n",
    "import sys; sys.path.insert(0, '../') \n",
    "import numpy as np\n",
    "from matplotlib import pyplot as plt\n",
    "from scipy.stats import pearsonr\n",
    "import mne\n",
    "\n",
    "from invert.forward import get_info, create_forward_model\n",
    "from invert.util import pos_from_forward\n",
    "from invert.evaluate import eval_auc\n",
    "from invert.simulate import generator\n",
    "pp = dict(surface='white', hemi='both', verbose=0)"
   ]
  },
  {
   "cell_type": "code",
   "execution_count": 2,
   "metadata": {},
   "outputs": [
    {
     "name": "stderr",
     "output_type": "stream",
     "text": [
      "[Parallel(n_jobs=-1)]: Using backend LokyBackend with 8 concurrent workers.\n",
      "[Parallel(n_jobs=-1)]: Done   3 out of   8 | elapsed:    2.3s remaining:    3.9s\n",
      "[Parallel(n_jobs=-1)]: Done   5 out of   8 | elapsed:    2.4s remaining:    1.4s\n",
      "[Parallel(n_jobs=-1)]: Done   8 out of   8 | elapsed:    2.6s finished\n",
      "[Parallel(n_jobs=-1)]: Using backend LokyBackend with 8 concurrent workers.\n",
      "[Parallel(n_jobs=-1)]: Done   3 out of   8 | elapsed:    0.1s remaining:    0.2s\n",
      "[Parallel(n_jobs=-1)]: Done   5 out of   8 | elapsed:    0.1s remaining:    0.0s\n",
      "[Parallel(n_jobs=-1)]: Done   8 out of   8 | elapsed:    0.1s finished\n",
      "[Parallel(n_jobs=-1)]: Using backend LokyBackend with 8 concurrent workers.\n",
      "[Parallel(n_jobs=-1)]: Done   3 out of   8 | elapsed:    0.1s remaining:    0.2s\n",
      "[Parallel(n_jobs=-1)]: Done   5 out of   8 | elapsed:    0.1s remaining:    0.0s\n",
      "[Parallel(n_jobs=-1)]: Done   8 out of   8 | elapsed:    0.1s finished\n"
     ]
    }
   ],
   "source": [
    "info = get_info(kind='biosemi64')\n",
    "fwd = create_forward_model(info=info, sampling='ico3')\n",
    "pos = pos_from_forward(fwd)\n",
    "leadfield = fwd[\"sol\"][\"data\"]\n",
    "n_chans, n_dipoles = leadfield.shape\n",
    "\n",
    "source_model = fwd['src']\n",
    "vertices = [source_model[0]['vertno'], source_model[1]['vertno']]\n",
    "adjacency = mne.spatial_src_adjacency(fwd['src'], verbose=0)"
   ]
  },
  {
   "cell_type": "markdown",
   "metadata": {},
   "source": [
    "# Smoothing experiments"
   ]
  },
  {
   "cell_type": "code",
   "execution_count": 8,
   "metadata": {},
   "outputs": [
    {
     "name": "stdout",
     "output_type": "stream",
     "text": [
      "active: 0.08 %\n",
      "active: 0.55 %\n",
      "active: 1.48 %\n"
     ]
    },
    {
     "data": {
      "text/plain": [
       "<mne.viz._brain._brain.Brain at 0x18100d28d00>"
      ]
     },
     "execution_count": 8,
     "metadata": {},
     "output_type": "execute_result"
    }
   ],
   "source": [
    "from scipy.sparse.csgraph import laplacian\n",
    "import numpy as np\n",
    "\n",
    "alpha = 0.05\n",
    "\n",
    "signal = np.zeros((n_dipoles, 1))\n",
    "signal[99] = 1\n",
    "\n",
    "stc_ = stc.copy()\n",
    "stc_.data = signal\n",
    "stc_.plot(**pp)\n",
    "\n",
    "I = np.identity(n_dipoles)\n",
    "L = laplacian(adjacency)\n",
    "new_signal = signal\n",
    "\n",
    "for _ in range(1):\n",
    "    print(f\"active: {100*(np.sum(new_signal[:, 0] != 0)/n_dipoles):.2f} %\")\n",
    "    new_signal = (I - alpha*L) @ new_signal\n",
    "\n",
    "stc_ = stc.copy()\n",
    "stc_.data = new_signal\n",
    "stc_.plot(**pp)\n",
    "\n",
    "for _ in range(2):\n",
    "    print(f\"active: {100*(np.sum(new_signal[:, 0] != 0)/n_dipoles):.2f} %\")\n",
    "    new_signal = (I - alpha*L) @ new_signal\n",
    "\n",
    "\n",
    "stc_ = stc.copy()\n",
    "stc_.data = new_signal\n",
    "stc_.plot(**pp)"
   ]
  },
  {
   "attachments": {},
   "cell_type": "markdown",
   "metadata": {},
   "source": [
    "# Simulate"
   ]
  },
  {
   "cell_type": "code",
   "execution_count": 4,
   "metadata": {},
   "outputs": [],
   "source": [
    "sim_params = dict(\n",
    "    use_cov=False,\n",
    "    return_mask=False,\n",
    "    batch_repetitions=1,\n",
    "    batch_size=1,\n",
    "    n_sources=10,\n",
    "    n_orders=(0, 4),\n",
    "    snr_range=(1e99, 2e99),\n",
    "    amplitude_range=(1.7,2),\n",
    "    n_timecourses=500,\n",
    "    n_timepoints=200,\n",
    "    scale_data=False,\n",
    "    add_forward_error=False,\n",
    "    forward_error=0.5,\n",
    "    inter_source_correlation=0.7,\n",
    "    diffusion_smoothing=True, \n",
    "    diffusion_parameter=0.1)\n",
    "\n",
    "gen = generator(fwd, **sim_params)"
   ]
  },
  {
   "cell_type": "code",
   "execution_count": 5,
   "metadata": {},
   "outputs": [
    {
     "name": "stdout",
     "output_type": "stream",
     "text": [
      "Using Diffusion Smoothing on Graph\n",
      "(5136, 1284)\n",
      "(5136, 1284) (0, 4)\n",
      "No projector specified for this dataset. Please consider the method self.add_proj.\n",
      "NOTE: pick_channels() is a legacy function. New code should use inst.pick(...).\n"
     ]
    },
    {
     "ename": "AttributeError",
     "evalue": "'NoneType' object has no attribute '_get_renderer'",
     "output_type": "error",
     "traceback": [
      "\u001b[1;31m---------------------------------------------------------------------------\u001b[0m",
      "\u001b[1;31mAttributeError\u001b[0m                            Traceback (most recent call last)",
      "File \u001b[1;32mc:\\Users\\lukas\\virtualenvs\\flap\\lib\\site-packages\\IPython\\core\\formatters.py:340\u001b[0m, in \u001b[0;36mBaseFormatter.__call__\u001b[1;34m(self, obj)\u001b[0m\n\u001b[0;32m    338\u001b[0m     \u001b[39mpass\u001b[39;00m\n\u001b[0;32m    339\u001b[0m \u001b[39melse\u001b[39;00m:\n\u001b[1;32m--> 340\u001b[0m     \u001b[39mreturn\u001b[39;00m printer(obj)\n\u001b[0;32m    341\u001b[0m \u001b[39m# Finally look for special method names\u001b[39;00m\n\u001b[0;32m    342\u001b[0m method \u001b[39m=\u001b[39m get_real_method(obj, \u001b[39mself\u001b[39m\u001b[39m.\u001b[39mprint_method)\n",
      "File \u001b[1;32mc:\\Users\\lukas\\virtualenvs\\flap\\lib\\site-packages\\IPython\\core\\pylabtools.py:152\u001b[0m, in \u001b[0;36mprint_figure\u001b[1;34m(fig, fmt, bbox_inches, base64, **kwargs)\u001b[0m\n\u001b[0;32m    149\u001b[0m     \u001b[39mfrom\u001b[39;00m \u001b[39mmatplotlib\u001b[39;00m\u001b[39m.\u001b[39;00m\u001b[39mbackend_bases\u001b[39;00m \u001b[39mimport\u001b[39;00m FigureCanvasBase\n\u001b[0;32m    150\u001b[0m     FigureCanvasBase(fig)\n\u001b[1;32m--> 152\u001b[0m fig\u001b[39m.\u001b[39;49mcanvas\u001b[39m.\u001b[39;49mprint_figure(bytes_io, \u001b[39m*\u001b[39;49m\u001b[39m*\u001b[39;49mkw)\n\u001b[0;32m    153\u001b[0m data \u001b[39m=\u001b[39m bytes_io\u001b[39m.\u001b[39mgetvalue()\n\u001b[0;32m    154\u001b[0m \u001b[39mif\u001b[39;00m fmt \u001b[39m==\u001b[39m \u001b[39m'\u001b[39m\u001b[39msvg\u001b[39m\u001b[39m'\u001b[39m:\n",
      "File \u001b[1;32mc:\\Users\\lukas\\virtualenvs\\flap\\lib\\site-packages\\matplotlib\\backends\\backend_qtagg.py:75\u001b[0m, in \u001b[0;36mFigureCanvasQTAgg.print_figure\u001b[1;34m(self, *args, **kwargs)\u001b[0m\n\u001b[0;32m     74\u001b[0m \u001b[39mdef\u001b[39;00m \u001b[39mprint_figure\u001b[39m(\u001b[39mself\u001b[39m, \u001b[39m*\u001b[39margs, \u001b[39m*\u001b[39m\u001b[39m*\u001b[39mkwargs):\n\u001b[1;32m---> 75\u001b[0m     \u001b[39msuper\u001b[39;49m()\u001b[39m.\u001b[39;49mprint_figure(\u001b[39m*\u001b[39;49margs, \u001b[39m*\u001b[39;49m\u001b[39m*\u001b[39;49mkwargs)\n\u001b[0;32m     76\u001b[0m     \u001b[39mself\u001b[39m\u001b[39m.\u001b[39mdraw()\n",
      "File \u001b[1;32mc:\\Users\\lukas\\virtualenvs\\flap\\lib\\site-packages\\matplotlib\\backend_bases.py:2353\u001b[0m, in \u001b[0;36mFigureCanvasBase.print_figure\u001b[1;34m(self, filename, dpi, facecolor, edgecolor, orientation, format, bbox_inches, pad_inches, bbox_extra_artists, backend, **kwargs)\u001b[0m\n\u001b[0;32m   2350\u001b[0m         bbox_inches \u001b[39m=\u001b[39m bbox_inches\u001b[39m.\u001b[39mpadded(pad_inches)\n\u001b[0;32m   2352\u001b[0m     \u001b[39m# call adjust_bbox to save only the given area\u001b[39;00m\n\u001b[1;32m-> 2353\u001b[0m     restore_bbox \u001b[39m=\u001b[39m _tight_bbox\u001b[39m.\u001b[39;49madjust_bbox(\n\u001b[0;32m   2354\u001b[0m         \u001b[39mself\u001b[39;49m\u001b[39m.\u001b[39;49mfigure, bbox_inches, \u001b[39mself\u001b[39;49m\u001b[39m.\u001b[39;49mfigure\u001b[39m.\u001b[39;49mcanvas\u001b[39m.\u001b[39;49mfixed_dpi)\n\u001b[0;32m   2356\u001b[0m     _bbox_inches_restore \u001b[39m=\u001b[39m (bbox_inches, restore_bbox)\n\u001b[0;32m   2357\u001b[0m \u001b[39melse\u001b[39;00m:\n",
      "File \u001b[1;32mc:\\Users\\lukas\\virtualenvs\\flap\\lib\\site-packages\\matplotlib\\_tight_bbox.py:28\u001b[0m, in \u001b[0;36madjust_bbox\u001b[1;34m(fig, bbox_inches, fixed_dpi)\u001b[0m\n\u001b[0;32m     26\u001b[0m locator \u001b[39m=\u001b[39m ax\u001b[39m.\u001b[39mget_axes_locator()\n\u001b[0;32m     27\u001b[0m \u001b[39mif\u001b[39;00m locator \u001b[39mis\u001b[39;00m \u001b[39mnot\u001b[39;00m \u001b[39mNone\u001b[39;00m:\n\u001b[1;32m---> 28\u001b[0m     ax\u001b[39m.\u001b[39mapply_aspect(locator(ax, \u001b[39mNone\u001b[39;49;00m))\n\u001b[0;32m     29\u001b[0m locator_list\u001b[39m.\u001b[39mappend(locator)\n\u001b[0;32m     30\u001b[0m current_pos \u001b[39m=\u001b[39m ax\u001b[39m.\u001b[39mget_position(original\u001b[39m=\u001b[39m\u001b[39mFalse\u001b[39;00m)\u001b[39m.\u001b[39mfrozen()\n",
      "File \u001b[1;32mc:\\Users\\lukas\\virtualenvs\\flap\\lib\\site-packages\\mpl_toolkits\\axes_grid1\\inset_locator.py:73\u001b[0m, in \u001b[0;36mAnchoredLocatorBase.__call__\u001b[1;34m(self, ax, renderer)\u001b[0m\n\u001b[0;32m     71\u001b[0m \u001b[39mdef\u001b[39;00m \u001b[39m__call__\u001b[39m(\u001b[39mself\u001b[39m, ax, renderer):\n\u001b[0;32m     72\u001b[0m     \u001b[39mself\u001b[39m\u001b[39m.\u001b[39maxes \u001b[39m=\u001b[39m ax\n\u001b[1;32m---> 73\u001b[0m     bbox \u001b[39m=\u001b[39m \u001b[39mself\u001b[39;49m\u001b[39m.\u001b[39;49mget_window_extent(renderer)\n\u001b[0;32m     74\u001b[0m     px, py \u001b[39m=\u001b[39m \u001b[39mself\u001b[39m\u001b[39m.\u001b[39mget_offset(bbox\u001b[39m.\u001b[39mwidth, bbox\u001b[39m.\u001b[39mheight, \u001b[39m0\u001b[39m, \u001b[39m0\u001b[39m, renderer)\n\u001b[0;32m     75\u001b[0m     bbox_canvas \u001b[39m=\u001b[39m Bbox\u001b[39m.\u001b[39mfrom_bounds(px, py, bbox\u001b[39m.\u001b[39mwidth, bbox\u001b[39m.\u001b[39mheight)\n",
      "File \u001b[1;32mc:\\Users\\lukas\\virtualenvs\\flap\\lib\\site-packages\\matplotlib\\offsetbox.py:399\u001b[0m, in \u001b[0;36mOffsetBox.get_window_extent\u001b[1;34m(self, renderer)\u001b[0m\n\u001b[0;32m    396\u001b[0m \u001b[39mdef\u001b[39;00m \u001b[39mget_window_extent\u001b[39m(\u001b[39mself\u001b[39m, renderer\u001b[39m=\u001b[39m\u001b[39mNone\u001b[39;00m):\n\u001b[0;32m    397\u001b[0m     \u001b[39m# docstring inherited\u001b[39;00m\n\u001b[0;32m    398\u001b[0m     \u001b[39mif\u001b[39;00m renderer \u001b[39mis\u001b[39;00m \u001b[39mNone\u001b[39;00m:\n\u001b[1;32m--> 399\u001b[0m         renderer \u001b[39m=\u001b[39m \u001b[39mself\u001b[39;49m\u001b[39m.\u001b[39;49mfigure\u001b[39m.\u001b[39;49m_get_renderer()\n\u001b[0;32m    400\u001b[0m     bbox \u001b[39m=\u001b[39m \u001b[39mself\u001b[39m\u001b[39m.\u001b[39mget_bbox(renderer)\n\u001b[0;32m    401\u001b[0m     \u001b[39mtry\u001b[39;00m:  \u001b[39m# Some subclasses redefine get_offset to take no args.\u001b[39;00m\n",
      "\u001b[1;31mAttributeError\u001b[0m: 'NoneType' object has no attribute '_get_renderer'"
     ]
    },
    {
     "data": {
      "text/plain": [
       "<Figure size 800x420 with 7 Axes>"
      ]
     },
     "execution_count": 5,
     "metadata": {},
     "output_type": "execute_result"
    }
   ],
   "source": [
    "x, y = gen.__next__()\n",
    "\n",
    "tmin = 0\n",
    "tstep = 1/info[\"sfreq\"]\n",
    "subject = \"fsaverage\"\n",
    "evoked = mne.EvokedArray(x[0].T, info, tmin=tmin)\n",
    "stc = mne.SourceEstimate(y[0].T, vertices, tmin=tmin, tstep=tstep, \n",
    "                        subject=subject, verbose=0)\n",
    "\n",
    "brain = stc.plot(**pp)\n",
    "brain.add_text(0.1, 0.9, \"Ground Truth\", 'title',\n",
    "               font_size=14)\n",
    "evoked.plot_joint(title=\"Ground Truth\")"
   ]
  },
  {
   "attachments": {},
   "cell_type": "markdown",
   "metadata": {},
   "source": [
    "# Solve"
   ]
  },
  {
   "cell_type": "markdown",
   "metadata": {},
   "source": [
    "## FLAP"
   ]
  },
  {
   "cell_type": "code",
   "execution_count": 10,
   "metadata": {},
   "outputs": [
    {
     "name": "stdout",
     "output_type": "stream",
     "text": [
      "Adding average EEG reference projection.\n",
      "1 projection items deactivated\n",
      "Average reference projection was added, but has not been applied yet. Use the apply_proj method to apply it.\n",
      "Created an SSP operator (subspace dimension = 1)\n",
      "1 projection items activated\n",
      "SSP projectors applied...\n",
      "Flexible Alternating Projections  r =  0.740068706976201\n"
     ]
    },
    {
     "name": "stdout",
     "output_type": "stream",
     "text": [
      "Using control points [0.01507022 0.03359925 0.57725555]\n"
     ]
    }
   ],
   "source": [
    "from invert import Solver\n",
    "\n",
    "solver = Solver(\"Flex-AP\")\n",
    "solver.make_inverse_operator(fwd, evoked, refine_solution=True, stop_crit=0.95, n_orders=3, n=sim_params[\"n_sources\"])\n",
    "stc_ = solver.apply_inverse_operator(evoked)\n",
    "\n",
    "stc_.data /= abs(stc_.data).max()\n",
    "brain = stc_.plot(**pp)\n",
    "brain.add_text(0.1, 0.9, solver.name, 'title',\n",
    "               font_size=14)\n",
    "\n",
    "evoked_ = mne.EvokedArray(fwd[\"sol\"][\"data\"] @ stc_.data, info).set_eeg_reference(\"average\", projection=True)\n",
    "evoked_.plot_joint()\n",
    "\n",
    "print(solver.name, \" r = \", pearsonr(abs(stc.data).mean(axis=-1), abs(stc_.data).mean(axis=-1))[0])"
   ]
  },
  {
   "attachments": {},
   "cell_type": "markdown",
   "metadata": {},
   "source": [
    "## FLEX-MUSIC"
   ]
  },
  {
   "cell_type": "code",
   "execution_count": 11,
   "metadata": {},
   "outputs": [
    {
     "name": "stdout",
     "output_type": "stream",
     "text": [
      "Adding average EEG reference projection.\n",
      "1 projection items deactivated\n",
      "Average reference projection was added, but has not been applied yet. Use the apply_proj method to apply it.\n",
      "Created an SSP operator (subspace dimension = 1)\n",
      "1 projection items activated\n",
      "SSP projectors applied...\n",
      "FLEX-MUSIC  r =  0.5658236158131791\n"
     ]
    }
   ],
   "source": [
    "from invert import Solver\n",
    "\n",
    "solver = Solver(\"Flex-Music\")\n",
    "solver.make_inverse_operator(fwd, evoked, refine_solution=True, n_orders=3, stop_crit=0.95, n=sim_params[\"n_sources\"])\n",
    "stc_ = solver.apply_inverse_operator(evoked)\n",
    "\n",
    "stc_.data /= abs(stc_.data).max()\n",
    "brain = stc_.plot(**pp)\n",
    "brain.add_text(0.1, 0.9, solver.name, 'title',\n",
    "               font_size=14)\n",
    "\n",
    "evoked_ = mne.EvokedArray(fwd[\"sol\"][\"data\"] @ stc_.data, info).set_eeg_reference(\"average\", projection=True)\n",
    "evoked_.plot_joint()\n",
    "\n",
    "print(solver.name, \" r = \", pearsonr(abs(stc.data).mean(axis=-1), abs(stc_.data).mean(axis=-1))[0])"
   ]
  },
  {
   "cell_type": "code",
   "execution_count": 16,
   "metadata": {},
   "outputs": [
    {
     "data": {
      "text/plain": [
       "(64, 1284)"
      ]
     },
     "execution_count": 16,
     "metadata": {},
     "output_type": "execute_result"
    }
   ],
   "source": [
    "fwd[\"sol\"][\"data\"].shape"
   ]
  },
  {
   "cell_type": "code",
   "execution_count": 82,
   "metadata": {},
   "outputs": [
    {
     "name": "stdout",
     "output_type": "stream",
     "text": [
      "[632, 778]\n",
      "[90, 778]\n",
      "[90, 778]\n",
      "No improvement vs. previous iteration 2\n",
      "EEG channel type selected for re-referencing\n",
      "Adding average EEG reference projection.\n",
      "1 projection items deactivated\n",
      "Average reference projection was added, but has not been applied yet. Use the apply_proj method to apply it.\n",
      "Created an SSP operator (subspace dimension = 1)\n",
      "1 projection items activated\n",
      "SSP projectors applied...\n"
     ]
    },
    {
     "data": {
      "image/png": "[encoded data removed]",
      "text/plain": [
       "<Figure size 800x420 with 5 Axes>"
      ]
     },
     "execution_count": 82,
     "metadata": {},
     "output_type": "execute_result"
    }
   ],
   "source": [
    "y = evoked.data\n",
    "y -= y.mean(axis=0)\n",
    "S_AP, S_AP_2 = alternating_projections(y, fwd[\"sol\"][\"data\"], 2, mode=\"AP\")\n",
    "\n",
    "stc_.data *= 0\n",
    "# stc_.data[S_AP] = 1\n",
    "stc_.data[S_AP_2] = 1\n",
    "stc_.plot(**pp)\n",
    "\n",
    "evoked_ = mne.EvokedArray(fwd[\"sol\"][\"data\"] @ stc_.data, info).set_eeg_reference(\"average\", projection=True)\n",
    "evoked_.plot_joint()\n"
   ]
  },
  {
   "cell_type": "code",
   "execution_count": 17,
   "metadata": {},
   "outputs": [],
   "source": [
    "import numpy as np\n",
    "\n",
    "def alternating_projections(Y, Gain, nsources, mode=\"AP\"):\n",
    "    \"\"\"\n",
    "    Function to perform Alternating Projections on a given data set.\n",
    "\n",
    "    Parameters:\n",
    "    Y: input data\n",
    "    ndipoles: number of dipoles topographies\n",
    "    Gain: Gain matrix\n",
    "    nsources: number of sources\n",
    "    max_iters: maximum number of iterations\n",
    "    mode: mode of operation ('AP', 'AP-w-MUSIC', 'AP-MUSIC')\n",
    "\n",
    "    Returns:\n",
    "    S_AP: AP localization of sources after 1st Phase\n",
    "    S_AP_2: AP localization of sources after 2nd Phase\n",
    "    \"\"\"\n",
    "    ndipoles = Gain.shape[1]\n",
    "    max_iters=100\n",
    "    \n",
    "    # AP localization of 1st source\n",
    "    Y = np.array(Y)\n",
    "    Gain = np.array(Gain)\n",
    "    S_AP = []\n",
    "\n",
    "    if mode == 'AP':\n",
    "        C = np.matmul(Y,Y.T) + 1e-3 * np.trace(np.matmul(Y,Y.T)) * np.eye(Y.shape[0]) # Array Covariance matrix\n",
    "    elif mode == 'AP-w-MUSIC':\n",
    "        u,s,_ = np.linalg.svd(np.matmul(Y,Y.T)) # Array Covariance matrix\n",
    "        C = np.matmul(np.matmul(u[:,:nsources], np.diag(s[:nsources])), u[:,:nsources].T)\n",
    "    elif mode == 'AP-MUSIC':\n",
    "        u,_,_ = np.linalg.svd(np.matmul(Y,Y.T)) # Array Covariance matrix\n",
    "        C = np.matmul(u[:,:nsources], u[:,:nsources].T)\n",
    "\n",
    "    ap_val1 = np.zeros((ndipoles,1))\n",
    "\n",
    "    # 1st Phase\n",
    "    # a) Initialization: search the 1st source location over the entire\n",
    "    # dipoles topographies space (ndipoles=15,002 topographies)\n",
    "    for p in range(ndipoles):\n",
    "        l_p = Gain[:,p]\n",
    "        ap_val1[p] = np.matmul(np.matmul(l_p.T,C),l_p) / np.matmul(l_p.T,l_p)\n",
    "\n",
    "    s1_idx = np.argmax(ap_val1) # obtain the 1st source location\n",
    "    S_AP.append(s1_idx)\n",
    "\n",
    "    # (b) Now, add one source at a time\n",
    "    for q in range(1, nsources):\n",
    "        # AP localization of q-th source\n",
    "        ap_val2 = np.zeros((ndipoles,1))\n",
    "        A = Gain[:,S_AP]\n",
    "        P_A = np.matmul(A, np.linalg.pinv(np.matmul(A.T,A))) @ A.T\n",
    "        Q = np.eye(P_A.shape[0]) - P_A\n",
    "        for p in range(ndipoles):\n",
    "            l_p = Gain[:,p]\n",
    "            ap_val2[p] = np.matmul(np.matmul(np.matmul(l_p.T,Q),C), Q @ l_p) / np.matmul(l_p.T, Q @ l_p)\n",
    "\n",
    "        s2_idx = np.argmax(ap_val2)\n",
    "        S_AP.append(s2_idx)\n",
    "\n",
    "    # 2nd Phase\n",
    "    S_AP_2 = S_AP.copy()\n",
    "    for iter in range(max_iters):\n",
    "        print(S_AP_2)\n",
    "        S_AP_2_Prev = S_AP_2.copy()\n",
    "        for q in range(nsources):\n",
    "            # AP localization of q-th source\n",
    "            ap_val2 = np.zeros((ndipoles,1))\n",
    "            S_AP_TMP = S_AP_2.copy()\n",
    "            S_AP_TMP.pop(q)\n",
    "            A = Gain[:,S_AP_TMP]\n",
    "            P_A = np.matmul(A, np.linalg.pinv(np.matmul(A.T,A))) @ A.T\n",
    "            Q = np.eye(P_A.shape[0]) - P_A\n",
    "            for p in range(ndipoles):\n",
    "                l_p = Gain[:,p]\n",
    "                ap_val2[p] = np.matmul(np.matmul(np.matmul(l_p.T,Q),C), Q @ l_p) / np.matmul(l_p.T, Q @ l_p)\n",
    "\n",
    "            sq_idx = np.argmax(ap_val2)\n",
    "            S_AP_2[q] = sq_idx\n",
    "\n",
    "        if iter>1 and S_AP_2 == S_AP_2_Prev:\n",
    "            # No improvement vs. previous iteration\n",
    "            print(f\"No improvement vs. previous iteration {iter}\")\n",
    "            break\n",
    "\n",
    "    return S_AP, S_AP_2"
   ]
  },
  {
   "attachments": {},
   "cell_type": "markdown",
   "metadata": {},
   "source": [
    "# Other"
   ]
  },
  {
   "cell_type": "code",
   "execution_count": 26,
   "metadata": {},
   "outputs": [
    {
     "name": "stdout",
     "output_type": "stream",
     "text": [
      "Adding average EEG reference projection.\n",
      "1 projection items deactivated\n",
      "Average reference projection was added, but has not been applied yet. Use the apply_proj method to apply it.\n",
      "Created an SSP operator (subspace dimension = 1)\n",
      "1 projection items activated\n",
      "SSP projectors applied...\n",
      "r =  0.6948346974579134\n",
      "L1 =  1.858965745005016\n"
     ]
    },
    {
     "name": "stdout",
     "output_type": "stream",
     "text": [
      "Using control points [0.         0.         0.21985127]\n",
      "Using control points [0.         0.         0.21985127]\n",
      "Using control points [0.         0.         0.00074315]\n"
     ]
    }
   ],
   "source": [
    "from invert import Solver\n",
    "solver = Solver(\"FLEX\")\n",
    "solver.make_inverse_operator(fwd, evoked, alpha=\"auto\")\n",
    "\n",
    "stc_ = solver.apply_inverse_operator(evoked)\n",
    "\n",
    "stc_.data /= abs(stc_.data).max()\n",
    "brain = stc_.plot(**pp)\n",
    "brain.add_text(0.1, 0.9, solver.name, 'title',\n",
    "               font_size=14)\n",
    "\n",
    "evoked_ = mne.EvokedArray(fwd[\"sol\"][\"data\"] @ stc_.data, info).set_eeg_reference(\"average\", projection=True)\n",
    "evoked_.plot_joint()\n",
    "\n",
    "print(\"r = \", pearsonr(abs(stc.data).mean(axis=-1), abs(stc_.data).mean(axis=-1))[0])\n",
    "print(\"L1 = \",  np.linalg.norm(stc_.data, ord=1))"
   ]
  },
  {
   "cell_type": "code",
   "execution_count": 71,
   "metadata": {},
   "outputs": [
    {
     "name": "stdout",
     "output_type": "stream",
     "text": [
      "\n",
      "Neg Log Likelihoods:\n",
      "Weighted Minimum Norm Estimate: 2.9394164039239108e+16\n",
      "Standardized Low Resolution Tomography: 7056644664954265.0\n",
      "Local Auto-Regressive Average: 4.146360417359438e+16\n",
      "Convexity-Champagne: 4.2470080857763565e+17\n",
      "Gamma-MAP: 3.1260108546333396e+21\n",
      "HOCMCMV Beamformer: 1.910786963009039e+16\n",
      "Smooth Simultaneous Matching Pursuit: 3.5832611079591326e+19\n",
      "FLEX-MUSIC: 1.5352123438904883e+21\n",
      "Final likelihood: 3.710577509644482e+16\n",
      "\n",
      "EEG channel type selected for re-referencing\n",
      "Adding average EEG reference projection.\n",
      "1 projection items deactivated\n",
      "Average reference projection was added, but has not been applied yet. Use the apply_proj method to apply it.\n",
      "Created an SSP operator (subspace dimension = 1)\n",
      "1 projection items activated\n",
      "SSP projectors applied...\n",
      "r =  0.5801999577680862\n",
      "L1 =  19.037933114897022\n"
     ]
    },
    {
     "name": "stdout",
     "output_type": "stream",
     "text": [
      "Using control points [0.00000000e+00 1.65519602e-05 1.04781600e-03]\n",
      "Using control points [0.01916428 0.02408992 0.33659396]\n",
      "Using control points [0.02326119 0.02898724 0.3457652 ]\n",
      "Using control points [0.00000000e+00 2.30515891e-05 8.79191639e-04]\n",
      "Using control points [0.01387627 0.01928899 0.32717469]\n",
      "Using control points [0.01650014 0.02247438 0.32797067]\n",
      "Using control points [0.01387627 0.01928899 0.32717469]\n",
      "Using control points [0.01650014 0.02247438 0.32797067]\n",
      "Using control points [0.00000000e+00 2.30515891e-05 8.79191639e-04]\n"
     ]
    }
   ],
   "source": [
    "from invert.ensemble import Ensemble\n",
    "solver_list = [\"wMNE\", \"sLORETA\", \"LAURA\", \"Convexity Champagne\", \"GAMMA-MAP\", \"HOCMCMV\", \"SSMP\", \"FLEX-MUSIC\"]\n",
    "\n",
    "solver = Ensemble(solver_list, summary_type=\"mean\")\n",
    "solver.make_inverse_operator(fwd, evoked)\n",
    "\n",
    "stc_ = solver.apply_inverse_operator(evoked)\n",
    "\n",
    "stc_.data /= abs(stc_.data).max()\n",
    "brain = stc_.plot(**pp)\n",
    "brain.add_text(0.1, 0.9, solver.name, 'title',\n",
    "               font_size=14)\n",
    "\n",
    "evoked_ = mne.EvokedArray(fwd[\"sol\"][\"data\"] @ stc_.data, info).set_eeg_reference(\"average\", projection=True)\n",
    "evoked_.plot_joint()\n",
    "\n",
    "print(\"r = \", pearsonr(abs(stc.data).mean(axis=-1), abs(stc_.data).mean(axis=-1))[0])\n",
    "print(\"L1 = \",  np.linalg.norm(stc_.data, ord=1))"
   ]
  },
  {
   "cell_type": "code",
   "execution_count": 36,
   "metadata": {},
   "outputs": [
    {
     "name": "stdout",
     "output_type": "stream",
     "text": [
      "EEG channel type selected for re-referencing\n",
      "Adding average EEG reference projection.\n",
      "1 projection items deactivated\n",
      "Average reference projection was added, but has not been applied yet. Use the apply_proj method to apply it.\n",
      "Created an SSP operator (subspace dimension = 1)\n",
      "1 projection items activated\n",
      "SSP projectors applied...\n",
      "r =  0.1500066745955677\n",
      "L1 =  2.440536143086816\n"
     ]
    },
    {
     "name": "stdout",
     "output_type": "stream",
     "text": [
      "Using control points [0.         0.         0.18246018]\n"
     ]
    }
   ],
   "source": [
    "from invert.solvers import SolverFLEXMUSIC_2\n",
    "solver = SolverFLEXMUSIC_2()\n",
    "solver.make_inverse_operator(fwd, evoked, alpha=\"auto\")\n",
    "\n",
    "stc_ = solver.apply_inverse_operator(evoked)\n",
    "\n",
    "stc_.data /= abs(stc_.data).max()\n",
    "brain = stc_.plot(**pp)\n",
    "brain.add_text(0.1, 0.9, solver.name, 'title',\n",
    "               font_size=14)\n",
    "\n",
    "evoked_ = mne.EvokedArray(fwd[\"sol\"][\"data\"] @ stc_.data, info).set_eeg_reference(\"average\", projection=True)\n",
    "evoked_.plot_joint()\n",
    "\n",
    "print(\"r = \", pearsonr(abs(stc.data).mean(axis=-1), abs(stc_.data).mean(axis=-1))[0])\n",
    "print(\"L1 = \",  np.linalg.norm(stc_.data, ord=1))"
   ]
  },
  {
   "attachments": {},
   "cell_type": "markdown",
   "metadata": {},
   "source": [
    "# Big Loop"
   ]
  },
  {
   "cell_type": "code",
   "execution_count": null,
   "metadata": {},
   "outputs": [],
   "source": [
    "from invert import Solver\n",
    "# from invert.config import all_solvers\n",
    "from invert.evaluate import nmse, corr, eval_mean_localization_error, eval_auc\n",
    "from invert.adapters import contextualize_bd\n",
    "import pickle as pkl\n",
    "\n",
    "\n",
    "all_solvers = [ \"MNE\", \"wMNE\", \"dSPM\", \"FISTA\", \"L1L2\",\n",
    "                \"LORETA\", \"sLORETA\", \"eLORETA\", \n",
    "                \"LAURA\", \"Backus-Gilbert\", \n",
    "                \"S-MAP\",\n",
    "                \"Champagne\", \"Multiple Sparse Priors\", \"Bayesian LORETA\", \"Bayesian MNE\", \"Bayesian Beamformer\", \"Bayesian Beamformer LORETA\",\n",
    "                \"BCS\", \"Gamma-MAP\", \"Source-MAP\", \"Gamma-MAP-MSP\", \"Source-MAP-MSP\",\n",
    "                \"MVAB\", \"LCMV\", \"SMV\", \"WNMV\", \"HOCMV\", \"ESMV\", \"MCMV\", \"ESMCMV\", \"ReciPSIICOS\", \"SAM\",\n",
    "                # \"Fully-Connected\", \n",
    "                # \"LUCAS\",\n",
    "                # \"OMP\", \"COSAMP\", \"SOMP\", \"REMBO\", \"SP\", \"SSP\",\n",
    "                # \"SMP\", \"SSMP\", \"SubSMP\",\n",
    "                \"EPIFOCUS\",\n",
    "                \"MUSIC\", \"RAP-MUSIC\", \"TRAP-MUSIC\", \"JAZZ-MUSIC\",\n",
    "            ]\n",
    "redo_solvers = np.array([\"Champagne\", \"Multiple Sparse Priors\", \n",
    "            \"Bayesian LORETA\", \"Bayesian MNE\", \"Bayesian Beamformer\", \n",
    "            \"Bayesian Beamformer LORETA\", \"Gamma-MAP\", \"Source-MAP\"])\n",
    "\n",
    "all_solvers = [\"TRAP-MUSIC\", \"JAZZ-MUSIC\", \"LCMV\", \"sLORETA\"]\n",
    "\n",
    "settings = dict(\n",
    "    number_of_sources=(1, 10), \n",
    "    extents=(1, 25), \n",
    "    duration_of_trial=1, \n",
    "    target_snr=(1, 100))\n",
    "alpha = \"auto\"\n",
    "\n",
    "errors_corr = {sname: [] for sname in all_solvers}\n",
    "errors_mle = {sname: [] for sname in all_solvers}\n",
    "errors_auc = {sname: [] for sname in all_solvers}\n",
    "errors_nmse = {sname: [] for sname in all_solvers}\n",
    "\n",
    "solvers = dict()\n",
    "sim = Simulation(fwd, info, settings).simulate(100)\n",
    "    \n",
    "for i in range(sim.n_samples):\n",
    "    print(i)\n",
    "    stc = sim.source_data[i]\n",
    "    evoked = sim.eeg_data[i].average()\n",
    "\n",
    "    for solver_name in all_solvers :\n",
    "        print(solver_name)\n",
    "        solver = Solver(solver=solver_name)\n",
    "        if (not solver_name in solvers) or solver_name in redo_solvers:\n",
    "            if solver_name == \"Fully-Connected\":\n",
    "                solvers[solver_name] = solver.make_inverse_operator(fwd, evoked, alpha=alpha, settings=dict(duration_of_trial=0., target_snr=settings[\"target_snr\"], extents=settings[\"extents\"]), n_simulations=5000)\n",
    "            else:\n",
    "                solvers[solver_name] = solver.make_inverse_operator(fwd, evoked, alpha=alpha)\n",
    "        # stc_hat.plot(**pp, brain_kwargs=dict(title=solver.name))\n",
    "        # error = np.mean(corr(stc.data, stc_hat.data))\n",
    "        \n",
    "        try:\n",
    "            stc_hat = solvers[solver_name].apply_inverse_operator(evoked)\n",
    "            error_corr = np.mean(corr(stc.data, stc_hat.data))\n",
    "\n",
    "            error_mle = eval_mean_localization_error(stc.data[:, 0], stc_hat.data[:, 0], pos)\n",
    "            error_auc = eval_auc(stc.data[:, 0], stc_hat.data[:, 0], pos)\n",
    "            error_nmse = np.median(nmse(stc.data, stc_hat.data))\n",
    "\n",
    "        except:\n",
    "            print(\"\\t...didnt work this time\")\n",
    "            error_mle = np.nan\n",
    "            error_auc = np.nan\n",
    "            error_corr = np.nan\n",
    "            error_nmse = np.nan\n",
    "\n",
    "        errors_corr[solver_name].append( error_corr )\n",
    "        errors_mle[solver_name].append( error_mle )\n",
    "        errors_auc[solver_name].append( error_auc )\n",
    "        errors_nmse[solver_name].append( error_nmse )\n",
    "\n",
    "\n",
    "    print(\"Saving errors\")\n",
    "    fn = \"errors.pkl\"\n",
    "    with open(fn, 'wb') as f:\n",
    "        pkl.dump([errors_corr, errors_mle, errors_auc, errors_nmse, sim.simulation_info], f)"
   ]
  },
  {
   "cell_type": "code",
   "execution_count": null,
   "metadata": {},
   "outputs": [],
   "source": [
    "# import pickle as pkl\n",
    "# fn = \"errors.pkl\"\n",
    "# with open(fn, 'rb') as f:\n",
    "#     errors_corr, errors_mle, errors_auc = pkl.load(f)"
   ]
  },
  {
   "cell_type": "code",
   "execution_count": null,
   "metadata": {},
   "outputs": [],
   "source": [
    "# for key, val in errors_mle.items():\n",
    "#     errors_mle[key] = val[:31]\n",
    "\n",
    "# for key, val in errors_corr.items():\n",
    "#     errors_mle[key] = val[:31]\n",
    "\n",
    "# for key, val in errors_auc.items():\n",
    "#     errors_mle[key] = val[:31]\n",
    "    "
   ]
  },
  {
   "attachments": {},
   "cell_type": "markdown",
   "metadata": {},
   "source": [
    "# Plot"
   ]
  },
  {
   "cell_type": "code",
   "execution_count": null,
   "metadata": {},
   "outputs": [],
   "source": [
    "import pandas as pd\n",
    "import seaborn as sns\n",
    "sns.set(font_scale=0.8)\n",
    "errors = [errors_corr, errors_mle, errors_auc, errors_nmse]\n",
    "error_names = [\"errors_corr\", \"errors_mle\", \"errors_auc\", \"errors_nmse\"]\n",
    "for error, error_name in zip(errors, error_names):\n",
    "    df = pd.DataFrame(error)\n",
    "\n",
    "\n",
    "    sorted_index = df.median().sort_values().index\n",
    "    df = df[sorted_index]\n",
    "\n",
    "    plt.figure()\n",
    "    sns.boxplot(data=df)\n",
    "    plt.title(error_name)\n",
    "\n",
    "\n",
    "# df_mean_var = pd.concat([df.mean(), df.std()], axis=1)\n",
    "# df_mean_var = df_mean_var.rename(columns={0: \"Median\", 1: \"Variance\"})\n",
    "# df_mean_var[\"MedVar\"] = df_mean_var[\"Median\"] / df_mean_var[\"Variance\"]\n",
    "# df_mean_var[\"Method\"] = df_mean_var.index\n",
    "# df_mean_var = df_mean_var.sort_values(by=\"Median\")\n",
    "# display(df_mean_var)\n",
    "\n",
    "# plt.figure()\n",
    "# sns.scatterplot(x=\"Median\", y=\"Variance\", hue=\"Method\", size=\"MedVar\", data=df_mean_var)\n",
    "# plt.xlabel(\"Median\")\n",
    "# plt.ylabel(\"Variance\")\n"
   ]
  }
 ],
 "metadata": {
  "kernelspec": {
   "display_name": "invertenv",
   "language": "python",
   "name": "python3"
  },
  "language_info": {
   "codemirror_mode": {
    "name": "ipython",
    "version": 3
   },
   "file_extension": ".py",
   "mimetype": "text/x-python",
   "name": "python",
   "nbconvert_exporter": "python",
   "pygments_lexer": "ipython3",
   "version": "3.8.10"
  },
  "orig_nbformat": 4,
  "vscode": {
   "interpreter": {
    "hash": "dda1e5657e486f74a7b39841fb8103db2af51a77394f44c39a7821a371af47bd"
   }
  }
 },
 "nbformat": 4,
 "nbformat_minor": 2
}
