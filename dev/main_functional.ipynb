{
 "cells": [
  {
   "cell_type": "code",
   "execution_count": 27,
   "metadata": {},
   "outputs": [
    {
     "name": "stdout",
     "output_type": "stream",
     "text": [
      "The autoreload extension is already loaded. To reload it, use:\n",
      "  %reload_ext autoreload\n"
     ]
    }
   ],
   "source": [
    "%load_ext autoreload\n",
    "%autoreload 2\n",
    "%matplotlib qt\n",
    "import sys; sys.path.insert(0, '../')\n",
    "import numpy as np\n",
    "from matplotlib import pyplot as plt\n",
    "from scipy.stats import pearsonr\n",
    "import mne\n",
    "from esinet import Simulation\n",
    "from esinet.forward import get_info, create_forward_model\n",
    "from esinet.util import unpack_fwd\n",
    "\n",
    "pp = dict(surface='white', hemi='both')"
   ]
  },
  {
   "cell_type": "markdown",
   "metadata": {},
   "source": [
    "# Get Forward Model"
   ]
  },
  {
   "cell_type": "code",
   "execution_count": 30,
   "metadata": {},
   "outputs": [
    {
     "name": "stderr",
     "output_type": "stream",
     "text": [
      "[Parallel(n_jobs=8)]: Using backend LokyBackend with 8 concurrent workers.\n",
      "[Parallel(n_jobs=8)]: Done   3 out of   8 | elapsed:    2.5s remaining:    4.3s\n",
      "[Parallel(n_jobs=8)]: Done   5 out of   8 | elapsed:    2.6s remaining:    1.5s\n",
      "[Parallel(n_jobs=8)]: Done   8 out of   8 | elapsed:    2.8s finished\n",
      "[Parallel(n_jobs=8)]: Using backend LokyBackend with 8 concurrent workers.\n",
      "[Parallel(n_jobs=8)]: Done   3 out of   8 | elapsed:    0.2s remaining:    0.5s\n",
      "[Parallel(n_jobs=8)]: Done   5 out of   8 | elapsed:    0.3s remaining:    0.2s\n",
      "[Parallel(n_jobs=8)]: Done   8 out of   8 | elapsed:    0.4s finished\n",
      "[Parallel(n_jobs=8)]: Using backend LokyBackend with 8 concurrent workers.\n",
      "[Parallel(n_jobs=8)]: Done   3 out of   8 | elapsed:    0.5s remaining:    1.0s\n",
      "[Parallel(n_jobs=8)]: Done   5 out of   8 | elapsed:    0.7s remaining:    0.4s\n",
      "[Parallel(n_jobs=8)]: Done   8 out of   8 | elapsed:    0.8s finished\n"
     ]
    }
   ],
   "source": [
    "info = get_info(kind='biosemi64')\n",
    "fwd = create_forward_model(info=info, sampling='ico4')\n",
    "\n",
    "leadfield, pos = unpack_fwd(fwd)[1:3]\n",
    "n_chans, n_dipoles = leadfield.shape"
   ]
  },
  {
   "cell_type": "markdown",
   "metadata": {},
   "source": [
    "# Get sample data"
   ]
  },
  {
   "cell_type": "code",
   "execution_count": 33,
   "metadata": {},
   "outputs": [
    {
     "name": "stdout",
     "output_type": "stream",
     "text": [
      "-- number of adjacent vertices : 5124\n",
      "Simulating data based on sparse patches.\n"
     ]
    },
    {
     "name": "stderr",
     "output_type": "stream",
     "text": [
      "100%|██████████| 2/2 [00:03<00:00,  1.82s/it]\n",
      "100%|██████████| 2/2 [00:00<00:00, 1998.24it/s]\n"
     ]
    },
    {
     "name": "stdout",
     "output_type": "stream",
     "text": [
      "source data shape:  (5124, 25) (5124, 25)\n"
     ]
    },
    {
     "name": "stderr",
     "output_type": "stream",
     "text": [
      "100%|██████████| 2/2 [00:00<00:00, 332.33it/s]"
     ]
    },
    {
     "name": "stdout",
     "output_type": "stream",
     "text": [
      "Using control points [1.75265765e-08 2.31682157e-08 6.55735773e-08]\n"
     ]
    },
    {
     "name": "stderr",
     "output_type": "stream",
     "text": [
      "\n"
     ]
    },
    {
     "name": "stdout",
     "output_type": "stream",
     "text": [
      "For automatic theme detection, \"darkdetect\" has to be installed! You can install it with `pip install darkdetect`\n",
      "To use light mode, \"qdarkstyle\" has to be installed! You can install it with `pip install qdarkstyle`\n"
     ]
    }
   ],
   "source": [
    "settings = dict(number_of_sources=7, extents=(1, 50), duration_of_trial=0.025, target_snr=10e99)\n",
    "\n",
    "sim = Simulation(fwd, info, settings).simulate(2)\n",
    "stc = sim.source_data[0]\n",
    "evoked = sim.eeg_data[0].average()\n",
    "\n",
    "brain = stc.plot(**pp)\n",
    "brain.add_text(0.1, 0.9, 'Ground Truth', 'title',\n",
    "               font_size=14)"
   ]
  },
  {
   "cell_type": "markdown",
   "metadata": {},
   "source": [
    "# Regularization Optimizations"
   ]
  },
  {
   "cell_type": "code",
   "execution_count": 34,
   "metadata": {},
   "outputs": [
    {
     "name": "stdout",
     "output_type": "stream",
     "text": [
      "Using control points [0.0000000e+00 0.0000000e+00 4.3726724e-07]\n",
      "For automatic theme detection, \"darkdetect\" has to be installed! You can install it with `pip install darkdetect`\n",
      "To use light mode, \"qdarkstyle\" has to be installed! You can install it with `pip install qdarkstyle`\n",
      "Mean correlation:  0.15963468528968133\n",
      "Mean NMSE:  0.030273363524807778\n"
     ]
    }
   ],
   "source": [
    "from invert.evaluate import corr, nmse\n",
    "from invert.solvers.empirical_bayes import SolverChampagne\n",
    "\n",
    "solver = SolverChampagne()\n",
    "solver.make_inverse_operator(fwd, evoked, verbose=0)\n",
    "stc_hat = solver.apply_inverse_operator(evoked)\n",
    "stc_hat.plot(**pp, brain_kwargs=dict(title=solver.name))\n",
    "\n",
    "print(\"Mean correlation: \", np.mean(corr(abs(stc_hat.data), abs(stc.data))))\n",
    "print(\"Mean NMSE: \", np.mean(nmse(stc_hat.data, stc.data)))"
   ]
  },
  {
   "cell_type": "code",
   "execution_count": 5,
   "metadata": {},
   "outputs": [
    {
     "name": "stdout",
     "output_type": "stream",
     "text": [
      "Using control points [1.00295540e-09 1.16641942e-09 2.91248426e-09]\n",
      "For automatic theme detection, \"darkdetect\" has to be installed! You can install it with `pip install darkdetect`\n",
      "To use light mode, \"qdarkstyle\" has to be installed! You can install it with `pip install qdarkstyle`\n",
      "Mean correlation:  0.14074433207742693\n",
      "Mean NMSE:  0.023023068486939736\n",
      "-- number of adjacent vertices : 1284\n",
      "Shrinking FOCUSS:\n",
      "\n",
      "Time step 0/10\n",
      "Time step 1/10\n",
      "Time step 2/10\n",
      "Time step 3/10\n",
      "Time step 4/10\n",
      "Time step 5/10\n",
      "Time step 6/10\n",
      "Time step 7/10\n",
      "Time step 8/10\n",
      "Time step 9/10\n",
      "Using control points [5.09529476e-59 1.25247081e-58 1.12653343e-55]\n",
      "For automatic theme detection, \"darkdetect\" has to be installed! You can install it with `pip install darkdetect`\n",
      "To use light mode, \"qdarkstyle\" has to be installed! You can install it with `pip install qdarkstyle`\n",
      "Mean correlation:  -0.003055457928142368\n",
      "Mean NMSE:  0.005667790421865522\n",
      "FOCUSS:\n",
      "\n",
      "Time step 0/10\n",
      "Iteration 0\n",
      "Iteration 1\n",
      "Iteration 2\n",
      "converged at repetition 3\n",
      "Time step 1/10\n",
      "Iteration 0\n",
      "Iteration 1\n",
      "Iteration 2\n",
      "converged at repetition 3\n",
      "Time step 2/10\n",
      "Iteration 0\n",
      "Iteration 1\n",
      "Iteration 2\n",
      "converged at repetition 3\n",
      "Time step 3/10\n",
      "Iteration 0\n",
      "Iteration 1\n",
      "Iteration 2\n",
      "converged at repetition 3\n",
      "Time step 4/10\n",
      "Iteration 0\n",
      "Iteration 1\n",
      "Iteration 2\n",
      "converged at repetition 3\n",
      "Time step 5/10\n",
      "Iteration 0\n",
      "Iteration 1\n",
      "Iteration 2\n",
      "converged at repetition 3\n",
      "Time step 6/10\n",
      "Iteration 0\n",
      "Iteration 1\n",
      "Iteration 2\n",
      "converged at repetition 3\n",
      "Time step 7/10\n",
      "Iteration 0\n",
      "Iteration 1\n",
      "Iteration 2\n",
      "converged at repetition 3\n",
      "Time step 8/10\n",
      "Iteration 0\n",
      "Iteration 1\n",
      "Iteration 2\n",
      "converged at repetition 3\n",
      "Time step 9/10\n",
      "Iteration 0\n",
      "Iteration 1\n",
      "Iteration 2\n",
      "converged at repetition 3\n",
      "Using control points [1.07356787e-58 2.98286751e-58 2.22085261e-55]\n",
      "For automatic theme detection, \"darkdetect\" has to be installed! You can install it with `pip install darkdetect`\n",
      "To use light mode, \"qdarkstyle\" has to be installed! You can install it with `pip install qdarkstyle`\n",
      "Mean correlation:  -0.002616083729476591\n",
      "Mean NMSE:  0.005333169361458169\n"
     ]
    }
   ],
   "source": [
    "from invert import Solver\n",
    "from invert.evaluate import corr, nmse\n",
    "from invert.adapters import contextualize_bd, focuss, s_focuss\n",
    "\n",
    "solver_ = Solver(solver=\"laur\")\n",
    "\n",
    "solver_.make_inverse_operator(fwd, alpha=\"auto\")\n",
    "stc_hat = solver_.apply_inverse_operator(evoked)\n",
    "# stc_hat.data[np.isnan(stc_hat.data)] = 0\n",
    "stc_hat.plot(**pp, brain_kwargs=dict(title=solver_.name))\n",
    "print(\"Mean correlation: \", np.mean(corr(stc_hat.data, stc.data)))\n",
    "print(\"Mean NMSE: \", np.mean(nmse(stc_hat.data, stc.data)))\n",
    "\n",
    "stc_hat_sf = s_focuss(stc_hat, evoked, fwd, verbose=1)\n",
    "stc_hat_sf.plot(**pp, brain_kwargs=dict(title=solver_.name + \" shrinking FOCUSS\"))\n",
    "print(\"Mean correlation: \", np.mean(corr(stc_hat_sf.data, stc.data)))\n",
    "print(\"Mean NMSE: \", np.mean(nmse(stc_hat_sf.data, stc.data)))\n",
    "\n",
    "stc_hat_sf = focuss(stc_hat, evoked, fwd, verbose=1)\n",
    "stc_hat_sf.plot(**pp, brain_kwargs=dict(title=solver_.name + \" FOCUSS\"))\n",
    "print(\"Mean correlation: \", np.mean(corr(stc_hat_sf.data, stc.data)))\n",
    "print(\"Mean NMSE: \", np.mean(nmse(stc_hat_sf.data, stc.data)))\n",
    "\n",
    "# # Temporal Context\n",
    "# stc_hat_cbd = contextualize_bd(stc_hat, fwd, fast=True, lstm_look_back=10, verbose=1)\n",
    "# stc_hat_cbd.plot(**pp, brain_kwargs=dict(title=\"c\"+solver_.name))\n",
    "\n",
    "# print(\"Mean correlation: \", np.mean(corr(stc_hat_cbd.data, stc.data)))\n",
    "# print(\"Mean NMSE: \", np.mean(nmse(stc_hat_cbd.data, stc.data)))\n",
    "\n",
    "# # FOCUSS:\n",
    "# stc_hat_focuss = focuss(stc_hat_cbd, evoked, fwd)\n",
    "# stc_hat_focuss.plot(**pp, brain_kwargs=dict(title=\"c\"+solver_.name+\" FOCUSS\"))\n",
    "\n",
    "# print(\"Mean correlation: \", np.mean(corr(stc_hat_focuss.data, stc.data)))\n",
    "# print(\"Mean NMSE: \", np.mean(nmse(stc_hat_focuss.data, stc.data)))\n"
   ]
  },
  {
   "cell_type": "markdown",
   "metadata": {},
   "source": [
    "# Adapt"
   ]
  },
  {
   "cell_type": "code",
   "execution_count": 4,
   "metadata": {},
   "outputs": [
    {
     "ename": "NameError",
     "evalue": "name 'stc_hat' is not defined",
     "output_type": "error",
     "traceback": [
      "\u001b[1;31m---------------------------------------------------------------------------\u001b[0m",
      "\u001b[1;31mNameError\u001b[0m                                 Traceback (most recent call last)",
      "\u001b[1;32mc:\\Users\\lukas\\Dokumente\\projects\\invert\\dev\\main_functional.ipynb Zelle 10\u001b[0m in \u001b[0;36m<cell line: 3>\u001b[1;34m()\u001b[0m\n\u001b[0;32m      <a href='vscode-notebook-cell:/c%3A/Users/lukas/Dokumente/projects/invert/dev/main_functional.ipynb#ch0000009?line=0'>1</a>\u001b[0m \u001b[39mfrom\u001b[39;00m \u001b[39minvert\u001b[39;00m\u001b[39m.\u001b[39;00m\u001b[39madapters\u001b[39;00m \u001b[39mimport\u001b[39;00m contextualize_bd, contextualize\n\u001b[1;32m----> <a href='vscode-notebook-cell:/c%3A/Users/lukas/Dokumente/projects/invert/dev/main_functional.ipynb#ch0000009?line=2'>3</a>\u001b[0m stc_hat_cbd \u001b[39m=\u001b[39m contextualize_bd(stc_hat, fwd, lstm_look_back\u001b[39m=\u001b[39m\u001b[39m10\u001b[39m, num_units\u001b[39m=\u001b[39m\u001b[39m128\u001b[39m, num_epochs\u001b[39m=\u001b[39m\u001b[39m50\u001b[39m, verbose\u001b[39m=\u001b[39m\u001b[39m0\u001b[39m)\n\u001b[0;32m      <a href='vscode-notebook-cell:/c%3A/Users/lukas/Dokumente/projects/invert/dev/main_functional.ipynb#ch0000009?line=3'>4</a>\u001b[0m stc_hat_cbd\u001b[39m.\u001b[39mplot(\u001b[39m*\u001b[39m\u001b[39m*\u001b[39mpp, brain_kwargs\u001b[39m=\u001b[39m\u001b[39mdict\u001b[39m(title\u001b[39m=\u001b[39m\u001b[39m\"\u001b[39m\u001b[39mc\u001b[39m\u001b[39m\"\u001b[39m\u001b[39m+\u001b[39msolver\u001b[39m.\u001b[39mname))\n\u001b[0;32m      <a href='vscode-notebook-cell:/c%3A/Users/lukas/Dokumente/projects/invert/dev/main_functional.ipynb#ch0000009?line=5'>6</a>\u001b[0m \u001b[39mprint\u001b[39m(\u001b[39m\"\u001b[39m\u001b[39mMean correlation: \u001b[39m\u001b[39m\"\u001b[39m, np\u001b[39m.\u001b[39mmean(corr(stc_hat_cbd\u001b[39m.\u001b[39mdata, stc\u001b[39m.\u001b[39mdata)))\n",
      "\u001b[1;31mNameError\u001b[0m: name 'stc_hat' is not defined"
     ]
    }
   ],
   "source": [
    "from invert.adapters import contextualize_bd, contextualize\n",
    "\n",
    "stc_hat_cbd = contextualize_bd(stc_hat, fwd, lstm_look_back=10, num_units=128, num_epochs=50, verbose=0)\n",
    "stc_hat_cbd.plot(**pp, brain_kwargs=dict(title=\"c\"+solver.name))\n",
    "\n",
    "print(\"Mean correlation: \", np.mean(corr(stc_hat_cbd.data, stc.data)))\n",
    "print(\"Mean NMSE: \", np.mean(nmse(stc_hat_cbd.data, stc.data)))"
   ]
  },
  {
   "cell_type": "code",
   "execution_count": null,
   "metadata": {},
   "outputs": [],
   "source": [
    "from mne.minimum_norm import make_inverse_operator as mne_inverse\n",
    "from mne.minimum_norm import apply_inverse as mne_apply\n",
    "from mne import make_ad_hoc_cov\n",
    "noise_cov = make_ad_hoc_cov(evoked.info, verbose=0)\n",
    "mne_io = mne_inverse(evoked.info, fwd, noise_cov=noise_cov, fixed=True, loose=0, depth=0, verbose=0)\n",
    "stc_hat = mne_apply(evoked, mne_io, method=\"MNE\", verbose=0)\n",
    "stc_hat.plot(**pp)"
   ]
  },
  {
   "cell_type": "code",
   "execution_count": null,
   "metadata": {},
   "outputs": [],
   "source": []
  }
 ],
 "metadata": {
  "kernelspec": {
   "display_name": "Python (invertenv)",
   "language": "python",
   "name": "invertenv"
  },
  "language_info": {
   "codemirror_mode": {
    "name": "ipython",
    "version": 3
   },
   "file_extension": ".py",
   "mimetype": "text/x-python",
   "name": "python",
   "nbconvert_exporter": "python",
   "pygments_lexer": "ipython3",
   "version": "3.8.10"
  },
  "orig_nbformat": 4,
  "vscode": {
   "interpreter": {
    "hash": "dda1e5657e486f74a7b39841fb8103db2af51a77394f44c39a7821a371af47bd"
   }
  }
 },
 "nbformat": 4,
 "nbformat_minor": 2
}
