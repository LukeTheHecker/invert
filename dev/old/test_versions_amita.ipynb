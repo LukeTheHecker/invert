{
 "cells": [
  {
   "cell_type": "code",
   "execution_count": 1,
   "metadata": {},
   "outputs": [
    {
     "name": "stdout",
     "output_type": "stream",
     "text": [
      "False\n"
     ]
    }
   ],
   "source": [
    "import sys\n",
    "\n",
    "sys.path.insert(0, r\"C:\\Users\\lukas\\Documents\\projects\\testing\\invert-old\\invert\")\n",
    "import invert as invert1\n",
    "Solver1 = invert1.Solver\n",
    "\n",
    "# remove invert from sys.modules\n",
    "if 'invert' in sys.modules:\n",
    "    del sys.modules['invert']\n",
    "\n",
    "sys.path.insert(0, r\"C:\\Users\\lukas\\Documents\\projects\\testing\\invert-new\\invert\")\n",
    "import invert as invert2\n",
    "Solver2 = invert2.Solver\n",
    "\n",
    "print(invert1.__file__ == invert2.__file__)\n"
   ]
  },
  {
   "cell_type": "code",
   "execution_count": 2,
   "metadata": {},
   "outputs": [],
   "source": [
    "%load_ext autoreload\n",
    "%autoreload 2\n",
    "%matplotlib qt\n",
    "\n",
    "# import sys; sys.path.insert(0, '../') \n",
    "import numpy as np\n",
    "from matplotlib import pyplot as plt\n",
    "from scipy.stats import pearsonr\n",
    "from scipy.spatial.distance import cdist\n",
    "import mne\n",
    "\n",
    "from invert.forward import get_info, create_forward_model\n",
    "from invert.util import pos_from_forward\n",
    "from invert.evaluate import eval_auc, eval_mean_localization_error, eval_mean_localization_error_old\n",
    "\n",
    "pp = dict(surface='white', hemi='both', verbose=0)"
   ]
  },
  {
   "cell_type": "code",
   "execution_count": 3,
   "metadata": {},
   "outputs": [
    {
     "name": "stderr",
     "output_type": "stream",
     "text": [
      "c:\\Users\\lukas\\miniconda3\\envs\\flap2\\lib\\site-packages\\paramiko\\transport.py:219: CryptographyDeprecationWarning: Blowfish has been deprecated\n",
      "  \"class\": algorithms.Blowfish,\n"
     ]
    },
    {
     "data": {
      "text/html": [
       "<table class=\"table table-hover table-striped table-sm table-responsive small\">\n",
       "    <tr>\n",
       "        <th>Good channels</th>\n",
       "        <td>128 EEG</td>\n",
       "    </tr>\n",
       "    <tr>\n",
       "        <th>Bad channels</th>\n",
       "        <td>None</td>\n",
       "    </tr>\n",
       "    <tr>\n",
       "        <th>Source space</th>\n",
       "        <td>Surface with 5124 vertices</td>\n",
       "    </tr>\n",
       "    <tr>\n",
       "        <th>Source orientation</th>\n",
       "        <td>Fixed</td>\n",
       "    </tr>\n",
       "</table>"
      ],
      "text/plain": [
       "<Forward | MEG channels: 0 | EEG channels: 128 | Source space: Surface with 5124 vertices | Source orientation: Fixed>"
      ]
     },
     "execution_count": 3,
     "metadata": {},
     "output_type": "execute_result"
    }
   ],
   "source": [
    "sampling = \"ico4\"\n",
    "info = get_info(kind='biosemi128')\n",
    "fwd = create_forward_model(info=info, sampling=sampling)\n",
    "pos = pos_from_forward(fwd)\n",
    "leadfield = fwd[\"sol\"][\"data\"]\n",
    "n_chans, n_dipoles = leadfield.shape\n",
    "\n",
    "source_model = fwd['src']\n",
    "vertices = [source_model[0]['vertno'], source_model[1]['vertno']]\n",
    "adjacency = mne.spatial_src_adjacency(fwd[\"src\"], verbose=0)\n",
    "distance_matrix = cdist(pos, pos)\n",
    "fwd"
   ]
  },
  {
   "cell_type": "markdown",
   "metadata": {},
   "source": [
    "# Simulate"
   ]
  },
  {
   "cell_type": "code",
   "execution_count": 4,
   "metadata": {},
   "outputs": [],
   "source": [
    "from invert.simulate import generator\n",
    "sim_params = dict(\n",
    "    use_cov=False,\n",
    "    return_mask=False,\n",
    "    batch_repetitions=1,\n",
    "    batch_size=1,\n",
    "    n_sources=3,\n",
    "    n_orders=(3, 5),\n",
    "    snr_range=(1, 1),\n",
    "    amplitude_range=(1, 1),\n",
    "    n_timecourses=200,\n",
    "    n_timepoints=50,\n",
    "    scale_data=False,\n",
    "    add_forward_error=False,\n",
    "    forward_error=0.,\n",
    "    inter_source_correlation=0.5,\n",
    "    iid_noise=True, \n",
    "    return_info=True,\n",
    "    diffusion_parameter=0.1,\n",
    "    random_seed=None)\n",
    "\n",
    "gen = generator(fwd, **sim_params)"
   ]
  },
  {
   "cell_type": "code",
   "execution_count": 5,
   "metadata": {},
   "outputs": [
    {
     "name": "stdout",
     "output_type": "stream",
     "text": [
      "No projector specified for this dataset. Please consider the method self.add_proj.\n",
      "NOTE: pick_channels() is a legacy function. New code should use inst.pick(...).\n",
      "No projector specified for this dataset. Please consider the method self.add_proj.\n",
      "NOTE: pick_channels() is a legacy function. New code should use inst.pick(...).\n"
     ]
    },
    {
     "data": {
      "text/html": [
       "<div>\n",
       "<style scoped>\n",
       "    .dataframe tbody tr th:only-of-type {\n",
       "        vertical-align: middle;\n",
       "    }\n",
       "\n",
       "    .dataframe tbody tr th {\n",
       "        vertical-align: top;\n",
       "    }\n",
       "\n",
       "    .dataframe thead th {\n",
       "        text-align: right;\n",
       "    }\n",
       "</style>\n",
       "<table border=\"1\" class=\"dataframe\">\n",
       "  <thead>\n",
       "    <tr style=\"text-align: right;\">\n",
       "      <th></th>\n",
       "      <th>n_sources</th>\n",
       "      <th>amplitudes</th>\n",
       "      <th>snr</th>\n",
       "      <th>inter_source_correlations</th>\n",
       "      <th>n_orders</th>\n",
       "      <th>diffusion_parameter</th>\n",
       "      <th>n_timepoints</th>\n",
       "      <th>n_timecourses</th>\n",
       "      <th>iid_noise</th>\n",
       "    </tr>\n",
       "  </thead>\n",
       "  <tbody>\n",
       "    <tr>\n",
       "      <th>0</th>\n",
       "      <td>3</td>\n",
       "      <td>[1.0, 1.0, 1.0]</td>\n",
       "      <td>1.0</td>\n",
       "      <td>0.5</td>\n",
       "      <td>[3, 5]</td>\n",
       "      <td>0.1</td>\n",
       "      <td>50</td>\n",
       "      <td>200</td>\n",
       "      <td>True</td>\n",
       "    </tr>\n",
       "  </tbody>\n",
       "</table>\n",
       "</div>"
      ],
      "text/plain": [
       "   n_sources       amplitudes  snr  inter_source_correlations n_orders  \\\n",
       "0          3  [1.0, 1.0, 1.0]  1.0                        0.5   [3, 5]   \n",
       "\n",
       "   diffusion_parameter  n_timepoints  n_timecourses  iid_noise  \n",
       "0                  0.1            50            200       True  "
      ]
     },
     "execution_count": 5,
     "metadata": {},
     "output_type": "execute_result"
    }
   ],
   "source": [
    "x, y, sim_info = gen.__next__()\n",
    "\n",
    "tmin = 0\n",
    "tstep = 1/info[\"sfreq\"]\n",
    "subject = \"fsaverage\"\n",
    "evoked = mne.EvokedArray(x[0].T, info, tmin=tmin)\n",
    "stc = mne.SourceEstimate(y[0].T, vertices, tmin=tmin, tstep=tstep, \n",
    "                        subject=subject, verbose=0)\n",
    "\n",
    "brain = stc.plot(**pp)\n",
    "brain.add_text(0.1, 0.9, \"Ground Truth\", 'title',\n",
    "               font_size=14)\n",
    "evoked.plot_joint(title=\"Ground Truth\")\n",
    "\n",
    "evoked_clean = mne.EvokedArray(leadfield @ y[0].T, info, tmin=tmin)\n",
    "evoked_clean.plot_joint(title=\"Ground Truth Noiseless\")\n",
    "\n",
    "sim_info"
   ]
  },
  {
   "cell_type": "markdown",
   "metadata": {},
   "source": [
    "# Solve"
   ]
  },
  {
   "cell_type": "markdown",
   "metadata": {},
   "source": [
    "## FLAP"
   ]
  },
  {
   "cell_type": "code",
   "execution_count": 56,
   "metadata": {},
   "outputs": [
    {
     "name": "stdout",
     "output_type": "stream",
     "text": [
      "NOTE: pick_types() is a legacy function. New code should use inst.pick(...).\n",
      "NOTE: pick_channels() is a legacy function. New code should use inst.pick(...).\n",
      "NOTE: pick_types() is a legacy function. New code should use inst.pick(...).\n",
      "NOTE: pick_channels() is a legacy function. New code should use inst.pick(...).\n"
     ]
    },
    {
     "name": "stderr",
     "output_type": "stream",
     "text": [
      "C:\\Users\\lukas\\AppData\\Local\\Temp\\ipykernel_7208\\2114689780.py:8: RuntimeWarning: All data were zero\n",
      "  brain = stc_.plot(**pp)\n"
     ]
    },
    {
     "name": "stdout",
     "output_type": "stream",
     "text": [
      "EEG channel type selected for re-referencing\n",
      "Adding average EEG reference projection.\n",
      "1 projection items deactivated\n",
      "Average reference projection was added, but has not been applied yet. Use the apply_proj method to apply it.\n",
      "Created an SSP operator (subspace dimension = 1)\n",
      "1 projection items activated\n",
      "SSP projectors applied...\n",
      "NOTE: pick_channels() is a legacy function. New code should use inst.pick(...).\n",
      "[2473 4641 4750]\n",
      "[3334]\n",
      "Alternating Projections mle =  44.83179670480428  mm\n",
      "1  sources\n"
     ]
    }
   ],
   "source": [
    "from invert import Solver\n",
    "\n",
    "solver = Solver1(\"AP\")\n",
    "solver.make_inverse_operator(fwd, evoked, n_orders=0, refine_solution=True, n=n_solver, k=n_solver, diffusion_parameter=0.1)\n",
    "# solver.make_inverse_operator(fwd, evoked, n_orders=3, refine_solution=True, n=sim_params[\"n_sources\"], d=sim_params[\"n_sources\"], diffusion_parameter=0.05)\n",
    "stc_ = solver.apply_inverse_operator(evoked)\n",
    "stc_.data /= abs(stc_.data).max()\n",
    "brain = stc_.plot(**pp)\n",
    "brain.add_text(0.1, 0.9, solver.name, 'title',\n",
    "               font_size=14)\n",
    "\n",
    "evoked_ = mne.EvokedArray(fwd[\"sol\"][\"data\"] @ stc_.data, info).set_eeg_reference(\"average\", projection=True)\n",
    "evoked_.plot_joint()\n",
    "\n",
    "# print(solver.name, \" r = \", pearsonr(abs(stc.data).mean(axis=-1), abs(stc_.data).mean(axis=-1))[0])\n",
    "\n",
    "mle = eval_mean_localization_error(stc.data, stc_.data, adjacency.toarray(), adjacency.toarray(), distance_matrix)\n",
    "print(solver.name, \"mle = \", mle, \" mm\")\n",
    "print( len(np.where((stc_.data**2).sum(axis=1) != 0)[0]), \" sources\")"
   ]
  },
  {
   "cell_type": "code",
   "execution_count": 57,
   "metadata": {},
   "outputs": [
    {
     "name": "stdout",
     "output_type": "stream",
     "text": [
      "NOTE: pick_types() is a legacy function. New code should use inst.pick(...).\n",
      "NOTE: pick_channels() is a legacy function. New code should use inst.pick(...).\n",
      "NOTE: pick_types() is a legacy function. New code should use inst.pick(...).\n",
      "NOTE: pick_channels() is a legacy function. New code should use inst.pick(...).\n"
     ]
    },
    {
     "name": "stderr",
     "output_type": "stream",
     "text": [
      "C:\\Users\\lukas\\AppData\\Local\\Temp\\ipykernel_7208\\1474159169.py:8: RuntimeWarning: All data were zero\n",
      "  brain = stc_.plot(**pp)\n"
     ]
    },
    {
     "name": "stdout",
     "output_type": "stream",
     "text": [
      "EEG channel type selected for re-referencing\n",
      "Adding average EEG reference projection.\n",
      "1 projection items deactivated\n",
      "Average reference projection was added, but has not been applied yet. Use the apply_proj method to apply it.\n",
      "Created an SSP operator (subspace dimension = 1)\n",
      "1 projection items activated\n",
      "SSP projectors applied...\n",
      "NOTE: pick_channels() is a legacy function. New code should use inst.pick(...).\n",
      "[2473 4641 4750]\n",
      "[3334]\n",
      "Alternating Projections mle =  44.83179670480428  mm\n",
      "1  sources\n"
     ]
    }
   ],
   "source": [
    "from invert import Solver\n",
    "\n",
    "solver = Solver2(\"AP\")\n",
    "solver.make_inverse_operator(fwd, evoked, n_orders=0, refine_solution=True, n=n_solver, k=n_solver, diffusion_parameter=0.1)\n",
    "# solver.make_inverse_operator(fwd, evoked, n_orders=3, refine_solution=True, n=sim_params[\"n_sources\"], d=sim_params[\"n_sources\"], diffusion_parameter=0.05)\n",
    "stc_ = solver.apply_inverse_operator(evoked)\n",
    "stc_.data /= abs(stc_.data).max()\n",
    "brain = stc_.plot(**pp)\n",
    "brain.add_text(0.1, 0.9, solver.name, 'title',\n",
    "               font_size=14)\n",
    "\n",
    "evoked_ = mne.EvokedArray(fwd[\"sol\"][\"data\"] @ stc_.data, info).set_eeg_reference(\"average\", projection=True)\n",
    "evoked_.plot_joint()\n",
    "\n",
    "# print(solver.name, \" r = \", pearsonr(abs(stc.data).mean(axis=-1), abs(stc_.data).mean(axis=-1))[0])\n",
    "\n",
    "mle = eval_mean_localization_error(stc.data, stc_.data, adjacency.toarray(), adjacency.toarray(), distance_matrix)\n",
    "print(solver.name, \"mle = \", mle, \" mm\")\n",
    "print( len(np.where((stc_.data**2).sum(axis=1) != 0)[0]), \" sources\")"
   ]
  },
  {
   "cell_type": "code",
   "execution_count": 58,
   "metadata": {},
   "outputs": [
    {
     "name": "stdout",
     "output_type": "stream",
     "text": [
      "NOTE: pick_types() is a legacy function. New code should use inst.pick(...).\n",
      "NOTE: pick_channels() is a legacy function. New code should use inst.pick(...).\n",
      "NOTE: pick_types() is a legacy function. New code should use inst.pick(...).\n",
      "NOTE: pick_channels() is a legacy function. New code should use inst.pick(...).\n"
     ]
    },
    {
     "name": "stderr",
     "output_type": "stream",
     "text": [
      "C:\\Users\\lukas\\AppData\\Local\\Temp\\ipykernel_7208\\70374327.py:8: RuntimeWarning: All data were zero\n",
      "  brain = stc_.plot(**pp)\n"
     ]
    },
    {
     "name": "stdout",
     "output_type": "stream",
     "text": [
      "EEG channel type selected for re-referencing\n",
      "Adding average EEG reference projection.\n",
      "1 projection items deactivated\n",
      "Average reference projection was added, but has not been applied yet. Use the apply_proj method to apply it.\n",
      "Created an SSP operator (subspace dimension = 1)\n",
      "1 projection items activated\n",
      "SSP projectors applied...\n",
      "NOTE: pick_channels() is a legacy function. New code should use inst.pick(...).\n",
      "[2473 4641 4750]\n",
      "[3038]\n",
      "RAP-MUSIC mle =  49.12864947282924  mm\n",
      "1  sources\n"
     ]
    }
   ],
   "source": [
    "from invert import Solver\n",
    "\n",
    "solver = Solver1(\"RAP-MUSIC\")\n",
    "solver.make_inverse_operator(fwd, evoked, n_orders=0, refine_solution=False, n=n_solver, k=n_solver, diffusion_parameter=0.1, stop_crit=0)\n",
    "# solver.make_inverse_operator(fwd, evoked, n_orders=3, refine_solution=True, n=sim_params[\"n_sources\"], d=sim_params[\"n_sources\"], diffusion_parameter=0.05)\n",
    "stc_ = solver.apply_inverse_operator(evoked)\n",
    "stc_.data /= abs(stc_.data).max()\n",
    "brain = stc_.plot(**pp)\n",
    "brain.add_text(0.1, 0.9, solver.name, 'title',\n",
    "               font_size=14)\n",
    "\n",
    "evoked_ = mne.EvokedArray(fwd[\"sol\"][\"data\"] @ stc_.data, info).set_eeg_reference(\"average\", projection=True)\n",
    "evoked_.plot_joint()\n",
    "\n",
    "# print(solver.name, \" r = \", pearsonr(abs(stc.data).mean(axis=-1), abs(stc_.data).mean(axis=-1))[0])\n",
    "\n",
    "mle = eval_mean_localization_error(stc.data, stc_.data, adjacency.toarray(), adjacency.toarray(), distance_matrix)\n",
    "print(solver.name, \"mle = \", mle, \" mm\")\n",
    "print( len(np.where((stc_.data**2).sum(axis=1) != 0)[0]), \" sources\")"
   ]
  },
  {
   "cell_type": "code",
   "execution_count": 59,
   "metadata": {},
   "outputs": [
    {
     "name": "stdout",
     "output_type": "stream",
     "text": [
      "NOTE: pick_types() is a legacy function. New code should use inst.pick(...).\n",
      "NOTE: pick_channels() is a legacy function. New code should use inst.pick(...).\n",
      "NOTE: pick_types() is a legacy function. New code should use inst.pick(...).\n",
      "NOTE: pick_channels() is a legacy function. New code should use inst.pick(...).\n"
     ]
    },
    {
     "name": "stderr",
     "output_type": "stream",
     "text": [
      "C:\\Users\\lukas\\AppData\\Local\\Temp\\ipykernel_7208\\3895963447.py:8: RuntimeWarning: All data were zero\n",
      "  brain = stc_.plot(**pp)\n"
     ]
    },
    {
     "name": "stdout",
     "output_type": "stream",
     "text": [
      "EEG channel type selected for re-referencing\n",
      "Adding average EEG reference projection.\n",
      "1 projection items deactivated\n",
      "Average reference projection was added, but has not been applied yet. Use the apply_proj method to apply it.\n",
      "Created an SSP operator (subspace dimension = 1)\n",
      "1 projection items activated\n",
      "SSP projectors applied...\n",
      "NOTE: pick_channels() is a legacy function. New code should use inst.pick(...).\n",
      "[2473 4641 4750]\n",
      "[3038]\n",
      "RAP-MUSIC mle =  49.12864947282924  mm\n",
      "1  sources\n"
     ]
    }
   ],
   "source": [
    "from invert import Solver\n",
    "\n",
    "solver = Solver2(\"RAP-MUSIC\")\n",
    "solver.make_inverse_operator(fwd, evoked, n_orders=0, refine_solution=False, n=n_solver, k=n_solver, diffusion_parameter=0.1, stop_crit=0)\n",
    "# solver.make_inverse_operator(fwd, evoked, n_orders=3, refine_solution=True, n=sim_params[\"n_sources\"], d=sim_params[\"n_sources\"], diffusion_parameter=0.05)\n",
    "stc_ = solver.apply_inverse_operator(evoked)\n",
    "stc_.data /= abs(stc_.data).max()\n",
    "brain = stc_.plot(**pp)\n",
    "brain.add_text(0.1, 0.9, solver.name, 'title',\n",
    "               font_size=14)\n",
    "\n",
    "evoked_ = mne.EvokedArray(fwd[\"sol\"][\"data\"] @ stc_.data, info).set_eeg_reference(\"average\", projection=True)\n",
    "evoked_.plot_joint()\n",
    "\n",
    "# print(solver.name, \" r = \", pearsonr(abs(stc.data).mean(axis=-1), abs(stc_.data).mean(axis=-1))[0])\n",
    "\n",
    "mle = eval_mean_localization_error(stc.data, stc_.data, adjacency.toarray(), adjacency.toarray(), distance_matrix)\n",
    "print(solver.name, \"mle = \", mle, \" mm\")\n",
    "print( len(np.where((stc_.data**2).sum(axis=1) != 0)[0]), \" sources\")"
   ]
  }
 ],
 "metadata": {
  "kernelspec": {
   "display_name": "flap2",
   "language": "python",
   "name": "python3"
  },
  "language_info": {
   "codemirror_mode": {
    "name": "ipython",
    "version": 3
   },
   "file_extension": ".py",
   "mimetype": "text/x-python",
   "name": "python",
   "nbconvert_exporter": "python",
   "pygments_lexer": "ipython3",
   "version": "3.10.12"
  }
 },
 "nbformat": 4,
 "nbformat_minor": 2
}
