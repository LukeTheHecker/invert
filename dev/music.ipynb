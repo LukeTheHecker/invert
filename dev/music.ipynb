{
 "cells": [
  {
   "cell_type": "code",
   "execution_count": 1,
   "metadata": {},
   "outputs": [],
   "source": [
    "%load_ext autoreload\n",
    "%autoreload 2\n",
    "\n",
    "import sys; \n",
    "sys.path.insert(0, '../../esinet')\n",
    "sys.path.insert(0, '../')\n",
    "\n",
    "import numpy as np\n",
    "from copy import deepcopy\n",
    "from scipy.sparse.csgraph import laplacian\n",
    "from matplotlib import pyplot as plt\n",
    "from scipy.spatial.distance import cdist\n",
    "from scipy.stats import pearsonr\n",
    "import mne\n",
    "from esinet import Simulation\n",
    "from esinet.forward import get_info, create_forward_model\n",
    "from esinet.util import unpack_fwd\n",
    "from invert.cmaps import parula\n",
    "pp = dict(surface='white', hemi='both')"
   ]
  },
  {
   "cell_type": "code",
   "execution_count": 2,
   "metadata": {},
   "outputs": [
    {
     "name": "stderr",
     "output_type": "stream",
     "text": [
      "[Parallel(n_jobs=4)]: Using backend LokyBackend with 4 concurrent workers.\n",
      "[Parallel(n_jobs=4)]: Done   2 out of   4 | elapsed:    2.7s remaining:    2.7s\n",
      "[Parallel(n_jobs=4)]: Done   4 out of   4 | elapsed:    2.8s remaining:    0.0s\n",
      "[Parallel(n_jobs=4)]: Done   4 out of   4 | elapsed:    2.8s finished\n",
      "[Parallel(n_jobs=4)]: Using backend LokyBackend with 4 concurrent workers.\n",
      "[Parallel(n_jobs=4)]: Done   2 out of   4 | elapsed:    0.2s remaining:    0.2s\n",
      "[Parallel(n_jobs=4)]: Done   4 out of   4 | elapsed:    0.2s remaining:    0.0s\n",
      "[Parallel(n_jobs=4)]: Done   4 out of   4 | elapsed:    0.2s finished\n",
      "[Parallel(n_jobs=4)]: Using backend LokyBackend with 4 concurrent workers.\n",
      "[Parallel(n_jobs=4)]: Done   2 out of   4 | elapsed:    0.2s remaining:    0.2s\n",
      "[Parallel(n_jobs=4)]: Done   4 out of   4 | elapsed:    0.3s remaining:    0.0s\n",
      "[Parallel(n_jobs=4)]: Done   4 out of   4 | elapsed:    0.3s finished\n"
     ]
    }
   ],
   "source": [
    "info = get_info(kind='biosemi64')\n",
    "fwd = create_forward_model(info=info, sampling='ico3')\n",
    "\n",
    "leadfield, pos = unpack_fwd(fwd)[1:3]\n",
    "leadfield -= leadfield.mean(axis=0)\n",
    "\n",
    "n_chans, n_dipoles = leadfield.shape\n",
    "dist = cdist(pos, pos)"
   ]
  },
  {
   "cell_type": "markdown",
   "metadata": {},
   "source": [
    "# Simulate"
   ]
  },
  {
   "cell_type": "code",
   "execution_count": 140,
   "metadata": {},
   "outputs": [
    {
     "name": "stdout",
     "output_type": "stream",
     "text": [
      "Simulating data based on sparse patches.\n"
     ]
    },
    {
     "name": "stderr",
     "output_type": "stream",
     "text": [
      "100%|██████████| 2/2 [00:00<00:00,  9.73it/s]\n",
      "100%|██████████| 2/2 [00:00<00:00, 2004.93it/s]\n",
      "100%|██████████| 2/2 [00:00<00:00, 13.64it/s]"
     ]
    },
    {
     "name": "stdout",
     "output_type": "stream",
     "text": [
      "Using control points [0.00000000e+00 0.00000000e+00 2.06116153e-08]\n"
     ]
    },
    {
     "name": "stderr",
     "output_type": "stream",
     "text": [
      "\n"
     ]
    },
    {
     "name": "stdout",
     "output_type": "stream",
     "text": [
      "For automatic theme detection, \"darkdetect\" has to be installed! You can install it with `pip install darkdetect`\n",
      "To use light mode, \"qdarkstyle\" has to be installed! You can install it with `pip install qdarkstyle`\n"
     ]
    }
   ],
   "source": [
    "# settings = dict(number_of_sources=1, extents=40, duration_of_trial=0.01, target_snr=99999999999)\n",
    "settings = dict(number_of_sources=3, extents=(1, 2), duration_of_trial=0.1, target_snr=1e99)\n",
    "\n",
    "sim = Simulation(fwd, info, settings).simulate(2)\n",
    "stc = sim.source_data[0]\n",
    "evoked = sim.eeg_data[0].average()\n",
    "y = evoked.data\n",
    "x = stc.data\n",
    "\n",
    "brain = stc.plot(**pp)\n",
    "brain.add_text(0.1, 0.9, 'Ground Truth', 'title',\n",
    "               font_size=14)"
   ]
  },
  {
   "cell_type": "markdown",
   "metadata": {},
   "source": [
    "# MUSIC"
   ]
  },
  {
   "cell_type": "code",
   "execution_count": 4,
   "metadata": {},
   "outputs": [],
   "source": [
    "# Parameters\n",
    "n = 6\n",
    "stop_crit = 0.95\n",
    "\n",
    "leadfield -= leadfield.mean(axis=0)\n",
    "\n",
    "_, n_time = y.shape\n",
    "C = y@y.T\n",
    "U, D, _  = np.linalg.svd(C, full_matrices=False)\n",
    "Us = U[:, :n]\n",
    "Ps = Us@Us.T\n",
    "\n",
    "mu = np.zeros(n_dipoles)\n",
    "for p in range(n_dipoles):\n",
    "    l = leadfield[:, p][:, np.newaxis]\n",
    "    norm_1 = np.linalg.norm(Ps @ l)\n",
    "    norm_2 = np.linalg.norm(l)\n",
    "    mu[p] = norm_1 / norm_2\n",
    "mu[mu<stop_crit] = 0\n",
    "\n",
    "dipole_idc = np.where(mu!=0)[0]\n",
    "x_hat = np.zeros((n_dipoles, n_time))\n",
    "x_hat[dipole_idc, :] = np.linalg.pinv(leadfield[:, dipole_idc]) @ y"
   ]
  },
  {
   "cell_type": "markdown",
   "metadata": {},
   "source": [
    "## Plot"
   ]
  },
  {
   "cell_type": "code",
   "execution_count": 5,
   "metadata": {},
   "outputs": [
    {
     "name": "stdout",
     "output_type": "stream",
     "text": [
      "Using control points [0. 0. 0.]\n"
     ]
    },
    {
     "name": "stderr",
     "output_type": "stream",
     "text": [
      "C:\\Users\\Lukas\\AppData\\Local\\Temp\\ipykernel_5956\\1296900930.py:3: RuntimeWarning: All data were zero\n",
      "  brain = stc_.plot(**pp)\n"
     ]
    },
    {
     "name": "stdout",
     "output_type": "stream",
     "text": [
      "For automatic theme detection, \"darkdetect\" has to be installed! You can install it with `pip install darkdetect`\n",
      "To use light mode, \"qdarkstyle\" has to be installed! You can install it with `pip install qdarkstyle`\n"
     ]
    }
   ],
   "source": [
    "stc_ = stc.copy()\n",
    "stc_.data = x_hat\n",
    "brain = stc_.plot(**pp)\n",
    "brain.add_text(0.1, 0.9, 'MUSIC', 'title',\n",
    "               font_size=14)"
   ]
  },
  {
   "cell_type": "markdown",
   "metadata": {},
   "source": [
    "# RAP-MUSIC"
   ]
  },
  {
   "cell_type": "code",
   "execution_count": 6,
   "metadata": {},
   "outputs": [
    {
     "name": "stdout",
     "output_type": "stream",
     "text": [
      "0\n",
      "breaking\n"
     ]
    }
   ],
   "source": [
    "# Parameters\n",
    "n = 10\n",
    "k = 3\n",
    "stop_crit = 0.95\n",
    "alpha = 0\n",
    "\n",
    "leadfield -= leadfield.mean(axis=0)\n",
    "\n",
    "I = np.identity(n_chans)\n",
    "C = y @ y.T + alpha * I\n",
    "\n",
    "dipole_idc = []\n",
    "B = None\n",
    "n_time = y.shape[1]\n",
    "for i in range(k):\n",
    "    print(i)\n",
    "    U, D, _= np.linalg.svd(C, full_matrices=False)\n",
    "    Us = U[:, :n]\n",
    "    Ps = Us@Us.T\n",
    "\n",
    "    mu = np.zeros(n_dipoles)\n",
    "    for p in range(n_dipoles):\n",
    "        l = leadfield[:, p][:, np.newaxis]\n",
    "        norm_1 = np.linalg.norm(Ps @ l)\n",
    "        norm_2 = np.linalg.norm(l)\n",
    "        mu[p] = norm_1 / norm_2\n",
    "    dipole_idx = np.argmax(mu)\n",
    "    dipole_idc.append( dipole_idx )\n",
    "\n",
    "    if np.max(mu) < stop_crit:\n",
    "        print(\"breaking\")\n",
    "        break\n",
    "\n",
    "    if i == 0:\n",
    "        B = leadfield[:, dipole_idx][:, np.newaxis]\n",
    "    else:\n",
    "        B = np.hstack([B, leadfield[:, dipole_idx][:, np.newaxis]])\n",
    "    \n",
    "    Q = I - B @ np.linalg.pinv(B)\n",
    "    C = Q @ Us\n",
    "\n",
    "dipole_idc = np.array(dipole_idc)\n",
    "x_hat = np.zeros((n_dipoles, n_time))\n",
    "x_hat[dipole_idc, :] = np.linalg.pinv(leadfield[:, dipole_idc]) @ y"
   ]
  },
  {
   "cell_type": "markdown",
   "metadata": {},
   "source": [
    "## Plot"
   ]
  },
  {
   "cell_type": "code",
   "execution_count": 7,
   "metadata": {},
   "outputs": [
    {
     "name": "stdout",
     "output_type": "stream",
     "text": [
      "Using control points [0.00000000e+00 0.00000000e+00 2.44811933e-08]\n",
      "For automatic theme detection, \"darkdetect\" has to be installed! You can install it with `pip install darkdetect`\n",
      "To use light mode, \"qdarkstyle\" has to be installed! You can install it with `pip install qdarkstyle`\n"
     ]
    }
   ],
   "source": [
    "# stc_ = stc.copy()\n",
    "# stc_.data[dipole_idc, 0] = 1\n",
    "# brain = stc_.plot(**pp)\n",
    "# brain.add_text(0.1, 0.9, 'RAP-MUSIC', 'title',\n",
    "#                font_size=14)\n",
    "\n",
    "stc_ = stc.copy()\n",
    "stc_.data = x_hat\n",
    "brain = stc_.plot(**pp)\n",
    "brain.add_text(0.1, 0.9, 'RAP-MUSIC estimate', 'title',\n",
    "               font_size=14)"
   ]
  },
  {
   "cell_type": "markdown",
   "metadata": {},
   "source": [
    "# TRAP-MUSIC"
   ]
  },
  {
   "cell_type": "code",
   "execution_count": 8,
   "metadata": {},
   "outputs": [
    {
     "name": "stdout",
     "output_type": "stream",
     "text": [
      "0\n",
      "breaking\n"
     ]
    }
   ],
   "source": [
    "# Parameters\n",
    "n = 10\n",
    "k = 3\n",
    "stop_crit = 0.95\n",
    "alpha  = 0\n",
    "\n",
    "leadfield -= leadfield.mean(axis=0)\n",
    "\n",
    "I = np.identity(n_chans)\n",
    "C = y @ y.T + alpha * I\n",
    "\n",
    "dipole_idc = []\n",
    "B = None\n",
    "n_time = y.shape[1]\n",
    "for i in range(k):\n",
    "    print(i)\n",
    "    U, D, _= np.linalg.svd(C, full_matrices=False)\n",
    "    Us = U[:, :n-i]\n",
    "    Ps = Us@Us.T\n",
    "\n",
    "    mu = np.zeros(n_dipoles)\n",
    "    for p in range(n_dipoles):\n",
    "        l = leadfield[:, p][:, np.newaxis]\n",
    "        norm_1 = np.linalg.norm(Ps @ l)\n",
    "        norm_2 = np.linalg.norm(l)\n",
    "        mu[p] = norm_1 / norm_2\n",
    "    dipole_idx = np.argmax(mu)\n",
    "    dipole_idc.append( dipole_idx )\n",
    "\n",
    "    if np.max(mu) < stop_crit:\n",
    "        print(\"breaking\")\n",
    "        break\n",
    "\n",
    "    if i == 0:\n",
    "        B = leadfield[:, dipole_idx][:, np.newaxis]\n",
    "    else:\n",
    "        B = np.hstack([B, leadfield[:, dipole_idx][:, np.newaxis]])\n",
    "    \n",
    "    Q = I - B @ np.linalg.pinv(B)\n",
    "    C = Q @ Us\n",
    "\n",
    "dipole_idc = np.array(dipole_idc)\n",
    "x_hat = np.zeros((n_dipoles, n_time))\n",
    "x_hat[dipole_idc, :] = np.linalg.pinv(leadfield[:, dipole_idc]) @ y"
   ]
  },
  {
   "cell_type": "markdown",
   "metadata": {},
   "source": [
    "## Plot"
   ]
  },
  {
   "cell_type": "code",
   "execution_count": 9,
   "metadata": {},
   "outputs": [
    {
     "name": "stdout",
     "output_type": "stream",
     "text": [
      "Using control points [0.00000000e+00 0.00000000e+00 2.44811933e-08]\n",
      "For automatic theme detection, \"darkdetect\" has to be installed! You can install it with `pip install darkdetect`\n",
      "To use light mode, \"qdarkstyle\" has to be installed! You can install it with `pip install qdarkstyle`\n"
     ]
    }
   ],
   "source": [
    "# stc_ = stc.copy()\n",
    "# stc_.data[dipole_idc, 0] = 1\n",
    "# brain = stc_.plot(**pp)\n",
    "# brain.add_text(0.1, 0.9, 'RAP-MUSIC', 'title',\n",
    "#                font_size=14)\n",
    "\n",
    "stc_ = stc.copy()\n",
    "stc_.data = x_hat\n",
    "brain = stc_.plot(**pp)\n",
    "brain.add_text(0.1, 0.9, 'TRAP-MUSIC estimate', 'title',\n",
    "               font_size=14)"
   ]
  },
  {
   "cell_type": "markdown",
   "metadata": {},
   "source": [
    "# FINES (something is wrong here)"
   ]
  },
  {
   "cell_type": "code",
   "execution_count": 141,
   "metadata": {},
   "outputs": [],
   "source": [
    "# Parameters\n",
    "from invert.util import find_corner\n",
    "n = 10\n",
    "K = 16 # number of coarse brain parcels\n",
    "k = 10 # number of selected eigenvectors from the data\n",
    "\n",
    "# helper funs\n",
    "normalize = lambda x: (x.T / np.linalg.norm(x.T, axis=0)).T\n",
    "\n",
    "\n",
    "leadfield -= leadfield.mean(axis=0)\n",
    "from sklearn.cluster import KMeans\n",
    "kmeans = KMeans(n_clusters=K).fit(pos)\n",
    "membership = kmeans.labels_\n",
    "regions, region_counts = np.unique(membership, return_counts=True)\n",
    "\n",
    "Rf = y@y.T\n",
    "\n",
    "E, s, _ = np.linalg.svd(Rf, full_matrices=False)\n",
    "Es = E[:, :k]\n",
    "En = E[:, k:]\n",
    "\n",
    "V = []\n",
    "lams = []\n",
    "lam_idc = []\n",
    "dipoles = []\n",
    "for k, region_count in zip(regions, region_counts):\n",
    "    dipole_idc = np.where(membership==k)[0]\n",
    "    \n",
    "    Gl = leadfield[:, dipole_idc]\n",
    "    Ug, s, _ = np.linalg.svd(Gl, full_matrices=False)\n",
    "    d = np.where( (np.cumsum(s)/s.sum()) > 0.99)[0][0]\n",
    "    Ug = Ug[:, :d]\n",
    "\n",
    "    R = Gl @ Gl.T\n",
    "    Vk, s, _ = np.linalg.svd(R, full_matrices=False)\n",
    "    # Find largest eigenvalues\n",
    "    Dk = np.where( (np.cumsum(s)/s.sum()) > 0.99)[0][0]\n",
    "    Vk = Vk[:Dk]\n",
    "    V.append(Vk)\n",
    "\n",
    "    corrs = abs(normalize(En).T @ normalize(Vk).T)\n",
    "    fines_vector_idc = np.argsort(np.linalg.norm(corrs, axis=1))[-Dk:]\n",
    "    # fines_vector_idc = np.argsort(np.max(corrs, axis=1))[-Dk:]\n",
    "    \n",
    "    Fk = En[:, fines_vector_idc]\n",
    "    term = Ug.T@Fk@Fk.T@Ug\n",
    "    _, eig, _ = np.linalg.svd(term, full_matrices=False)\n",
    "\n",
    "    # lam_min = np.min(eig)\n",
    "    # lam_min_idx = dipole_idc[np.argmin(eig)]\n",
    "    # lams.append(lam_min)\n",
    "    # lam_idc.append(lam_min_idx)\n",
    "    found_idx = dipole_idc[np.argmax(np.linalg.norm(eig * term, axis=1))]\n",
    "    dipoles.append(found_idx)\n",
    "\n",
    "\n",
    "# dipole_idc = np.array(dipole_idc)\n",
    "# x_hat = np.zeros((n_dipoles, n_time))\n",
    "# x_hat[dipole_idc, :] = np.linalg.pinv(leadfield[:, dipole_idc]) @ y"
   ]
  },
  {
   "cell_type": "markdown",
   "metadata": {},
   "source": [
    "## Plot"
   ]
  },
  {
   "cell_type": "code",
   "execution_count": 142,
   "metadata": {},
   "outputs": [
    {
     "name": "stdout",
     "output_type": "stream",
     "text": [
      "Using control points [0.00000000e+00 0.00000000e+00 2.28279739e-08]\n",
      "For automatic theme detection, \"darkdetect\" has to be installed! You can install it with `pip install darkdetect`\n",
      "To use light mode, \"qdarkstyle\" has to be installed! You can install it with `pip install qdarkstyle`\n"
     ]
    }
   ],
   "source": [
    "dipoles = np.array(dipoles)\n",
    "\n",
    "x_hat = np.zeros(n_dipoles)\n",
    "x_hat[dipoles] = 1\n",
    "stc_ = stc.copy()\n",
    "stc_.data[:, 0] = x_hat / x_hat.max()\n",
    "brain = stc_.plot(**pp)\n",
    "brain.add_text(0.1, 0.9, 'Fines estimate', 'title',\n",
    "               font_size=14)"
   ]
  },
  {
   "cell_type": "code",
   "execution_count": 125,
   "metadata": {},
   "outputs": [
    {
     "name": "stdout",
     "output_type": "stream",
     "text": [
      "Using control points [0. 0. 1.]\n",
      "For automatic theme detection, \"darkdetect\" has to be installed! You can install it with `pip install darkdetect`\n",
      "To use light mode, \"qdarkstyle\" has to be installed! You can install it with `pip install qdarkstyle`\n"
     ]
    }
   ],
   "source": [
    "x_hat = np.zeros(n_dipoles)\n",
    "for k, region_count in zip(regions, region_counts):\n",
    "    dipole_idc = np.where(membership==k)[0]\n",
    "    x_hat[dipole_idc] = lams[k]\n",
    "stc_ = stc.copy()\n",
    "stc_.data[:, 0] = x_hat / x_hat.max()\n",
    "brain = stc_.plot(**pp)\n",
    "brain.add_text(0.1, 0.9, 'Fines estimate', 'title',\n",
    "               font_size=14)"
   ]
  },
  {
   "cell_type": "code",
   "execution_count": 128,
   "metadata": {},
   "outputs": [
    {
     "name": "stdout",
     "output_type": "stream",
     "text": [
      "Using control points [0.0000000e+00 0.0000000e+00 4.4883264e-08]\n",
      "For automatic theme detection, \"darkdetect\" has to be installed! You can install it with `pip install darkdetect`\n",
      "To use light mode, \"qdarkstyle\" has to be installed! You can install it with `pip install qdarkstyle`\n"
     ]
    },
    {
     "name": "stdout",
     "output_type": "stream",
     "text": [
      "Using control points [0.        0.        0.8760841]\n"
     ]
    }
   ],
   "source": [
    "lams = np.array(lams)\n",
    "lam_idc = np.array(lam_idc)\n",
    "\n",
    "x_hat = np.zeros(n_dipoles)\n",
    "x_hat[lam_idc] = lams\n",
    "stc_ = stc.copy()\n",
    "stc_.data[:, 0] = x_hat / x_hat.max()\n",
    "brain = stc_.plot(**pp)\n",
    "brain.add_text(0.1, 0.9, 'Fines estimate', 'title',\n",
    "               font_size=14)"
   ]
  },
  {
   "cell_type": "code",
   "execution_count": 114,
   "metadata": {},
   "outputs": [
    {
     "data": {
      "text/plain": [
       "array(756, dtype=int64)"
      ]
     },
     "execution_count": 114,
     "metadata": {},
     "output_type": "execute_result"
    }
   ],
   "source": [
    "lam_min_idx"
   ]
  },
  {
   "cell_type": "code",
   "execution_count": null,
   "metadata": {},
   "outputs": [],
   "source": []
  }
 ],
 "metadata": {
  "kernelspec": {
   "display_name": "Python 3.8.10 ('invertenv')",
   "language": "python",
   "name": "python3"
  },
  "language_info": {
   "codemirror_mode": {
    "name": "ipython",
    "version": 3
   },
   "file_extension": ".py",
   "mimetype": "text/x-python",
   "name": "python",
   "nbconvert_exporter": "python",
   "pygments_lexer": "ipython3",
   "version": "3.8.10"
  },
  "orig_nbformat": 4,
  "vscode": {
   "interpreter": {
    "hash": "109cbb5ed194d0e1c7aea844cf0a4a10faadf2a56a1c0eb03142356ad9dcb9c6"
   }
  }
 },
 "nbformat": 4,
 "nbformat_minor": 2
}
