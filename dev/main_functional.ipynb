{
 "cells": [
  {
   "cell_type": "code",
   "execution_count": 1,
   "metadata": {},
   "outputs": [],
   "source": [
    "%load_ext autoreload\n",
    "%autoreload 2\n",
    "%matplotlib qt\n",
    "import sys; sys.path.insert(0, '../')\n",
    "import numpy as np\n",
    "from matplotlib import pyplot as plt\n",
    "from scipy.stats import pearsonr\n",
    "import mne\n",
    "from esinet import Simulation\n",
    "from esinet.forward import get_info, create_forward_model\n",
    "from esinet.util import unpack_fwd\n",
    "pp = dict(surface='white', hemi='both')"
   ]
  },
  {
   "cell_type": "markdown",
   "metadata": {},
   "source": [
    "# Get Forward Model"
   ]
  },
  {
   "cell_type": "code",
   "execution_count": 2,
   "metadata": {},
   "outputs": [
    {
     "name": "stderr",
     "output_type": "stream",
     "text": [
      "[Parallel(n_jobs=8)]: Using backend LokyBackend with 8 concurrent workers.\n",
      "[Parallel(n_jobs=8)]: Done   3 out of   8 | elapsed:    2.2s remaining:    3.8s\n",
      "[Parallel(n_jobs=8)]: Done   5 out of   8 | elapsed:    2.3s remaining:    1.3s\n",
      "[Parallel(n_jobs=8)]: Done   8 out of   8 | elapsed:    2.4s finished\n",
      "[Parallel(n_jobs=8)]: Using backend LokyBackend with 8 concurrent workers.\n",
      "[Parallel(n_jobs=8)]: Done   3 out of   8 | elapsed:    0.0s remaining:    0.1s\n",
      "[Parallel(n_jobs=8)]: Done   5 out of   8 | elapsed:    0.1s remaining:    0.0s\n",
      "[Parallel(n_jobs=8)]: Done   8 out of   8 | elapsed:    0.1s finished\n",
      "[Parallel(n_jobs=8)]: Using backend LokyBackend with 8 concurrent workers.\n",
      "[Parallel(n_jobs=8)]: Done   3 out of   8 | elapsed:    0.1s remaining:    0.2s\n",
      "[Parallel(n_jobs=8)]: Done   5 out of   8 | elapsed:    0.1s remaining:    0.0s\n",
      "[Parallel(n_jobs=8)]: Done   8 out of   8 | elapsed:    0.1s finished\n"
     ]
    }
   ],
   "source": [
    "info = get_info(kind='biosemi64')\n",
    "fwd = create_forward_model(info=info, sampling='ico3')\n",
    "\n",
    "leadfield, pos = unpack_fwd(fwd)[1:3]\n",
    "n_chans, n_dipoles = leadfield.shape"
   ]
  },
  {
   "cell_type": "markdown",
   "metadata": {},
   "source": [
    "# Get sample data"
   ]
  },
  {
   "cell_type": "code",
   "execution_count": 3,
   "metadata": {},
   "outputs": [
    {
     "name": "stdout",
     "output_type": "stream",
     "text": [
      "-- number of adjacent vertices : 1284\n",
      "Simulating data based on sparse patches.\n"
     ]
    },
    {
     "name": "stderr",
     "output_type": "stream",
     "text": [
      "  0%|          | 0/2 [00:00<?, ?it/s]c:\\Users\\lukas\\virtualenvs\\invertenv\\lib\\site-packages\\esinet\\simulation.py:387: FutureWarning: The frame.append method is deprecated and will be removed from pandas in a future version. Use pandas.concat instead.\n",
      "  self.simulation_info = self.simulation_info.append(d, ignore_index=True)\n",
      " 50%|█████     | 1/2 [00:00<00:00,  1.33it/s]c:\\Users\\lukas\\virtualenvs\\invertenv\\lib\\site-packages\\esinet\\simulation.py:387: FutureWarning: The frame.append method is deprecated and will be removed from pandas in a future version. Use pandas.concat instead.\n",
      "  self.simulation_info = self.simulation_info.append(d, ignore_index=True)\n",
      "100%|██████████| 2/2 [00:00<00:00,  2.61it/s]\n",
      "100%|██████████| 2/2 [00:00<?, ?it/s]\n"
     ]
    },
    {
     "name": "stdout",
     "output_type": "stream",
     "text": [
      "source data shape:  (1284, 10) (1284, 10)\n"
     ]
    },
    {
     "name": "stderr",
     "output_type": "stream",
     "text": [
      "100%|██████████| 2/2 [00:00<00:00, 487.94it/s]\n"
     ]
    },
    {
     "name": "stdout",
     "output_type": "stream",
     "text": [
      "Using pyvistaqt 3d backend.\n",
      "\n",
      "Using control points [1.25272357e-09 3.12407916e-09 5.92727705e-08]\n",
      "For automatic theme detection, \"darkdetect\" has to be installed! You can install it with `pip install darkdetect`\n",
      "To use light mode, \"qdarkstyle\" has to be installed! You can install it with `pip install qdarkstyle`\n"
     ]
    }
   ],
   "source": [
    "settings = dict(number_of_sources=3, extents=(25, 40), duration_of_trial=0.01, target_snr=25)\n",
    "\n",
    "sim = Simulation(fwd, info, settings).simulate(2)\n",
    "stc = sim.source_data[0]\n",
    "evoked = sim.eeg_data[0].average()\n",
    "\n",
    "brain = stc.plot(**pp)\n",
    "brain.add_text(0.1, 0.9, 'Ground Truth', 'title',\n",
    "               font_size=14)"
   ]
  },
  {
   "cell_type": "markdown",
   "metadata": {},
   "source": [
    "# Regularization Optimizations"
   ]
  },
  {
   "cell_type": "code",
   "execution_count": null,
   "metadata": {},
   "outputs": [],
   "source": [
    "from invert.evaluate import corr, nmse\n",
    "from invert.solvers.lucas import SolverLUCAS\n",
    "\n",
    "solver = SolverLUCAS()\n",
    "solver.make_inverse_operator(fwd, evoked, verbose=0)\n",
    "solver.optimize_weights(fwd, info)\n",
    "solver.plot_weights()\n",
    "stc_hat = solver.apply_inverse_operator(evoked)\n",
    "stc_hat.plot(**pp, brain_kwargs=dict(title=solver.name))\n",
    "\n",
    "print(\"Mean correlation: \", np.mean(corr(stc_hat.data, stc.data)))\n",
    "print(\"Mean NMSE: \", np.mean(nmse(stc_hat.data, stc.data)))\n",
    "\n",
    "# Temporal Context\n",
    "# stc_hat_cbd = contextualize_bd(stc_hat, fwd, fast=True, lstm_look_back=10, verbose=1)\n",
    "# stc_hat_cbd.plot(**pp, brain_kwargs=dict(title=\"c\"+solver.name))\n",
    "\n",
    "# print(\"Mean correlation: \", np.mean(corr(stc_hat_cbd.data, stc.data)))\n",
    "# print(\"Mean NMSE: \", np.mean(nmse(stc_hat_cbd.data, stc.data)))\n",
    "\n",
    "\n",
    "# # FOCUSS:\n",
    "# stc_hat_focuss = focuss(stc_hat_cbd, evoked, fwd)\n",
    "# stc_hat_focuss.plot(**pp, brain_kwargs=dict(title=\"c\"+solver.name+\" FOCUSS\"))\n",
    "\n",
    "# print(\"Mean correlation: \", np.mean(corr(stc_hat_focuss.data, stc.data)))\n",
    "# print(\"Mean NMSE: \", np.mean(nmse(stc_hat_focuss.data, stc.data)))"
   ]
  },
  {
   "cell_type": "code",
   "execution_count": 5,
   "metadata": {},
   "outputs": [
    {
     "name": "stdout",
     "output_type": "stream",
     "text": [
      "Using control points [1.00295540e-09 1.16641942e-09 2.91248426e-09]\n",
      "For automatic theme detection, \"darkdetect\" has to be installed! You can install it with `pip install darkdetect`\n",
      "To use light mode, \"qdarkstyle\" has to be installed! You can install it with `pip install qdarkstyle`\n",
      "Mean correlation:  0.14074433207742693\n",
      "Mean NMSE:  0.023023068486939736\n",
      "-- number of adjacent vertices : 1284\n",
      "Shrinking FOCUSS:\n",
      "\n",
      "Time step 0/10\n",
      "Time step 1/10\n",
      "Time step 2/10\n",
      "Time step 3/10\n",
      "Time step 4/10\n",
      "Time step 5/10\n",
      "Time step 6/10\n",
      "Time step 7/10\n",
      "Time step 8/10\n",
      "Time step 9/10\n",
      "Using control points [5.09529476e-59 1.25247081e-58 1.12653343e-55]\n",
      "For automatic theme detection, \"darkdetect\" has to be installed! You can install it with `pip install darkdetect`\n",
      "To use light mode, \"qdarkstyle\" has to be installed! You can install it with `pip install qdarkstyle`\n",
      "Mean correlation:  -0.003055457928142368\n",
      "Mean NMSE:  0.005667790421865522\n",
      "FOCUSS:\n",
      "\n",
      "Time step 0/10\n",
      "Iteration 0\n",
      "Iteration 1\n",
      "Iteration 2\n",
      "converged at repetition 3\n",
      "Time step 1/10\n",
      "Iteration 0\n",
      "Iteration 1\n",
      "Iteration 2\n",
      "converged at repetition 3\n",
      "Time step 2/10\n",
      "Iteration 0\n",
      "Iteration 1\n",
      "Iteration 2\n",
      "converged at repetition 3\n",
      "Time step 3/10\n",
      "Iteration 0\n",
      "Iteration 1\n",
      "Iteration 2\n",
      "converged at repetition 3\n",
      "Time step 4/10\n",
      "Iteration 0\n",
      "Iteration 1\n",
      "Iteration 2\n",
      "converged at repetition 3\n",
      "Time step 5/10\n",
      "Iteration 0\n",
      "Iteration 1\n",
      "Iteration 2\n",
      "converged at repetition 3\n",
      "Time step 6/10\n",
      "Iteration 0\n",
      "Iteration 1\n",
      "Iteration 2\n",
      "converged at repetition 3\n",
      "Time step 7/10\n",
      "Iteration 0\n",
      "Iteration 1\n",
      "Iteration 2\n",
      "converged at repetition 3\n",
      "Time step 8/10\n",
      "Iteration 0\n",
      "Iteration 1\n",
      "Iteration 2\n",
      "converged at repetition 3\n",
      "Time step 9/10\n",
      "Iteration 0\n",
      "Iteration 1\n",
      "Iteration 2\n",
      "converged at repetition 3\n",
      "Using control points [1.07356787e-58 2.98286751e-58 2.22085261e-55]\n",
      "For automatic theme detection, \"darkdetect\" has to be installed! You can install it with `pip install darkdetect`\n",
      "To use light mode, \"qdarkstyle\" has to be installed! You can install it with `pip install qdarkstyle`\n",
      "Mean correlation:  -0.002616083729476591\n",
      "Mean NMSE:  0.005333169361458169\n"
     ]
    }
   ],
   "source": [
    "from invert import Solver\n",
    "from invert.evaluate import corr, nmse\n",
    "from invert.adapters import contextualize_bd, focuss, s_focuss\n",
    "\n",
    "solver_ = Solver(solver=\"laur\")\n",
    "\n",
    "solver_.make_inverse_operator(fwd, alpha=\"auto\")\n",
    "stc_hat = solver_.apply_inverse_operator(evoked)\n",
    "# stc_hat.data[np.isnan(stc_hat.data)] = 0\n",
    "stc_hat.plot(**pp, brain_kwargs=dict(title=solver_.name))\n",
    "print(\"Mean correlation: \", np.mean(corr(stc_hat.data, stc.data)))\n",
    "print(\"Mean NMSE: \", np.mean(nmse(stc_hat.data, stc.data)))\n",
    "\n",
    "stc_hat_sf = s_focuss(stc_hat, evoked, fwd, verbose=1)\n",
    "stc_hat_sf.plot(**pp, brain_kwargs=dict(title=solver_.name + \" shrinking FOCUSS\"))\n",
    "print(\"Mean correlation: \", np.mean(corr(stc_hat_sf.data, stc.data)))\n",
    "print(\"Mean NMSE: \", np.mean(nmse(stc_hat_sf.data, stc.data)))\n",
    "\n",
    "stc_hat_sf = focuss(stc_hat, evoked, fwd, verbose=1)\n",
    "stc_hat_sf.plot(**pp, brain_kwargs=dict(title=solver_.name + \" FOCUSS\"))\n",
    "print(\"Mean correlation: \", np.mean(corr(stc_hat_sf.data, stc.data)))\n",
    "print(\"Mean NMSE: \", np.mean(nmse(stc_hat_sf.data, stc.data)))\n",
    "\n",
    "# # Temporal Context\n",
    "# stc_hat_cbd = contextualize_bd(stc_hat, fwd, fast=True, lstm_look_back=10, verbose=1)\n",
    "# stc_hat_cbd.plot(**pp, brain_kwargs=dict(title=\"c\"+solver_.name))\n",
    "\n",
    "# print(\"Mean correlation: \", np.mean(corr(stc_hat_cbd.data, stc.data)))\n",
    "# print(\"Mean NMSE: \", np.mean(nmse(stc_hat_cbd.data, stc.data)))\n",
    "\n",
    "\n",
    "# # FOCUSS:\n",
    "# stc_hat_focuss = focuss(stc_hat_cbd, evoked, fwd)\n",
    "# stc_hat_focuss.plot(**pp, brain_kwargs=dict(title=\"c\"+solver_.name+\" FOCUSS\"))\n",
    "\n",
    "# print(\"Mean correlation: \", np.mean(corr(stc_hat_focuss.data, stc.data)))\n",
    "# print(\"Mean NMSE: \", np.mean(nmse(stc_hat_focuss.data, stc.data)))\n"
   ]
  },
  {
   "cell_type": "markdown",
   "metadata": {},
   "source": [
    "# Adapt"
   ]
  },
  {
   "cell_type": "code",
   "execution_count": 4,
   "metadata": {},
   "outputs": [
    {
     "ename": "NameError",
     "evalue": "name 'stc_hat' is not defined",
     "output_type": "error",
     "traceback": [
      "\u001b[1;31m---------------------------------------------------------------------------\u001b[0m",
      "\u001b[1;31mNameError\u001b[0m                                 Traceback (most recent call last)",
      "\u001b[1;32mc:\\Users\\lukas\\Dokumente\\projects\\invert\\dev\\main_functional.ipynb Zelle 10\u001b[0m in \u001b[0;36m<cell line: 3>\u001b[1;34m()\u001b[0m\n\u001b[0;32m      <a href='vscode-notebook-cell:/c%3A/Users/lukas/Dokumente/projects/invert/dev/main_functional.ipynb#ch0000009?line=0'>1</a>\u001b[0m \u001b[39mfrom\u001b[39;00m \u001b[39minvert\u001b[39;00m\u001b[39m.\u001b[39;00m\u001b[39madapters\u001b[39;00m \u001b[39mimport\u001b[39;00m contextualize_bd, contextualize\n\u001b[1;32m----> <a href='vscode-notebook-cell:/c%3A/Users/lukas/Dokumente/projects/invert/dev/main_functional.ipynb#ch0000009?line=2'>3</a>\u001b[0m stc_hat_cbd \u001b[39m=\u001b[39m contextualize_bd(stc_hat, fwd, lstm_look_back\u001b[39m=\u001b[39m\u001b[39m10\u001b[39m, num_units\u001b[39m=\u001b[39m\u001b[39m128\u001b[39m, num_epochs\u001b[39m=\u001b[39m\u001b[39m50\u001b[39m, verbose\u001b[39m=\u001b[39m\u001b[39m0\u001b[39m)\n\u001b[0;32m      <a href='vscode-notebook-cell:/c%3A/Users/lukas/Dokumente/projects/invert/dev/main_functional.ipynb#ch0000009?line=3'>4</a>\u001b[0m stc_hat_cbd\u001b[39m.\u001b[39mplot(\u001b[39m*\u001b[39m\u001b[39m*\u001b[39mpp, brain_kwargs\u001b[39m=\u001b[39m\u001b[39mdict\u001b[39m(title\u001b[39m=\u001b[39m\u001b[39m\"\u001b[39m\u001b[39mc\u001b[39m\u001b[39m\"\u001b[39m\u001b[39m+\u001b[39msolver\u001b[39m.\u001b[39mname))\n\u001b[0;32m      <a href='vscode-notebook-cell:/c%3A/Users/lukas/Dokumente/projects/invert/dev/main_functional.ipynb#ch0000009?line=5'>6</a>\u001b[0m \u001b[39mprint\u001b[39m(\u001b[39m\"\u001b[39m\u001b[39mMean correlation: \u001b[39m\u001b[39m\"\u001b[39m, np\u001b[39m.\u001b[39mmean(corr(stc_hat_cbd\u001b[39m.\u001b[39mdata, stc\u001b[39m.\u001b[39mdata)))\n",
      "\u001b[1;31mNameError\u001b[0m: name 'stc_hat' is not defined"
     ]
    }
   ],
   "source": [
    "from invert.adapters import contextualize_bd, contextualize\n",
    "\n",
    "stc_hat_cbd = contextualize_bd(stc_hat, fwd, lstm_look_back=10, num_units=128, num_epochs=50, verbose=0)\n",
    "stc_hat_cbd.plot(**pp, brain_kwargs=dict(title=\"c\"+solver.name))\n",
    "\n",
    "print(\"Mean correlation: \", np.mean(corr(stc_hat_cbd.data, stc.data)))\n",
    "print(\"Mean NMSE: \", np.mean(nmse(stc_hat_cbd.data, stc.data)))"
   ]
  },
  {
   "cell_type": "markdown",
   "metadata": {},
   "source": [
    "# Test/ Evaluation"
   ]
  },
  {
   "cell_type": "code",
   "execution_count": 35,
   "metadata": {},
   "outputs": [
    {
     "name": "stdout",
     "output_type": "stream",
     "text": [
      "-- number of adjacent vertices : 1284\n",
      "Simulating data based on sparse patches.\n"
     ]
    },
    {
     "name": "stderr",
     "output_type": "stream",
     "text": [
      "100%|██████████| 2/2 [00:00<00:00,  3.29it/s]\n",
      "100%|██████████| 2/2 [00:00<00:00, 250.01it/s]\n"
     ]
    },
    {
     "name": "stdout",
     "output_type": "stream",
     "text": [
      "source data shape:  (1284, 1000) (1284, 1000)\n"
     ]
    },
    {
     "name": "stderr",
     "output_type": "stream",
     "text": [
      "100%|██████████| 2/2 [00:00<00:00,  8.62it/s]\n"
     ]
    },
    {
     "name": "stdout",
     "output_type": "stream",
     "text": [
      "MNE\n",
      "wMNE\n",
      "dSPM\n",
      "LORETA\n",
      "sLORETA\n",
      "eLORETA\n",
      "LAURA\n",
      "Backus-Gilbert\n",
      "S-MAP\n",
      "Multiple Sparse Priors\n",
      "Bayesian LORETA\n",
      "Bayesian MNE\n",
      "Bayesian Beamformer\n",
      "Bayesian Beamformer LORETA\n",
      "Fully-Connected\n",
      "1/1 [==============================] - 0s 156ms/step\n"
     ]
    },
    {
     "name": "stderr",
     "output_type": "stream",
     "text": [
      "c:\\Users\\lukas\\virtualenvs\\invertenv\\lib\\site-packages\\scipy\\optimize\\_minimize.py:863: RuntimeWarning: Method 'bounded' does not support relative tolerance in x; defaulting to absolute tolerance.\n",
      "  warn(\"Method 'bounded' does not support relative tolerance in x; \"\n"
     ]
    },
    {
     "name": "stdout",
     "output_type": "stream",
     "text": [
      "LUCAS\n",
      "Applying  Minimum Norm Estimate\n",
      "Applying  Weighted Minimum Norm Estimate\n",
      "Applying  Dynamic Statistical Parametric Mapping\n",
      "Applying  Low Resolution Tomography\n",
      "Applying  Standardized Low Resolution Tomography\n",
      "Applying  Exact Low Resolution Tomography\n",
      "Applying  Local Auto-Regressive Average\n",
      "Applying  S-MAP\n",
      "Applying  Fully-Connected\n",
      "1/1 [==============================] - 0s 18ms/step\n",
      "-- number of adjacent vertices : 1284\n",
      "Simulating data based on sparse patches.\n"
     ]
    },
    {
     "name": "stderr",
     "output_type": "stream",
     "text": [
      "100%|██████████| 2/2 [00:00<00:00,  4.07it/s]\n",
      "100%|██████████| 2/2 [00:00<00:00, 250.00it/s]\n"
     ]
    },
    {
     "name": "stdout",
     "output_type": "stream",
     "text": [
      "source data shape:  (1284, 1000) (1284, 1000)\n"
     ]
    },
    {
     "name": "stderr",
     "output_type": "stream",
     "text": [
      "100%|██████████| 2/2 [00:00<00:00,  8.97it/s]\n"
     ]
    },
    {
     "name": "stdout",
     "output_type": "stream",
     "text": [
      "MNE\n",
      "wMNE\n",
      "dSPM\n",
      "LORETA\n",
      "sLORETA\n",
      "eLORETA\n",
      "LAURA\n",
      "Backus-Gilbert\n",
      "S-MAP\n",
      "Multiple Sparse Priors\n",
      "Bayesian LORETA\n",
      "Bayesian MNE\n",
      "Bayesian Beamformer\n",
      "Bayesian Beamformer LORETA\n",
      "Fully-Connected\n",
      "1/1 [==============================] - 0s 22ms/step\n"
     ]
    },
    {
     "name": "stderr",
     "output_type": "stream",
     "text": [
      "c:\\Users\\lukas\\virtualenvs\\invertenv\\lib\\site-packages\\scipy\\optimize\\_minimize.py:863: RuntimeWarning: Method 'bounded' does not support relative tolerance in x; defaulting to absolute tolerance.\n",
      "  warn(\"Method 'bounded' does not support relative tolerance in x; \"\n"
     ]
    },
    {
     "name": "stdout",
     "output_type": "stream",
     "text": [
      "LUCAS\n",
      "Applying  Minimum Norm Estimate\n",
      "Applying  Weighted Minimum Norm Estimate\n",
      "Applying  Dynamic Statistical Parametric Mapping\n",
      "Applying  Low Resolution Tomography\n",
      "Applying  Standardized Low Resolution Tomography\n",
      "Applying  Exact Low Resolution Tomography\n",
      "Applying  Local Auto-Regressive Average\n",
      "Applying  S-MAP\n",
      "Applying  Fully-Connected\n",
      "1/1 [==============================] - 0s 23ms/step\n",
      "-- number of adjacent vertices : 1284\n",
      "Simulating data based on sparse patches.\n"
     ]
    },
    {
     "name": "stderr",
     "output_type": "stream",
     "text": [
      "100%|██████████| 2/2 [00:00<00:00,  4.09it/s]\n",
      "100%|██████████| 2/2 [00:00<00:00, 333.94it/s]\n"
     ]
    },
    {
     "name": "stdout",
     "output_type": "stream",
     "text": [
      "source data shape:  (1284, 1000) (1284, 1000)\n"
     ]
    },
    {
     "name": "stderr",
     "output_type": "stream",
     "text": [
      "100%|██████████| 2/2 [00:00<00:00, 11.98it/s]\n"
     ]
    },
    {
     "name": "stdout",
     "output_type": "stream",
     "text": [
      "MNE\n",
      "wMNE\n",
      "dSPM\n",
      "LORETA\n",
      "sLORETA\n",
      "eLORETA\n",
      "LAURA\n",
      "Backus-Gilbert\n",
      "S-MAP\n",
      "Multiple Sparse Priors\n",
      "Bayesian LORETA\n",
      "Bayesian MNE\n",
      "Bayesian Beamformer\n",
      "Bayesian Beamformer LORETA\n",
      "Fully-Connected\n",
      "1/1 [==============================] - 0s 21ms/step\n"
     ]
    },
    {
     "name": "stderr",
     "output_type": "stream",
     "text": [
      "c:\\Users\\lukas\\virtualenvs\\invertenv\\lib\\site-packages\\scipy\\optimize\\_minimize.py:863: RuntimeWarning: Method 'bounded' does not support relative tolerance in x; defaulting to absolute tolerance.\n",
      "  warn(\"Method 'bounded' does not support relative tolerance in x; \"\n"
     ]
    },
    {
     "name": "stdout",
     "output_type": "stream",
     "text": [
      "LUCAS\n",
      "Applying  Minimum Norm Estimate\n",
      "Applying  Weighted Minimum Norm Estimate\n",
      "Applying  Dynamic Statistical Parametric Mapping\n",
      "Applying  Low Resolution Tomography\n",
      "Applying  Standardized Low Resolution Tomography\n",
      "Applying  Exact Low Resolution Tomography\n",
      "Applying  Local Auto-Regressive Average\n",
      "Applying  S-MAP\n",
      "Applying  Fully-Connected\n",
      "1/1 [==============================] - 0s 20ms/step\n",
      "-- number of adjacent vertices : 1284\n",
      "Simulating data based on sparse patches.\n"
     ]
    },
    {
     "name": "stderr",
     "output_type": "stream",
     "text": [
      "100%|██████████| 2/2 [00:00<00:00, 166.62it/s]\n",
      "100%|██████████| 2/2 [00:00<00:00, 249.98it/s]\n"
     ]
    },
    {
     "name": "stdout",
     "output_type": "stream",
     "text": [
      "source data shape:  (1284, 1000) (1284, 1000)\n"
     ]
    },
    {
     "name": "stderr",
     "output_type": "stream",
     "text": [
      "100%|██████████| 2/2 [00:00<00:00,  8.83it/s]\n"
     ]
    },
    {
     "name": "stdout",
     "output_type": "stream",
     "text": [
      "MNE\n",
      "wMNE\n",
      "dSPM\n",
      "LORETA\n",
      "sLORETA\n",
      "eLORETA\n",
      "LAURA\n",
      "Backus-Gilbert\n",
      "S-MAP\n",
      "Multiple Sparse Priors\n",
      "Bayesian LORETA\n",
      "Bayesian MNE\n",
      "Bayesian Beamformer\n",
      "Bayesian Beamformer LORETA\n",
      "Fully-Connected\n",
      "1/1 [==============================] - 0s 21ms/step\n"
     ]
    },
    {
     "name": "stderr",
     "output_type": "stream",
     "text": [
      "c:\\Users\\lukas\\virtualenvs\\invertenv\\lib\\site-packages\\scipy\\optimize\\_minimize.py:863: RuntimeWarning: Method 'bounded' does not support relative tolerance in x; defaulting to absolute tolerance.\n",
      "  warn(\"Method 'bounded' does not support relative tolerance in x; \"\n"
     ]
    },
    {
     "name": "stdout",
     "output_type": "stream",
     "text": [
      "LUCAS\n",
      "Applying  Minimum Norm Estimate\n",
      "Applying  Weighted Minimum Norm Estimate\n",
      "Applying  Dynamic Statistical Parametric Mapping\n",
      "Applying  Low Resolution Tomography\n",
      "Applying  Standardized Low Resolution Tomography\n",
      "Applying  Exact Low Resolution Tomography\n",
      "Applying  Local Auto-Regressive Average\n",
      "Applying  S-MAP\n",
      "Applying  Fully-Connected\n",
      "1/1 [==============================] - 0s 20ms/step\n",
      "-- number of adjacent vertices : 1284\n",
      "Simulating data based on sparse patches.\n"
     ]
    },
    {
     "name": "stderr",
     "output_type": "stream",
     "text": [
      "100%|██████████| 2/2 [00:00<00:00,  4.29it/s]\n",
      "100%|██████████| 2/2 [00:00<00:00, 285.26it/s]\n"
     ]
    },
    {
     "name": "stdout",
     "output_type": "stream",
     "text": [
      "source data shape:  (1284, 1000) (1284, 1000)\n"
     ]
    },
    {
     "name": "stderr",
     "output_type": "stream",
     "text": [
      "100%|██████████| 2/2 [00:00<00:00, 10.70it/s]\n"
     ]
    },
    {
     "name": "stdout",
     "output_type": "stream",
     "text": [
      "MNE\n",
      "wMNE\n",
      "dSPM\n",
      "LORETA\n",
      "sLORETA\n",
      "eLORETA\n",
      "LAURA\n",
      "Backus-Gilbert\n",
      "S-MAP\n",
      "Multiple Sparse Priors\n",
      "Bayesian LORETA\n",
      "Bayesian MNE\n",
      "Bayesian Beamformer\n",
      "Bayesian Beamformer LORETA\n",
      "Fully-Connected\n",
      "1/1 [==============================] - 0s 21ms/step\n"
     ]
    },
    {
     "name": "stderr",
     "output_type": "stream",
     "text": [
      "c:\\Users\\lukas\\virtualenvs\\invertenv\\lib\\site-packages\\scipy\\optimize\\_minimize.py:863: RuntimeWarning: Method 'bounded' does not support relative tolerance in x; defaulting to absolute tolerance.\n",
      "  warn(\"Method 'bounded' does not support relative tolerance in x; \"\n"
     ]
    },
    {
     "name": "stdout",
     "output_type": "stream",
     "text": [
      "LUCAS\n",
      "Applying  Minimum Norm Estimate\n",
      "Applying  Weighted Minimum Norm Estimate\n",
      "Applying  Dynamic Statistical Parametric Mapping\n",
      "Applying  Low Resolution Tomography\n",
      "Applying  Standardized Low Resolution Tomography\n",
      "Applying  Exact Low Resolution Tomography\n",
      "Applying  Local Auto-Regressive Average\n",
      "Applying  S-MAP\n",
      "Applying  Fully-Connected\n",
      "1/1 [==============================] - 0s 21ms/step\n",
      "-- number of adjacent vertices : 1284\n",
      "Simulating data based on sparse patches.\n"
     ]
    },
    {
     "name": "stderr",
     "output_type": "stream",
     "text": [
      "100%|██████████| 2/2 [00:00<00:00,  4.37it/s]\n",
      "100%|██████████| 2/2 [00:00<00:00, 285.75it/s]\n"
     ]
    },
    {
     "name": "stdout",
     "output_type": "stream",
     "text": [
      "source data shape:  (1284, 1000) (1284, 1000)\n"
     ]
    },
    {
     "name": "stderr",
     "output_type": "stream",
     "text": [
      "100%|██████████| 2/2 [00:00<00:00, 11.05it/s]\n"
     ]
    },
    {
     "name": "stdout",
     "output_type": "stream",
     "text": [
      "MNE\n",
      "wMNE\n",
      "dSPM\n",
      "LORETA\n",
      "sLORETA\n",
      "eLORETA\n",
      "LAURA\n",
      "Backus-Gilbert\n",
      "S-MAP\n",
      "Multiple Sparse Priors\n",
      "Bayesian LORETA\n",
      "Bayesian MNE\n",
      "Bayesian Beamformer\n",
      "Bayesian Beamformer LORETA\n",
      "Fully-Connected\n",
      "1/1 [==============================] - 0s 20ms/step\n"
     ]
    },
    {
     "name": "stderr",
     "output_type": "stream",
     "text": [
      "c:\\Users\\lukas\\virtualenvs\\invertenv\\lib\\site-packages\\scipy\\optimize\\_minimize.py:863: RuntimeWarning: Method 'bounded' does not support relative tolerance in x; defaulting to absolute tolerance.\n",
      "  warn(\"Method 'bounded' does not support relative tolerance in x; \"\n"
     ]
    },
    {
     "name": "stdout",
     "output_type": "stream",
     "text": [
      "LUCAS\n",
      "Applying  Minimum Norm Estimate\n",
      "Applying  Weighted Minimum Norm Estimate\n",
      "Applying  Dynamic Statistical Parametric Mapping\n",
      "Applying  Low Resolution Tomography\n",
      "Applying  Standardized Low Resolution Tomography\n",
      "Applying  Exact Low Resolution Tomography\n",
      "Applying  Local Auto-Regressive Average\n",
      "Applying  S-MAP\n",
      "Applying  Fully-Connected\n",
      "1/1 [==============================] - 0s 19ms/step\n",
      "-- number of adjacent vertices : 1284\n",
      "Simulating data based on sparse patches.\n"
     ]
    },
    {
     "name": "stderr",
     "output_type": "stream",
     "text": [
      "100%|██████████| 2/2 [00:00<00:00,  4.22it/s]\n",
      "100%|██████████| 2/2 [00:00<00:00, 333.48it/s]\n"
     ]
    },
    {
     "name": "stdout",
     "output_type": "stream",
     "text": [
      "source data shape:  (1284, 1000) (1284, 1000)\n"
     ]
    },
    {
     "name": "stderr",
     "output_type": "stream",
     "text": [
      "100%|██████████| 2/2 [00:00<00:00, 11.83it/s]\n"
     ]
    },
    {
     "name": "stdout",
     "output_type": "stream",
     "text": [
      "MNE\n",
      "wMNE\n",
      "dSPM\n",
      "LORETA\n",
      "sLORETA\n",
      "eLORETA\n",
      "LAURA\n",
      "Backus-Gilbert\n",
      "S-MAP\n",
      "Multiple Sparse Priors\n",
      "Bayesian LORETA\n",
      "Bayesian MNE\n",
      "Bayesian Beamformer\n",
      "Bayesian Beamformer LORETA\n",
      "Fully-Connected\n",
      "1/1 [==============================] - 0s 17ms/step\n"
     ]
    },
    {
     "name": "stderr",
     "output_type": "stream",
     "text": [
      "c:\\Users\\lukas\\virtualenvs\\invertenv\\lib\\site-packages\\scipy\\optimize\\_minimize.py:863: RuntimeWarning: Method 'bounded' does not support relative tolerance in x; defaulting to absolute tolerance.\n",
      "  warn(\"Method 'bounded' does not support relative tolerance in x; \"\n"
     ]
    },
    {
     "name": "stdout",
     "output_type": "stream",
     "text": [
      "LUCAS\n",
      "Applying  Minimum Norm Estimate\n",
      "Applying  Weighted Minimum Norm Estimate\n",
      "Applying  Dynamic Statistical Parametric Mapping\n",
      "Applying  Low Resolution Tomography\n",
      "Applying  Standardized Low Resolution Tomography\n",
      "Applying  Exact Low Resolution Tomography\n",
      "Applying  Local Auto-Regressive Average\n",
      "Applying  S-MAP\n",
      "Applying  Fully-Connected\n",
      "1/1 [==============================] - 0s 19ms/step\n",
      "-- number of adjacent vertices : 1284\n",
      "Simulating data based on sparse patches.\n"
     ]
    },
    {
     "name": "stderr",
     "output_type": "stream",
     "text": [
      "100%|██████████| 2/2 [00:00<00:00,  4.34it/s]\n",
      "100%|██████████| 2/2 [00:00<00:00, 285.32it/s]\n"
     ]
    },
    {
     "name": "stdout",
     "output_type": "stream",
     "text": [
      "source data shape:  (1284, 1000) (1284, 1000)\n"
     ]
    },
    {
     "name": "stderr",
     "output_type": "stream",
     "text": [
      "100%|██████████| 2/2 [00:00<00:00, 11.98it/s]\n"
     ]
    },
    {
     "name": "stdout",
     "output_type": "stream",
     "text": [
      "MNE\n",
      "wMNE\n",
      "dSPM\n",
      "LORETA\n",
      "sLORETA\n",
      "eLORETA\n",
      "LAURA\n",
      "Backus-Gilbert\n",
      "S-MAP\n",
      "Multiple Sparse Priors\n",
      "Bayesian LORETA\n",
      "Bayesian MNE\n",
      "Bayesian Beamformer\n",
      "Bayesian Beamformer LORETA\n",
      "Fully-Connected\n",
      "1/1 [==============================] - 0s 24ms/step\n"
     ]
    },
    {
     "name": "stderr",
     "output_type": "stream",
     "text": [
      "c:\\Users\\lukas\\virtualenvs\\invertenv\\lib\\site-packages\\scipy\\optimize\\_minimize.py:863: RuntimeWarning: Method 'bounded' does not support relative tolerance in x; defaulting to absolute tolerance.\n",
      "  warn(\"Method 'bounded' does not support relative tolerance in x; \"\n"
     ]
    },
    {
     "name": "stdout",
     "output_type": "stream",
     "text": [
      "LUCAS\n",
      "Applying  Minimum Norm Estimate\n",
      "Applying  Weighted Minimum Norm Estimate\n",
      "Applying  Dynamic Statistical Parametric Mapping\n",
      "Applying  Low Resolution Tomography\n",
      "Applying  Standardized Low Resolution Tomography\n",
      "Applying  Exact Low Resolution Tomography\n",
      "Applying  Local Auto-Regressive Average\n",
      "Applying  S-MAP\n",
      "Applying  Fully-Connected\n",
      "1/1 [==============================] - 0s 20ms/step\n",
      "-- number of adjacent vertices : 1284\n",
      "Simulating data based on sparse patches.\n"
     ]
    },
    {
     "name": "stderr",
     "output_type": "stream",
     "text": [
      "100%|██████████| 2/2 [00:00<00:00,  4.14it/s]\n",
      "100%|██████████| 2/2 [00:00<00:00, 333.48it/s]\n"
     ]
    },
    {
     "name": "stdout",
     "output_type": "stream",
     "text": [
      "source data shape:  (1284, 1000) (1284, 1000)\n"
     ]
    },
    {
     "name": "stderr",
     "output_type": "stream",
     "text": [
      "100%|██████████| 2/2 [00:00<00:00, 10.75it/s]\n"
     ]
    },
    {
     "name": "stdout",
     "output_type": "stream",
     "text": [
      "MNE\n",
      "wMNE\n",
      "dSPM\n",
      "LORETA\n",
      "sLORETA\n",
      "eLORETA\n",
      "LAURA\n",
      "Backus-Gilbert\n",
      "S-MAP\n",
      "Multiple Sparse Priors\n",
      "Bayesian LORETA\n",
      "Bayesian MNE\n",
      "Bayesian Beamformer\n",
      "Bayesian Beamformer LORETA\n",
      "Fully-Connected\n",
      "1/1 [==============================] - 0s 18ms/step\n"
     ]
    },
    {
     "name": "stderr",
     "output_type": "stream",
     "text": [
      "c:\\Users\\lukas\\virtualenvs\\invertenv\\lib\\site-packages\\scipy\\optimize\\_minimize.py:863: RuntimeWarning: Method 'bounded' does not support relative tolerance in x; defaulting to absolute tolerance.\n",
      "  warn(\"Method 'bounded' does not support relative tolerance in x; \"\n"
     ]
    },
    {
     "name": "stdout",
     "output_type": "stream",
     "text": [
      "LUCAS\n",
      "Applying  Minimum Norm Estimate\n",
      "Applying  Weighted Minimum Norm Estimate\n",
      "Applying  Dynamic Statistical Parametric Mapping\n",
      "Applying  Low Resolution Tomography\n",
      "Applying  Standardized Low Resolution Tomography\n",
      "Applying  Exact Low Resolution Tomography\n",
      "Applying  Local Auto-Regressive Average\n",
      "Applying  S-MAP\n",
      "Applying  Fully-Connected\n",
      "1/1 [==============================] - 0s 20ms/step\n",
      "-- number of adjacent vertices : 1284\n",
      "Simulating data based on sparse patches.\n"
     ]
    },
    {
     "name": "stderr",
     "output_type": "stream",
     "text": [
      "100%|██████████| 2/2 [00:00<00:00, 76.91it/s]\n",
      "100%|██████████| 2/2 [00:00<00:00, 285.36it/s]\n"
     ]
    },
    {
     "name": "stdout",
     "output_type": "stream",
     "text": [
      "source data shape:  (1284, 1000) (1284, 1000)\n"
     ]
    },
    {
     "name": "stderr",
     "output_type": "stream",
     "text": [
      "100%|██████████| 2/2 [00:00<00:00, 10.87it/s]\n"
     ]
    },
    {
     "name": "stdout",
     "output_type": "stream",
     "text": [
      "MNE\n",
      "wMNE\n",
      "dSPM\n",
      "LORETA\n",
      "sLORETA\n",
      "eLORETA\n",
      "LAURA\n",
      "Backus-Gilbert\n",
      "S-MAP\n",
      "Multiple Sparse Priors\n",
      "Bayesian LORETA\n",
      "Bayesian MNE\n",
      "Bayesian Beamformer\n",
      "Bayesian Beamformer LORETA\n",
      "Fully-Connected\n",
      "1/1 [==============================] - 0s 21ms/step\n"
     ]
    },
    {
     "name": "stderr",
     "output_type": "stream",
     "text": [
      "c:\\Users\\lukas\\virtualenvs\\invertenv\\lib\\site-packages\\scipy\\optimize\\_minimize.py:863: RuntimeWarning: Method 'bounded' does not support relative tolerance in x; defaulting to absolute tolerance.\n",
      "  warn(\"Method 'bounded' does not support relative tolerance in x; \"\n"
     ]
    },
    {
     "name": "stdout",
     "output_type": "stream",
     "text": [
      "LUCAS\n",
      "Applying  Minimum Norm Estimate\n",
      "Applying  Weighted Minimum Norm Estimate\n",
      "Applying  Dynamic Statistical Parametric Mapping\n",
      "Applying  Low Resolution Tomography\n",
      "Applying  Standardized Low Resolution Tomography\n",
      "Applying  Exact Low Resolution Tomography\n",
      "Applying  Local Auto-Regressive Average\n",
      "Applying  S-MAP\n",
      "Applying  Fully-Connected\n",
      "1/1 [==============================] - 0s 20ms/step\n",
      "-- number of adjacent vertices : 1284\n",
      "Simulating data based on sparse patches.\n"
     ]
    },
    {
     "name": "stderr",
     "output_type": "stream",
     "text": [
      "100%|██████████| 2/2 [00:00<00:00,  4.26it/s]\n",
      "100%|██████████| 2/2 [00:00<00:00, 333.91it/s]\n"
     ]
    },
    {
     "name": "stdout",
     "output_type": "stream",
     "text": [
      "source data shape:  (1284, 1000) (1284, 1000)\n"
     ]
    },
    {
     "name": "stderr",
     "output_type": "stream",
     "text": [
      "100%|██████████| 2/2 [00:00<00:00, 11.24it/s]\n"
     ]
    },
    {
     "name": "stdout",
     "output_type": "stream",
     "text": [
      "MNE\n",
      "wMNE\n",
      "dSPM\n",
      "LORETA\n",
      "sLORETA\n",
      "eLORETA\n",
      "LAURA\n",
      "Backus-Gilbert\n",
      "S-MAP\n",
      "Multiple Sparse Priors\n",
      "Bayesian LORETA\n",
      "Bayesian MNE\n",
      "Bayesian Beamformer\n",
      "Bayesian Beamformer LORETA\n",
      "Fully-Connected\n",
      "1/1 [==============================] - 0s 21ms/step\n"
     ]
    },
    {
     "name": "stderr",
     "output_type": "stream",
     "text": [
      "c:\\Users\\lukas\\virtualenvs\\invertenv\\lib\\site-packages\\scipy\\optimize\\_minimize.py:863: RuntimeWarning: Method 'bounded' does not support relative tolerance in x; defaulting to absolute tolerance.\n",
      "  warn(\"Method 'bounded' does not support relative tolerance in x; \"\n"
     ]
    },
    {
     "name": "stdout",
     "output_type": "stream",
     "text": [
      "LUCAS\n",
      "Applying  Minimum Norm Estimate\n",
      "Applying  Weighted Minimum Norm Estimate\n",
      "Applying  Dynamic Statistical Parametric Mapping\n",
      "Applying  Low Resolution Tomography\n",
      "Applying  Standardized Low Resolution Tomography\n",
      "Applying  Exact Low Resolution Tomography\n",
      "Applying  Local Auto-Regressive Average\n",
      "Applying  S-MAP\n",
      "Applying  Fully-Connected\n",
      "1/1 [==============================] - 0s 20ms/step\n",
      "-- number of adjacent vertices : 1284\n",
      "Simulating data based on sparse patches.\n"
     ]
    },
    {
     "name": "stderr",
     "output_type": "stream",
     "text": [
      "100%|██████████| 2/2 [00:00<00:00, 111.16it/s]\n",
      "100%|██████████| 2/2 [00:00<00:00, 285.46it/s]\n"
     ]
    },
    {
     "name": "stdout",
     "output_type": "stream",
     "text": [
      "source data shape:  (1284, 1000) (1284, 1000)\n"
     ]
    },
    {
     "name": "stderr",
     "output_type": "stream",
     "text": [
      "100%|██████████| 2/2 [00:00<00:00, 10.10it/s]\n"
     ]
    },
    {
     "name": "stdout",
     "output_type": "stream",
     "text": [
      "MNE\n",
      "wMNE\n",
      "dSPM\n",
      "LORETA\n",
      "sLORETA\n",
      "eLORETA\n",
      "LAURA\n",
      "Backus-Gilbert\n",
      "S-MAP\n",
      "Multiple Sparse Priors\n",
      "Bayesian LORETA\n",
      "Bayesian MNE\n",
      "Bayesian Beamformer\n",
      "Bayesian Beamformer LORETA\n",
      "Fully-Connected\n",
      "1/1 [==============================] - 0s 19ms/step\n"
     ]
    },
    {
     "name": "stderr",
     "output_type": "stream",
     "text": [
      "c:\\Users\\lukas\\virtualenvs\\invertenv\\lib\\site-packages\\scipy\\optimize\\_minimize.py:863: RuntimeWarning: Method 'bounded' does not support relative tolerance in x; defaulting to absolute tolerance.\n",
      "  warn(\"Method 'bounded' does not support relative tolerance in x; \"\n"
     ]
    },
    {
     "name": "stdout",
     "output_type": "stream",
     "text": [
      "LUCAS\n",
      "Applying  Minimum Norm Estimate\n",
      "Applying  Weighted Minimum Norm Estimate\n",
      "Applying  Dynamic Statistical Parametric Mapping\n",
      "Applying  Low Resolution Tomography\n",
      "Applying  Standardized Low Resolution Tomography\n",
      "Applying  Exact Low Resolution Tomography\n",
      "Applying  Local Auto-Regressive Average\n",
      "Applying  S-MAP\n",
      "Applying  Fully-Connected\n",
      "1/1 [==============================] - 0s 18ms/step\n",
      "-- number of adjacent vertices : 1284\n",
      "Simulating data based on sparse patches.\n"
     ]
    },
    {
     "name": "stderr",
     "output_type": "stream",
     "text": [
      "100%|██████████| 2/2 [00:00<00:00,  4.01it/s]\n",
      "100%|██████████| 2/2 [00:00<00:00, 333.17it/s]\n"
     ]
    },
    {
     "name": "stdout",
     "output_type": "stream",
     "text": [
      "source data shape:  (1284, 1000) (1284, 1000)\n"
     ]
    },
    {
     "name": "stderr",
     "output_type": "stream",
     "text": [
      "100%|██████████| 2/2 [00:00<00:00, 11.69it/s]\n"
     ]
    },
    {
     "name": "stdout",
     "output_type": "stream",
     "text": [
      "MNE\n",
      "wMNE\n",
      "dSPM\n",
      "LORETA\n",
      "sLORETA\n",
      "eLORETA\n",
      "LAURA\n",
      "Backus-Gilbert\n",
      "S-MAP\n",
      "Multiple Sparse Priors\n",
      "Bayesian LORETA\n",
      "Bayesian MNE\n",
      "Bayesian Beamformer\n",
      "Bayesian Beamformer LORETA\n",
      "Fully-Connected\n",
      "1/1 [==============================] - 0s 20ms/step\n"
     ]
    },
    {
     "name": "stderr",
     "output_type": "stream",
     "text": [
      "c:\\Users\\lukas\\virtualenvs\\invertenv\\lib\\site-packages\\scipy\\optimize\\_minimize.py:863: RuntimeWarning: Method 'bounded' does not support relative tolerance in x; defaulting to absolute tolerance.\n",
      "  warn(\"Method 'bounded' does not support relative tolerance in x; \"\n"
     ]
    },
    {
     "name": "stdout",
     "output_type": "stream",
     "text": [
      "LUCAS\n",
      "Applying  Minimum Norm Estimate\n",
      "Applying  Weighted Minimum Norm Estimate\n",
      "Applying  Dynamic Statistical Parametric Mapping\n",
      "Applying  Low Resolution Tomography\n",
      "Applying  Standardized Low Resolution Tomography\n",
      "Applying  Exact Low Resolution Tomography\n",
      "Applying  Local Auto-Regressive Average\n",
      "Applying  S-MAP\n",
      "Applying  Fully-Connected\n",
      "1/1 [==============================] - 0s 19ms/step\n",
      "-- number of adjacent vertices : 1284\n",
      "Simulating data based on sparse patches.\n"
     ]
    },
    {
     "name": "stderr",
     "output_type": "stream",
     "text": [
      "100%|██████████| 2/2 [00:00<00:00,  4.38it/s]\n",
      "100%|██████████| 2/2 [00:00<00:00, 332.82it/s]\n"
     ]
    },
    {
     "name": "stdout",
     "output_type": "stream",
     "text": [
      "source data shape:  (1284, 1000) (1284, 1000)\n"
     ]
    },
    {
     "name": "stderr",
     "output_type": "stream",
     "text": [
      "100%|██████████| 2/2 [00:00<00:00, 11.69it/s]\n"
     ]
    },
    {
     "name": "stdout",
     "output_type": "stream",
     "text": [
      "MNE\n",
      "wMNE\n",
      "dSPM\n",
      "LORETA\n",
      "sLORETA\n",
      "eLORETA\n",
      "LAURA\n",
      "Backus-Gilbert\n",
      "S-MAP\n",
      "Multiple Sparse Priors\n",
      "Bayesian LORETA\n",
      "Bayesian MNE\n",
      "Bayesian Beamformer\n",
      "Bayesian Beamformer LORETA\n",
      "Fully-Connected\n",
      "1/1 [==============================] - 0s 20ms/step\n"
     ]
    },
    {
     "name": "stderr",
     "output_type": "stream",
     "text": [
      "c:\\Users\\lukas\\virtualenvs\\invertenv\\lib\\site-packages\\scipy\\optimize\\_minimize.py:863: RuntimeWarning: Method 'bounded' does not support relative tolerance in x; defaulting to absolute tolerance.\n",
      "  warn(\"Method 'bounded' does not support relative tolerance in x; \"\n"
     ]
    },
    {
     "name": "stdout",
     "output_type": "stream",
     "text": [
      "LUCAS\n",
      "Applying  Minimum Norm Estimate\n",
      "Applying  Weighted Minimum Norm Estimate\n",
      "Applying  Dynamic Statistical Parametric Mapping\n",
      "Applying  Low Resolution Tomography\n",
      "Applying  Standardized Low Resolution Tomography\n",
      "Applying  Exact Low Resolution Tomography\n",
      "Applying  Local Auto-Regressive Average\n",
      "Applying  S-MAP\n",
      "Applying  Fully-Connected\n",
      "1/1 [==============================] - 0s 19ms/step\n",
      "-- number of adjacent vertices : 1284\n",
      "Simulating data based on sparse patches.\n"
     ]
    },
    {
     "name": "stderr",
     "output_type": "stream",
     "text": [
      "100%|██████████| 2/2 [00:00<00:00,  4.08it/s]\n",
      "100%|██████████| 2/2 [00:00<00:00, 333.99it/s]\n"
     ]
    },
    {
     "name": "stdout",
     "output_type": "stream",
     "text": [
      "source data shape:  (1284, 1000) (1284, 1000)\n"
     ]
    },
    {
     "name": "stderr",
     "output_type": "stream",
     "text": [
      "100%|██████████| 2/2 [00:00<00:00, 11.56it/s]\n"
     ]
    },
    {
     "name": "stdout",
     "output_type": "stream",
     "text": [
      "MNE\n",
      "wMNE\n",
      "dSPM\n",
      "LORETA\n",
      "sLORETA\n",
      "eLORETA\n",
      "LAURA\n",
      "Backus-Gilbert\n",
      "S-MAP\n",
      "Multiple Sparse Priors\n",
      "Bayesian LORETA\n",
      "Bayesian MNE\n",
      "Bayesian Beamformer\n",
      "Bayesian Beamformer LORETA\n",
      "Fully-Connected\n",
      "1/1 [==============================] - 0s 18ms/step\n"
     ]
    },
    {
     "name": "stderr",
     "output_type": "stream",
     "text": [
      "c:\\Users\\lukas\\virtualenvs\\invertenv\\lib\\site-packages\\scipy\\optimize\\_minimize.py:863: RuntimeWarning: Method 'bounded' does not support relative tolerance in x; defaulting to absolute tolerance.\n",
      "  warn(\"Method 'bounded' does not support relative tolerance in x; \"\n"
     ]
    },
    {
     "name": "stdout",
     "output_type": "stream",
     "text": [
      "LUCAS\n",
      "Applying  Minimum Norm Estimate\n",
      "Applying  Weighted Minimum Norm Estimate\n",
      "Applying  Dynamic Statistical Parametric Mapping\n",
      "Applying  Low Resolution Tomography\n",
      "Applying  Standardized Low Resolution Tomography\n",
      "Applying  Exact Low Resolution Tomography\n",
      "Applying  Local Auto-Regressive Average\n",
      "Applying  S-MAP\n",
      "Applying  Fully-Connected\n",
      "1/1 [==============================] - 0s 19ms/step\n",
      "-- number of adjacent vertices : 1284\n",
      "Simulating data based on sparse patches.\n"
     ]
    },
    {
     "name": "stderr",
     "output_type": "stream",
     "text": [
      "100%|██████████| 2/2 [00:00<00:00,  4.07it/s]\n",
      "100%|██████████| 2/2 [00:00<00:00, 250.02it/s]\n"
     ]
    },
    {
     "name": "stdout",
     "output_type": "stream",
     "text": [
      "source data shape:  (1284, 1000) (1284, 1000)\n"
     ]
    },
    {
     "name": "stderr",
     "output_type": "stream",
     "text": [
      "100%|██████████| 2/2 [00:00<00:00, 11.77it/s]\n"
     ]
    },
    {
     "name": "stdout",
     "output_type": "stream",
     "text": [
      "MNE\n",
      "wMNE\n",
      "dSPM\n",
      "LORETA\n",
      "sLORETA\n",
      "eLORETA\n",
      "LAURA\n",
      "Backus-Gilbert\n",
      "S-MAP\n",
      "Multiple Sparse Priors\n",
      "Bayesian LORETA\n",
      "Bayesian MNE\n",
      "Bayesian Beamformer\n",
      "Bayesian Beamformer LORETA\n",
      "Fully-Connected\n",
      "1/1 [==============================] - 0s 19ms/step\n"
     ]
    },
    {
     "name": "stderr",
     "output_type": "stream",
     "text": [
      "c:\\Users\\lukas\\virtualenvs\\invertenv\\lib\\site-packages\\scipy\\optimize\\_minimize.py:863: RuntimeWarning: Method 'bounded' does not support relative tolerance in x; defaulting to absolute tolerance.\n",
      "  warn(\"Method 'bounded' does not support relative tolerance in x; \"\n"
     ]
    },
    {
     "name": "stdout",
     "output_type": "stream",
     "text": [
      "LUCAS\n",
      "Applying  Minimum Norm Estimate\n",
      "Applying  Weighted Minimum Norm Estimate\n",
      "Applying  Dynamic Statistical Parametric Mapping\n",
      "Applying  Low Resolution Tomography\n",
      "Applying  Standardized Low Resolution Tomography\n",
      "Applying  Exact Low Resolution Tomography\n",
      "Applying  Local Auto-Regressive Average\n",
      "Applying  S-MAP\n",
      "Applying  Fully-Connected\n",
      "1/1 [==============================] - 0s 18ms/step\n",
      "-- number of adjacent vertices : 1284\n",
      "Simulating data based on sparse patches.\n"
     ]
    },
    {
     "name": "stderr",
     "output_type": "stream",
     "text": [
      "100%|██████████| 2/2 [00:00<00:00,  4.31it/s]\n",
      "100%|██████████| 2/2 [00:00<00:00, 333.89it/s]\n"
     ]
    },
    {
     "name": "stdout",
     "output_type": "stream",
     "text": [
      "source data shape:  (1284, 1000) (1284, 1000)\n"
     ]
    },
    {
     "name": "stderr",
     "output_type": "stream",
     "text": [
      "100%|██████████| 2/2 [00:00<00:00, 11.23it/s]\n"
     ]
    },
    {
     "name": "stdout",
     "output_type": "stream",
     "text": [
      "MNE\n",
      "wMNE\n",
      "dSPM\n",
      "LORETA\n",
      "sLORETA\n",
      "eLORETA\n",
      "LAURA\n",
      "Backus-Gilbert\n",
      "S-MAP\n",
      "Multiple Sparse Priors\n",
      "Bayesian LORETA\n",
      "Bayesian MNE\n",
      "Bayesian Beamformer\n",
      "Bayesian Beamformer LORETA\n",
      "Fully-Connected\n",
      "1/1 [==============================] - 0s 19ms/step\n"
     ]
    },
    {
     "name": "stderr",
     "output_type": "stream",
     "text": [
      "c:\\Users\\lukas\\virtualenvs\\invertenv\\lib\\site-packages\\scipy\\optimize\\_minimize.py:863: RuntimeWarning: Method 'bounded' does not support relative tolerance in x; defaulting to absolute tolerance.\n",
      "  warn(\"Method 'bounded' does not support relative tolerance in x; \"\n"
     ]
    },
    {
     "name": "stdout",
     "output_type": "stream",
     "text": [
      "LUCAS\n",
      "Applying  Minimum Norm Estimate\n",
      "Applying  Weighted Minimum Norm Estimate\n",
      "Applying  Dynamic Statistical Parametric Mapping\n",
      "Applying  Low Resolution Tomography\n",
      "Applying  Standardized Low Resolution Tomography\n",
      "Applying  Exact Low Resolution Tomography\n",
      "Applying  Local Auto-Regressive Average\n",
      "Applying  S-MAP\n",
      "Applying  Fully-Connected\n",
      "1/1 [==============================] - 0s 20ms/step\n",
      "-- number of adjacent vertices : 1284\n",
      "Simulating data based on sparse patches.\n"
     ]
    },
    {
     "name": "stderr",
     "output_type": "stream",
     "text": [
      "100%|██████████| 2/2 [00:00<00:00,  4.06it/s]\n",
      "100%|██████████| 2/2 [00:00<00:00, 332.68it/s]\n"
     ]
    },
    {
     "name": "stdout",
     "output_type": "stream",
     "text": [
      "source data shape:  (1284, 1000) (1284, 1000)\n"
     ]
    },
    {
     "name": "stderr",
     "output_type": "stream",
     "text": [
      "100%|██████████| 2/2 [00:00<00:00, 11.97it/s]\n"
     ]
    },
    {
     "name": "stdout",
     "output_type": "stream",
     "text": [
      "MNE\n",
      "wMNE\n",
      "dSPM\n",
      "LORETA\n",
      "sLORETA\n",
      "eLORETA\n",
      "LAURA\n",
      "Backus-Gilbert\n",
      "S-MAP\n",
      "Multiple Sparse Priors\n",
      "Bayesian LORETA\n",
      "Bayesian MNE\n",
      "Bayesian Beamformer\n",
      "Bayesian Beamformer LORETA\n",
      "Fully-Connected\n",
      "1/1 [==============================] - 0s 18ms/step\n"
     ]
    },
    {
     "name": "stderr",
     "output_type": "stream",
     "text": [
      "c:\\Users\\lukas\\virtualenvs\\invertenv\\lib\\site-packages\\scipy\\optimize\\_minimize.py:863: RuntimeWarning: Method 'bounded' does not support relative tolerance in x; defaulting to absolute tolerance.\n",
      "  warn(\"Method 'bounded' does not support relative tolerance in x; \"\n"
     ]
    },
    {
     "name": "stdout",
     "output_type": "stream",
     "text": [
      "LUCAS\n",
      "Applying  Minimum Norm Estimate\n",
      "Applying  Weighted Minimum Norm Estimate\n",
      "Applying  Dynamic Statistical Parametric Mapping\n",
      "Applying  Low Resolution Tomography\n",
      "Applying  Standardized Low Resolution Tomography\n",
      "Applying  Exact Low Resolution Tomography\n",
      "Applying  Local Auto-Regressive Average\n",
      "Applying  S-MAP\n",
      "Applying  Fully-Connected\n",
      "1/1 [==============================] - 0s 19ms/step\n",
      "-- number of adjacent vertices : 1284\n",
      "Simulating data based on sparse patches.\n"
     ]
    },
    {
     "name": "stderr",
     "output_type": "stream",
     "text": [
      "100%|██████████| 2/2 [00:00<00:00,  4.15it/s]\n",
      "100%|██████████| 2/2 [00:00<00:00, 332.89it/s]\n"
     ]
    },
    {
     "name": "stdout",
     "output_type": "stream",
     "text": [
      "source data shape:  (1284, 1000) (1284, 1000)\n"
     ]
    },
    {
     "name": "stderr",
     "output_type": "stream",
     "text": [
      "100%|██████████| 2/2 [00:00<00:00,  6.06it/s]\n"
     ]
    },
    {
     "name": "stdout",
     "output_type": "stream",
     "text": [
      "MNE\n",
      "wMNE\n",
      "dSPM\n",
      "LORETA\n",
      "sLORETA\n",
      "eLORETA\n",
      "LAURA\n",
      "Backus-Gilbert\n",
      "S-MAP\n",
      "Multiple Sparse Priors\n",
      "Bayesian LORETA\n",
      "Bayesian MNE\n",
      "Bayesian Beamformer\n",
      "Bayesian Beamformer LORETA\n",
      "Fully-Connected\n",
      "1/1 [==============================] - 0s 19ms/step\n"
     ]
    },
    {
     "name": "stderr",
     "output_type": "stream",
     "text": [
      "c:\\Users\\lukas\\virtualenvs\\invertenv\\lib\\site-packages\\scipy\\optimize\\_minimize.py:863: RuntimeWarning: Method 'bounded' does not support relative tolerance in x; defaulting to absolute tolerance.\n",
      "  warn(\"Method 'bounded' does not support relative tolerance in x; \"\n"
     ]
    },
    {
     "name": "stdout",
     "output_type": "stream",
     "text": [
      "LUCAS\n",
      "Applying  Minimum Norm Estimate\n",
      "Applying  Weighted Minimum Norm Estimate\n",
      "Applying  Dynamic Statistical Parametric Mapping\n",
      "Applying  Low Resolution Tomography\n",
      "Applying  Standardized Low Resolution Tomography\n",
      "Applying  Exact Low Resolution Tomography\n",
      "Applying  Local Auto-Regressive Average\n",
      "Applying  S-MAP\n",
      "Applying  Fully-Connected\n",
      "1/1 [==============================] - 0s 22ms/step\n",
      "-- number of adjacent vertices : 1284\n",
      "Simulating data based on sparse patches.\n"
     ]
    },
    {
     "name": "stderr",
     "output_type": "stream",
     "text": [
      "100%|██████████| 2/2 [00:00<00:00, 111.01it/s]\n",
      "100%|██████████| 2/2 [00:00<00:00, 332.43it/s]\n"
     ]
    },
    {
     "name": "stdout",
     "output_type": "stream",
     "text": [
      "source data shape:  (1284, 1000) (1284, 1000)\n"
     ]
    },
    {
     "name": "stderr",
     "output_type": "stream",
     "text": [
      "100%|██████████| 2/2 [00:00<00:00, 10.93it/s]\n"
     ]
    },
    {
     "name": "stdout",
     "output_type": "stream",
     "text": [
      "MNE\n",
      "wMNE\n",
      "dSPM\n",
      "LORETA\n",
      "sLORETA\n",
      "eLORETA\n",
      "LAURA\n",
      "Backus-Gilbert\n",
      "S-MAP\n",
      "Multiple Sparse Priors\n",
      "Bayesian LORETA\n",
      "Bayesian MNE\n",
      "Bayesian Beamformer\n",
      "Bayesian Beamformer LORETA\n",
      "Fully-Connected\n",
      "1/1 [==============================] - 0s 18ms/step\n"
     ]
    },
    {
     "name": "stderr",
     "output_type": "stream",
     "text": [
      "c:\\Users\\lukas\\virtualenvs\\invertenv\\lib\\site-packages\\scipy\\optimize\\_minimize.py:863: RuntimeWarning: Method 'bounded' does not support relative tolerance in x; defaulting to absolute tolerance.\n",
      "  warn(\"Method 'bounded' does not support relative tolerance in x; \"\n"
     ]
    },
    {
     "name": "stdout",
     "output_type": "stream",
     "text": [
      "LUCAS\n",
      "Applying  Minimum Norm Estimate\n",
      "Applying  Weighted Minimum Norm Estimate\n",
      "Applying  Dynamic Statistical Parametric Mapping\n",
      "Applying  Low Resolution Tomography\n",
      "Applying  Standardized Low Resolution Tomography\n",
      "Applying  Exact Low Resolution Tomography\n",
      "Applying  Local Auto-Regressive Average\n",
      "Applying  S-MAP\n",
      "Applying  Fully-Connected\n",
      "1/1 [==============================] - 0s 19ms/step\n",
      "-- number of adjacent vertices : 1284\n",
      "Simulating data based on sparse patches.\n"
     ]
    },
    {
     "name": "stderr",
     "output_type": "stream",
     "text": [
      "100%|██████████| 2/2 [00:00<00:00,  4.43it/s]\n",
      "100%|██████████| 2/2 [00:00<00:00, 332.92it/s]\n"
     ]
    },
    {
     "name": "stdout",
     "output_type": "stream",
     "text": [
      "source data shape:  (1284, 1000) (1284, 1000)\n"
     ]
    },
    {
     "name": "stderr",
     "output_type": "stream",
     "text": [
      "100%|██████████| 2/2 [00:00<00:00, 10.99it/s]\n"
     ]
    },
    {
     "name": "stdout",
     "output_type": "stream",
     "text": [
      "MNE\n",
      "wMNE\n",
      "dSPM\n",
      "LORETA\n",
      "sLORETA\n",
      "eLORETA\n",
      "LAURA\n",
      "Backus-Gilbert\n",
      "S-MAP\n",
      "Multiple Sparse Priors\n",
      "Bayesian LORETA\n",
      "Bayesian MNE\n",
      "Bayesian Beamformer\n",
      "Bayesian Beamformer LORETA\n",
      "Fully-Connected\n",
      "1/1 [==============================] - 0s 19ms/step\n"
     ]
    },
    {
     "name": "stderr",
     "output_type": "stream",
     "text": [
      "c:\\Users\\lukas\\virtualenvs\\invertenv\\lib\\site-packages\\scipy\\optimize\\_minimize.py:863: RuntimeWarning: Method 'bounded' does not support relative tolerance in x; defaulting to absolute tolerance.\n",
      "  warn(\"Method 'bounded' does not support relative tolerance in x; \"\n"
     ]
    },
    {
     "name": "stdout",
     "output_type": "stream",
     "text": [
      "LUCAS\n",
      "Applying  Minimum Norm Estimate\n",
      "Applying  Weighted Minimum Norm Estimate\n",
      "Applying  Dynamic Statistical Parametric Mapping\n",
      "Applying  Low Resolution Tomography\n",
      "Applying  Standardized Low Resolution Tomography\n",
      "Applying  Exact Low Resolution Tomography\n",
      "Applying  Local Auto-Regressive Average\n",
      "Applying  S-MAP\n",
      "Applying  Fully-Connected\n",
      "1/1 [==============================] - 0s 22ms/step\n",
      "-- number of adjacent vertices : 1284\n",
      "Simulating data based on sparse patches.\n"
     ]
    },
    {
     "name": "stderr",
     "output_type": "stream",
     "text": [
      "100%|██████████| 2/2 [00:00<00:00,  4.10it/s]\n",
      "100%|██████████| 2/2 [00:00<00:00, 332.41it/s]\n"
     ]
    },
    {
     "name": "stdout",
     "output_type": "stream",
     "text": [
      "source data shape:  (1284, 1000) (1284, 1000)\n"
     ]
    },
    {
     "name": "stderr",
     "output_type": "stream",
     "text": [
      "100%|██████████| 2/2 [00:00<00:00, 11.84it/s]\n"
     ]
    },
    {
     "name": "stdout",
     "output_type": "stream",
     "text": [
      "MNE\n",
      "wMNE\n",
      "dSPM\n",
      "LORETA\n",
      "sLORETA\n",
      "eLORETA\n",
      "LAURA\n",
      "Backus-Gilbert\n",
      "S-MAP\n",
      "Multiple Sparse Priors\n",
      "Bayesian LORETA\n",
      "Bayesian MNE\n",
      "Bayesian Beamformer\n",
      "Bayesian Beamformer LORETA\n",
      "Fully-Connected\n",
      "1/1 [==============================] - 0s 19ms/step\n"
     ]
    },
    {
     "name": "stderr",
     "output_type": "stream",
     "text": [
      "c:\\Users\\lukas\\virtualenvs\\invertenv\\lib\\site-packages\\scipy\\optimize\\_minimize.py:863: RuntimeWarning: Method 'bounded' does not support relative tolerance in x; defaulting to absolute tolerance.\n",
      "  warn(\"Method 'bounded' does not support relative tolerance in x; \"\n"
     ]
    },
    {
     "name": "stdout",
     "output_type": "stream",
     "text": [
      "LUCAS\n",
      "Applying  Minimum Norm Estimate\n",
      "Applying  Weighted Minimum Norm Estimate\n",
      "Applying  Dynamic Statistical Parametric Mapping\n",
      "Applying  Low Resolution Tomography\n",
      "Applying  Standardized Low Resolution Tomography\n",
      "Applying  Exact Low Resolution Tomography\n",
      "Applying  Local Auto-Regressive Average\n",
      "Applying  S-MAP\n",
      "Applying  Fully-Connected\n",
      "1/1 [==============================] - 0s 21ms/step\n",
      "-- number of adjacent vertices : 1284\n",
      "Simulating data based on sparse patches.\n"
     ]
    },
    {
     "name": "stderr",
     "output_type": "stream",
     "text": [
      "100%|██████████| 2/2 [00:00<00:00,  4.19it/s]\n",
      "100%|██████████| 2/2 [00:00<00:00, 285.82it/s]\n"
     ]
    },
    {
     "name": "stdout",
     "output_type": "stream",
     "text": [
      "source data shape:  (1284, 1000) (1284, 1000)\n"
     ]
    },
    {
     "name": "stderr",
     "output_type": "stream",
     "text": [
      "100%|██████████| 2/2 [00:00<00:00, 11.68it/s]\n"
     ]
    },
    {
     "name": "stdout",
     "output_type": "stream",
     "text": [
      "MNE\n",
      "wMNE\n",
      "dSPM\n",
      "LORETA\n",
      "sLORETA\n",
      "eLORETA\n",
      "LAURA\n",
      "Backus-Gilbert\n",
      "S-MAP\n",
      "Multiple Sparse Priors\n",
      "Bayesian LORETA\n",
      "Bayesian MNE\n",
      "Bayesian Beamformer\n",
      "Bayesian Beamformer LORETA\n",
      "Fully-Connected\n",
      "1/1 [==============================] - 0s 20ms/step\n"
     ]
    },
    {
     "name": "stderr",
     "output_type": "stream",
     "text": [
      "c:\\Users\\lukas\\virtualenvs\\invertenv\\lib\\site-packages\\scipy\\optimize\\_minimize.py:863: RuntimeWarning: Method 'bounded' does not support relative tolerance in x; defaulting to absolute tolerance.\n",
      "  warn(\"Method 'bounded' does not support relative tolerance in x; \"\n"
     ]
    },
    {
     "name": "stdout",
     "output_type": "stream",
     "text": [
      "LUCAS\n",
      "Applying  Minimum Norm Estimate\n",
      "Applying  Weighted Minimum Norm Estimate\n",
      "Applying  Dynamic Statistical Parametric Mapping\n",
      "Applying  Low Resolution Tomography\n",
      "Applying  Standardized Low Resolution Tomography\n",
      "Applying  Exact Low Resolution Tomography\n",
      "Applying  Local Auto-Regressive Average\n",
      "Applying  S-MAP\n",
      "Applying  Fully-Connected\n",
      "1/1 [==============================] - 0s 19ms/step\n",
      "-- number of adjacent vertices : 1284\n",
      "Simulating data based on sparse patches.\n"
     ]
    },
    {
     "name": "stderr",
     "output_type": "stream",
     "text": [
      "100%|██████████| 2/2 [00:00<00:00,  3.12it/s]\n",
      "100%|██████████| 2/2 [00:00<00:00, 332.38it/s]\n"
     ]
    },
    {
     "name": "stdout",
     "output_type": "stream",
     "text": [
      "source data shape:  (1284, 1000) (1284, 1000)\n"
     ]
    },
    {
     "name": "stderr",
     "output_type": "stream",
     "text": [
      "100%|██████████| 2/2 [00:00<00:00, 11.70it/s]\n"
     ]
    },
    {
     "name": "stdout",
     "output_type": "stream",
     "text": [
      "MNE\n",
      "wMNE\n",
      "dSPM\n",
      "LORETA\n",
      "sLORETA\n",
      "eLORETA\n",
      "LAURA\n",
      "Backus-Gilbert\n",
      "S-MAP\n",
      "Multiple Sparse Priors\n",
      "Bayesian LORETA\n",
      "Bayesian MNE\n",
      "Bayesian Beamformer\n",
      "Bayesian Beamformer LORETA\n",
      "Fully-Connected\n",
      "1/1 [==============================] - 0s 31ms/step\n"
     ]
    },
    {
     "name": "stderr",
     "output_type": "stream",
     "text": [
      "c:\\Users\\lukas\\virtualenvs\\invertenv\\lib\\site-packages\\scipy\\optimize\\_minimize.py:863: RuntimeWarning: Method 'bounded' does not support relative tolerance in x; defaulting to absolute tolerance.\n",
      "  warn(\"Method 'bounded' does not support relative tolerance in x; \"\n"
     ]
    },
    {
     "name": "stdout",
     "output_type": "stream",
     "text": [
      "LUCAS\n",
      "Applying  Minimum Norm Estimate\n",
      "Applying  Weighted Minimum Norm Estimate\n",
      "Applying  Dynamic Statistical Parametric Mapping\n",
      "Applying  Low Resolution Tomography\n",
      "Applying  Standardized Low Resolution Tomography\n",
      "Applying  Exact Low Resolution Tomography\n",
      "Applying  Local Auto-Regressive Average\n",
      "Applying  S-MAP\n",
      "Applying  Fully-Connected\n",
      "1/1 [==============================] - 0s 42ms/step\n",
      "-- number of adjacent vertices : 1284\n",
      "Simulating data based on sparse patches.\n"
     ]
    },
    {
     "name": "stderr",
     "output_type": "stream",
     "text": [
      "100%|██████████| 2/2 [00:00<00:00,  4.02it/s]\n",
      "100%|██████████| 2/2 [00:00<00:00, 249.94it/s]\n"
     ]
    },
    {
     "name": "stdout",
     "output_type": "stream",
     "text": [
      "source data shape:  (1284, 1000) (1284, 1000)\n"
     ]
    },
    {
     "name": "stderr",
     "output_type": "stream",
     "text": [
      "100%|██████████| 2/2 [00:00<00:00, 10.31it/s]\n"
     ]
    },
    {
     "name": "stdout",
     "output_type": "stream",
     "text": [
      "MNE\n",
      "wMNE\n",
      "dSPM\n",
      "LORETA\n",
      "sLORETA\n",
      "eLORETA\n",
      "LAURA\n",
      "Backus-Gilbert\n",
      "S-MAP\n",
      "Multiple Sparse Priors\n",
      "Bayesian LORETA\n",
      "Bayesian MNE\n",
      "Bayesian Beamformer\n",
      "Bayesian Beamformer LORETA\n",
      "Fully-Connected\n",
      "1/1 [==============================] - 0s 19ms/step\n"
     ]
    },
    {
     "name": "stderr",
     "output_type": "stream",
     "text": [
      "c:\\Users\\lukas\\virtualenvs\\invertenv\\lib\\site-packages\\scipy\\optimize\\_minimize.py:863: RuntimeWarning: Method 'bounded' does not support relative tolerance in x; defaulting to absolute tolerance.\n",
      "  warn(\"Method 'bounded' does not support relative tolerance in x; \"\n"
     ]
    },
    {
     "name": "stdout",
     "output_type": "stream",
     "text": [
      "LUCAS\n",
      "Applying  Minimum Norm Estimate\n",
      "Applying  Weighted Minimum Norm Estimate\n",
      "Applying  Dynamic Statistical Parametric Mapping\n",
      "Applying  Low Resolution Tomography\n",
      "Applying  Standardized Low Resolution Tomography\n",
      "Applying  Exact Low Resolution Tomography\n",
      "Applying  Local Auto-Regressive Average\n",
      "Applying  S-MAP\n",
      "Applying  Fully-Connected\n",
      "1/1 [==============================] - 0s 52ms/step\n",
      "-- number of adjacent vertices : 1284\n",
      "Simulating data based on sparse patches.\n"
     ]
    },
    {
     "name": "stderr",
     "output_type": "stream",
     "text": [
      "100%|██████████| 2/2 [00:00<00:00,  4.26it/s]\n",
      "100%|██████████| 2/2 [00:00<00:00, 133.13it/s]\n"
     ]
    },
    {
     "name": "stdout",
     "output_type": "stream",
     "text": [
      "source data shape:  (1284, 1000) (1284, 1000)\n"
     ]
    },
    {
     "name": "stderr",
     "output_type": "stream",
     "text": [
      "100%|██████████| 2/2 [00:00<00:00, 10.10it/s]\n"
     ]
    },
    {
     "name": "stdout",
     "output_type": "stream",
     "text": [
      "MNE\n",
      "wMNE\n",
      "dSPM\n",
      "LORETA\n",
      "sLORETA\n",
      "eLORETA\n",
      "LAURA\n",
      "Backus-Gilbert\n",
      "S-MAP\n",
      "Multiple Sparse Priors\n",
      "Bayesian LORETA\n",
      "Bayesian MNE\n",
      "Bayesian Beamformer\n",
      "Bayesian Beamformer LORETA\n",
      "Fully-Connected\n",
      "1/1 [==============================] - 0s 19ms/step\n"
     ]
    },
    {
     "name": "stderr",
     "output_type": "stream",
     "text": [
      "c:\\Users\\lukas\\virtualenvs\\invertenv\\lib\\site-packages\\scipy\\optimize\\_minimize.py:863: RuntimeWarning: Method 'bounded' does not support relative tolerance in x; defaulting to absolute tolerance.\n",
      "  warn(\"Method 'bounded' does not support relative tolerance in x; \"\n"
     ]
    },
    {
     "name": "stdout",
     "output_type": "stream",
     "text": [
      "LUCAS\n",
      "Applying  Minimum Norm Estimate\n",
      "Applying  Weighted Minimum Norm Estimate\n",
      "Applying  Dynamic Statistical Parametric Mapping\n",
      "Applying  Low Resolution Tomography\n",
      "Applying  Standardized Low Resolution Tomography\n",
      "Applying  Exact Low Resolution Tomography\n",
      "Applying  Local Auto-Regressive Average\n",
      "Applying  S-MAP\n",
      "Applying  Fully-Connected\n",
      "1/1 [==============================] - 0s 25ms/step\n",
      "-- number of adjacent vertices : 1284\n",
      "Simulating data based on sparse patches.\n"
     ]
    },
    {
     "name": "stderr",
     "output_type": "stream",
     "text": [
      "100%|██████████| 2/2 [00:00<00:00, 86.96it/s]\n",
      "100%|██████████| 2/2 [00:00<00:00, 285.65it/s]\n"
     ]
    },
    {
     "name": "stdout",
     "output_type": "stream",
     "text": [
      "source data shape:  (1284, 1000) (1284, 1000)\n"
     ]
    },
    {
     "name": "stderr",
     "output_type": "stream",
     "text": [
      "100%|██████████| 2/2 [00:00<00:00,  8.30it/s]\n"
     ]
    },
    {
     "name": "stdout",
     "output_type": "stream",
     "text": [
      "MNE\n",
      "wMNE\n",
      "dSPM\n",
      "LORETA\n",
      "sLORETA\n",
      "eLORETA\n",
      "LAURA\n",
      "Backus-Gilbert\n",
      "S-MAP\n",
      "Multiple Sparse Priors\n",
      "Bayesian LORETA\n",
      "Bayesian MNE\n",
      "Bayesian Beamformer\n",
      "Bayesian Beamformer LORETA\n",
      "Fully-Connected\n",
      "1/1 [==============================] - 0s 21ms/step\n"
     ]
    },
    {
     "name": "stderr",
     "output_type": "stream",
     "text": [
      "c:\\Users\\lukas\\virtualenvs\\invertenv\\lib\\site-packages\\scipy\\optimize\\_minimize.py:863: RuntimeWarning: Method 'bounded' does not support relative tolerance in x; defaulting to absolute tolerance.\n",
      "  warn(\"Method 'bounded' does not support relative tolerance in x; \"\n"
     ]
    },
    {
     "name": "stdout",
     "output_type": "stream",
     "text": [
      "LUCAS\n",
      "Applying  Minimum Norm Estimate\n",
      "Applying  Weighted Minimum Norm Estimate\n",
      "Applying  Dynamic Statistical Parametric Mapping\n",
      "Applying  Low Resolution Tomography\n",
      "Applying  Standardized Low Resolution Tomography\n",
      "Applying  Exact Low Resolution Tomography\n",
      "Applying  Local Auto-Regressive Average\n",
      "Applying  S-MAP\n",
      "Applying  Fully-Connected\n",
      "1/1 [==============================] - 0s 25ms/step\n",
      "-- number of adjacent vertices : 1284\n",
      "Simulating data based on sparse patches.\n"
     ]
    },
    {
     "name": "stderr",
     "output_type": "stream",
     "text": [
      "100%|██████████| 2/2 [00:00<00:00,  3.59it/s]\n",
      "100%|██████████| 2/2 [00:00<00:00, 286.06it/s]\n"
     ]
    },
    {
     "name": "stdout",
     "output_type": "stream",
     "text": [
      "source data shape:  (1284, 1000) (1284, 1000)\n"
     ]
    },
    {
     "name": "stderr",
     "output_type": "stream",
     "text": [
      "100%|██████████| 2/2 [00:00<00:00, 10.64it/s]\n"
     ]
    },
    {
     "name": "stdout",
     "output_type": "stream",
     "text": [
      "MNE\n",
      "wMNE\n",
      "dSPM\n",
      "LORETA\n",
      "sLORETA\n",
      "eLORETA\n",
      "LAURA\n",
      "Backus-Gilbert\n",
      "S-MAP\n",
      "Multiple Sparse Priors\n",
      "Bayesian LORETA\n",
      "Bayesian MNE\n",
      "Bayesian Beamformer\n"
     ]
    },
    {
     "name": "stderr",
     "output_type": "stream",
     "text": [
      "c:\\Users\\lukas\\Dokumente\\projects\\invert\\dev\\..\\invert\\solvers\\multiple_sparse_priors.py:529: RuntimeWarning: overflow encountered in double_scalars\n",
      "  return np.sum([np.e**x * Q for x, Q in zip(X, Q_e)], axis=0)\n",
      "c:\\Users\\lukas\\Dokumente\\projects\\invert\\dev\\..\\invert\\solvers\\multiple_sparse_priors.py:529: RuntimeWarning: invalid value encountered in multiply\n",
      "  return np.sum([np.e**x * Q for x, Q in zip(X, Q_e)], axis=0)\n"
     ]
    },
    {
     "name": "stdout",
     "output_type": "stream",
     "text": [
      "Bayesian Beamformer LORETA\n",
      "Fully-Connected\n",
      "1/1 [==============================] - 0s 32ms/step\n"
     ]
    },
    {
     "name": "stderr",
     "output_type": "stream",
     "text": [
      "c:\\Users\\lukas\\virtualenvs\\invertenv\\lib\\site-packages\\scipy\\optimize\\_minimize.py:863: RuntimeWarning: Method 'bounded' does not support relative tolerance in x; defaulting to absolute tolerance.\n",
      "  warn(\"Method 'bounded' does not support relative tolerance in x; \"\n"
     ]
    },
    {
     "name": "stdout",
     "output_type": "stream",
     "text": [
      "LUCAS\n",
      "Applying  Minimum Norm Estimate\n",
      "Applying  Weighted Minimum Norm Estimate\n",
      "Applying  Dynamic Statistical Parametric Mapping\n",
      "Applying  Low Resolution Tomography\n",
      "Applying  Standardized Low Resolution Tomography\n",
      "Applying  Exact Low Resolution Tomography\n",
      "Applying  Local Auto-Regressive Average\n",
      "Applying  S-MAP\n",
      "Applying  Fully-Connected\n",
      "1/1 [==============================] - 0s 27ms/step\n",
      "-- number of adjacent vertices : 1284\n",
      "Simulating data based on sparse patches.\n"
     ]
    },
    {
     "name": "stderr",
     "output_type": "stream",
     "text": [
      "100%|██████████| 2/2 [00:00<00:00,  3.69it/s]\n",
      "100%|██████████| 2/2 [00:00<00:00, 334.02it/s]\n"
     ]
    },
    {
     "name": "stdout",
     "output_type": "stream",
     "text": [
      "source data shape:  (1284, 1000) (1284, 1000)\n"
     ]
    },
    {
     "name": "stderr",
     "output_type": "stream",
     "text": [
      "100%|██████████| 2/2 [00:00<00:00,  9.48it/s]\n"
     ]
    },
    {
     "name": "stdout",
     "output_type": "stream",
     "text": [
      "MNE\n",
      "wMNE\n",
      "dSPM\n",
      "LORETA\n",
      "sLORETA\n",
      "eLORETA\n",
      "LAURA\n",
      "Backus-Gilbert\n",
      "S-MAP\n",
      "Multiple Sparse Priors\n",
      "Bayesian LORETA\n",
      "Bayesian MNE\n",
      "Bayesian Beamformer\n",
      "Bayesian Beamformer LORETA\n",
      "Fully-Connected\n",
      "1/1 [==============================] - 0s 18ms/step\n"
     ]
    },
    {
     "name": "stderr",
     "output_type": "stream",
     "text": [
      "c:\\Users\\lukas\\virtualenvs\\invertenv\\lib\\site-packages\\scipy\\optimize\\_minimize.py:863: RuntimeWarning: Method 'bounded' does not support relative tolerance in x; defaulting to absolute tolerance.\n",
      "  warn(\"Method 'bounded' does not support relative tolerance in x; \"\n"
     ]
    },
    {
     "name": "stdout",
     "output_type": "stream",
     "text": [
      "LUCAS\n",
      "Applying  Minimum Norm Estimate\n",
      "Applying  Weighted Minimum Norm Estimate\n",
      "Applying  Dynamic Statistical Parametric Mapping\n",
      "Applying  Low Resolution Tomography\n",
      "Applying  Standardized Low Resolution Tomography\n",
      "Applying  Exact Low Resolution Tomography\n",
      "Applying  Local Auto-Regressive Average\n",
      "Applying  S-MAP\n",
      "Applying  Fully-Connected\n",
      "1/1 [==============================] - 0s 25ms/step\n",
      "-- number of adjacent vertices : 1284\n",
      "Simulating data based on sparse patches.\n"
     ]
    },
    {
     "name": "stderr",
     "output_type": "stream",
     "text": [
      "100%|██████████| 2/2 [00:00<00:00,  3.21it/s]\n",
      "100%|██████████| 2/2 [00:00<00:00, 285.62it/s]\n"
     ]
    },
    {
     "name": "stdout",
     "output_type": "stream",
     "text": [
      "source data shape:  (1284, 1000) (1284, 1000)\n"
     ]
    },
    {
     "name": "stderr",
     "output_type": "stream",
     "text": [
      "100%|██████████| 2/2 [00:00<00:00, 10.26it/s]\n"
     ]
    },
    {
     "name": "stdout",
     "output_type": "stream",
     "text": [
      "MNE\n",
      "wMNE\n",
      "dSPM\n",
      "LORETA\n",
      "sLORETA\n",
      "eLORETA\n",
      "LAURA\n",
      "Backus-Gilbert\n",
      "S-MAP\n",
      "Multiple Sparse Priors\n",
      "Bayesian LORETA\n",
      "Bayesian MNE\n",
      "Bayesian Beamformer\n",
      "Bayesian Beamformer LORETA\n",
      "Fully-Connected\n",
      "1/1 [==============================] - 0s 21ms/step\n"
     ]
    },
    {
     "name": "stderr",
     "output_type": "stream",
     "text": [
      "c:\\Users\\lukas\\virtualenvs\\invertenv\\lib\\site-packages\\scipy\\optimize\\_minimize.py:863: RuntimeWarning: Method 'bounded' does not support relative tolerance in x; defaulting to absolute tolerance.\n",
      "  warn(\"Method 'bounded' does not support relative tolerance in x; \"\n"
     ]
    },
    {
     "name": "stdout",
     "output_type": "stream",
     "text": [
      "LUCAS\n",
      "Applying  Minimum Norm Estimate\n",
      "Applying  Weighted Minimum Norm Estimate\n",
      "Applying  Dynamic Statistical Parametric Mapping\n",
      "Applying  Low Resolution Tomography\n",
      "Applying  Standardized Low Resolution Tomography\n",
      "Applying  Exact Low Resolution Tomography\n",
      "Applying  Local Auto-Regressive Average\n",
      "Applying  S-MAP\n",
      "Applying  Fully-Connected\n",
      "1/1 [==============================] - 0s 20ms/step\n"
     ]
    }
   ],
   "source": [
    "from invert import Solver\n",
    "from invert.config import all_solvers\n",
    "from invert.evaluate import nmse, corr\n",
    "settings = dict(number_of_sources=(1,10), extents=(1, 40), duration_of_trial=1, target_snr=(1,25))\n",
    "\n",
    "\n",
    "# errors_corr = {sname: [] for sname in all_solvers}\n",
    "# errors_nmse = {sname: [] for sname in all_solvers}\n",
    "\n",
    "# solvers = dict()\n",
    "for i in range(30):\n",
    "    # print(i)\n",
    "    sim = Simulation(fwd, info, settings).simulate(2)\n",
    "    stc = sim.source_data[0]\n",
    "    evoked = sim.eeg_data[0].average()\n",
    "\n",
    "    for solver_name in all_solvers:\n",
    "        print(solver_name)\n",
    "        solver = Solver(solver=solver_name)\n",
    "        if (not solver_name in solvers) or (\"sparse\" in solver_name.lower() or \"bayes\" in solver_name.lower()):\n",
    "            solvers[solver_name] = solver.make_inverse_operator(fwd, evoked, alpha=\"auto\")\n",
    "        stc_hat = solvers[solver_name].apply_inverse_operator(evoked)\n",
    "        # stc_hat.plot(**pp, brain_kwargs=dict(title=solver.name))\n",
    "        error = np.mean(corr(stc.data, stc_hat.data))\n",
    "        errors_corr[solver_name].append( error )\n",
    "        \n",
    "        error = np.mean(nmse(stc.data, stc_hat.data))\n",
    "        errors_nmse[solver_name].append( error )\n",
    "        \n",
    "# import pickle as pkl\n",
    "# fn = \"errors.pkl\"\n",
    "# with open(fn, 'wb') as f:\n",
    "#     pkl.dump([errors_corr, errors_nmse], f)"
   ]
  },
  {
   "cell_type": "code",
   "execution_count": 36,
   "metadata": {},
   "outputs": [
    {
     "data": {
      "text/html": [
       "<div>\n",
       "<style scoped>\n",
       "    .dataframe tbody tr th:only-of-type {\n",
       "        vertical-align: middle;\n",
       "    }\n",
       "\n",
       "    .dataframe tbody tr th {\n",
       "        vertical-align: top;\n",
       "    }\n",
       "\n",
       "    .dataframe thead th {\n",
       "        text-align: right;\n",
       "    }\n",
       "</style>\n",
       "<table border=\"1\" class=\"dataframe\">\n",
       "  <thead>\n",
       "    <tr style=\"text-align: right;\">\n",
       "      <th></th>\n",
       "      <th>Median</th>\n",
       "      <th>Variance</th>\n",
       "      <th>MedVar</th>\n",
       "      <th>Method</th>\n",
       "    </tr>\n",
       "  </thead>\n",
       "  <tbody>\n",
       "    <tr>\n",
       "      <th>Bayesian Beamformer</th>\n",
       "      <td>0.033344</td>\n",
       "      <td>0.100641</td>\n",
       "      <td>0.331314</td>\n",
       "      <td>Bayesian Beamformer</td>\n",
       "    </tr>\n",
       "    <tr>\n",
       "      <th>Backus-Gilbert</th>\n",
       "      <td>0.020588</td>\n",
       "      <td>0.141354</td>\n",
       "      <td>0.145648</td>\n",
       "      <td>Backus-Gilbert</td>\n",
       "    </tr>\n",
       "    <tr>\n",
       "      <th>wMNE</th>\n",
       "      <td>0.078268</td>\n",
       "      <td>0.031768</td>\n",
       "      <td>2.463740</td>\n",
       "      <td>wMNE</td>\n",
       "    </tr>\n",
       "    <tr>\n",
       "      <th>Bayesian LORETA</th>\n",
       "      <td>0.116085</td>\n",
       "      <td>0.108286</td>\n",
       "      <td>1.072021</td>\n",
       "      <td>Bayesian LORETA</td>\n",
       "    </tr>\n",
       "    <tr>\n",
       "      <th>Multiple Sparse Priors</th>\n",
       "      <td>0.115361</td>\n",
       "      <td>0.085370</td>\n",
       "      <td>1.351295</td>\n",
       "      <td>Multiple Sparse Priors</td>\n",
       "    </tr>\n",
       "    <tr>\n",
       "      <th>dSPM</th>\n",
       "      <td>0.126188</td>\n",
       "      <td>0.050529</td>\n",
       "      <td>2.497370</td>\n",
       "      <td>dSPM</td>\n",
       "    </tr>\n",
       "    <tr>\n",
       "      <th>LUCAS</th>\n",
       "      <td>0.127139</td>\n",
       "      <td>0.050733</td>\n",
       "      <td>2.506054</td>\n",
       "      <td>LUCAS</td>\n",
       "    </tr>\n",
       "    <tr>\n",
       "      <th>LORETA</th>\n",
       "      <td>0.176581</td>\n",
       "      <td>0.157067</td>\n",
       "      <td>1.124241</td>\n",
       "      <td>LORETA</td>\n",
       "    </tr>\n",
       "    <tr>\n",
       "      <th>Bayesian MNE</th>\n",
       "      <td>0.140912</td>\n",
       "      <td>0.099831</td>\n",
       "      <td>1.411510</td>\n",
       "      <td>Bayesian MNE</td>\n",
       "    </tr>\n",
       "    <tr>\n",
       "      <th>S-MAP</th>\n",
       "      <td>0.182043</td>\n",
       "      <td>0.156817</td>\n",
       "      <td>1.160861</td>\n",
       "      <td>S-MAP</td>\n",
       "    </tr>\n",
       "    <tr>\n",
       "      <th>eLORETA</th>\n",
       "      <td>0.151250</td>\n",
       "      <td>0.085644</td>\n",
       "      <td>1.766029</td>\n",
       "      <td>eLORETA</td>\n",
       "    </tr>\n",
       "    <tr>\n",
       "      <th>LAURA</th>\n",
       "      <td>0.178497</td>\n",
       "      <td>0.119222</td>\n",
       "      <td>1.497182</td>\n",
       "      <td>LAURA</td>\n",
       "    </tr>\n",
       "    <tr>\n",
       "      <th>Bayesian Beamformer LORETA</th>\n",
       "      <td>0.185073</td>\n",
       "      <td>0.151071</td>\n",
       "      <td>1.225074</td>\n",
       "      <td>Bayesian Beamformer LORETA</td>\n",
       "    </tr>\n",
       "    <tr>\n",
       "      <th>sLORETA</th>\n",
       "      <td>0.176087</td>\n",
       "      <td>0.061380</td>\n",
       "      <td>2.868822</td>\n",
       "      <td>sLORETA</td>\n",
       "    </tr>\n",
       "    <tr>\n",
       "      <th>MNE</th>\n",
       "      <td>0.192468</td>\n",
       "      <td>0.096233</td>\n",
       "      <td>2.000022</td>\n",
       "      <td>MNE</td>\n",
       "    </tr>\n",
       "    <tr>\n",
       "      <th>Fully-Connected</th>\n",
       "      <td>0.251827</td>\n",
       "      <td>0.183633</td>\n",
       "      <td>1.371360</td>\n",
       "      <td>Fully-Connected</td>\n",
       "    </tr>\n",
       "  </tbody>\n",
       "</table>\n",
       "</div>"
      ],
      "text/plain": [
       "                              Median  Variance    MedVar  \\\n",
       "Bayesian Beamformer         0.033344  0.100641  0.331314   \n",
       "Backus-Gilbert              0.020588  0.141354  0.145648   \n",
       "wMNE                        0.078268  0.031768  2.463740   \n",
       "Bayesian LORETA             0.116085  0.108286  1.072021   \n",
       "Multiple Sparse Priors      0.115361  0.085370  1.351295   \n",
       "dSPM                        0.126188  0.050529  2.497370   \n",
       "LUCAS                       0.127139  0.050733  2.506054   \n",
       "LORETA                      0.176581  0.157067  1.124241   \n",
       "Bayesian MNE                0.140912  0.099831  1.411510   \n",
       "S-MAP                       0.182043  0.156817  1.160861   \n",
       "eLORETA                     0.151250  0.085644  1.766029   \n",
       "LAURA                       0.178497  0.119222  1.497182   \n",
       "Bayesian Beamformer LORETA  0.185073  0.151071  1.225074   \n",
       "sLORETA                     0.176087  0.061380  2.868822   \n",
       "MNE                         0.192468  0.096233  2.000022   \n",
       "Fully-Connected             0.251827  0.183633  1.371360   \n",
       "\n",
       "                                                Method  \n",
       "Bayesian Beamformer                Bayesian Beamformer  \n",
       "Backus-Gilbert                          Backus-Gilbert  \n",
       "wMNE                                              wMNE  \n",
       "Bayesian LORETA                        Bayesian LORETA  \n",
       "Multiple Sparse Priors          Multiple Sparse Priors  \n",
       "dSPM                                              dSPM  \n",
       "LUCAS                                            LUCAS  \n",
       "LORETA                                          LORETA  \n",
       "Bayesian MNE                              Bayesian MNE  \n",
       "S-MAP                                            S-MAP  \n",
       "eLORETA                                        eLORETA  \n",
       "LAURA                                            LAURA  \n",
       "Bayesian Beamformer LORETA  Bayesian Beamformer LORETA  \n",
       "sLORETA                                        sLORETA  \n",
       "MNE                                                MNE  \n",
       "Fully-Connected                        Fully-Connected  "
      ]
     },
     "metadata": {},
     "output_type": "display_data"
    },
    {
     "data": {
      "text/plain": [
       "Text(0, 0.5, 'Variance')"
      ]
     },
     "execution_count": 36,
     "metadata": {},
     "output_type": "execute_result"
    }
   ],
   "source": [
    "import pandas as pd\n",
    "import seaborn as sns\n",
    "sns.set(font_scale=0.8)\n",
    "df = pd.DataFrame(errors)\n",
    "sorted_index = df.median().sort_values().index\n",
    "df = df[sorted_index]\n",
    "\n",
    "plt.figure()\n",
    "sns.boxplot(data=df)\n",
    "plt.title(\"Correlation with ground truth\")\n",
    "\n",
    "\n",
    "df_mean_var = pd.concat([df.mean(), df.std()], axis=1)\n",
    "df_mean_var = df_mean_var.rename(columns={0: \"Median\", 1: \"Variance\"})\n",
    "df_mean_var[\"MedVar\"] = df_mean_var[\"Median\"] / df_mean_var[\"Variance\"]\n",
    "df_mean_var[\"Method\"] = df_mean_var.index\n",
    "display(df_mean_var)\n",
    "\n",
    "plt.figure()\n",
    "sns.scatterplot(x=\"Median\", y=\"Variance\", hue=\"Method\", size=\"MedVar\", data=df_mean_var)\n",
    "plt.xlabel(\"Median\")\n",
    "plt.ylabel(\"Variance\")\n"
   ]
  },
  {
   "cell_type": "code",
   "execution_count": null,
   "metadata": {},
   "outputs": [],
   "source": [
    "from invert.solvers.multiple_sparse_priors import SolverMultipleSparsePriors\n",
    "from invert.solvers.loreta import SolverLORETA, SolverSLORETA, SolverELORETA\n",
    "from invert.solvers.wrop import SolverBackusGilbert, SolverLAURA\n",
    "from invert.solvers.smap import SolverSMAP\n",
    "from invert.solvers.minimum_norm_estimates import SolverDynamicStatisticalParametricMapping, SolverWeightedMinimumNorm, SolverMinimumNorm\n",
    "solvers = [SolverMultipleSparsePriors, SolverLORETA, SolverSLORETA, SolverELORETA, SolverBackusGilbert, SolverLAURA, SolverSMAP, SolverDynamicStatisticalParametricMapping, SolverWeightedMinimumNorm, SolverMinimumNorm]\n",
    "\n",
    "for solver in solvers:\n",
    "    solver_ = solver()\n",
    "    if solver_.name == \"Multiple Sparse Priors\":\n",
    "        solver_.make_inverse_operator(fwd, evoked, alpha='auto')\n",
    "    else:\n",
    "        solver_.make_inverse_operator(fwd, alpha='auto')\n",
    "    stc_hat = solver_.apply_inverse_operator(evoked)\n",
    "    stc_hat.plot(**pp, brain_kwargs=dict(title=solver_.name))\n",
    "\n"
   ]
  },
  {
   "cell_type": "code",
   "execution_count": null,
   "metadata": {},
   "outputs": [],
   "source": []
  },
  {
   "cell_type": "code",
   "execution_count": null,
   "metadata": {},
   "outputs": [],
   "source": [
    "from mne.minimum_norm import make_inverse_operator as mne_inverse\n",
    "from mne.minimum_norm import apply_inverse as mne_apply\n",
    "from mne import make_ad_hoc_cov\n",
    "noise_cov = make_ad_hoc_cov(evoked.info, verbose=0)\n",
    "mne_io = mne_inverse(evoked.info, fwd, noise_cov=noise_cov, fixed=True, loose=0, depth=0, verbose=0)\n",
    "stc_hat = mne_apply(evoked, mne_io, method=\"MNE\", verbose=0)\n",
    "stc_hat.plot(**pp)"
   ]
  },
  {
   "cell_type": "code",
   "execution_count": null,
   "metadata": {},
   "outputs": [],
   "source": []
  }
 ],
 "metadata": {
  "kernelspec": {
   "display_name": "Python 3.8.10 ('invertenv')",
   "language": "python",
   "name": "python3"
  },
  "language_info": {
   "codemirror_mode": {
    "name": "ipython",
    "version": 3
   },
   "file_extension": ".py",
   "mimetype": "text/x-python",
   "name": "python",
   "nbconvert_exporter": "python",
   "pygments_lexer": "ipython3",
   "version": "3.8.10"
  },
  "orig_nbformat": 4,
  "vscode": {
   "interpreter": {
    "hash": "dda1e5657e486f74a7b39841fb8103db2af51a77394f44c39a7821a371af47bd"
   }
  }
 },
 "nbformat": 4,
 "nbformat_minor": 2
}
