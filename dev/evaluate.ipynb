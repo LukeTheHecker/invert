{
 "cells": [
  {
   "cell_type": "code",
   "execution_count": 1,
   "metadata": {},
   "outputs": [],
   "source": [
    "%load_ext autoreload\n",
    "%autoreload 2\n",
    "%matplotlib qt\n",
    "\n",
    "import sys; sys.path.insert(0, '../') \n",
    "import numpy as np\n",
    "from matplotlib import pyplot as plt\n",
    "from scipy.stats import pearsonr\n",
    "from scipy.spatial.distance import cdist\n",
    "import mne\n",
    "\n",
    "from invert.forward import get_info, create_forward_model\n",
    "from invert.util import pos_from_forward\n",
    "from invert.evaluate import eval_auc, eval_mean_localization_error, eval_mean_localization_error_old\n",
    "\n",
    "pp = dict(surface='inflated', hemi='both', verbose=0, cortex='low_contrast')"
   ]
  },
  {
   "cell_type": "code",
   "execution_count": 2,
   "metadata": {},
   "outputs": [
    {
     "data": {
      "text/html": [
       "<table class=\"table table-hover table-striped table-sm table-responsive small\">\n",
       "    <tr>\n",
       "        <th>Good channels</th>\n",
       "        <td>128 EEG</td>\n",
       "    </tr>\n",
       "    <tr>\n",
       "        <th>Bad channels</th>\n",
       "        <td>None</td>\n",
       "    </tr>\n",
       "    <tr>\n",
       "        <th>Source space</th>\n",
       "        <td>Surface with 1284 vertices</td>\n",
       "    </tr>\n",
       "    <tr>\n",
       "        <th>Source orientation</th>\n",
       "        <td>Fixed</td>\n",
       "    </tr>\n",
       "</table>"
      ],
      "text/plain": [
       "<Forward | MEG channels: 0 | EEG channels: 128 | Source space: Surface with 1284 vertices | Source orientation: Fixed>"
      ]
     },
     "execution_count": 2,
     "metadata": {},
     "output_type": "execute_result"
    }
   ],
   "source": [
    "sampling = \"ico3\"\n",
    "info = get_info(kind='biosemi128')\n",
    "fwd = create_forward_model(info=info, sampling=sampling)\n",
    "fwd[\"sol\"][\"data\"] /= np.linalg.norm(fwd[\"sol\"][\"data\"], axis=0) \n",
    "pos = pos_from_forward(fwd)\n",
    "leadfield = fwd[\"sol\"][\"data\"]\n",
    "n_chans, n_dipoles = leadfield.shape\n",
    "\n",
    "source_model = fwd['src']\n",
    "vertices = [source_model[0]['vertno'], source_model[1]['vertno']]\n",
    "adjacency = mne.spatial_src_adjacency(fwd[\"src\"], verbose=0)\n",
    "distance_matrix = cdist(pos, pos)\n",
    "fwd"
   ]
  },
  {
   "attachments": {},
   "cell_type": "markdown",
   "metadata": {},
   "source": [
    "# Simulate"
   ]
  },
  {
   "cell_type": "code",
   "execution_count": 7,
   "metadata": {},
   "outputs": [],
   "source": [
    "from invert.simulate import generator\n",
    "sim_params = dict(\n",
    "    use_cov=False,\n",
    "    return_mask=False,\n",
    "    batch_repetitions=1,\n",
    "    batch_size=1,\n",
    "    n_sources=2,\n",
    "    n_orders=(0, 0),\n",
    "    snr_range=(1, 1),\n",
    "    amplitude_range=(1, 1),\n",
    "    n_timecourses=200,\n",
    "    n_timepoints=50,\n",
    "    scale_data=False,\n",
    "    add_forward_error=False,\n",
    "    forward_error=0.5,\n",
    "    inter_source_correlation=0.1,\n",
    "    iid_noise=False, \n",
    "    return_info=True,\n",
    "    diffusion_parameter=0.1,\n",
    "    random_seed=43)\n",
    "\n",
    "gen = generator(fwd, **sim_params)"
   ]
  },
  {
   "cell_type": "code",
   "execution_count": 9,
   "metadata": {},
   "outputs": [
    {
     "name": "stdout",
     "output_type": "stream",
     "text": [
      "No projector specified for this dataset. Please consider the method self.add_proj.\n",
      "No projector specified for this dataset. Please consider the method self.add_proj.\n"
     ]
    },
    {
     "data": {
      "text/html": [
       "<div>\n",
       "<style scoped>\n",
       "    .dataframe tbody tr th:only-of-type {\n",
       "        vertical-align: middle;\n",
       "    }\n",
       "\n",
       "    .dataframe tbody tr th {\n",
       "        vertical-align: top;\n",
       "    }\n",
       "\n",
       "    .dataframe thead th {\n",
       "        text-align: right;\n",
       "    }\n",
       "</style>\n",
       "<table border=\"1\" class=\"dataframe\">\n",
       "  <thead>\n",
       "    <tr style=\"text-align: right;\">\n",
       "      <th></th>\n",
       "      <th>n_sources</th>\n",
       "      <th>amplitudes</th>\n",
       "      <th>snr</th>\n",
       "      <th>inter_source_correlations</th>\n",
       "      <th>n_orders</th>\n",
       "      <th>diffusion_parameter</th>\n",
       "      <th>n_timepoints</th>\n",
       "      <th>n_timecourses</th>\n",
       "      <th>iid_noise</th>\n",
       "    </tr>\n",
       "  </thead>\n",
       "  <tbody>\n",
       "    <tr>\n",
       "      <th>0</th>\n",
       "      <td>2</td>\n",
       "      <td>[1.0, 1.0]</td>\n",
       "      <td>1.0</td>\n",
       "      <td>0.1</td>\n",
       "      <td>[0, 1]</td>\n",
       "      <td>0.1</td>\n",
       "      <td>50</td>\n",
       "      <td>200</td>\n",
       "      <td>False</td>\n",
       "    </tr>\n",
       "  </tbody>\n",
       "</table>\n",
       "</div>"
      ],
      "text/plain": [
       "   n_sources  amplitudes  snr  inter_source_correlations n_orders  \\\n",
       "0          2  [1.0, 1.0]  1.0                        0.1   [0, 1]   \n",
       "\n",
       "   diffusion_parameter  n_timepoints  n_timecourses  iid_noise  \n",
       "0                  0.1            50            200      False  "
      ]
     },
     "execution_count": 9,
     "metadata": {},
     "output_type": "execute_result"
    }
   ],
   "source": [
    "x, y, sim_info = gen.__next__()\n",
    "\n",
    "tmin = 0\n",
    "tstep = 1/info[\"sfreq\"]\n",
    "subject = \"fsaverage\"\n",
    "evoked = mne.EvokedArray(x[0].T, info, tmin=tmin)\n",
    "stc = mne.SourceEstimate(y[0].T, vertices, tmin=tmin, tstep=tstep, \n",
    "                        subject=subject, verbose=0)\n",
    "\n",
    "brain = stc.plot(**pp)\n",
    "brain.add_text(0.1, 0.9, \"Ground Truth\", 'title',\n",
    "               font_size=14)\n",
    "evoked.plot_joint(title=\"Ground Truth\")\n",
    "\n",
    "evoked_clean = mne.EvokedArray(leadfield @ y[0].T, info, tmin=tmin)\n",
    "evoked_clean.plot_joint(title=\"Ground Truth Noiseless\")\n",
    "\n",
    "sim_info"
   ]
  },
  {
   "attachments": {},
   "cell_type": "markdown",
   "metadata": {},
   "source": [
    "# Solve"
   ]
  },
  {
   "cell_type": "markdown",
   "metadata": {},
   "source": [
    "## SSM"
   ]
  },
  {
   "cell_type": "code",
   "execution_count": 12,
   "metadata": {},
   "outputs": [
    {
     "name": "stdout",
     "output_type": "stream",
     "text": [
      "Adding average EEG reference projection.\n",
      "1 projection items deactivated\n",
      "Average reference projection was added, but has not been applied yet. Use the apply_proj method to apply it.\n",
      "Created an SSP operator (subspace dimension = 1)\n",
      "1 projection items activated\n",
      "SSP projectors applied...\n",
      "Signal Subspace Matching mle =  11.639588450353466  mm\n"
     ]
    }
   ],
   "source": [
    "from invert.solvers.music import SolverGeneralizedIterative\n",
    "from invert import Solver\n",
    "solver = SolverGeneralizedIterative()\n",
    "solver = Solver(\"SSM\")\n",
    "solver.make_inverse_operator(fwd, evoked, \n",
    "                             inverse_type=\"SSM\", n_orders=0, \n",
    "                             refine_solution=True, n=sim_params[\"n_sources\"], \n",
    "                             d=sim_params[\"n_sources\"], diffusion_parameter=\"auto\")\n",
    "stc_ = solver.apply_inverse_operator(evoked)\n",
    "stc_.data /= abs(stc_.data).max()\n",
    "brain = stc_.plot(**pp)\n",
    "brain.add_text(0.1, 0.9, solver.name, 'title',\n",
    "               font_size=14)\n",
    "\n",
    "evoked_ = mne.EvokedArray(fwd[\"sol\"][\"data\"] @ stc_.data, info).set_eeg_reference(\"average\", projection=True)\n",
    "evoked_.plot_joint()\n",
    "\n",
    "# print(solver.name, \" r = \", pearsonr(abs(stc.data).mean(axis=-1), abs(stc_.data).mean(axis=-1))[0])\n",
    "\n",
    "mle = eval_mean_localization_error(stc.data, stc_.data, adjacency.toarray(), adjacency.toarray(), distance_matrix)\n",
    "print(solver.name, \"mle = \", mle, \" mm\")"
   ]
  },
  {
   "cell_type": "markdown",
   "metadata": {},
   "source": [
    "## FLAP"
   ]
  },
  {
   "cell_type": "code",
   "execution_count": 13,
   "metadata": {},
   "outputs": [
    {
     "name": "stdout",
     "output_type": "stream",
     "text": [
      "Adding average EEG reference projection.\n",
      "1 projection items deactivated\n",
      "Average reference projection was added, but has not been applied yet. Use the apply_proj method to apply it.\n",
      "Created an SSP operator (subspace dimension = 1)\n",
      "1 projection items activated\n",
      "SSP projectors applied...\n",
      "Alternating Projections mle =  4.841647335945205  mm\n"
     ]
    }
   ],
   "source": [
    "from invert.solvers.music import SolverGeneralizedIterative\n",
    "\n",
    "solver = SolverGeneralizedIterative()\n",
    "solver = Solver(\"AP\")\n",
    "solver.make_inverse_operator(fwd, evoked, \n",
    "                             inverse_type=\"AP\", n_orders=0, \n",
    "                             refine_solution=True, n=sim_params[\"n_sources\"], \n",
    "                             d=sim_params[\"n_sources\"], diffusion_parameter=\"auto\", \n",
    "                             lambda_reg3=0.001)\n",
    "stc_ = solver.apply_inverse_operator(evoked)\n",
    "stc_.data /= abs(stc_.data).max()\n",
    "brain = stc_.plot(**pp)\n",
    "brain.add_text(0.1, 0.9, solver.name, 'title',\n",
    "               font_size=14)\n",
    "\n",
    "evoked_ = mne.EvokedArray(fwd[\"sol\"][\"data\"] @ stc_.data, info).set_eeg_reference(\"average\", projection=True)\n",
    "evoked_.plot_joint()\n",
    "\n",
    "# print(solver.name, \" r = \", pearsonr(abs(stc.data).mean(axis=-1), abs(stc_.data).mean(axis=-1))[0])\n",
    "\n",
    "mle = eval_mean_localization_error(stc.data, stc_.data, adjacency.toarray(), adjacency.toarray(), distance_matrix)\n",
    "print(solver.name, \"mle = \", mle, \" mm\")"
   ]
  },
  {
   "cell_type": "code",
   "execution_count": null,
   "metadata": {},
   "outputs": [],
   "source": [
    "from invert import Solver\n",
    "\n",
    "solver = Solver(\"SSM\")\n",
    "solver.make_inverse_operator(fwd, evoked, n_orders=0, refine_solution=True, n=sim_params[\"n_sources\"], d=sim_params[\"n_sources\"], diffusion_parameter=\"auto\")\n",
    "stc_ = solver.apply_inverse_operator(evoked)\n",
    "stc_.data /= abs(stc_.data).max()\n",
    "brain = stc_.plot(**pp)\n",
    "brain.add_text(0.1, 0.9, solver.name, 'title',\n",
    "               font_size=14)\n",
    "\n",
    "evoked_ = mne.EvokedArray(fwd[\"sol\"][\"data\"] @ stc_.data, info).set_eeg_reference(\"average\", projection=True)\n",
    "evoked_.plot_joint()\n",
    "\n",
    "# print(solver.name, \" r = \", pearsonr(abs(stc.data).mean(axis=-1), abs(stc_.data).mean(axis=-1))[0])\n",
    "\n",
    "mle = eval_mean_localization_error(stc.data, stc_.data, adjacency.toarray(), adjacency.toarray(), distance_matrix)\n",
    "print(solver.name, \"mle = \", mle, \" mm\")"
   ]
  },
  {
   "cell_type": "code",
   "execution_count": null,
   "metadata": {},
   "outputs": [],
   "source": [
    "from invert import Solver\n",
    "\n",
    "solver2 = Solver(\"Flex-AP\")\n",
    "solver2.make_inverse_operator(fwd_error, evoked, n_orders=3, refine_solution=True, n=sim_params[\"n_sources\"], d=sim_params[\"n_sources\"])\n",
    "stc_ = solver2.apply_inverse_operator(evoked)\n",
    "stc_.data /= abs(stc_.data).max()\n",
    "brain = stc_.plot(**pp)\n",
    "brain.add_text(0.1, 0.9, solver2.name, 'title',\n",
    "               font_size=14)\n",
    "\n",
    "evoked_ = mne.EvokedArray(fwd[\"sol\"][\"data\"] @ stc_.data, info).set_eeg_reference(\"average\", projection=True)\n",
    "evoked_.plot_joint()\n",
    "\n",
    "# print(solver2.name, \" r = \", pearsonr(abs(stc.data).mean(axis=-1), abs(stc_.data).mean(axis=-1))[0])\n",
    "\n",
    "mle = eval_mean_localization_error(stc.data, stc_.data, adjacency.toarray(), adjacency.toarray(), distance_matrix)\n",
    "print(solver2.name, \"mle = \", mle, \" mm\")"
   ]
  },
  {
   "attachments": {},
   "cell_type": "markdown",
   "metadata": {},
   "source": [
    "## FLEX-MUSIC"
   ]
  },
  {
   "cell_type": "code",
   "execution_count": null,
   "metadata": {},
   "outputs": [],
   "source": [
    "from invert import Solver\n",
    "\n",
    "solver = Solver(\"Flex-Music\")\n",
    "\n",
    "solver.make_inverse_operator(fwd, evoked, n_orders=3, refine_solution=False, stop_crit=0., n=sim_params[\"n_sources\"], k=sim_params[\"n_sources\"])\n",
    "stc_ = solver.apply_inverse_operator(evoked)\n",
    "stc_.data /= abs(stc_.data).max()\n",
    "brain = stc_.plot(**pp)\n",
    "brain.add_text(0.1, 0.9, solver.name, 'title',\n",
    "               font_size=14)\n",
    "\n",
    "evoked_ = mne.EvokedArray(fwd[\"sol\"][\"data\"] @ stc_.data, info).set_eeg_reference(\"average\", projection=True)\n",
    "evoked_.plot_joint()\n",
    "\n",
    "# print(solver.name, \" r = \", pearsonr(abs(stc.data).mean(axis=-1), abs(stc_.data).mean(axis=-1))[0])\n",
    "mle = eval_mean_localization_error(stc.data, stc_.data, adjacency.toarray(), adjacency.toarray(), distance_matrix)\n",
    "print(solver.name, \"mle = \", mle, \" mm\")"
   ]
  },
  {
   "cell_type": "code",
   "execution_count": null,
   "metadata": {},
   "outputs": [],
   "source": [
    "from invert import Solver\n",
    "alpha = \"auto\"\n",
    "# solver = Solver(\"eLORETA\", n_reg_params=3)\n",
    "# solver.make_inverse_operator(fwd, evoked, alpha=alpha)\n",
    "stc_ = solver.apply_inverse_operator(evoked)\n",
    "\n",
    "stc_.data /= abs(stc_.data).max()\n",
    "brain = stc_.plot(**pp)\n",
    "brain.add_text(0.1, 0.9, solver.name, 'title',\n",
    "               font_size=14)\n",
    "\n",
    "evoked_ = mne.EvokedArray(fwd[\"sol\"][\"data\"] @ stc_.data, info).set_eeg_reference(\"average\", projection=True)\n",
    "evoked_.plot_joint()\n",
    "\n",
    "print(solver.name, \" r = \", pearsonr(abs(stc.data).mean(axis=-1), abs(stc_.data).mean(axis=-1))[0])"
   ]
  },
  {
   "cell_type": "code",
   "execution_count": null,
   "metadata": {},
   "outputs": [],
   "source": [
    "from invert import Solver\n",
    "alpha = \"auto\"\n",
    "solver = Solver(\"mm champagne\", n_reg_params=20)\n",
    "solver.make_inverse_operator(fwd, evoked, alpha=alpha)\n",
    "stc_ = solver.apply_inverse_operator(evoked)\n",
    "\n",
    "stc_.data /= abs(stc_.data).max()\n",
    "brain = stc_.plot(**pp)\n",
    "brain.add_text(0.1, 0.9, solver.name, 'title',\n",
    "               font_size=14)\n",
    "\n",
    "evoked_ = mne.EvokedArray(fwd[\"sol\"][\"data\"] @ stc_.data, info).set_eeg_reference(\"average\", projection=True)\n",
    "evoked_.plot_joint()\n",
    "\n",
    "print(solver.name, \" r = \", pearsonr(abs(stc.data).mean(axis=-1), abs(stc_.data).mean(axis=-1))[0])"
   ]
  },
  {
   "cell_type": "code",
   "execution_count": null,
   "metadata": {},
   "outputs": [],
   "source": [
    "from invert import Solver\n",
    "alpha = \"auto\"\n",
    "solver = Solver(\"convexity champagne\", n_reg_params=20)\n",
    "solver.make_inverse_operator(fwd, evoked, alpha=alpha)\n",
    "stc_ = solver.apply_inverse_operator(evoked)\n",
    "\n",
    "stc_.data /= abs(stc_.data).max()\n",
    "brain = stc_.plot(**pp)\n",
    "brain.add_text(0.1, 0.9, solver.name, 'title',\n",
    "               font_size=14)\n",
    "\n",
    "evoked_ = mne.EvokedArray(fwd[\"sol\"][\"data\"] @ stc_.data, info).set_eeg_reference(\"average\", projection=True)\n",
    "evoked_.plot_joint()\n",
    "\n",
    "print(solver.name, \" r = \", pearsonr(abs(stc.data).mean(axis=-1), abs(stc_.data).mean(axis=-1))[0])"
   ]
  },
  {
   "cell_type": "code",
   "execution_count": null,
   "metadata": {},
   "outputs": [],
   "source": [
    "from invert import Solver\n",
    "alpha = 0.1\n",
    "solver = Solver(\"Gamma-MAP\")\n",
    "solver.make_inverse_operator(fwd, evoked, alpha=alpha)\n",
    "stc_ = solver.apply_inverse_operator(evoked)\n",
    "\n",
    "stc_.data /= abs(stc_.data).max()\n",
    "brain = stc_.plot(**pp)\n",
    "brain.add_text(0.1, 0.9, solver.name, 'title',\n",
    "               font_size=14)\n",
    "\n",
    "evoked_ = mne.EvokedArray(fwd[\"sol\"][\"data\"] @ stc_.data, info).set_eeg_reference(\"average\", projection=True)\n",
    "evoked_.plot_joint()\n",
    "\n",
    "print(solver.name, \" r = \", pearsonr(abs(stc.data).mean(axis=-1), abs(stc_.data).mean(axis=-1))[0])"
   ]
  },
  {
   "attachments": {},
   "cell_type": "markdown",
   "metadata": {},
   "source": [
    "# Other"
   ]
  },
  {
   "cell_type": "code",
   "execution_count": null,
   "metadata": {},
   "outputs": [],
   "source": [
    "from invert import Solver\n",
    "solver = Solver(\"FLEX\")\n",
    "solver.make_inverse_operator(fwd, evoked, alpha=\"auto\")\n",
    "\n",
    "stc_ = solver.apply_inverse_operator(evoked)\n",
    "\n",
    "stc_.data /= abs(stc_.data).max()\n",
    "brain = stc_.plot(**pp)\n",
    "brain.add_text(0.1, 0.9, solver.name, 'title',\n",
    "               font_size=14)\n",
    "\n",
    "evoked_ = mne.EvokedArray(fwd[\"sol\"][\"data\"] @ stc_.data, info).set_eeg_reference(\"average\", projection=True)\n",
    "evoked_.plot_joint()\n",
    "\n",
    "print(\"r = \", pearsonr(abs(stc.data).mean(axis=-1), abs(stc_.data).mean(axis=-1))[0])\n",
    "print(\"L1 = \",  np.linalg.norm(stc_.data, ord=1))"
   ]
  },
  {
   "cell_type": "code",
   "execution_count": null,
   "metadata": {},
   "outputs": [],
   "source": [
    "from invert.ensemble import Ensemble\n",
    "solver_list = [\"wMNE\", \"sLORETA\", \"LAURA\", \"Convexity Champagne\", \"GAMMA-MAP\", \"HOCMCMV\", \"SSMP\", \"FLEX-MUSIC\"]\n",
    "\n",
    "solver = Ensemble(solver_list, summary_type=\"mean\")\n",
    "solver.make_inverse_operator(fwd, evoked)\n",
    "\n",
    "stc_ = solver.apply_inverse_operator(evoked)\n",
    "\n",
    "stc_.data /= abs(stc_.data).max()\n",
    "brain = stc_.plot(**pp)\n",
    "brain.add_text(0.1, 0.9, solver.name, 'title',\n",
    "               font_size=14)\n",
    "\n",
    "evoked_ = mne.EvokedArray(fwd[\"sol\"][\"data\"] @ stc_.data, info).set_eeg_reference(\"average\", projection=True)\n",
    "evoked_.plot_joint()\n",
    "\n",
    "print(\"r = \", pearsonr(abs(stc.data).mean(axis=-1), abs(stc_.data).mean(axis=-1))[0])\n",
    "print(\"L1 = \",  np.linalg.norm(stc_.data, ord=1))"
   ]
  },
  {
   "cell_type": "code",
   "execution_count": null,
   "metadata": {},
   "outputs": [],
   "source": [
    "from invert.solvers import SolverFLEXMUSIC_2\n",
    "solver = SolverFLEXMUSIC_2()\n",
    "solver.make_inverse_operator(fwd, evoked, alpha=\"auto\")\n",
    "\n",
    "stc_ = solver.apply_inverse_operator(evoked)\n",
    "\n",
    "stc_.data /= abs(stc_.data).max()\n",
    "brain = stc_.plot(**pp)\n",
    "brain.add_text(0.1, 0.9, solver.name, 'title',\n",
    "               font_size=14)\n",
    "\n",
    "evoked_ = mne.EvokedArray(fwd[\"sol\"][\"data\"] @ stc_.data, info).set_eeg_reference(\"average\", projection=True)\n",
    "evoked_.plot_joint()\n",
    "\n",
    "print(\"r = \", pearsonr(abs(stc.data).mean(axis=-1), abs(stc_.data).mean(axis=-1))[0])\n",
    "print(\"L1 = \",  np.linalg.norm(stc_.data, ord=1))"
   ]
  },
  {
   "attachments": {},
   "cell_type": "markdown",
   "metadata": {},
   "source": [
    "# Big Loop"
   ]
  },
  {
   "cell_type": "code",
   "execution_count": null,
   "metadata": {},
   "outputs": [],
   "source": [
    "from invert import Solver\n",
    "# from invert.config import all_solvers\n",
    "from invert.evaluate import nmse, corr, eval_mean_localization_error, eval_auc\n",
    "from invert.adapters import contextualize_bd\n",
    "import pickle as pkl\n",
    "\n",
    "\n",
    "all_solvers = [ \"MNE\", \"wMNE\", \"dSPM\", \"FISTA\", \"L1L2\",\n",
    "                \"LORETA\", \"sLORETA\", \"eLORETA\", \n",
    "                \"LAURA\", \"Backus-Gilbert\", \n",
    "                \"S-MAP\",\n",
    "                \"Champagne\", \"Multiple Sparse Priors\", \"Bayesian LORETA\", \"Bayesian MNE\", \"Bayesian Beamformer\", \"Bayesian Beamformer LORETA\",\n",
    "                \"BCS\", \"Gamma-MAP\", \"Source-MAP\", \"Gamma-MAP-MSP\", \"Source-MAP-MSP\",\n",
    "                \"MVAB\", \"LCMV\", \"SMV\", \"WNMV\", \"HOCMV\", \"ESMV\", \"MCMV\", \"ESMCMV\", \"ReciPSIICOS\", \"SAM\",\n",
    "                # \"Fully-Connected\", \n",
    "                # \"LUCAS\",\n",
    "                # \"OMP\", \"COSAMP\", \"SOMP\", \"REMBO\", \"SP\", \"SSP\",\n",
    "                # \"SMP\", \"SSMP\", \"SubSMP\",\n",
    "                \"EPIFOCUS\",\n",
    "                \"MUSIC\", \"RAP-MUSIC\", \"TRAP-MUSIC\", \"JAZZ-MUSIC\",\n",
    "            ]\n",
    "redo_solvers = np.array([\"Champagne\", \"Multiple Sparse Priors\", \n",
    "            \"Bayesian LORETA\", \"Bayesian MNE\", \"Bayesian Beamformer\", \n",
    "            \"Bayesian Beamformer LORETA\", \"Gamma-MAP\", \"Source-MAP\"])\n",
    "\n",
    "all_solvers = [\"TRAP-MUSIC\", \"JAZZ-MUSIC\", \"LCMV\", \"sLORETA\"]\n",
    "\n",
    "settings = dict(\n",
    "    number_of_sources=(1, 10), \n",
    "    extents=(1, 25), \n",
    "    duration_of_trial=1, \n",
    "    target_snr=(1, 100))\n",
    "alpha = \"auto\"\n",
    "\n",
    "errors_corr = {sname: [] for sname in all_solvers}\n",
    "errors_mle = {sname: [] for sname in all_solvers}\n",
    "errors_auc = {sname: [] for sname in all_solvers}\n",
    "errors_nmse = {sname: [] for sname in all_solvers}\n",
    "\n",
    "solvers = dict()\n",
    "sim = Simulation(fwd, info, settings).simulate(100)\n",
    "    \n",
    "for i in range(sim.n_samples):\n",
    "    print(i)\n",
    "    stc = sim.source_data[i]\n",
    "    evoked = sim.eeg_data[i].average()\n",
    "\n",
    "    for solver_name in all_solvers :\n",
    "        print(solver_name)\n",
    "        solver = Solver(solver=solver_name)\n",
    "        if (not solver_name in solvers) or solver_name in redo_solvers:\n",
    "            if solver_name == \"Fully-Connected\":\n",
    "                solvers[solver_name] = solver.make_inverse_operator(fwd, evoked, alpha=alpha, settings=dict(duration_of_trial=0., target_snr=settings[\"target_snr\"], extents=settings[\"extents\"]), n_simulations=5000)\n",
    "            else:\n",
    "                solvers[solver_name] = solver.make_inverse_operator(fwd, evoked, alpha=alpha)\n",
    "        # stc_hat.plot(**pp, brain_kwargs=dict(title=solver.name))\n",
    "        # error = np.mean(corr(stc.data, stc_hat.data))\n",
    "        \n",
    "        try:\n",
    "            stc_hat = solvers[solver_name].apply_inverse_operator(evoked)\n",
    "            error_corr = np.mean(corr(stc.data, stc_hat.data))\n",
    "\n",
    "            error_mle = eval_mean_localization_error(stc.data[:, 0], stc_hat.data[:, 0], pos)\n",
    "            error_auc = eval_auc(stc.data[:, 0], stc_hat.data[:, 0], pos)\n",
    "            error_nmse = np.median(nmse(stc.data, stc_hat.data))\n",
    "\n",
    "        except:\n",
    "            print(\"\\t...didnt work this time\")\n",
    "            error_mle = np.nan\n",
    "            error_auc = np.nan\n",
    "            error_corr = np.nan\n",
    "            error_nmse = np.nan\n",
    "\n",
    "        errors_corr[solver_name].append( error_corr )\n",
    "        errors_mle[solver_name].append( error_mle )\n",
    "        errors_auc[solver_name].append( error_auc )\n",
    "        errors_nmse[solver_name].append( error_nmse )\n",
    "\n",
    "\n",
    "    print(\"Saving errors\")\n",
    "    fn = \"errors.pkl\"\n",
    "    with open(fn, 'wb') as f:\n",
    "        pkl.dump([errors_corr, errors_mle, errors_auc, errors_nmse, sim.simulation_info], f)"
   ]
  },
  {
   "cell_type": "code",
   "execution_count": null,
   "metadata": {},
   "outputs": [],
   "source": [
    "# import pickle as pkl\n",
    "# fn = \"errors.pkl\"\n",
    "# with open(fn, 'rb') as f:\n",
    "#     errors_corr, errors_mle, errors_auc = pkl.load(f)"
   ]
  },
  {
   "cell_type": "code",
   "execution_count": null,
   "metadata": {},
   "outputs": [],
   "source": [
    "# for key, val in errors_mle.items():\n",
    "#     errors_mle[key] = val[:31]\n",
    "\n",
    "# for key, val in errors_corr.items():\n",
    "#     errors_mle[key] = val[:31]\n",
    "\n",
    "# for key, val in errors_auc.items():\n",
    "#     errors_mle[key] = val[:31]\n",
    "    "
   ]
  },
  {
   "attachments": {},
   "cell_type": "markdown",
   "metadata": {},
   "source": [
    "# Plot"
   ]
  },
  {
   "cell_type": "code",
   "execution_count": null,
   "metadata": {},
   "outputs": [],
   "source": [
    "import pandas as pd\n",
    "import seaborn as sns\n",
    "sns.set(font_scale=0.8)\n",
    "errors = [errors_corr, errors_mle, errors_auc, errors_nmse]\n",
    "error_names = [\"errors_corr\", \"errors_mle\", \"errors_auc\", \"errors_nmse\"]\n",
    "for error, error_name in zip(errors, error_names):\n",
    "    df = pd.DataFrame(error)\n",
    "\n",
    "\n",
    "    sorted_index = df.median().sort_values().index\n",
    "    df = df[sorted_index]\n",
    "\n",
    "    plt.figure()\n",
    "    sns.boxplot(data=df)\n",
    "    plt.title(error_name)\n",
    "\n",
    "\n",
    "# df_mean_var = pd.concat([df.mean(), df.std()], axis=1)\n",
    "# df_mean_var = df_mean_var.rename(columns={0: \"Median\", 1: \"Variance\"})\n",
    "# df_mean_var[\"MedVar\"] = df_mean_var[\"Median\"] / df_mean_var[\"Variance\"]\n",
    "# df_mean_var[\"Method\"] = df_mean_var.index\n",
    "# df_mean_var = df_mean_var.sort_values(by=\"Median\")\n",
    "# display(df_mean_var)\n",
    "\n",
    "# plt.figure()\n",
    "# sns.scatterplot(x=\"Median\", y=\"Variance\", hue=\"Method\", size=\"MedVar\", data=df_mean_var)\n",
    "# plt.xlabel(\"Median\")\n",
    "# plt.ylabel(\"Variance\")\n"
   ]
  },
  {
   "cell_type": "code",
   "execution_count": null,
   "metadata": {},
   "outputs": [],
   "source": [
    "settings = dict(number_of_sources=3, extents=(25, 35), duration_of_trial=0.025, target_snr=99999)\n",
    "\n",
    "sim = Simulation(fwd, info, settings).simulate(2)\n",
    "stc = sim.source_data[0]\n",
    "evoked = sim.eeg_data[0].average()\n",
    "\n",
    "brain = stc.plot(**pp)\n",
    "brain.add_text(0.1, 0.9, 'Ground Truth', 'title',\n",
    "               font_size=14)"
   ]
  },
  {
   "cell_type": "code",
   "execution_count": null,
   "metadata": {},
   "outputs": [],
   "source": []
  }
 ],
 "metadata": {
  "kernelspec": {
   "display_name": "invertenv",
   "language": "python",
   "name": "python3"
  },
  "language_info": {
   "codemirror_mode": {
    "name": "ipython",
    "version": 3
   },
   "file_extension": ".py",
   "mimetype": "text/x-python",
   "name": "python",
   "nbconvert_exporter": "python",
   "pygments_lexer": "ipython3",
   "version": "3.8.10"
  },
  "orig_nbformat": 4,
  "vscode": {
   "interpreter": {
    "hash": "dda1e5657e486f74a7b39841fb8103db2af51a77394f44c39a7821a371af47bd"
   }
  }
 },
 "nbformat": 4,
 "nbformat_minor": 2
}
