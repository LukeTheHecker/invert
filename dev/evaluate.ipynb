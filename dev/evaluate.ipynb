{
 "cells": [
  {
   "cell_type": "code",
   "execution_count": 1,
   "metadata": {},
   "outputs": [],
   "source": [
    "%load_ext autoreload\n",
    "%autoreload 2\n",
    "%matplotlib qt\n",
    "import sys; sys.path.insert(0, '../')\n",
    "import numpy as np\n",
    "from matplotlib import pyplot as plt\n",
    "from scipy.stats import pearsonr\n",
    "import mne\n",
    "from esinet import Simulation\n",
    "from esinet.forward import get_info, create_forward_model\n",
    "from esinet.util import unpack_fwd\n",
    "pp = dict(surface='white', hemi='both')"
   ]
  },
  {
   "cell_type": "code",
   "execution_count": 2,
   "metadata": {},
   "outputs": [
    {
     "name": "stderr",
     "output_type": "stream",
     "text": [
      "[Parallel(n_jobs=4)]: Using backend LokyBackend with 4 concurrent workers.\n",
      "[Parallel(n_jobs=4)]: Done   2 out of   4 | elapsed:    3.0s remaining:    3.0s\n",
      "[Parallel(n_jobs=4)]: Done   4 out of   4 | elapsed:    3.2s remaining:    0.0s\n",
      "[Parallel(n_jobs=4)]: Done   4 out of   4 | elapsed:    3.2s finished\n",
      "[Parallel(n_jobs=4)]: Using backend LokyBackend with 4 concurrent workers.\n",
      "[Parallel(n_jobs=4)]: Done   2 out of   4 | elapsed:    0.3s remaining:    0.3s\n",
      "[Parallel(n_jobs=4)]: Done   4 out of   4 | elapsed:    0.3s remaining:    0.0s\n",
      "[Parallel(n_jobs=4)]: Done   4 out of   4 | elapsed:    0.3s finished\n",
      "[Parallel(n_jobs=4)]: Using backend LokyBackend with 4 concurrent workers.\n",
      "[Parallel(n_jobs=4)]: Done   2 out of   4 | elapsed:    0.4s remaining:    0.4s\n",
      "[Parallel(n_jobs=4)]: Done   4 out of   4 | elapsed:    0.4s remaining:    0.0s\n",
      "[Parallel(n_jobs=4)]: Done   4 out of   4 | elapsed:    0.4s finished\n"
     ]
    }
   ],
   "source": [
    "info = get_info(kind='biosemi32')\n",
    "fwd = create_forward_model(info=info, sampling='ico3')\n",
    "\n",
    "leadfield, pos = unpack_fwd(fwd)[1:3]\n",
    "n_chans, n_dipoles = leadfield.shape"
   ]
  },
  {
   "cell_type": "code",
   "execution_count": 22,
   "metadata": {},
   "outputs": [
    {
     "name": "stdout",
     "output_type": "stream",
     "text": [
      "-- number of adjacent vertices : 1284\n",
      "Simulating data based on sparse patches.\n"
     ]
    },
    {
     "name": "stderr",
     "output_type": "stream",
     "text": [
      "100%|██████████| 2/2 [00:00<00:00,  4.08it/s]\n",
      "100%|██████████| 2/2 [00:00<00:00, 2005.88it/s]\n"
     ]
    },
    {
     "name": "stdout",
     "output_type": "stream",
     "text": [
      "source data shape:  (1284, 100) (1284, 100)\n"
     ]
    },
    {
     "name": "stderr",
     "output_type": "stream",
     "text": [
      "100%|██████████| 2/2 [00:00<00:00, 222.81it/s]"
     ]
    },
    {
     "name": "stdout",
     "output_type": "stream",
     "text": [
      "Using control points [0.00000000e+00 0.00000000e+00 7.33737466e-09]\n"
     ]
    },
    {
     "name": "stderr",
     "output_type": "stream",
     "text": [
      "\n"
     ]
    },
    {
     "name": "stdout",
     "output_type": "stream",
     "text": [
      "For automatic theme detection, \"darkdetect\" has to be installed! You can install it with `pip install darkdetect`\n",
      "To use light mode, \"qdarkstyle\" has to be installed! You can install it with `pip install qdarkstyle`\n"
     ]
    }
   ],
   "source": [
    "settings = dict(number_of_sources=1, extents=25, duration_of_trial=0.1, target_snr=5)\n",
    "\n",
    "sim = Simulation(fwd, info, settings).simulate(2)\n",
    "stc = sim.source_data[0]\n",
    "evoked = sim.eeg_data[0].average()\n",
    "\n",
    "brain = stc.plot(**pp)\n",
    "brain.add_text(0.1, 0.9, 'Ground Truth', 'title',\n",
    "               font_size=14)"
   ]
  },
  {
   "cell_type": "code",
   "execution_count": 23,
   "metadata": {},
   "outputs": [
    {
     "name": "stdout",
     "output_type": "stream",
     "text": [
      "Using control points [0.00000000e+00 0.00000000e+00 9.33881343e-09]\n"
     ]
    },
    {
     "name": "stderr",
     "output_type": "stream",
     "text": [
      "c:\\Users\\Lukas\\Documents\\projects\\invert\\dev\\..\\invert\\util\\util.py:77: RuntimeWarning: divide by zero encountered in double_scalars\n",
      "  return 100 * np.sum( (M-M_hat)**2 ) / np.sum(M**2)\n"
     ]
    },
    {
     "name": "stdout",
     "output_type": "stream",
     "text": [
      "For automatic theme detection, \"darkdetect\" has to be installed! You can install it with `pip install darkdetect`\n",
      "To use light mode, \"qdarkstyle\" has to be installed! You can install it with `pip install qdarkstyle`\n"
     ]
    },
    {
     "name": "stdout",
     "output_type": "stream",
     "text": [
      "Using control points [0.00000000e+00 0.00000000e+00 1.15580844e-09]\n",
      "Using control points [0.00000000e+00 0.00000000e+00 3.74902319e-10]\n"
     ]
    }
   ],
   "source": [
    "from invert.solvers.matching_pursuit import SolverSOMP, SolverCOSAMP\n",
    "from invert.solvers.minimum_norm_estimates import SolverMinimumL1Norm\n",
    "\n",
    "solver = SolverSOMP()\n",
    "# solver = SolverMinimumL1Norm()\n",
    "solver.make_inverse_operator(fwd)\n",
    "stc_ = solver.apply_inverse_operator(evoked)\n",
    "brain = stc_.plot(**pp)\n",
    "brain.add_text(0.1, 0.9, solver.name, 'title',\n",
    "               font_size=14)"
   ]
  },
  {
   "cell_type": "code",
   "execution_count": 20,
   "metadata": {},
   "outputs": [
    {
     "name": "stdout",
     "output_type": "stream",
     "text": [
      "-- number of adjacent vertices : 1284\n",
      "Simulating data based on sparse patches.\n"
     ]
    },
    {
     "name": "stderr",
     "output_type": "stream",
     "text": [
      "100%|██████████| 2/2 [00:00<00:00,  4.08it/s]\n",
      "100%|██████████| 2/2 [00:00<00:00, 285.70it/s]\n"
     ]
    },
    {
     "name": "stdout",
     "output_type": "stream",
     "text": [
      "source data shape:  (1284, 1000) (1284, 1000)\n"
     ]
    },
    {
     "name": "stderr",
     "output_type": "stream",
     "text": [
      "100%|██████████| 2/2 [00:00<00:00, 17.36it/s]"
     ]
    },
    {
     "name": "stdout",
     "output_type": "stream",
     "text": [
      "MNE"
     ]
    },
    {
     "name": "stderr",
     "output_type": "stream",
     "text": [
      "\n"
     ]
    },
    {
     "name": "stdout",
     "output_type": "stream",
     "text": [
      "\n"
     ]
    },
    {
     "ename": "NameError",
     "evalue": "name 'solvers' is not defined",
     "output_type": "error",
     "traceback": [
      "\u001b[1;31m---------------------------------------------------------------------------\u001b[0m",
      "\u001b[1;31mNameError\u001b[0m                                 Traceback (most recent call last)",
      "\u001b[1;32mc:\\Users\\Lukas\\Documents\\projects\\invert\\dev\\evaluate.ipynb Zelle 5\u001b[0m in \u001b[0;36m<cell line: 18>\u001b[1;34m()\u001b[0m\n\u001b[0;32m     <a href='vscode-notebook-cell:/c%3A/Users/Lukas/Documents/projects/invert/dev/evaluate.ipynb#W3sZmlsZQ%3D%3D?line=24'>25</a>\u001b[0m \u001b[39mprint\u001b[39m(solver_name)\n\u001b[0;32m     <a href='vscode-notebook-cell:/c%3A/Users/Lukas/Documents/projects/invert/dev/evaluate.ipynb#W3sZmlsZQ%3D%3D?line=25'>26</a>\u001b[0m solver \u001b[39m=\u001b[39m Solver(solver\u001b[39m=\u001b[39msolver_name)\n\u001b[1;32m---> <a href='vscode-notebook-cell:/c%3A/Users/Lukas/Documents/projects/invert/dev/evaluate.ipynb#W3sZmlsZQ%3D%3D?line=26'>27</a>\u001b[0m \u001b[39mif\u001b[39;00m (\u001b[39mnot\u001b[39;00m solver_name \u001b[39min\u001b[39;00m solvers) \u001b[39mor\u001b[39;00m (\u001b[39m\"\u001b[39m\u001b[39msparse\u001b[39m\u001b[39m\"\u001b[39m \u001b[39min\u001b[39;00m solver_name\u001b[39m.\u001b[39mlower() \u001b[39mor\u001b[39;00m \u001b[39m\"\u001b[39m\u001b[39mbayes\u001b[39m\u001b[39m\"\u001b[39m \u001b[39min\u001b[39;00m solver_name\u001b[39m.\u001b[39mlower()):\n\u001b[0;32m     <a href='vscode-notebook-cell:/c%3A/Users/Lukas/Documents/projects/invert/dev/evaluate.ipynb#W3sZmlsZQ%3D%3D?line=27'>28</a>\u001b[0m     solvers[solver_name] \u001b[39m=\u001b[39m solver\u001b[39m.\u001b[39mmake_inverse_operator(fwd, evoked, alpha\u001b[39m=\u001b[39m\u001b[39m\"\u001b[39m\u001b[39mauto\u001b[39m\u001b[39m\"\u001b[39m)\n\u001b[0;32m     <a href='vscode-notebook-cell:/c%3A/Users/Lukas/Documents/projects/invert/dev/evaluate.ipynb#W3sZmlsZQ%3D%3D?line=28'>29</a>\u001b[0m stc_hat \u001b[39m=\u001b[39m solvers[solver_name]\u001b[39m.\u001b[39mapply_inverse_operator(evoked)\n",
      "\u001b[1;31mNameError\u001b[0m: name 'solvers' is not defined"
     ]
    }
   ],
   "source": [
    "from invert import Solver\n",
    "from invert.config import all_solvers\n",
    "from invert.evaluate import nmse, corr\n",
    "from invert.adapters import contextualize_bd\n",
    "import pickle as pkl\n",
    "\n",
    "if \"LUCAS\" in all_solvers:\n",
    "    all_solvers.remove(\"LUCAS\")\n",
    "if \"Multiple Sparse Priors\" in all_solvers:\n",
    "    all_solvers.remove(\"Multiple Sparse Priors\")\n",
    "if \"Backus-Gilbert\" in all_solvers:\n",
    "    all_solvers.remove(\"Backus-Gilbert\")\n",
    "\n",
    "settings = dict(number_of_sources=(1,10), extents=(1, 40), duration_of_trial=1, target_snr=(1,25))\n",
    "errors = {sname: [] for sname in all_solvers}\n",
    "# solvers = dict()\n",
    "\n",
    "for i in range(5):\n",
    "    # print(i)\n",
    "    sim = Simulation(fwd, info, settings).simulate(2)\n",
    "    stc = sim.source_data[0]\n",
    "    evoked = sim.eeg_data[0].average()\n",
    "\n",
    "    for solver_name in all_solvers:\n",
    "        print(solver_name)\n",
    "        solver = Solver(solver=solver_name)\n",
    "        if (not solver_name in solvers) or (\"sparse\" in solver_name.lower() or \"bayes\" in solver_name.lower()):\n",
    "            solvers[solver_name] = solver.make_inverse_operator(fwd, evoked, alpha=\"auto\")\n",
    "        stc_hat = solvers[solver_name].apply_inverse_operator(evoked)\n",
    "        # stc_hat.plot(**pp, brain_kwargs=dict(title=solver.name))\n",
    "        # error = np.mean(corr(stc.data, stc_hat.data))\n",
    "        error = np.mean(corr(abs(stc.data), abs(stc_hat.data)))\n",
    "        \n",
    "        errors[solver_name].append( error )\n",
    "        \n",
    "        # Add temporal Contextualization (CMNE-type)\n",
    "        # solver_name = \"c\" + solver_name\n",
    "        # if not solver_name in errors:\n",
    "        #     errors[solver_name] = []\n",
    "        # stc_hat = contextualize_bd(stc_hat, fwd, fast=True)\n",
    "        # error = np.mean(corr(stc.data, stc_hat.data))\n",
    "        \n",
    "        # errors[solver_name].append( error )\n",
    "\n",
    "\n",
    "\n",
    "    # if i > 22:\n",
    "    #     fn = \"errors.pkl\"\n",
    "    #     with open(fn, 'wb') as f:\n",
    "    #         pkl.dump(errors, f)"
   ]
  },
  {
   "cell_type": "code",
   "execution_count": null,
   "metadata": {},
   "outputs": [],
   "source": [
    "import pickle as pkl\n",
    "fn = \"errors.pkl\"\n",
    "with open(fn, 'rb') as f:\n",
    "    errors = pkl.load(f)"
   ]
  },
  {
   "cell_type": "code",
   "execution_count": null,
   "metadata": {},
   "outputs": [],
   "source": [
    "import pandas as pd\n",
    "import seaborn as sns\n",
    "sns.set(font_scale=0.8)\n",
    "df = pd.DataFrame(errors)\n",
    "sorted_index = df.median().sort_values().index\n",
    "df = df[sorted_index]\n",
    "\n",
    "plt.figure()\n",
    "sns.boxplot(data=df)\n",
    "plt.title(\"Correlation with ground truth\")\n",
    "\n",
    "\n",
    "df_mean_var = pd.concat([df.mean(), df.std()], axis=1)\n",
    "df_mean_var = df_mean_var.rename(columns={0: \"Median\", 1: \"Variance\"})\n",
    "df_mean_var[\"MedVar\"] = df_mean_var[\"Median\"] / df_mean_var[\"Variance\"]\n",
    "df_mean_var[\"Method\"] = df_mean_var.index\n",
    "display(df_mean_var)\n",
    "\n",
    "plt.figure()\n",
    "sns.scatterplot(x=\"Median\", y=\"Variance\", hue=\"Method\", size=\"MedVar\", data=df_mean_var)\n",
    "plt.xlabel(\"Median\")\n",
    "plt.ylabel(\"Variance\")\n"
   ]
  },
  {
   "cell_type": "code",
   "execution_count": 29,
   "metadata": {},
   "outputs": [
    {
     "name": "stdout",
     "output_type": "stream",
     "text": [
      "-- number of adjacent vertices : 1284\n",
      "Simulating data based on sparse patches.\n"
     ]
    },
    {
     "name": "stderr",
     "output_type": "stream",
     "text": [
      "100%|██████████| 2/2 [00:00<00:00,  4.13it/s]\n",
      "100%|██████████| 2/2 [00:00<00:00, 2005.40it/s]\n"
     ]
    },
    {
     "name": "stdout",
     "output_type": "stream",
     "text": [
      "source data shape:  (1284, 25) (1284, 25)\n"
     ]
    },
    {
     "name": "stderr",
     "output_type": "stream",
     "text": [
      "100%|██████████| 2/2 [00:00<00:00, 401.10it/s]"
     ]
    },
    {
     "name": "stdout",
     "output_type": "stream",
     "text": [
      "Using control points [7.65419547e-12 2.74940874e-10 8.61962362e-08]\n"
     ]
    },
    {
     "name": "stderr",
     "output_type": "stream",
     "text": [
      "\n"
     ]
    },
    {
     "name": "stdout",
     "output_type": "stream",
     "text": [
      "For automatic theme detection, \"darkdetect\" has to be installed! You can install it with `pip install darkdetect`\n",
      "To use light mode, \"qdarkstyle\" has to be installed! You can install it with `pip install qdarkstyle`\n"
     ]
    }
   ],
   "source": [
    "settings = dict(number_of_sources=3, extents=(25, 35), duration_of_trial=0.025, target_snr=99999)\n",
    "\n",
    "sim = Simulation(fwd, info, settings).simulate(2)\n",
    "stc = sim.source_data[0]\n",
    "evoked = sim.eeg_data[0].average()\n",
    "\n",
    "brain = stc.plot(**pp)\n",
    "brain.add_text(0.1, 0.9, 'Ground Truth', 'title',\n",
    "               font_size=14)"
   ]
  },
  {
   "cell_type": "code",
   "execution_count": 30,
   "metadata": {},
   "outputs": [
    {
     "name": "stdout",
     "output_type": "stream",
     "text": [
      "Using control points [0.00000000e+00 0.00000000e+00 6.66902285e-08]\n",
      "For automatic theme detection, \"darkdetect\" has to be installed! You can install it with `pip install darkdetect`\n",
      "To use light mode, \"qdarkstyle\" has to be installed! You can install it with `pip install qdarkstyle`\n",
      "1/1 [==============================] - 0s 15ms/step\n",
      "Using control points [1.02043274e-09 1.23855303e-09 3.65582625e-09]\n"
     ]
    },
    {
     "name": "stderr",
     "output_type": "stream",
     "text": [
      "c:\\Users\\Lukas\\Envs\\invertenv\\lib\\site-packages\\scipy\\optimize\\_minimize.py:863: RuntimeWarning: Method 'bounded' does not support relative tolerance in x; defaulting to absolute tolerance.\n",
      "  warn(\"Method 'bounded' does not support relative tolerance in x; \"\n"
     ]
    },
    {
     "name": "stdout",
     "output_type": "stream",
     "text": [
      "For automatic theme detection, \"darkdetect\" has to be installed! You can install it with `pip install darkdetect`\n",
      "To use light mode, \"qdarkstyle\" has to be installed! You can install it with `pip install qdarkstyle`\n",
      "Champ: 0.49981637890587544\n",
      "FC: 0.15080562482670634\n"
     ]
    }
   ],
   "source": [
    "# from invert.solvers.empirical_bayes import SolverChampagne\n",
    "# from invert.solvers.esinet import SolverFullyConnected\n",
    "# solver_fc = SolverFullyConnected().make_inverse_operator(fwd, evoked)\n",
    "# solver_ch = SolverChampagne().make_inverse_operator(fwd, evoked)\n",
    "from invert.evaluate import nmse, corr\n",
    "\n",
    "stc_hat = solver_ch.apply_inverse_operator(evoked)\n",
    "stc_hat.plot(**pp)\n",
    "# brain.add_text(0.1, 0.9, \"Champagne\", 'title',\n",
    "#                font_size=14)\n",
    "error_ch = np.mean(corr(abs(stc.data), abs(stc_hat.data)))\n",
    "\n",
    "stc_hat = solver_fc.apply_inverse_operator(evoked)\n",
    "stc_hat.plot(**pp)\n",
    "# brain.add_text(0.1, 0.9, \"Fully-Connected\", 'title',\n",
    "#                font_size=14)\n",
    "error_fc = np.mean(corr(abs(stc.data), abs(stc_hat.data)))\n",
    "\n",
    "print(f\"Champ: {error_ch}\\nFC: {error_fc}\")"
   ]
  },
  {
   "cell_type": "code",
   "execution_count": null,
   "metadata": {},
   "outputs": [],
   "source": []
  }
 ],
 "metadata": {
  "kernelspec": {
   "display_name": "Python 3.8.10 ('invertenv')",
   "language": "python",
   "name": "python3"
  },
  "language_info": {
   "codemirror_mode": {
    "name": "ipython",
    "version": 3
   },
   "file_extension": ".py",
   "mimetype": "text/x-python",
   "name": "python",
   "nbconvert_exporter": "python",
   "pygments_lexer": "ipython3",
   "version": "3.8.10"
  },
  "orig_nbformat": 4,
  "vscode": {
   "interpreter": {
    "hash": "109cbb5ed194d0e1c7aea844cf0a4a10faadf2a56a1c0eb03142356ad9dcb9c6"
   }
  }
 },
 "nbformat": 4,
 "nbformat_minor": 2
}
