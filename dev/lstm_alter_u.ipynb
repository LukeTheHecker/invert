{
 "cells": [
  {
   "cell_type": "code",
   "execution_count": 1,
   "metadata": {},
   "outputs": [],
   "source": [
    "%load_ext autoreload\n",
    "%autoreload 2\n",
    "%matplotlib qt\n",
    "import sys; sys.path.insert(0, '../')\n",
    "from copy import deepcopy\n",
    "import numpy as np\n",
    "from matplotlib import pyplot as plt\n",
    "from scipy.stats import pearsonr\n",
    "import mne\n",
    "from esinet import Simulation\n",
    "from esinet.forward import get_info, create_forward_model\n",
    "from esinet.util import unpack_fwd\n",
    "pp = dict(surface='white', hemi='both', verbose=0)"
   ]
  },
  {
   "cell_type": "markdown",
   "metadata": {},
   "source": [
    "# Funs"
   ]
  },
  {
   "cell_type": "code",
   "execution_count": 2,
   "metadata": {},
   "outputs": [],
   "source": [
    "from tensorflow.keras import backend as K\n",
    "def prep_data(sim):\n",
    "    X = np.stack([eeg.average().data for eeg in sim.eeg_data])\n",
    "    y = np.stack([src.data for src in sim.source_data])\n",
    "    for i, (x_sample, y_sample) in enumerate(zip(X, y)):\n",
    "        # X[i] = np.stack([(x - np.mean(x)) / np.std(x) for x in x_sample.T], axis=0).T\n",
    "        # y[i] = np.stack([ y / np.max(abs(y)) for y in y_sample.T], axis=0).T\n",
    "\n",
    "        X[i] = np.stack([x - np.mean(x) for x in x_sample.T], axis=0).T\n",
    "        X[i] = np.stack([x / np.std(x) for x in x_sample.T], axis=0).T\n",
    "        \n",
    "        # X[i] /= np.linalg.norm(X[i])\n",
    "        y[i] /= np.max(abs(y[i]))\n",
    "\n",
    "    X = np.swapaxes(X, 1,2)\n",
    "    y = np.swapaxes(y, 1,2)\n",
    "    \n",
    "    return X, y\n",
    "    \n",
    "def make_mask(y, thresh=0.01):\n",
    "    return np.stack([abs(yy)>abs(yy).max()*thresh for yy in y[:, 0]], axis=0).astype(float)\n",
    "\n",
    "def get_components(X, leadfield_norm):\n",
    "    X_norm = (X[:, 0].T / np.linalg.norm(X[:, 0], axis=1)).T\n",
    "    X_norm = X_norm[:, np.newaxis]\n",
    "    X_components = (leadfield_norm.T @ X_norm[:, 0, :].T).T\n",
    "    return X_components\n",
    "\n",
    "def clipped_linear(x, a_min=-1, a_max=1):\n",
    "    return K.clip(x, a_min, a_max)\n",
    "\n",
    "def generator(batch_size, leadfield, n_sources=(1, 15)):\n",
    "    leadfield -= leadfield.mean(axis=0)\n",
    "    leadfield_norm = leadfield / np.linalg.norm(leadfield, axis=0)\n",
    "    n_chans, n_dipoles = leadfield.shape\n",
    "\n",
    "    dipoles = np.arange(n_dipoles)\n",
    "    while True:\n",
    "        numbers = np.random.randint(*n_sources, batch_size)\n",
    "        y = np.zeros((batch_size, n_dipoles))\n",
    "        x = np.zeros((batch_size, n_chans))\n",
    "        \n",
    "        for sample in range(batch_size):\n",
    "            current_indices = np.random.choice(dipoles, numbers[sample])\n",
    "            y[sample, current_indices] = np.random.rand(numbers[sample])*2-1\n",
    "            x[sample, :] = leadfield @ y[sample]\n",
    "        x_norm = (x.T / np.linalg.norm(x, axis=1)).T\n",
    "        x_comp = (leadfield_norm.T @ x_norm.T).T\n",
    "        # x_comp = (x_comp.T / x_comp.std(axis=1)).T\n",
    "        y = (y.T / abs(y).max(axis=1)).T\n",
    "        yield (x_comp[:, np.newaxis], y[:, np.newaxis])\n",
    "\n",
    "def generator_x(batch_size, leadfield, n_sources=(1, 15)):\n",
    "    leadfield -= leadfield.mean(axis=0)\n",
    "    leadfield_norm = leadfield / np.linalg.norm(leadfield, axis=0)\n",
    "    n_chans, n_dipoles = leadfield.shape\n",
    "\n",
    "    dipoles = np.arange(n_dipoles)\n",
    "    while True:\n",
    "        # print(\"next\")\n",
    "        numbers = np.random.randint(*n_sources, batch_size)\n",
    "        y = np.zeros((batch_size, n_dipoles))\n",
    "        x = np.zeros((batch_size, n_chans))\n",
    "        \n",
    "        for sample in range(batch_size):\n",
    "            current_indices = np.random.choice(dipoles, numbers[sample])\n",
    "            y[sample, current_indices] = np.random.rand(numbers[sample])*2-1\n",
    "            x[sample, :] = leadfield @ y[sample]\n",
    "        x = (x.T - np.mean(x, axis=1)).T\n",
    "        x_norm = (x.T / np.std(x, axis=1)).T\n",
    "        y = (y.T / abs(y).max(axis=1)).T\n",
    "        yield (x_norm[:, np.newaxis], y[:, np.newaxis])\n",
    "\n",
    "# x_comp, y = generator(32, leadfield).__next__()\n",
    "# x, y = generator_x(32, leadfield, n_sources=(1,8)).__next__()\n",
    "# print(y.min())"
   ]
  },
  {
   "cell_type": "markdown",
   "metadata": {},
   "source": [
    "# Forward"
   ]
  },
  {
   "cell_type": "code",
   "execution_count": 3,
   "metadata": {},
   "outputs": [
    {
     "name": "stderr",
     "output_type": "stream",
     "text": [
      "[Parallel(n_jobs=4)]: Using backend LokyBackend with 4 concurrent workers.\n",
      "[Parallel(n_jobs=4)]: Done   2 out of   4 | elapsed:    3.4s remaining:    3.4s\n",
      "[Parallel(n_jobs=4)]: Done   4 out of   4 | elapsed:    3.6s remaining:    0.0s\n",
      "[Parallel(n_jobs=4)]: Done   4 out of   4 | elapsed:    3.6s finished\n",
      "[Parallel(n_jobs=4)]: Using backend LokyBackend with 4 concurrent workers.\n",
      "[Parallel(n_jobs=4)]: Done   2 out of   4 | elapsed:    0.2s remaining:    0.2s\n",
      "[Parallel(n_jobs=4)]: Done   4 out of   4 | elapsed:    0.2s remaining:    0.0s\n",
      "[Parallel(n_jobs=4)]: Done   4 out of   4 | elapsed:    0.2s finished\n",
      "[Parallel(n_jobs=4)]: Using backend LokyBackend with 4 concurrent workers.\n",
      "[Parallel(n_jobs=4)]: Done   2 out of   4 | elapsed:    0.3s remaining:    0.3s\n",
      "[Parallel(n_jobs=4)]: Done   4 out of   4 | elapsed:    0.3s remaining:    0.0s\n",
      "[Parallel(n_jobs=4)]: Done   4 out of   4 | elapsed:    0.3s finished\n"
     ]
    }
   ],
   "source": [
    "info = get_info(kind='biosemi128')\n",
    "fwd = create_forward_model(info=info, sampling='ico3')\n",
    "\n",
    "leadfield, pos = unpack_fwd(fwd)[1:3]\n",
    "leadfield -= leadfield.mean(axis=0)\n",
    "leadfield_norm = leadfield / np.linalg.norm(leadfield, axis=0)\n",
    "\n",
    "n_chans, n_dipoles = leadfield.shape"
   ]
  },
  {
   "cell_type": "markdown",
   "metadata": {},
   "source": [
    "# Simulation"
   ]
  },
  {
   "cell_type": "code",
   "execution_count": 4,
   "metadata": {},
   "outputs": [
    {
     "name": "stdout",
     "output_type": "stream",
     "text": [
      "-- number of adjacent vertices : 1284\n",
      "Simulating data based on sparse patches.\n"
     ]
    },
    {
     "name": "stderr",
     "output_type": "stream",
     "text": [
      "  0%|          | 0/2 [00:00<?, ?it/s]c:\\Users\\Lukas\\Envs\\invertenv\\lib\\site-packages\\esinet\\simulation.py:387: FutureWarning: The frame.append method is deprecated and will be removed from pandas in a future version. Use pandas.concat instead.\n",
      "  self.simulation_info = self.simulation_info.append(d, ignore_index=True)\n",
      " 50%|█████     | 1/2 [00:00<00:00,  2.33it/s]c:\\Users\\Lukas\\Envs\\invertenv\\lib\\site-packages\\esinet\\simulation.py:387: FutureWarning: The frame.append method is deprecated and will be removed from pandas in a future version. Use pandas.concat instead.\n",
      "  self.simulation_info = self.simulation_info.append(d, ignore_index=True)\n",
      "100%|██████████| 2/2 [00:00<00:00,  4.62it/s]\n",
      "100%|██████████| 2/2 [00:00<?, ?it/s]\n"
     ]
    },
    {
     "name": "stdout",
     "output_type": "stream",
     "text": [
      "source data shape:  (1284, 1) (1284, 1)\n"
     ]
    },
    {
     "name": "stderr",
     "output_type": "stream",
     "text": [
      "100%|██████████| 2/2 [00:00<00:00, 668.63it/s]\n"
     ]
    }
   ],
   "source": [
    "settings = dict(\n",
    "    number_of_sources=(1, 5), \n",
    "    extents=1, \n",
    "    duration_of_trial=0.001, \n",
    "    target_snr=1e99, \n",
    "    source_number_weighting=False\n",
    "    )\n",
    "\n",
    "\n",
    "sim = Simulation(fwd, info, settings).simulate(2)\n",
    "stc = sim.source_data[0]\n",
    "evoked = sim.eeg_data[0].average()\n",
    "\n",
    "\n",
    "X, y = prep_data(sim)\n",
    "X_components = get_components(X, leadfield_norm)\n",
    "\n",
    "y_mask = make_mask(y)"
   ]
  },
  {
   "cell_type": "markdown",
   "metadata": {},
   "source": [
    "# Train"
   ]
  },
  {
   "cell_type": "markdown",
   "metadata": {},
   "source": [
    "## FC Model"
   ]
  },
  {
   "cell_type": "code",
   "execution_count": 6,
   "metadata": {},
   "outputs": [
    {
     "name": "stdout",
     "output_type": "stream",
     "text": [
      "Model: \"Prelocalizer\"\n",
      "_________________________________________________________________\n",
      " Layer (type)                Output Shape              Param #   \n",
      "=================================================================\n",
      " Input (InputLayer)          [(None, None, 1284)]      0         \n",
      "                                                                 \n",
      " time_distributed_2 (TimeDis  (None, None, 300)        385500    \n",
      " tributed)                                                       \n",
      "                                                                 \n",
      " time_distributed_3 (TimeDis  (None, None, 1284)       386484    \n",
      " tributed)                                                       \n",
      "                                                                 \n",
      "=================================================================\n",
      "Total params: 771,984\n",
      "Trainable params: 771,984\n",
      "Non-trainable params: 0\n",
      "_________________________________________________________________\n",
      "Epoch 1/500\n",
      "100/100 [==============================] - 80s 803ms/step - loss: -0.0782\n",
      "Epoch 2/500\n",
      "100/100 [==============================] - 76s 764ms/step - loss: -0.1623\n",
      "Epoch 3/500\n",
      "  1/100 [..............................] - ETA: 1:12 - loss: -0.1917"
     ]
    },
    {
     "ename": "KeyboardInterrupt",
     "evalue": "",
     "output_type": "error",
     "traceback": [
      "\u001b[1;31m---------------------------------------------------------------------------\u001b[0m",
      "\u001b[1;31mKeyboardInterrupt\u001b[0m                         Traceback (most recent call last)",
      "\u001b[1;32mc:\\Users\\Lukas\\Documents\\projects\\invert\\dev\\lstm_alter_u.ipynb Zelle 10\u001b[0m in \u001b[0;36m<cell line: 46>\u001b[1;34m()\u001b[0m\n\u001b[0;32m     <a href='vscode-notebook-cell:/c%3A/Users/Lukas/Documents/projects/invert/dev/lstm_alter_u.ipynb#X12sZmlsZQ%3D%3D?line=41'>42</a>\u001b[0m model\u001b[39m.\u001b[39msummary()\n\u001b[0;32m     <a href='vscode-notebook-cell:/c%3A/Users/Lukas/Documents/projects/invert/dev/lstm_alter_u.ipynb#X12sZmlsZQ%3D%3D?line=43'>44</a>\u001b[0m \u001b[39m# callbacks = [tf.keras.callbacks.EarlyStopping(patience=50, min_delta=0.00, monitor=\"val_loss\", restore_best_weights=True)]\u001b[39;00m\n\u001b[0;32m     <a href='vscode-notebook-cell:/c%3A/Users/Lukas/Documents/projects/invert/dev/lstm_alter_u.ipynb#X12sZmlsZQ%3D%3D?line=44'>45</a>\u001b[0m \u001b[39m# model.fit(X_components[:, np.newaxis], y_mask[:, np.newaxis], epochs=epochs, batch_size=batch_size, validation_split=0.15, callbacks=callbacks)\u001b[39;00m\n\u001b[1;32m---> <a href='vscode-notebook-cell:/c%3A/Users/Lukas/Documents/projects/invert/dev/lstm_alter_u.ipynb#X12sZmlsZQ%3D%3D?line=45'>46</a>\u001b[0m model\u001b[39m.\u001b[39;49mfit(x\u001b[39m=\u001b[39;49mgenerator(batch_size, leadfield, n_sources\u001b[39m=\u001b[39;49m(\u001b[39m1\u001b[39;49m, \u001b[39m2\u001b[39;49m)), epochs\u001b[39m=\u001b[39;49mepochs,  steps_per_epoch\u001b[39m=\u001b[39;49m\u001b[39m100\u001b[39;49m)\n",
      "File \u001b[1;32mc:\\Users\\Lukas\\Envs\\invertenv\\lib\\site-packages\\keras\\utils\\traceback_utils.py:64\u001b[0m, in \u001b[0;36mfilter_traceback.<locals>.error_handler\u001b[1;34m(*args, **kwargs)\u001b[0m\n\u001b[0;32m     62\u001b[0m filtered_tb \u001b[39m=\u001b[39m \u001b[39mNone\u001b[39;00m\n\u001b[0;32m     63\u001b[0m \u001b[39mtry\u001b[39;00m:\n\u001b[1;32m---> 64\u001b[0m   \u001b[39mreturn\u001b[39;00m fn(\u001b[39m*\u001b[39;49margs, \u001b[39m*\u001b[39;49m\u001b[39m*\u001b[39;49mkwargs)\n\u001b[0;32m     65\u001b[0m \u001b[39mexcept\u001b[39;00m \u001b[39mException\u001b[39;00m \u001b[39mas\u001b[39;00m e:  \u001b[39m# pylint: disable=broad-except\u001b[39;00m\n\u001b[0;32m     66\u001b[0m   filtered_tb \u001b[39m=\u001b[39m _process_traceback_frames(e\u001b[39m.\u001b[39m__traceback__)\n",
      "File \u001b[1;32mc:\\Users\\Lukas\\Envs\\invertenv\\lib\\site-packages\\keras\\engine\\training.py:1409\u001b[0m, in \u001b[0;36mModel.fit\u001b[1;34m(self, x, y, batch_size, epochs, verbose, callbacks, validation_split, validation_data, shuffle, class_weight, sample_weight, initial_epoch, steps_per_epoch, validation_steps, validation_batch_size, validation_freq, max_queue_size, workers, use_multiprocessing)\u001b[0m\n\u001b[0;32m   1402\u001b[0m \u001b[39mwith\u001b[39;00m tf\u001b[39m.\u001b[39mprofiler\u001b[39m.\u001b[39mexperimental\u001b[39m.\u001b[39mTrace(\n\u001b[0;32m   1403\u001b[0m     \u001b[39m'\u001b[39m\u001b[39mtrain\u001b[39m\u001b[39m'\u001b[39m,\n\u001b[0;32m   1404\u001b[0m     epoch_num\u001b[39m=\u001b[39mepoch,\n\u001b[0;32m   1405\u001b[0m     step_num\u001b[39m=\u001b[39mstep,\n\u001b[0;32m   1406\u001b[0m     batch_size\u001b[39m=\u001b[39mbatch_size,\n\u001b[0;32m   1407\u001b[0m     _r\u001b[39m=\u001b[39m\u001b[39m1\u001b[39m):\n\u001b[0;32m   1408\u001b[0m   callbacks\u001b[39m.\u001b[39mon_train_batch_begin(step)\n\u001b[1;32m-> 1409\u001b[0m   tmp_logs \u001b[39m=\u001b[39m \u001b[39mself\u001b[39;49m\u001b[39m.\u001b[39;49mtrain_function(iterator)\n\u001b[0;32m   1410\u001b[0m   \u001b[39mif\u001b[39;00m data_handler\u001b[39m.\u001b[39mshould_sync:\n\u001b[0;32m   1411\u001b[0m     context\u001b[39m.\u001b[39masync_wait()\n",
      "File \u001b[1;32mc:\\Users\\Lukas\\Envs\\invertenv\\lib\\site-packages\\tensorflow\\python\\util\\traceback_utils.py:150\u001b[0m, in \u001b[0;36mfilter_traceback.<locals>.error_handler\u001b[1;34m(*args, **kwargs)\u001b[0m\n\u001b[0;32m    148\u001b[0m filtered_tb \u001b[39m=\u001b[39m \u001b[39mNone\u001b[39;00m\n\u001b[0;32m    149\u001b[0m \u001b[39mtry\u001b[39;00m:\n\u001b[1;32m--> 150\u001b[0m   \u001b[39mreturn\u001b[39;00m fn(\u001b[39m*\u001b[39;49margs, \u001b[39m*\u001b[39;49m\u001b[39m*\u001b[39;49mkwargs)\n\u001b[0;32m    151\u001b[0m \u001b[39mexcept\u001b[39;00m \u001b[39mException\u001b[39;00m \u001b[39mas\u001b[39;00m e:\n\u001b[0;32m    152\u001b[0m   filtered_tb \u001b[39m=\u001b[39m _process_traceback_frames(e\u001b[39m.\u001b[39m__traceback__)\n",
      "File \u001b[1;32mc:\\Users\\Lukas\\Envs\\invertenv\\lib\\site-packages\\tensorflow\\python\\eager\\def_function.py:915\u001b[0m, in \u001b[0;36mFunction.__call__\u001b[1;34m(self, *args, **kwds)\u001b[0m\n\u001b[0;32m    912\u001b[0m compiler \u001b[39m=\u001b[39m \u001b[39m\"\u001b[39m\u001b[39mxla\u001b[39m\u001b[39m\"\u001b[39m \u001b[39mif\u001b[39;00m \u001b[39mself\u001b[39m\u001b[39m.\u001b[39m_jit_compile \u001b[39melse\u001b[39;00m \u001b[39m\"\u001b[39m\u001b[39mnonXla\u001b[39m\u001b[39m\"\u001b[39m\n\u001b[0;32m    914\u001b[0m \u001b[39mwith\u001b[39;00m OptionalXlaContext(\u001b[39mself\u001b[39m\u001b[39m.\u001b[39m_jit_compile):\n\u001b[1;32m--> 915\u001b[0m   result \u001b[39m=\u001b[39m \u001b[39mself\u001b[39;49m\u001b[39m.\u001b[39;49m_call(\u001b[39m*\u001b[39;49margs, \u001b[39m*\u001b[39;49m\u001b[39m*\u001b[39;49mkwds)\n\u001b[0;32m    917\u001b[0m new_tracing_count \u001b[39m=\u001b[39m \u001b[39mself\u001b[39m\u001b[39m.\u001b[39mexperimental_get_tracing_count()\n\u001b[0;32m    918\u001b[0m without_tracing \u001b[39m=\u001b[39m (tracing_count \u001b[39m==\u001b[39m new_tracing_count)\n",
      "File \u001b[1;32mc:\\Users\\Lukas\\Envs\\invertenv\\lib\\site-packages\\tensorflow\\python\\eager\\def_function.py:947\u001b[0m, in \u001b[0;36mFunction._call\u001b[1;34m(self, *args, **kwds)\u001b[0m\n\u001b[0;32m    944\u001b[0m   \u001b[39mself\u001b[39m\u001b[39m.\u001b[39m_lock\u001b[39m.\u001b[39mrelease()\n\u001b[0;32m    945\u001b[0m   \u001b[39m# In this case we have created variables on the first call, so we run the\u001b[39;00m\n\u001b[0;32m    946\u001b[0m   \u001b[39m# defunned version which is guaranteed to never create variables.\u001b[39;00m\n\u001b[1;32m--> 947\u001b[0m   \u001b[39mreturn\u001b[39;00m \u001b[39mself\u001b[39;49m\u001b[39m.\u001b[39;49m_stateless_fn(\u001b[39m*\u001b[39;49margs, \u001b[39m*\u001b[39;49m\u001b[39m*\u001b[39;49mkwds)  \u001b[39m# pylint: disable=not-callable\u001b[39;00m\n\u001b[0;32m    948\u001b[0m \u001b[39melif\u001b[39;00m \u001b[39mself\u001b[39m\u001b[39m.\u001b[39m_stateful_fn \u001b[39mis\u001b[39;00m \u001b[39mnot\u001b[39;00m \u001b[39mNone\u001b[39;00m:\n\u001b[0;32m    949\u001b[0m   \u001b[39m# Release the lock early so that multiple threads can perform the call\u001b[39;00m\n\u001b[0;32m    950\u001b[0m   \u001b[39m# in parallel.\u001b[39;00m\n\u001b[0;32m    951\u001b[0m   \u001b[39mself\u001b[39m\u001b[39m.\u001b[39m_lock\u001b[39m.\u001b[39mrelease()\n",
      "File \u001b[1;32mc:\\Users\\Lukas\\Envs\\invertenv\\lib\\site-packages\\tensorflow\\python\\eager\\function.py:2453\u001b[0m, in \u001b[0;36mFunction.__call__\u001b[1;34m(self, *args, **kwargs)\u001b[0m\n\u001b[0;32m   2450\u001b[0m \u001b[39mwith\u001b[39;00m \u001b[39mself\u001b[39m\u001b[39m.\u001b[39m_lock:\n\u001b[0;32m   2451\u001b[0m   (graph_function,\n\u001b[0;32m   2452\u001b[0m    filtered_flat_args) \u001b[39m=\u001b[39m \u001b[39mself\u001b[39m\u001b[39m.\u001b[39m_maybe_define_function(args, kwargs)\n\u001b[1;32m-> 2453\u001b[0m \u001b[39mreturn\u001b[39;00m graph_function\u001b[39m.\u001b[39;49m_call_flat(\n\u001b[0;32m   2454\u001b[0m     filtered_flat_args, captured_inputs\u001b[39m=\u001b[39;49mgraph_function\u001b[39m.\u001b[39;49mcaptured_inputs)\n",
      "File \u001b[1;32mc:\\Users\\Lukas\\Envs\\invertenv\\lib\\site-packages\\tensorflow\\python\\eager\\function.py:1860\u001b[0m, in \u001b[0;36mConcreteFunction._call_flat\u001b[1;34m(self, args, captured_inputs, cancellation_manager)\u001b[0m\n\u001b[0;32m   1856\u001b[0m possible_gradient_type \u001b[39m=\u001b[39m gradients_util\u001b[39m.\u001b[39mPossibleTapeGradientTypes(args)\n\u001b[0;32m   1857\u001b[0m \u001b[39mif\u001b[39;00m (possible_gradient_type \u001b[39m==\u001b[39m gradients_util\u001b[39m.\u001b[39mPOSSIBLE_GRADIENT_TYPES_NONE\n\u001b[0;32m   1858\u001b[0m     \u001b[39mand\u001b[39;00m executing_eagerly):\n\u001b[0;32m   1859\u001b[0m   \u001b[39m# No tape is watching; skip to running the function.\u001b[39;00m\n\u001b[1;32m-> 1860\u001b[0m   \u001b[39mreturn\u001b[39;00m \u001b[39mself\u001b[39m\u001b[39m.\u001b[39m_build_call_outputs(\u001b[39mself\u001b[39;49m\u001b[39m.\u001b[39;49m_inference_function\u001b[39m.\u001b[39;49mcall(\n\u001b[0;32m   1861\u001b[0m       ctx, args, cancellation_manager\u001b[39m=\u001b[39;49mcancellation_manager))\n\u001b[0;32m   1862\u001b[0m forward_backward \u001b[39m=\u001b[39m \u001b[39mself\u001b[39m\u001b[39m.\u001b[39m_select_forward_and_backward_functions(\n\u001b[0;32m   1863\u001b[0m     args,\n\u001b[0;32m   1864\u001b[0m     possible_gradient_type,\n\u001b[0;32m   1865\u001b[0m     executing_eagerly)\n\u001b[0;32m   1866\u001b[0m forward_function, args_with_tangents \u001b[39m=\u001b[39m forward_backward\u001b[39m.\u001b[39mforward()\n",
      "File \u001b[1;32mc:\\Users\\Lukas\\Envs\\invertenv\\lib\\site-packages\\tensorflow\\python\\eager\\function.py:497\u001b[0m, in \u001b[0;36m_EagerDefinedFunction.call\u001b[1;34m(self, ctx, args, cancellation_manager)\u001b[0m\n\u001b[0;32m    495\u001b[0m \u001b[39mwith\u001b[39;00m _InterpolateFunctionError(\u001b[39mself\u001b[39m):\n\u001b[0;32m    496\u001b[0m   \u001b[39mif\u001b[39;00m cancellation_manager \u001b[39mis\u001b[39;00m \u001b[39mNone\u001b[39;00m:\n\u001b[1;32m--> 497\u001b[0m     outputs \u001b[39m=\u001b[39m execute\u001b[39m.\u001b[39;49mexecute(\n\u001b[0;32m    498\u001b[0m         \u001b[39mstr\u001b[39;49m(\u001b[39mself\u001b[39;49m\u001b[39m.\u001b[39;49msignature\u001b[39m.\u001b[39;49mname),\n\u001b[0;32m    499\u001b[0m         num_outputs\u001b[39m=\u001b[39;49m\u001b[39mself\u001b[39;49m\u001b[39m.\u001b[39;49m_num_outputs,\n\u001b[0;32m    500\u001b[0m         inputs\u001b[39m=\u001b[39;49margs,\n\u001b[0;32m    501\u001b[0m         attrs\u001b[39m=\u001b[39;49mattrs,\n\u001b[0;32m    502\u001b[0m         ctx\u001b[39m=\u001b[39;49mctx)\n\u001b[0;32m    503\u001b[0m   \u001b[39melse\u001b[39;00m:\n\u001b[0;32m    504\u001b[0m     outputs \u001b[39m=\u001b[39m execute\u001b[39m.\u001b[39mexecute_with_cancellation(\n\u001b[0;32m    505\u001b[0m         \u001b[39mstr\u001b[39m(\u001b[39mself\u001b[39m\u001b[39m.\u001b[39msignature\u001b[39m.\u001b[39mname),\n\u001b[0;32m    506\u001b[0m         num_outputs\u001b[39m=\u001b[39m\u001b[39mself\u001b[39m\u001b[39m.\u001b[39m_num_outputs,\n\u001b[1;32m   (...)\u001b[0m\n\u001b[0;32m    509\u001b[0m         ctx\u001b[39m=\u001b[39mctx,\n\u001b[0;32m    510\u001b[0m         cancellation_manager\u001b[39m=\u001b[39mcancellation_manager)\n",
      "File \u001b[1;32mc:\\Users\\Lukas\\Envs\\invertenv\\lib\\site-packages\\tensorflow\\python\\eager\\execute.py:54\u001b[0m, in \u001b[0;36mquick_execute\u001b[1;34m(op_name, num_outputs, inputs, attrs, ctx, name)\u001b[0m\n\u001b[0;32m     52\u001b[0m \u001b[39mtry\u001b[39;00m:\n\u001b[0;32m     53\u001b[0m   ctx\u001b[39m.\u001b[39mensure_initialized()\n\u001b[1;32m---> 54\u001b[0m   tensors \u001b[39m=\u001b[39m pywrap_tfe\u001b[39m.\u001b[39;49mTFE_Py_Execute(ctx\u001b[39m.\u001b[39;49m_handle, device_name, op_name,\n\u001b[0;32m     55\u001b[0m                                       inputs, attrs, num_outputs)\n\u001b[0;32m     56\u001b[0m \u001b[39mexcept\u001b[39;00m core\u001b[39m.\u001b[39m_NotOkStatusException \u001b[39mas\u001b[39;00m e:\n\u001b[0;32m     57\u001b[0m   \u001b[39mif\u001b[39;00m name \u001b[39mis\u001b[39;00m \u001b[39mnot\u001b[39;00m \u001b[39mNone\u001b[39;00m:\n",
      "\u001b[1;31mKeyboardInterrupt\u001b[0m: "
     ]
    }
   ],
   "source": [
    "import tensorflow as tf\n",
    "from tensorflow.keras.layers import Dense, TimeDistributed, Dropout, add, multiply, BatchNormalization\n",
    "from tensorflow.keras import backend as K\n",
    "tf.keras.backend.set_image_data_format('channels_last')\n",
    "loss = lambda y_true, y_pred: K.mean(K.abs( (y_true / tf.norm(y_true)) - (y_pred / tf.norm(y_pred))  ))\n",
    "n_channels, n_dipoles = leadfield.shape\n",
    "n_time = 1#X.shape[1]\n",
    "\n",
    "n_dense_units = 300\n",
    "n_lstm_units = 64\n",
    "activation_function = \"tanh\"\n",
    "batch_size = 1000\n",
    "epochs = 500\n",
    "dropout = 0.1\n",
    "\n",
    "inputs = tf.keras.Input(shape=(None, n_channels), name='Input')\n",
    "\n",
    "fc1 = TimeDistributed(Dense(n_dense_units, \n",
    "            activation=activation_function,\n",
    "            name='FC1'))(inputs)\n",
    "\n",
    "# fc1 = BatchNormalization()(fc1)\n",
    "\n",
    "# fc2 = TimeDistributed(Dense(n_dense_units, \n",
    "#             activation=activation_function,\n",
    "#             name='FC2'))(fc1)\n",
    "\n",
    "# addition = add([fc1, fc2])\n",
    "\n",
    "\n",
    "out = TimeDistributed(Dense(n_dipoles, \n",
    "            activation=clipped_linear, \n",
    "            # activity_regularizer=tf.keras.regularizers.L1(l1=0.001),\n",
    "            name='Output'))(fc1)\n",
    "\n",
    "\n",
    "model = tf.keras.Model(inputs=inputs, outputs=out, name='Prelocalizer')\n",
    "model.compile(loss=\"cosine_similarity\", optimizer=\"adam\")\n",
    "# model.compile(loss=\"mse\", optimizer=\"adam\")\n",
    "# model.compile(loss=\"binary_crossentropy\", optimizer=\"adam\")\n",
    "\n",
    "model.summary()\n",
    "\n",
    "# callbacks = [tf.keras.callbacks.EarlyStopping(patience=50, min_delta=0.00, monitor=\"val_loss\", restore_best_weights=True)]\n",
    "# model.fit(X_components[:, np.newaxis], y_mask[:, np.newaxis], epochs=epochs, batch_size=batch_size, validation_split=0.15, callbacks=callbacks)\n",
    "# model.fit(x=generator(batch_size, leadfield, n_sources=(1, 2)), epochs=epochs,  steps_per_epoch=100)\n",
    "model.fit(x=generator_x(batch_size, leadfield, n_sources=(1, 8)), epochs=epochs,  steps_per_epoch=100)\n",
    "\n"
   ]
  },
  {
   "cell_type": "markdown",
   "metadata": {},
   "source": [
    "# Test it"
   ]
  },
  {
   "cell_type": "code",
   "execution_count": 7,
   "metadata": {},
   "outputs": [
    {
     "name": "stdout",
     "output_type": "stream",
     "text": [
      "1/1 [==============================] - 0s 124ms/step\n",
      "components: r = 0.05\n",
      "model: r = 0.20\n"
     ]
    },
    {
     "name": "stdout",
     "output_type": "stream",
     "text": [
      "Using control points [0.        0.        0.4236286]\n",
      "Using control points [0.25609637 0.31534728 0.8978931 ]\n",
      "Using control points [0.86962396 0.89988594 0.98007408]\n",
      "Using control points [0.19988268 0.2820701  0.88060995]\n"
     ]
    }
   ],
   "source": [
    "x_comp, y = generator(32, leadfield, n_sources=(2,3)).__next__()\n",
    "# X, y = generator_x(32, leadfield, n_sources=(1,8)).__next__()\n",
    "# x_comp = ((leadfield_norm.T @ X[:, 0].T).T)[:, np.newaxis]\n",
    "# y_hat = model.predict(X)\n",
    "y_hat = model.predict(x_comp)\n",
    "\n",
    "\n",
    "plt.figure()\n",
    "plt.subplot(411)\n",
    "plt.plot(abs(y[0,0]))\n",
    "plt.title(\"y\")\n",
    "\n",
    "plt.subplot(412)\n",
    "plt.plot(X[0,0])\n",
    "plt.title(\"components\")\n",
    "\n",
    "plt.subplot(413)\n",
    "plt.plot(y_hat[0,0])\n",
    "plt.title(\"output\")\n",
    "\n",
    "plt.subplot(414)\n",
    "plt.plot(y_hat[0,0]*x_comp[0,0])\n",
    "plt.title(\"multiplied\")\n",
    "plt.tight_layout()\n",
    "\n",
    "stc_ = stc.copy()\n",
    "stc_.data = y[:, 0].T\n",
    "stc_.plot(**pp)\n",
    "\n",
    "stc_.data = y_hat[:, 0].T\n",
    "stc_.data /=stc_.data.max()\n",
    "stc_.plot(**pp, clim=dict(kind=\"value\", pos_lims=[0,0.5,1]))\n",
    "\n",
    "stc_.data = x_comp[:, 0].T\n",
    "stc_.plot(**pp)\n",
    "\n",
    "stc_.data = (x_comp[:, 0] * y_hat[:, 0]).T\n",
    "stc_.plot(**pp)\n",
    "\n",
    "from scipy.stats import pearsonr\n",
    "r = pearsonr(y[0,0], x_comp[0,0])[0]\n",
    "print(f\"components: r = {r:.2f}\")\n",
    "r = pearsonr(y[0,0], y_hat[0,0])[0]\n",
    "print(f\"model: r = {r:.2f}\")"
   ]
  },
  {
   "cell_type": "markdown",
   "metadata": {},
   "source": [
    "# LSTM Matching Pursuit"
   ]
  },
  {
   "cell_type": "code",
   "execution_count": 178,
   "metadata": {},
   "outputs": [
    {
     "name": "stdout",
     "output_type": "stream",
     "text": [
      "-- number of adjacent vertices : 1284\n",
      "Simulating data based on sparse patches.\n"
     ]
    },
    {
     "name": "stderr",
     "output_type": "stream",
     "text": [
      "100%|██████████| 2/2 [00:00<00:00,  4.02it/s]\n",
      "100%|██████████| 2/2 [00:00<00:00, 2003.97it/s]\n"
     ]
    },
    {
     "name": "stdout",
     "output_type": "stream",
     "text": [
      "source data shape:  (1284, 1) (1284, 1)\n"
     ]
    },
    {
     "name": "stderr",
     "output_type": "stream",
     "text": [
      "100%|██████████| 2/2 [00:00<00:00, 401.06it/s]\n"
     ]
    },
    {
     "name": "stdout",
     "output_type": "stream",
     "text": [
      "Created an SSP operator (subspace dimension = 1)\n",
      "1 projection items activated\n",
      "SSP projectors applied...\n"
     ]
    },
    {
     "name": "stderr",
     "output_type": "stream",
     "text": [
      "c:\\Users\\Lukas\\Envs\\invertenv\\lib\\site-packages\\mne\\viz\\evoked.py:521: UserWarning: Attempting to set identical left == right == 0.0 results in singular transformations; automatically expanding.\n",
      "  ax.set_xlim(xlim)\n"
     ]
    }
   ],
   "source": [
    "settings = dict(\n",
    "    number_of_sources=1, \n",
    "    extents=(1, 2), \n",
    "    duration_of_trial=0.001, \n",
    "    amplitudes = (0, 100),\n",
    "    target_snr=1e99)\n",
    "\n",
    "sim_test = Simulation(fwd, info, settings).simulate(2)\n",
    "stc = sim_test.source_data[0]\n",
    "evoked = sim_test.eeg_data[0].average()\n",
    "\n",
    "stc.data /= abs(stc.data).max()\n",
    "brain = stc.plot(**pp)\n",
    "brain.add_text(0.1, 0.9, 'Ground Truth', 'title',\n",
    "               font_size=14)\n",
    "evoked.plot_joint()\n",
    "\n",
    "X_test_norm, y_test_norm = prep_data(sim_test)"
   ]
  },
  {
   "cell_type": "code",
   "execution_count": 179,
   "metadata": {},
   "outputs": [
    {
     "name": "stdout",
     "output_type": "stream",
     "text": [
      "1/1 [==============================] - 0s 17ms/step\n",
      "[959]\n",
      "0  Res var:  38.86496071657126\n",
      "[692 959]\n",
      "1  Res var:  7.237258061404562\n",
      "[662 692 959]\n",
      "2  Res var:  4.721851526677429\n",
      "[650 662 692 959]\n",
      "3  Res var:  2.1704208876009745\n",
      "[650 662 692 770 959]\n",
      "4  Res var:  0.2084447176408579\n",
      "[650 662 678 692 770 959]\n",
      "5  Res var:  0.1569968238421627\n",
      "[ 650  662  678  692  770  959 1102]\n",
      "6  Res var:  0.09641829931212223\n",
      "No projector specified for this dataset. Please consider the method self.add_proj.\n"
     ]
    },
    {
     "name": "stderr",
     "output_type": "stream",
     "text": [
      "c:\\Users\\Lukas\\Envs\\invertenv\\lib\\site-packages\\mne\\viz\\evoked.py:521: UserWarning: Attempting to set identical left == right == 0.0 results in singular transformations; automatically expanding.\n",
      "  ax.set_xlim(xlim)\n"
     ]
    },
    {
     "data": {
      "image/png": "[encoded data removed]",
      "text/plain": [
       "<Figure size 800x420 with 5 Axes>"
      ]
     },
     "execution_count": 179,
     "metadata": {},
     "output_type": "execute_result"
    }
   ],
   "source": [
    "from scipy.stats import pearsonr\n",
    "from invert.util import find_corner, calc_residual_variance\n",
    "from invert import Solver\n",
    "max_iter = 10\n",
    "K = 1\n",
    "X_test = evoked.data\n",
    "X_test -= X_test.mean(axis=0)\n",
    "\n",
    "# dimensions\n",
    "n_chans, n_dipoles = leadfield.shape\n",
    "n_time = X_test.shape[-1]\n",
    "\n",
    "# Predict Gammas\n",
    "if len(X_test.shape) == 3:\n",
    "    X_test = X_test[0]\n",
    "\n",
    "# get initial orthogonal leadfield components\n",
    "R = deepcopy(X_test)\n",
    "R -= R.mean(axis=0)\n",
    "R /= R.std(axis=0)\n",
    "# rescale_norms = R.std(axis=0)\n",
    "# R_normed = R / rescale_norms\n",
    "# rescale_norms /= rescale_norms.mean()\n",
    "\n",
    "# gammas_model = model.predict(get_components(R.T[:, np.newaxis], leadfield_norm)[np.newaxis], verbose=0)[0,0]\n",
    "gammas_model = abs(model.predict(R.T[np.newaxis])[0,0])\n",
    "\n",
    "gammas_model /= gammas_model.max()\n",
    "\n",
    "residual_norms = [1e99,]\n",
    "idc = np.array([])\n",
    "for i in range(max_iter):\n",
    "    stc_ = stc.copy()\n",
    "\n",
    "    # gammas_model = model.predict(get_components(R.T[:, np.newaxis], leadfield_norm)[np.newaxis], verbose=0)[0,0]\n",
    "    # gammas_model = abs(model.predict(R.T[np.newaxis])[0,0])\n",
    "    # gammas_model /= gammas_model.max()\n",
    "    \n",
    "    mp = (leadfield_norm.T @ R )\n",
    "    # mp *= rescale_norms\n",
    "    gammas_mp = np.linalg.norm(mp, axis=1, ord=1)\n",
    "    gammas_mp /= gammas_mp.max()\n",
    "    \n",
    "    gammas = gammas_model * gammas_mp\n",
    "    # gammas = gammas_mp\n",
    "\n",
    "    # stc_.data[:,0] = gammas_model\n",
    "    # stc_.data[:,1] = gammas_mp\n",
    "    # stc_.data[:,2] = gammas\n",
    "    # stc_.plot(**pp, brain_kwargs=dict(title=f'{i} Gammas'))\n",
    "\n",
    "    idx = np.argsort(gammas)[-K:]\n",
    "\n",
    "    # arg_sorted = np.argsort(gammas)[::-1]\n",
    "    # ii = 0\n",
    "    # idx = arg_sorted[ii]\n",
    "    # while idx in idc:\n",
    "    #     print(\"idx reselected\")\n",
    "    #     ii += 1\n",
    "    #     idx = arg_sorted[ii]\n",
    "\n",
    "    idc = np.unique(np.append(idc, idx)).astype(int)\n",
    "\n",
    "    # Remove IDC that dont really explain variance in the whole data\n",
    "    # Inversion\n",
    "    # corrs = np.mean(abs((leadfield_norm.T @ X_test)), axis=1)[idc]\n",
    "    # highest_K = corrs > corrs.max()/2#np.argsort(corrs)[-K:]\n",
    "    # idc = idc[highest_K]\n",
    "\n",
    "    print(idc)\n",
    "\n",
    "    # Inversion\n",
    "    leadfield_pinv = np.linalg.pinv(leadfield[:, idc])\n",
    "    y_hat = np.zeros((n_dipoles, n_time))\n",
    "    y_hat[idc] = leadfield_pinv @ X_test\n",
    "\n",
    "    X_hat = leadfield @ y_hat\n",
    "    # Rereference predicted EEG\n",
    "    X_hat -= X_hat.mean(axis=0)\n",
    "    \n",
    "    # Calculate Residual\n",
    "    R = X_test - X_hat\n",
    "    R -= R.mean(axis=0)\n",
    "\n",
    "    # Rereference and scale predicted Residual\n",
    "    \n",
    "    \n",
    "    residual_norm = np.linalg.norm(R)\n",
    "    residual_norms.append( residual_norm )\n",
    "    \n",
    "    # rescale_norms = R.std(axis=0)\n",
    "\n",
    "    # R_normed = R / rescale_norms\n",
    "    # rescale_norms /= rescale_norms.mean()\n",
    "\n",
    "    # print(idc)\n",
    "    # print(residual_norm)\n",
    "    rv = calc_residual_variance(X_hat, X_test)\n",
    "    print(i, \" Res var: \", rv)\n",
    "    # break\n",
    "\n",
    "\n",
    "    # evoked_true = mne.EvokedArray(X_test, info, verbose=0)\n",
    "    # evoked_hat = mne.EvokedArray(X_hat, info, verbose=0)\n",
    "    # evoked_res = mne.EvokedArray(R, info, verbose=0)\n",
    "    # evoked_true.plot_joint(title=\"True\")\n",
    "    # evoked_hat.plot_joint(title=\"Current X_hat\")\n",
    "    # evoked_res.plot_joint(title=\"Residual\")\n",
    "\n",
    "    # stc_.data = y_hat\n",
    "    # stc_.plot(**pp, brain_kwargs=dict(title=f\"Prediction {i}\"))\n",
    "    # if residual_norms[-1] >= residual_norms[-2] or rv<1:\n",
    "    if rv<0.1:\n",
    "    \n",
    "        break\n",
    "    \n",
    "X_hat = leadfield@y_hat\n",
    "\n",
    "stc_ = stc.copy()\n",
    "stc_.data = y_hat / abs(y_hat).max()\n",
    "brain = stc_.plot(**pp)\n",
    "brain.add_text(0.1, 0.9, 'Pred', 'title',\n",
    "               font_size=14)\n",
    "\n",
    "x_hat = leadfield@y_hat\n",
    "\n",
    "evoked_ = mne.EvokedArray(x_hat, info)\n",
    "evoked_.plot_joint()"
   ]
  },
  {
   "cell_type": "code",
   "execution_count": 230,
   "metadata": {},
   "outputs": [
    {
     "name": "stdout",
     "output_type": "stream",
     "text": [
      "No projector specified for this dataset. Please consider the method self.add_proj.\n"
     ]
    },
    {
     "name": "stderr",
     "output_type": "stream",
     "text": [
      "c:\\Users\\lukas\\virtualenvs\\invertenv\\lib\\site-packages\\mne\\viz\\evoked.py:521: UserWarning: Attempting to set identical left == right == 0.0 results in singular transformations; automatically expanding.\n",
      "  ax.set_xlim(xlim)\n"
     ]
    },
    {
     "data": {
      "image/png": "[encoded data removed]",
      "text/plain": [
       "<Figure size 800x420 with 5 Axes>"
      ]
     },
     "execution_count": 230,
     "metadata": {},
     "output_type": "execute_result"
    }
   ],
   "source": [
    "stc_ = stc.copy()\n",
    "stc_.data = y_hat / abs(y_hat).max()\n",
    "brain = stc_.plot(**pp)\n",
    "brain.add_text(0.1, 0.9, 'Pred', 'title',\n",
    "               font_size=14)\n",
    "\n",
    "x_hat = leadfield@y_hat\n",
    "\n",
    "evoked_ = mne.EvokedArray(x_hat, info)\n",
    "evoked_.plot_joint()"
   ]
  },
  {
   "cell_type": "markdown",
   "metadata": {},
   "source": [
    "# Champagne for scale"
   ]
  },
  {
   "cell_type": "code",
   "execution_count": null,
   "metadata": {},
   "outputs": [],
   "source": [
    "solver = Solver(\"champagne\")\n",
    "solver.make_inverse_operator(fwd, alpha=1e-3)\n",
    "stc_champ = solver.apply_inverse_operator(mne.EvokedArray(X_test, info))\n",
    "stc_champ.plot(**pp, brain_kwargs=dict(title=\"Champ\"))"
   ]
  },
  {
   "cell_type": "code",
   "execution_count": null,
   "metadata": {},
   "outputs": [],
   "source": []
  }
 ],
 "metadata": {
  "kernelspec": {
   "display_name": "Python 3.8.10 ('invertenv')",
   "language": "python",
   "name": "python3"
  },
  "language_info": {
   "codemirror_mode": {
    "name": "ipython",
    "version": 3
   },
   "file_extension": ".py",
   "mimetype": "text/x-python",
   "name": "python",
   "nbconvert_exporter": "python",
   "pygments_lexer": "ipython3",
   "version": "3.8.10"
  },
  "orig_nbformat": 4,
  "vscode": {
   "interpreter": {
    "hash": "dda1e5657e486f74a7b39841fb8103db2af51a77394f44c39a7821a371af47bd"
   }
  }
 },
 "nbformat": 4,
 "nbformat_minor": 2
}
