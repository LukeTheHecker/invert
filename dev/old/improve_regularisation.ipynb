{
 "cells": [
  {
   "cell_type": "code",
   "execution_count": 1,
   "metadata": {},
   "outputs": [],
   "source": [
    "%load_ext autoreload\n",
    "%autoreload 2\n",
    "%matplotlib qt\n",
    "\n",
    "import sys; sys.path.insert(0, '../')\n",
    "import numpy as np\n",
    "\n",
    "from invert import Solver\n",
    "from invert.evaluate import true_variance_explained\n",
    "\n",
    "from esinet.forward import create_forward_model, get_info\n",
    "from esinet import Simulation\n",
    "\n",
    "pp = dict(surface='white', hemi='both')"
   ]
  },
  {
   "cell_type": "markdown",
   "metadata": {},
   "source": [
    "# Forward Model"
   ]
  },
  {
   "cell_type": "code",
   "execution_count": 2,
   "metadata": {},
   "outputs": [
    {
     "name": "stderr",
     "output_type": "stream",
     "text": [
      "[Parallel(n_jobs=4)]: Using backend LokyBackend with 4 concurrent workers.\n",
      "[Parallel(n_jobs=4)]: Done   2 out of   4 | elapsed:    2.3s remaining:    2.3s\n",
      "[Parallel(n_jobs=4)]: Done   4 out of   4 | elapsed:    2.8s remaining:    0.0s\n",
      "[Parallel(n_jobs=4)]: Done   4 out of   4 | elapsed:    2.8s finished\n",
      "[Parallel(n_jobs=4)]: Using backend LokyBackend with 4 concurrent workers.\n",
      "[Parallel(n_jobs=4)]: Done   2 out of   4 | elapsed:    0.1s remaining:    0.1s\n",
      "[Parallel(n_jobs=4)]: Done   4 out of   4 | elapsed:    0.2s remaining:    0.0s\n",
      "[Parallel(n_jobs=4)]: Done   4 out of   4 | elapsed:    0.2s finished\n",
      "[Parallel(n_jobs=4)]: Using backend LokyBackend with 4 concurrent workers.\n",
      "[Parallel(n_jobs=4)]: Done   2 out of   4 | elapsed:    0.2s remaining:    0.2s\n",
      "[Parallel(n_jobs=4)]: Done   4 out of   4 | elapsed:    0.3s remaining:    0.0s\n",
      "[Parallel(n_jobs=4)]: Done   4 out of   4 | elapsed:    0.3s finished\n"
     ]
    }
   ],
   "source": [
    "info = get_info(kind='biosemi64')\n",
    "fwd = create_forward_model(info=info, sampling='ico3')\n",
    "leadfield = fwd[\"sol\"][\"data\"]\n",
    "# leadfield, pos = unpack_fwd(fwd)[1:3]\n",
    "# n_chans, n_dipoles = leadfield.shape"
   ]
  },
  {
   "cell_type": "markdown",
   "metadata": {},
   "source": [
    "# Simulate"
   ]
  },
  {
   "cell_type": "code",
   "execution_count": 3,
   "metadata": {},
   "outputs": [
    {
     "name": "stdout",
     "output_type": "stream",
     "text": [
      "-- number of adjacent vertices : 1284\n",
      "Simulating data based on sparse patches.\n"
     ]
    },
    {
     "name": "stderr",
     "output_type": "stream",
     "text": [
      "  0%|          | 0/2 [00:00<?, ?it/s]c:\\Users\\Lukas\\Envs\\invertenv\\lib\\site-packages\\esinet\\simulation.py:387: FutureWarning: The frame.append method is deprecated and will be removed from pandas in a future version. Use pandas.concat instead.\n",
      "  self.simulation_info = self.simulation_info.append(d, ignore_index=True)\n",
      " 50%|█████     | 1/2 [00:00<00:00,  2.03it/s]c:\\Users\\Lukas\\Envs\\invertenv\\lib\\site-packages\\esinet\\simulation.py:387: FutureWarning: The frame.append method is deprecated and will be removed from pandas in a future version. Use pandas.concat instead.\n",
      "  self.simulation_info = self.simulation_info.append(d, ignore_index=True)\n",
      "100%|██████████| 2/2 [00:00<00:00,  4.03it/s]\n",
      "100%|██████████| 2/2 [00:00<00:00, 2005.88it/s]\n"
     ]
    },
    {
     "name": "stdout",
     "output_type": "stream",
     "text": [
      "source data shape:  (1284, 100) (1284, 100)\n"
     ]
    },
    {
     "name": "stderr",
     "output_type": "stream",
     "text": [
      "100%|██████████| 2/2 [00:00<00:00, 100.26it/s]"
     ]
    },
    {
     "name": "stdout",
     "output_type": "stream",
     "text": [
      "Created an SSP operator (subspace dimension = 1)\n",
      "1 projection items activated\n",
      "SSP projectors applied...\n"
     ]
    },
    {
     "name": "stderr",
     "output_type": "stream",
     "text": [
      "\n"
     ]
    },
    {
     "name": "stdout",
     "output_type": "stream",
     "text": [
      "Using pyvistaqt 3d backend.\n",
      "\n",
      "Using control points [0.00000000e+00 6.16174809e-10 1.00246607e-08]\n",
      "For automatic theme detection, \"darkdetect\" has to be installed! You can install it with `pip install darkdetect`\n",
      "To use light mode, \"qdarkstyle\" has to be installed! You can install it with `pip install qdarkstyle`\n"
     ]
    },
    {
     "data": {
      "text/plain": [
       "<mne.viz._brain._brain.Brain at 0x1d538a27460>"
      ]
     },
     "execution_count": 3,
     "metadata": {},
     "output_type": "execute_result"
    }
   ],
   "source": [
    "target_snr = 3\n",
    "sim = Simulation(fwd, info, settings=dict(duration_of_trial=0.1, target_snr=target_snr, extents=25, number_of_sources=2)).simulate(2)\n",
    "evoked = sim.eeg_data[0].average()\n",
    "evoked.plot_joint()\n",
    "stc = sim.source_data[0].copy()\n",
    "stc.plot(**pp)"
   ]
  },
  {
   "cell_type": "markdown",
   "metadata": {},
   "source": [
    "# Test"
   ]
  },
  {
   "cell_type": "code",
   "execution_count": 4,
   "metadata": {},
   "outputs": [
    {
     "ename": "KeyboardInterrupt",
     "evalue": "",
     "output_type": "error",
     "traceback": [
      "\u001b[1;31m---------------------------------------------------------------------------\u001b[0m",
      "\u001b[1;31mKeyboardInterrupt\u001b[0m                         Traceback (most recent call last)",
      "\u001b[1;32mc:\\Users\\Lukas\\Documents\\projects\\invert\\dev\\improve_regularisation.ipynb Zelle 7\u001b[0m in \u001b[0;36m<cell line: 4>\u001b[1;34m()\u001b[0m\n\u001b[0;32m      <a href='vscode-notebook-cell:/c%3A/Users/Lukas/Documents/projects/invert/dev/improve_regularisation.ipynb#W6sZmlsZQ%3D%3D?line=0'>1</a>\u001b[0m solver_name \u001b[39m=\u001b[39m \u001b[39m\"\u001b[39m\u001b[39meloreta\u001b[39m\u001b[39m\"\u001b[39m\n\u001b[0;32m      <a href='vscode-notebook-cell:/c%3A/Users/Lukas/Documents/projects/invert/dev/improve_regularisation.ipynb#W6sZmlsZQ%3D%3D?line=2'>3</a>\u001b[0m solver \u001b[39m=\u001b[39m Solver(solver_name, regularisation_method\u001b[39m=\u001b[39m\u001b[39m\"\u001b[39m\u001b[39mL\u001b[39m\u001b[39m\"\u001b[39m)\n\u001b[1;32m----> <a href='vscode-notebook-cell:/c%3A/Users/Lukas/Documents/projects/invert/dev/improve_regularisation.ipynb#W6sZmlsZQ%3D%3D?line=3'>4</a>\u001b[0m solver\u001b[39m.\u001b[39;49mmake_inverse_operator(fwd, alpha\u001b[39m=\u001b[39;49m\u001b[39m\"\u001b[39;49m\u001b[39mauto\u001b[39;49m\u001b[39m\"\u001b[39;49m)\n\u001b[0;32m      <a href='vscode-notebook-cell:/c%3A/Users/Lukas/Documents/projects/invert/dev/improve_regularisation.ipynb#W6sZmlsZQ%3D%3D?line=4'>5</a>\u001b[0m stc_hat \u001b[39m=\u001b[39m solver\u001b[39m.\u001b[39mapply_inverse_operator(evoked)\n\u001b[0;32m      <a href='vscode-notebook-cell:/c%3A/Users/Lukas/Documents/projects/invert/dev/improve_regularisation.ipynb#W6sZmlsZQ%3D%3D?line=5'>6</a>\u001b[0m stc_hat\u001b[39m.\u001b[39mplot(\u001b[39m*\u001b[39m\u001b[39m*\u001b[39mpp, brain_kwargs\u001b[39m=\u001b[39m\u001b[39mdict\u001b[39m(title\u001b[39m=\u001b[39m\u001b[39m\"\u001b[39m\u001b[39mL-Curve\u001b[39m\u001b[39m\"\u001b[39m))\n",
      "File \u001b[1;32mc:\\Users\\Lukas\\Documents\\projects\\invert\\dev\\..\\invert\\solvers\\loreta.py:162\u001b[0m, in \u001b[0;36mSolverELORETA.make_inverse_operator\u001b[1;34m(self, forward, alpha, verbose, stop_crit, *args)\u001b[0m\n\u001b[0;32m    160\u001b[0m inverse_operators \u001b[39m=\u001b[39m []\n\u001b[0;32m    161\u001b[0m \u001b[39mfor\u001b[39;00m alpha \u001b[39min\u001b[39;00m alphas:\n\u001b[1;32m--> 162\u001b[0m     D \u001b[39m=\u001b[39m calc_eloreta_D2(leadfield, noise_cov, alpha, stop_crit\u001b[39m=\u001b[39;49mstop_crit, verbose\u001b[39m=\u001b[39;49mverbose)\n\u001b[0;32m    163\u001b[0m     D_inv \u001b[39m=\u001b[39m np\u001b[39m.\u001b[39mlinalg\u001b[39m.\u001b[39minv(D)\n\u001b[0;32m    164\u001b[0m     inverse_operator \u001b[39m=\u001b[39m D_inv \u001b[39m@\u001b[39m leadfield\u001b[39m.\u001b[39mT \u001b[39m@\u001b[39m np\u001b[39m.\u001b[39mlinalg\u001b[39m.\u001b[39minv( leadfield \u001b[39m@\u001b[39m D_inv \u001b[39m@\u001b[39m leadfield\u001b[39m.\u001b[39mT \u001b[39m+\u001b[39m alpha \u001b[39m*\u001b[39m noise_cov )\n",
      "File \u001b[1;32mc:\\Users\\Lukas\\Documents\\projects\\invert\\dev\\..\\invert\\solvers\\loreta.py:191\u001b[0m, in \u001b[0;36mcalc_eloreta_D2\u001b[1;34m(leadfield, noise_cov, alpha, stop_crit, verbose)\u001b[0m\n\u001b[0;32m    189\u001b[0m \u001b[39mif\u001b[39;00m verbose\u001b[39m>\u001b[39m\u001b[39m0\u001b[39m:\n\u001b[0;32m    190\u001b[0m     \u001b[39mprint\u001b[39m(\u001b[39mf\u001b[39m\u001b[39m'\u001b[39m\u001b[39m\\t\u001b[39;00m\u001b[39mrep \u001b[39m\u001b[39m{\u001b[39;00mcnt\u001b[39m+\u001b[39m\u001b[39m1\u001b[39m\u001b[39m}\u001b[39;00m\u001b[39m'\u001b[39m)\n\u001b[1;32m--> 191\u001b[0m D_inv \u001b[39m=\u001b[39m np\u001b[39m.\u001b[39;49mlinalg\u001b[39m.\u001b[39;49minv(D)\n\u001b[0;32m    192\u001b[0m inner_term \u001b[39m=\u001b[39m np\u001b[39m.\u001b[39mlinalg\u001b[39m.\u001b[39minv(leadfield \u001b[39m@\u001b[39m D_inv \u001b[39m@\u001b[39m leadfield\u001b[39m.\u001b[39mT \u001b[39m+\u001b[39m alpha\u001b[39m*\u001b[39m\u001b[39m*\u001b[39m\u001b[39m2\u001b[39m\u001b[39m*\u001b[39mnoise_cov)\n\u001b[0;32m    194\u001b[0m \u001b[39mfor\u001b[39;00m v \u001b[39min\u001b[39;00m \u001b[39mrange\u001b[39m(n_dipoles):\n",
      "File \u001b[1;32m<__array_function__ internals>:180\u001b[0m, in \u001b[0;36minv\u001b[1;34m(*args, **kwargs)\u001b[0m\n",
      "File \u001b[1;32mc:\\Users\\Lukas\\Envs\\invertenv\\lib\\site-packages\\numpy\\linalg\\linalg.py:552\u001b[0m, in \u001b[0;36minv\u001b[1;34m(a)\u001b[0m\n\u001b[0;32m    550\u001b[0m signature \u001b[39m=\u001b[39m \u001b[39m'\u001b[39m\u001b[39mD->D\u001b[39m\u001b[39m'\u001b[39m \u001b[39mif\u001b[39;00m isComplexType(t) \u001b[39melse\u001b[39;00m \u001b[39m'\u001b[39m\u001b[39md->d\u001b[39m\u001b[39m'\u001b[39m\n\u001b[0;32m    551\u001b[0m extobj \u001b[39m=\u001b[39m get_linalg_error_extobj(_raise_linalgerror_singular)\n\u001b[1;32m--> 552\u001b[0m ainv \u001b[39m=\u001b[39m _umath_linalg\u001b[39m.\u001b[39;49minv(a, signature\u001b[39m=\u001b[39;49msignature, extobj\u001b[39m=\u001b[39;49mextobj)\n\u001b[0;32m    553\u001b[0m \u001b[39mreturn\u001b[39;00m wrap(ainv\u001b[39m.\u001b[39mastype(result_t, copy\u001b[39m=\u001b[39m\u001b[39mFalse\u001b[39;00m))\n",
      "\u001b[1;31mKeyboardInterrupt\u001b[0m: "
     ]
    }
   ],
   "source": [
    "solver_name = \"eloreta\"\n",
    "\n",
    "solver = Solver(solver_name, regularisation_method=\"L\")\n",
    "solver.make_inverse_operator(fwd, alpha=\"auto\")\n",
    "stc_hat = solver.apply_inverse_operator(evoked)\n",
    "stc_hat.plot(**pp, brain_kwargs=dict(title=\"L-Curve\"))\n",
    "res_var = true_variance_explained(stc.data, stc_hat.data, leadfield)\n",
    "print(f\"Residual Variance: {res_var:.2f} %\")\n",
    "\n",
    "# solver = Solver(solver_name, regularisation_method=\"GCV\")\n",
    "# solver.make_inverse_operator(fwd, alpha=\"auto\")\n",
    "# stc_hat = solver.apply_inverse_operator(evoked)\n",
    "# stc_hat.plot(**pp, brain_kwargs=dict(title=\"GCV\"))\n",
    "# res_var = true_variance_explained(stc.data, stc_hat.data, leadfield)\n",
    "# print(f\"Residual Variance: {res_var:.2f} %\")\n",
    "\n",
    "# solver = Solver(solver_name, regularisation_method=\"CRESO\")\n",
    "# solver.make_inverse_operator(fwd, alpha=\"auto\")\n",
    "# stc_hat = solver.apply_inverse_operator(evoked)\n",
    "# stc_hat.plot(**pp, brain_kwargs=dict(title=\"CRESO\"))\n",
    "# res_var = true_variance_explained(stc.data, stc_hat.data, leadfield)\n",
    "# print(f\"Residual Variance: {res_var:.2f} %\")\n",
    "\n",
    "# solver = Solver(solver_name, regularisation_method=\"Product\")\n",
    "# solver.make_inverse_operator(fwd, alpha=\"auto\")\n",
    "# stc_hat = solver.apply_inverse_operator(evoked)\n",
    "# stc_hat.plot(**pp, brain_kwargs=dict(title=\"Product\"))\n",
    "# res_var = true_variance_explained(stc.data, stc_hat.data, leadfield)\n",
    "# print(f\"Residual Variance: {res_var:.2f} %\")"
   ]
  },
  {
   "cell_type": "code",
   "execution_count": 60,
   "metadata": {},
   "outputs": [],
   "source": [
    "import numpy as np\n",
    "r_values = np.insert(np.logspace(-10, 10, 50), 0, 0)\n",
    "\n",
    "M = evoked.data\n",
    "n_chans, n_time  = M.shape\n",
    "\n",
    "eigenvals = np.linalg.eig(leadfield @ leadfield.T)[0]\n",
    "alphas = [r_value * np.max(eigenvals) / 2e4 for r_value in r_values]\n",
    "inverse_operators = []\n",
    "for alpha in alphas:\n",
    "    inverse_operator = leadfield.T @ np.linalg.inv(leadfield @ leadfield.T + alpha * np.identity(n_chans))\n",
    "    inverse_operators.append(inverse_operator)"
   ]
  },
  {
   "cell_type": "code",
   "execution_count": null,
   "metadata": {},
   "outputs": [],
   "source": [
    "gcv_values = []\n",
    "for inverse_operator, alpha in zip(inverse_operators, alphas):\n",
    "    x = inverse_operator@M\n",
    "    nom = np.linalg.norm(leadfield@x - M)\n",
    "    denom = np.trace(np.identity(n_chans) - leadfield @ inverse_operator)**2\n",
    "    \n",
    "    gcv_value = nom/denom\n",
    "    gcv_values.append(gcv_value)\n"
   ]
  },
  {
   "cell_type": "code",
   "execution_count": null,
   "metadata": {},
   "outputs": [],
   "source": [
    "import matplotlib.pyplot as plt\n",
    "optimum_idx = np.argmin(gcv_values)\n",
    "plt.figure()\n",
    "plt.loglog(alphas, gcv_values)\n",
    "plt.plot(alphas[optimum_idx], gcv_values[optimum_idx], '*')\n",
    "plt.title(f\"Alpha = {alphas[optimum_idx]:.1f}\")"
   ]
  },
  {
   "cell_type": "code",
   "execution_count": null,
   "metadata": {},
   "outputs": [],
   "source": [
    "y_hat = inverse_operators[optimum_idx]@M\n",
    "stc_hat.data = y_hat\n",
    "stc_hat.plot(**pp)\n",
    "res_var = true_variance_explained(stc.data, stc_hat.data, leadfield)\n",
    "print(f\"Residual Variance: {res_var:.2f} %\")"
   ]
  },
  {
   "cell_type": "code",
   "execution_count": null,
   "metadata": {},
   "outputs": [],
   "source": []
  }
 ],
 "metadata": {
  "kernelspec": {
   "display_name": "Python 3.8.10 ('invertenv')",
   "language": "python",
   "name": "python3"
  },
  "language_info": {
   "codemirror_mode": {
    "name": "ipython",
    "version": 3
   },
   "file_extension": ".py",
   "mimetype": "text/x-python",
   "name": "python",
   "nbconvert_exporter": "python",
   "pygments_lexer": "ipython3",
   "version": "3.8.10"
  },
  "orig_nbformat": 4,
  "vscode": {
   "interpreter": {
    "hash": "109cbb5ed194d0e1c7aea844cf0a4a10faadf2a56a1c0eb03142356ad9dcb9c6"
   }
  }
 },
 "nbformat": 4,
 "nbformat_minor": 2
}
