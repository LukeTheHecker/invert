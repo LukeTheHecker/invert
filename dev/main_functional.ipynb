{
 "cells": [
  {
   "cell_type": "code",
   "execution_count": 1,
   "metadata": {},
   "outputs": [],
   "source": [
    "%load_ext autoreload\n",
    "%autoreload 2\n",
    "%matplotlib qt\n",
    "import sys; sys.path.insert(0, '../')\n",
    "import numpy as np\n",
    "from matplotlib import pyplot as plt\n",
    "from scipy.stats import pearsonr\n",
    "import mne\n",
    "from esinet import Simulation\n",
    "from esinet.forward import get_info, create_forward_model\n",
    "from esinet.util import unpack_fwd\n",
    "pp = dict(surface='white', hemi='both')"
   ]
  },
  {
   "cell_type": "markdown",
   "metadata": {},
   "source": [
    "# Get Forward Model"
   ]
  },
  {
   "cell_type": "code",
   "execution_count": 2,
   "metadata": {},
   "outputs": [
    {
     "name": "stderr",
     "output_type": "stream",
     "text": [
      "[Parallel(n_jobs=8)]: Using backend LokyBackend with 8 concurrent workers.\n",
      "[Parallel(n_jobs=8)]: Done   3 out of   8 | elapsed:    2.3s remaining:    3.9s\n",
      "[Parallel(n_jobs=8)]: Done   5 out of   8 | elapsed:    2.6s remaining:    1.5s\n",
      "[Parallel(n_jobs=8)]: Done   8 out of   8 | elapsed:    2.7s finished\n",
      "[Parallel(n_jobs=8)]: Using backend LokyBackend with 8 concurrent workers.\n",
      "[Parallel(n_jobs=8)]: Done   3 out of   8 | elapsed:    0.1s remaining:    0.2s\n",
      "[Parallel(n_jobs=8)]: Done   5 out of   8 | elapsed:    0.1s remaining:    0.0s\n",
      "[Parallel(n_jobs=8)]: Done   8 out of   8 | elapsed:    0.1s finished\n",
      "[Parallel(n_jobs=8)]: Using backend LokyBackend with 8 concurrent workers.\n",
      "[Parallel(n_jobs=8)]: Done   3 out of   8 | elapsed:    0.1s remaining:    0.2s\n",
      "[Parallel(n_jobs=8)]: Done   5 out of   8 | elapsed:    0.1s remaining:    0.0s\n",
      "[Parallel(n_jobs=8)]: Done   8 out of   8 | elapsed:    0.1s finished\n"
     ]
    }
   ],
   "source": [
    "info = get_info(kind='biosemi64')\n",
    "fwd = create_forward_model(info=info, sampling='ico3')\n",
    "\n",
    "leadfield, pos = unpack_fwd(fwd)[1:3]\n",
    "n_chans, n_dipoles = leadfield.shape"
   ]
  },
  {
   "cell_type": "markdown",
   "metadata": {},
   "source": [
    "# Get sample data"
   ]
  },
  {
   "cell_type": "code",
   "execution_count": 93,
   "metadata": {},
   "outputs": [
    {
     "name": "stdout",
     "output_type": "stream",
     "text": [
      "-- number of adjacent vertices : 1284\n",
      "Simulating data based on sparse patches.\n"
     ]
    },
    {
     "name": "stderr",
     "output_type": "stream",
     "text": [
      "100%|██████████| 2/2 [00:00<00:00,  3.41it/s]\n",
      "100%|██████████| 2/2 [00:00<00:00, 284.76it/s]\n"
     ]
    },
    {
     "name": "stdout",
     "output_type": "stream",
     "text": [
      "source data shape:  (1284, 1000) (1284, 1000)\n"
     ]
    },
    {
     "name": "stderr",
     "output_type": "stream",
     "text": [
      "100%|██████████| 2/2 [00:00<00:00, 10.31it/s]"
     ]
    },
    {
     "name": "stdout",
     "output_type": "stream",
     "text": [
      "Using control points [1.94443010e-11 2.02768995e-10 6.27168357e-08]\n"
     ]
    },
    {
     "name": "stderr",
     "output_type": "stream",
     "text": [
      "\n"
     ]
    },
    {
     "name": "stdout",
     "output_type": "stream",
     "text": [
      "For automatic theme detection, \"darkdetect\" has to be installed! You can install it with `pip install darkdetect`\n",
      "To use light mode, \"qdarkstyle\" has to be installed! You can install it with `pip install qdarkstyle`\n"
     ]
    }
   ],
   "source": [
    "settings = dict(number_of_sources=3, extents=(25, 40), duration_of_trial=1, target_snr=25)\n",
    "\n",
    "sim = Simulation(fwd, info, settings).simulate(2)\n",
    "stc = sim.source_data[0]\n",
    "evoked = sim.eeg_data[0].average()\n",
    "\n",
    "brain = stc.plot(**pp)\n",
    "brain.add_text(0.1, 0.9, 'Ground Truth', 'title',\n",
    "               font_size=14)"
   ]
  },
  {
   "cell_type": "markdown",
   "metadata": {},
   "source": [
    "# Regularization Optimizations"
   ]
  },
  {
   "cell_type": "code",
   "execution_count": 94,
   "metadata": {},
   "outputs": [
    {
     "name": "stdout",
     "output_type": "stream",
     "text": [
      "Preparing MNE\n",
      "Preparing wMNE\n",
      "Preparing dSPM\n",
      "alpha must be set to a float when using Dynamic Statistical Parametric Mapping, auto does not work yet.\n",
      "Preparing LORETA\n",
      "Preparing sLORETA\n",
      "Preparing eLORETA\n",
      "Preparing LAURA\n",
      "Preparing Backus-Gilbert\n",
      "Preparing S-MAP\n",
      "-- number of adjacent vertices : 1284\n",
      "Simulating data based on sparse patches.\n"
     ]
    },
    {
     "name": "stderr",
     "output_type": "stream",
     "text": [
      "100%|██████████| 256/256 [00:01<00:00, 207.79it/s]\n",
      "100%|██████████| 256/256 [00:00<00:00, 11133.32it/s]\n"
     ]
    },
    {
     "name": "stdout",
     "output_type": "stream",
     "text": [
      "source data shape:  (1284, 1) (1284, 1)\n"
     ]
    },
    {
     "name": "stderr",
     "output_type": "stream",
     "text": [
      "100%|██████████| 256/256 [00:00<00:00, 1108.13it/s]\n"
     ]
    },
    {
     "name": "stdout",
     "output_type": "stream",
     "text": [
      "sample  0\n",
      "sample  1\n",
      "sample  2\n",
      "sample  3\n",
      "sample  4\n",
      "sample  5\n",
      "sample  6\n",
      "sample  7\n",
      "sample  8\n",
      "sample  9\n",
      "sample  10\n",
      "sample  11\n",
      "sample  12\n",
      "sample  13\n",
      "sample  14\n",
      "sample  15\n",
      "sample  16\n",
      "sample  17\n",
      "sample  18\n",
      "sample  19\n",
      "sample  20\n",
      "sample  21\n",
      "sample  22\n",
      "sample  23\n",
      "sample  24\n",
      "sample  25\n",
      "sample  26\n",
      "sample  27\n",
      "sample  28\n",
      "sample  29\n",
      "sample  30\n",
      "sample  31\n",
      "sample  32\n",
      "sample  33\n",
      "sample  34\n",
      "sample  35\n",
      "sample  36\n",
      "sample  37\n",
      "sample  38\n",
      "sample  39\n",
      "sample  40\n",
      "sample  41\n",
      "sample  42\n",
      "sample  43\n",
      "sample  44\n",
      "sample  45\n",
      "sample  46\n",
      "sample  47\n",
      "sample  48\n",
      "sample  49\n",
      "sample  50\n",
      "sample  51\n",
      "sample  52\n",
      "sample  53\n",
      "sample  54\n",
      "sample  55\n",
      "sample  56\n",
      "sample  57\n",
      "sample  58\n",
      "sample  59\n",
      "sample  60\n",
      "sample  61\n",
      "sample  62\n",
      "sample  63\n",
      "sample  64\n",
      "sample  65\n",
      "sample  66\n",
      "sample  67\n",
      "sample  68\n",
      "sample  69\n",
      "sample  70\n",
      "sample  71\n",
      "sample  72\n",
      "sample  73\n",
      "sample  74\n",
      "sample  75\n",
      "sample  76\n",
      "sample  77\n",
      "sample  78\n",
      "sample  79\n",
      "sample  80\n",
      "sample  81\n",
      "sample  82\n",
      "sample  83\n",
      "sample  84\n",
      "sample  85\n",
      "sample  86\n",
      "sample  87\n",
      "sample  88\n",
      "sample  89\n",
      "sample  90\n",
      "sample  91\n",
      "sample  92\n",
      "sample  93\n",
      "sample  94\n",
      "sample  95\n",
      "sample  96\n",
      "sample  97\n",
      "sample  98\n",
      "sample  99\n",
      "sample  100\n",
      "sample  101\n",
      "sample  102\n",
      "sample  103\n",
      "sample  104\n",
      "sample  105\n",
      "sample  106\n",
      "sample  107\n",
      "sample  108\n",
      "sample  109\n",
      "sample  110\n",
      "sample  111\n",
      "sample  112\n",
      "sample  113\n",
      "sample  114\n",
      "sample  115\n",
      "sample  116\n",
      "sample  117\n",
      "sample  118\n",
      "sample  119\n",
      "sample  120\n",
      "sample  121\n",
      "sample  122\n",
      "sample  123\n",
      "sample  124\n",
      "sample  125\n",
      "sample  126\n",
      "sample  127\n",
      "sample  128\n",
      "sample  129\n",
      "sample  130\n",
      "sample  131\n",
      "sample  132\n",
      "sample  133\n",
      "sample  134\n",
      "sample  135\n",
      "sample  136\n",
      "sample  137\n",
      "sample  138\n",
      "sample  139\n",
      "sample  140\n",
      "sample  141\n",
      "sample  142\n",
      "sample  143\n",
      "sample  144\n",
      "sample  145\n",
      "sample  146\n",
      "sample  147\n",
      "sample  148\n",
      "sample  149\n",
      "sample  150\n",
      "sample  151\n",
      "sample  152\n",
      "sample  153\n",
      "sample  154\n",
      "sample  155\n",
      "sample  156\n",
      "sample  157\n",
      "sample  158\n",
      "sample  159\n",
      "sample  160\n",
      "sample  161\n",
      "sample  162\n",
      "sample  163\n",
      "sample  164\n",
      "sample  165\n",
      "sample  166\n",
      "sample  167\n",
      "sample  168\n",
      "sample  169\n",
      "sample  170\n",
      "sample  171\n",
      "sample  172\n",
      "sample  173\n",
      "sample  174\n",
      "sample  175\n",
      "sample  176\n",
      "sample  177\n",
      "sample  178\n",
      "sample  179\n",
      "sample  180\n",
      "sample  181\n",
      "sample  182\n",
      "sample  183\n",
      "sample  184\n",
      "sample  185\n",
      "sample  186\n",
      "sample  187\n",
      "sample  188\n",
      "sample  189\n",
      "sample  190\n",
      "sample  191\n",
      "sample  192\n",
      "sample  193\n",
      "sample  194\n",
      "sample  195\n",
      "sample  196\n",
      "sample  197\n",
      "sample  198\n",
      "sample  199\n",
      "sample  200\n",
      "sample  201\n",
      "sample  202\n",
      "sample  203\n",
      "sample  204\n",
      "sample  205\n",
      "sample  206\n",
      "sample  207\n",
      "sample  208\n",
      "sample  209\n",
      "sample  210\n",
      "sample  211\n",
      "sample  212\n",
      "sample  213\n",
      "sample  214\n",
      "sample  215\n",
      "sample  216\n",
      "sample  217\n",
      "sample  218\n",
      "sample  219\n",
      "sample  220\n",
      "sample  221\n",
      "sample  222\n",
      "sample  223\n",
      "sample  224\n",
      "sample  225\n",
      "sample  226\n",
      "sample  227\n",
      "sample  228\n",
      "sample  229\n",
      "sample  230\n",
      "sample  231\n",
      "sample  232\n",
      "sample  233\n",
      "sample  234\n",
      "sample  235\n",
      "sample  236\n",
      "sample  237\n",
      "sample  238\n",
      "sample  239\n",
      "sample  240\n",
      "sample  241\n",
      "sample  242\n",
      "sample  243\n",
      "sample  244\n",
      "sample  245\n",
      "sample  246\n",
      "sample  247\n",
      "sample  248\n",
      "sample  249\n",
      "sample  250\n",
      "sample  251\n",
      "sample  252\n",
      "sample  253\n",
      "sample  254\n",
      "sample  255\n",
      "Minimum Norm Estimate\n",
      "Weighted Minimum Norm Estimate\n",
      "Dynamic Statistical Parametric Mapping\n",
      "Low Resolution Tomography\n",
      "Standardized Low Resolution Tomography\n",
      "Exact Low Resolution Tomography\n",
      "Local Auto-Regressive Average\n",
      "Backus-Gilbert\n",
      "S-MAP\n",
      "Using control points [1.91990626e-09 2.62525145e-09 9.58595651e-09]\n",
      "For automatic theme detection, \"darkdetect\" has to be installed! You can install it with `pip install darkdetect`\n",
      "To use light mode, \"qdarkstyle\" has to be installed! You can install it with `pip install qdarkstyle`\n",
      "Mean correlation:  0.3378859549746737\n",
      "Mean NMSE:  0.030255782922383675\n"
     ]
    }
   ],
   "source": [
    "from invert.evaluate import corr, nmse\n",
    "from invert.solvers.lucas import SolverLUCAS\n",
    "\n",
    "solver = SolverLUCAS()\n",
    "solver.make_inverse_operator(fwd, verbose=0)\n",
    "solver.optimize_weights(fwd, info)\n",
    "solver.plot_weights()\n",
    "stc_hat = solver.apply_inverse_operator(evoked)\n",
    "stc_hat.plot(**pp, brain_kwargs=dict(title=solver.name))\n",
    "\n",
    "print(\"Mean correlation: \", np.mean(corr(stc_hat.data, stc.data)))\n",
    "print(\"Mean NMSE: \", np.mean(nmse(stc_hat.data, stc.data)))"
   ]
  },
  {
   "cell_type": "code",
   "execution_count": 95,
   "metadata": {},
   "outputs": [
    {
     "name": "stdout",
     "output_type": "stream",
     "text": [
      "Using control points [2.35909273e-09 2.98296382e-09 1.14005580e-08]\n",
      "For automatic theme detection, \"darkdetect\" has to be installed! You can install it with `pip install darkdetect`\n",
      "To use light mode, \"qdarkstyle\" has to be installed! You can install it with `pip install qdarkstyle`\n",
      "Mean correlation:  0.21165194027897546\n",
      "Mean NMSE:  0.020785161545233133\n"
     ]
    }
   ],
   "source": [
    "from invert import Solver\n",
    "from invert.evaluate import corr, nmse\n",
    "solver = Solver(solver=\"elor\")\n",
    "\n",
    "solver.make_inverse_operator(fwd, alpha=\"auto\")\n",
    "stc_hat = solver.apply_inverse_operator(evoked)\n",
    "stc_hat.plot(**pp, brain_kwargs=dict(title=solver.name))\n",
    "print(\"Mean correlation: \", np.mean(corr(stc_hat.data, stc.data)))\n",
    "print(\"Mean NMSE: \", np.mean(nmse(stc_hat.data, stc.data)))"
   ]
  },
  {
   "cell_type": "markdown",
   "metadata": {},
   "source": [
    "# Adapt"
   ]
  },
  {
   "cell_type": "code",
   "execution_count": 69,
   "metadata": {},
   "outputs": [
    {
     "name": "stdout",
     "output_type": "stream",
     "text": [
      "Using control points [2.36416085e-09 3.78566290e-09 2.79187920e-08]\n",
      "For automatic theme detection, \"darkdetect\" has to be installed! You can install it with `pip install darkdetect`\n",
      "To use light mode, \"qdarkstyle\" has to be installed! You can install it with `pip install qdarkstyle`\n",
      "Mean correlation:  0.4776289649789299\n",
      "Mean NMSE:  0.0074936934532251346\n",
      "Model: \"sequential_4\"\n",
      "_________________________________________________________________\n",
      " Layer (type)                Output Shape              Param #   \n",
      "=================================================================\n",
      " lstm_28 (LSTM)              (None, 128)               723456    \n",
      "                                                                 \n",
      " dense_28 (Dense)            (None, 1284)              165636    \n",
      "                                                                 \n",
      "=================================================================\n",
      "Total params: 889,092\n",
      "Trainable params: 889,092\n",
      "Non-trainable params: 0\n",
      "_________________________________________________________________\n",
      "Using control points [2.14741503e-09 3.54469978e-09 2.77268462e-08]\n",
      "For automatic theme detection, \"darkdetect\" has to be installed! You can install it with `pip install darkdetect`\n",
      "To use light mode, \"qdarkstyle\" has to be installed! You can install it with `pip install qdarkstyle`\n",
      "Mean correlation:  0.47801053737687677\n",
      "Mean NMSE:  0.007062392157255061\n"
     ]
    }
   ],
   "source": [
    "from invert.adapters import contextualize_bd, contextualize\n",
    "\n",
    "stc_hat_cbd = contextualize_bd(stc_hat, fwd, lstm_look_back=10, num_units=128, num_epochs=50, verbose=0)\n",
    "stc_hat_cbd.plot(**pp, brain_kwargs=dict(title=\"c\"+solver.name))\n",
    "\n",
    "print(\"Mean correlation: \", np.mean(corr(stc_hat_cbd.data, stc.data)))\n",
    "print(\"Mean NMSE: \", np.mean(nmse(stc_hat_cbd.data, stc.data)))\n",
    "\n",
    "stc_hat_c = contextualize(stc_hat, fwd, lstm_look_back=10, num_units=128, num_epochs=50, verbose=0)\n",
    "stc_hat_c.plot(**pp, brain_kwargs=dict(title=\"c\"+solver.name))\n",
    "\n",
    "print(\"Mean correlation: \", np.mean(corr(stc_hat_c.data, stc.data)))\n",
    "print(\"Mean NMSE: \", np.mean(nmse(stc_hat_c.data, stc.data)))"
   ]
  },
  {
   "cell_type": "markdown",
   "metadata": {},
   "source": [
    "# Evaluation"
   ]
  },
  {
   "cell_type": "code",
   "execution_count": 37,
   "metadata": {},
   "outputs": [
    {
     "name": "stdout",
     "output_type": "stream",
     "text": [
      "0\n",
      "-- number of adjacent vertices : 1284\n",
      "Simulating data based on sparse patches.\n"
     ]
    },
    {
     "name": "stderr",
     "output_type": "stream",
     "text": [
      "100%|██████████| 2/2 [00:00<00:00,  3.95it/s]\n",
      "100%|██████████| 2/2 [00:00<00:00, 365.44it/s]\n"
     ]
    },
    {
     "name": "stdout",
     "output_type": "stream",
     "text": [
      "source data shape:  (1284, 1000) (1284, 1000)\n"
     ]
    },
    {
     "name": "stderr",
     "output_type": "stream",
     "text": [
      "100%|██████████| 2/2 [00:00<00:00,  5.87it/s]\n"
     ]
    },
    {
     "name": "stdout",
     "output_type": "stream",
     "text": [
      "alpha must be set to a float when using Dynamic Statistical Parametric Mapping, auto does not work yet.\n",
      "1\n",
      "-- number of adjacent vertices : 1284\n",
      "Simulating data based on sparse patches.\n"
     ]
    },
    {
     "name": "stderr",
     "output_type": "stream",
     "text": [
      "100%|██████████| 2/2 [00:00<00:00,  4.63it/s]\n",
      "100%|██████████| 2/2 [00:00<00:00, 358.86it/s]\n"
     ]
    },
    {
     "name": "stdout",
     "output_type": "stream",
     "text": [
      "source data shape:  (1284, 1000) (1284, 1000)\n"
     ]
    },
    {
     "name": "stderr",
     "output_type": "stream",
     "text": [
      "100%|██████████| 2/2 [00:00<00:00,  7.17it/s]\n"
     ]
    },
    {
     "name": "stdout",
     "output_type": "stream",
     "text": [
      "2\n",
      "-- number of adjacent vertices : 1284\n",
      "Simulating data based on sparse patches.\n"
     ]
    },
    {
     "name": "stderr",
     "output_type": "stream",
     "text": [
      "100%|██████████| 2/2 [00:00<00:00,  4.98it/s]\n",
      "100%|██████████| 2/2 [00:00<00:00, 571.12it/s]\n"
     ]
    },
    {
     "name": "stdout",
     "output_type": "stream",
     "text": [
      "source data shape:  (1284, 1000) (1284, 1000)\n"
     ]
    },
    {
     "name": "stderr",
     "output_type": "stream",
     "text": [
      "100%|██████████| 2/2 [00:00<00:00,  6.35it/s]\n"
     ]
    },
    {
     "name": "stdout",
     "output_type": "stream",
     "text": [
      "3\n",
      "-- number of adjacent vertices : 1284\n",
      "Simulating data based on sparse patches.\n"
     ]
    },
    {
     "name": "stderr",
     "output_type": "stream",
     "text": [
      "100%|██████████| 2/2 [00:00<00:00,  4.99it/s]\n",
      "100%|██████████| 2/2 [00:00<00:00, 517.50it/s]\n"
     ]
    },
    {
     "name": "stdout",
     "output_type": "stream",
     "text": [
      "source data shape:  (1284, 1000) (1284, 1000)\n"
     ]
    },
    {
     "name": "stderr",
     "output_type": "stream",
     "text": [
      "100%|██████████| 2/2 [00:00<00:00,  7.11it/s]\n"
     ]
    },
    {
     "name": "stdout",
     "output_type": "stream",
     "text": [
      "4\n",
      "-- number of adjacent vertices : 1284\n",
      "Simulating data based on sparse patches.\n"
     ]
    },
    {
     "name": "stderr",
     "output_type": "stream",
     "text": [
      "100%|██████████| 2/2 [00:00<00:00,  5.25it/s]\n",
      "100%|██████████| 2/2 [00:00<00:00, 569.22it/s]\n"
     ]
    },
    {
     "name": "stdout",
     "output_type": "stream",
     "text": [
      "source data shape:  (1284, 1000) (1284, 1000)\n"
     ]
    },
    {
     "name": "stderr",
     "output_type": "stream",
     "text": [
      "100%|██████████| 2/2 [00:00<00:00,  6.54it/s]\n"
     ]
    },
    {
     "name": "stdout",
     "output_type": "stream",
     "text": [
      "5\n",
      "-- number of adjacent vertices : 1284\n",
      "Simulating data based on sparse patches.\n"
     ]
    },
    {
     "name": "stderr",
     "output_type": "stream",
     "text": [
      "100%|██████████| 2/2 [00:00<00:00,  5.20it/s]\n",
      "100%|██████████| 2/2 [00:00<00:00, 680.12it/s]\n"
     ]
    },
    {
     "name": "stdout",
     "output_type": "stream",
     "text": [
      "source data shape:  (1284, 1000) (1284, 1000)\n"
     ]
    },
    {
     "name": "stderr",
     "output_type": "stream",
     "text": [
      "100%|██████████| 2/2 [00:00<00:00,  6.52it/s]\n"
     ]
    },
    {
     "name": "stdout",
     "output_type": "stream",
     "text": [
      "6\n",
      "-- number of adjacent vertices : 1284\n",
      "Simulating data based on sparse patches.\n"
     ]
    },
    {
     "name": "stderr",
     "output_type": "stream",
     "text": [
      "100%|██████████| 2/2 [00:00<00:00,  5.00it/s]\n",
      "100%|██████████| 2/2 [00:00<00:00, 633.58it/s]\n"
     ]
    },
    {
     "name": "stdout",
     "output_type": "stream",
     "text": [
      "source data shape:  (1284, 1000) (1284, 1000)\n"
     ]
    },
    {
     "name": "stderr",
     "output_type": "stream",
     "text": [
      "100%|██████████| 2/2 [00:00<00:00,  6.66it/s]\n"
     ]
    },
    {
     "name": "stdout",
     "output_type": "stream",
     "text": [
      "7\n",
      "-- number of adjacent vertices : 1284\n",
      "Simulating data based on sparse patches.\n"
     ]
    },
    {
     "name": "stderr",
     "output_type": "stream",
     "text": [
      "100%|██████████| 2/2 [00:00<00:00,  5.02it/s]\n",
      "100%|██████████| 2/2 [00:00<00:00, 210.17it/s]\n"
     ]
    },
    {
     "name": "stdout",
     "output_type": "stream",
     "text": [
      "source data shape:  (1284, 1000) (1284, 1000)\n"
     ]
    },
    {
     "name": "stderr",
     "output_type": "stream",
     "text": [
      "100%|██████████| 2/2 [00:00<00:00,  6.48it/s]\n"
     ]
    },
    {
     "name": "stdout",
     "output_type": "stream",
     "text": [
      "8\n",
      "-- number of adjacent vertices : 1284\n",
      "Simulating data based on sparse patches.\n"
     ]
    },
    {
     "name": "stderr",
     "output_type": "stream",
     "text": [
      "100%|██████████| 2/2 [00:00<00:00,  4.84it/s]\n",
      "100%|██████████| 2/2 [00:00<00:00, 157.44it/s]\n"
     ]
    },
    {
     "name": "stdout",
     "output_type": "stream",
     "text": [
      "source data shape:  (1284, 1000) (1284, 1000)\n"
     ]
    },
    {
     "name": "stderr",
     "output_type": "stream",
     "text": [
      "100%|██████████| 2/2 [00:00<00:00,  6.93it/s]\n"
     ]
    },
    {
     "name": "stdout",
     "output_type": "stream",
     "text": [
      "9\n",
      "-- number of adjacent vertices : 1284\n",
      "Simulating data based on sparse patches.\n"
     ]
    },
    {
     "name": "stderr",
     "output_type": "stream",
     "text": [
      "100%|██████████| 2/2 [00:00<00:00,  5.09it/s]\n",
      "100%|██████████| 2/2 [00:00<00:00, 321.64it/s]\n"
     ]
    },
    {
     "name": "stdout",
     "output_type": "stream",
     "text": [
      "source data shape:  (1284, 1000) (1284, 1000)\n"
     ]
    },
    {
     "name": "stderr",
     "output_type": "stream",
     "text": [
      "100%|██████████| 2/2 [00:00<00:00,  6.88it/s]\n"
     ]
    },
    {
     "name": "stdout",
     "output_type": "stream",
     "text": [
      "10\n",
      "-- number of adjacent vertices : 1284\n",
      "Simulating data based on sparse patches.\n"
     ]
    },
    {
     "name": "stderr",
     "output_type": "stream",
     "text": [
      "100%|██████████| 2/2 [00:00<00:00,  4.78it/s]\n",
      "100%|██████████| 2/2 [00:00<00:00, 372.05it/s]\n"
     ]
    },
    {
     "name": "stdout",
     "output_type": "stream",
     "text": [
      "source data shape:  (1284, 1000) (1284, 1000)\n"
     ]
    },
    {
     "name": "stderr",
     "output_type": "stream",
     "text": [
      "100%|██████████| 2/2 [00:00<00:00,  6.67it/s]\n"
     ]
    },
    {
     "name": "stdout",
     "output_type": "stream",
     "text": [
      "11\n",
      "-- number of adjacent vertices : 1284\n",
      "Simulating data based on sparse patches.\n"
     ]
    },
    {
     "name": "stderr",
     "output_type": "stream",
     "text": [
      "100%|██████████| 2/2 [00:00<00:00,  5.22it/s]\n",
      "100%|██████████| 2/2 [00:00<00:00, 499.35it/s]\n"
     ]
    },
    {
     "name": "stdout",
     "output_type": "stream",
     "text": [
      "source data shape:  (1284, 1000) (1284, 1000)\n"
     ]
    },
    {
     "name": "stderr",
     "output_type": "stream",
     "text": [
      "100%|██████████| 2/2 [00:00<00:00,  6.80it/s]\n"
     ]
    },
    {
     "name": "stdout",
     "output_type": "stream",
     "text": [
      "12\n",
      "-- number of adjacent vertices : 1284\n",
      "Simulating data based on sparse patches.\n"
     ]
    },
    {
     "name": "stderr",
     "output_type": "stream",
     "text": [
      "100%|██████████| 2/2 [00:00<00:00,  5.08it/s]\n",
      "100%|██████████| 2/2 [00:00<00:00, 693.56it/s]\n"
     ]
    },
    {
     "name": "stdout",
     "output_type": "stream",
     "text": [
      "source data shape:  (1284, 1000) (1284, 1000)\n"
     ]
    },
    {
     "name": "stderr",
     "output_type": "stream",
     "text": [
      "100%|██████████| 2/2 [00:00<00:00,  7.02it/s]\n"
     ]
    },
    {
     "name": "stdout",
     "output_type": "stream",
     "text": [
      "13\n",
      "-- number of adjacent vertices : 1284\n",
      "Simulating data based on sparse patches.\n"
     ]
    },
    {
     "name": "stderr",
     "output_type": "stream",
     "text": [
      "100%|██████████| 2/2 [00:00<00:00,  5.12it/s]\n",
      "100%|██████████| 2/2 [00:00<00:00, 355.84it/s]\n"
     ]
    },
    {
     "name": "stdout",
     "output_type": "stream",
     "text": [
      "source data shape:  (1284, 1000) (1284, 1000)\n"
     ]
    },
    {
     "name": "stderr",
     "output_type": "stream",
     "text": [
      "100%|██████████| 2/2 [00:00<00:00,  6.38it/s]\n"
     ]
    },
    {
     "name": "stdout",
     "output_type": "stream",
     "text": [
      "14\n",
      "-- number of adjacent vertices : 1284\n",
      "Simulating data based on sparse patches.\n"
     ]
    },
    {
     "name": "stderr",
     "output_type": "stream",
     "text": [
      "100%|██████████| 2/2 [00:00<00:00,  5.00it/s]\n",
      "100%|██████████| 2/2 [00:00<00:00, 399.23it/s]\n"
     ]
    },
    {
     "name": "stdout",
     "output_type": "stream",
     "text": [
      "source data shape:  (1284, 1000) (1284, 1000)\n"
     ]
    },
    {
     "name": "stderr",
     "output_type": "stream",
     "text": [
      "100%|██████████| 2/2 [00:00<00:00,  6.59it/s]\n"
     ]
    },
    {
     "name": "stdout",
     "output_type": "stream",
     "text": [
      "15\n",
      "-- number of adjacent vertices : 1284\n",
      "Simulating data based on sparse patches.\n"
     ]
    },
    {
     "name": "stderr",
     "output_type": "stream",
     "text": [
      "100%|██████████| 2/2 [00:00<00:00,  5.12it/s]\n",
      "100%|██████████| 2/2 [00:00<00:00, 444.92it/s]\n"
     ]
    },
    {
     "name": "stdout",
     "output_type": "stream",
     "text": [
      "source data shape:  (1284, 1000) (1284, 1000)\n"
     ]
    },
    {
     "name": "stderr",
     "output_type": "stream",
     "text": [
      "100%|██████████| 2/2 [00:00<00:00,  6.72it/s]\n"
     ]
    },
    {
     "name": "stdout",
     "output_type": "stream",
     "text": [
      "16\n",
      "-- number of adjacent vertices : 1284\n",
      "Simulating data based on sparse patches.\n"
     ]
    },
    {
     "name": "stderr",
     "output_type": "stream",
     "text": [
      "100%|██████████| 2/2 [00:00<00:00, 214.79it/s]\n",
      "100%|██████████| 2/2 [00:00<00:00, 127.96it/s]\n"
     ]
    },
    {
     "name": "stdout",
     "output_type": "stream",
     "text": [
      "source data shape:  (1284, 1000) (1284, 1000)\n"
     ]
    },
    {
     "name": "stderr",
     "output_type": "stream",
     "text": [
      "100%|██████████| 2/2 [00:00<00:00,  6.65it/s]\n"
     ]
    },
    {
     "name": "stdout",
     "output_type": "stream",
     "text": [
      "17\n",
      "-- number of adjacent vertices : 1284\n",
      "Simulating data based on sparse patches.\n"
     ]
    },
    {
     "name": "stderr",
     "output_type": "stream",
     "text": [
      "100%|██████████| 2/2 [00:00<00:00,  4.88it/s]\n",
      "100%|██████████| 2/2 [00:00<00:00, 156.59it/s]\n"
     ]
    },
    {
     "name": "stdout",
     "output_type": "stream",
     "text": [
      "source data shape:  (1284, 1000) (1284, 1000)\n"
     ]
    },
    {
     "name": "stderr",
     "output_type": "stream",
     "text": [
      "100%|██████████| 2/2 [00:00<00:00,  6.96it/s]\n"
     ]
    },
    {
     "name": "stdout",
     "output_type": "stream",
     "text": [
      "18\n",
      "-- number of adjacent vertices : 1284\n",
      "Simulating data based on sparse patches.\n"
     ]
    },
    {
     "name": "stderr",
     "output_type": "stream",
     "text": [
      "100%|██████████| 2/2 [00:00<00:00,  4.80it/s]\n",
      "100%|██████████| 2/2 [00:00<?, ?it/s]\n"
     ]
    },
    {
     "name": "stdout",
     "output_type": "stream",
     "text": [
      "source data shape:  (1284, 1000) (1284, 1000)\n"
     ]
    },
    {
     "name": "stderr",
     "output_type": "stream",
     "text": [
      "100%|██████████| 2/2 [00:00<00:00,  6.52it/s]\n"
     ]
    },
    {
     "name": "stdout",
     "output_type": "stream",
     "text": [
      "19\n",
      "-- number of adjacent vertices : 1284\n",
      "Simulating data based on sparse patches.\n"
     ]
    },
    {
     "name": "stderr",
     "output_type": "stream",
     "text": [
      "100%|██████████| 2/2 [00:00<00:00,  4.99it/s]\n",
      "100%|██████████| 2/2 [00:00<00:00, 127.17it/s]\n"
     ]
    },
    {
     "name": "stdout",
     "output_type": "stream",
     "text": [
      "source data shape:  (1284, 1000) (1284, 1000)\n"
     ]
    },
    {
     "name": "stderr",
     "output_type": "stream",
     "text": [
      "100%|██████████| 2/2 [00:00<00:00,  6.64it/s]\n"
     ]
    },
    {
     "name": "stdout",
     "output_type": "stream",
     "text": [
      "20\n",
      "-- number of adjacent vertices : 1284\n",
      "Simulating data based on sparse patches.\n"
     ]
    },
    {
     "name": "stderr",
     "output_type": "stream",
     "text": [
      "100%|██████████| 2/2 [00:00<00:00,  5.00it/s]\n",
      "100%|██████████| 2/2 [00:00<00:00, 296.86it/s]\n"
     ]
    },
    {
     "name": "stdout",
     "output_type": "stream",
     "text": [
      "source data shape:  (1284, 1000) (1284, 1000)\n"
     ]
    },
    {
     "name": "stderr",
     "output_type": "stream",
     "text": [
      "100%|██████████| 2/2 [00:00<00:00,  6.88it/s]\n"
     ]
    },
    {
     "name": "stdout",
     "output_type": "stream",
     "text": [
      "21\n",
      "-- number of adjacent vertices : 1284\n",
      "Simulating data based on sparse patches.\n"
     ]
    },
    {
     "name": "stderr",
     "output_type": "stream",
     "text": [
      "100%|██████████| 2/2 [00:00<00:00,  4.92it/s]\n",
      "100%|██████████| 2/2 [00:00<?, ?it/s]\n"
     ]
    },
    {
     "name": "stdout",
     "output_type": "stream",
     "text": [
      "source data shape:  (1284, 1000) (1284, 1000)\n"
     ]
    },
    {
     "name": "stderr",
     "output_type": "stream",
     "text": [
      "100%|██████████| 2/2 [00:00<00:00,  6.95it/s]\n"
     ]
    },
    {
     "name": "stdout",
     "output_type": "stream",
     "text": [
      "22\n",
      "-- number of adjacent vertices : 1284\n",
      "Simulating data based on sparse patches.\n"
     ]
    },
    {
     "name": "stderr",
     "output_type": "stream",
     "text": [
      "100%|██████████| 2/2 [00:00<00:00,  5.01it/s]\n",
      "100%|██████████| 2/2 [00:00<00:00, 432.83it/s]\n"
     ]
    },
    {
     "name": "stdout",
     "output_type": "stream",
     "text": [
      "source data shape:  (1284, 1000) (1284, 1000)\n"
     ]
    },
    {
     "name": "stderr",
     "output_type": "stream",
     "text": [
      "100%|██████████| 2/2 [00:00<00:00,  6.89it/s]\n"
     ]
    },
    {
     "name": "stdout",
     "output_type": "stream",
     "text": [
      "23\n",
      "-- number of adjacent vertices : 1284\n",
      "Simulating data based on sparse patches.\n"
     ]
    },
    {
     "name": "stderr",
     "output_type": "stream",
     "text": [
      "100%|██████████| 2/2 [00:00<00:00,  4.70it/s]\n",
      "100%|██████████| 2/2 [00:00<00:00, 492.98it/s]\n"
     ]
    },
    {
     "name": "stdout",
     "output_type": "stream",
     "text": [
      "source data shape:  (1284, 1000) (1284, 1000)\n"
     ]
    },
    {
     "name": "stderr",
     "output_type": "stream",
     "text": [
      "100%|██████████| 2/2 [00:00<00:00,  6.45it/s]\n"
     ]
    },
    {
     "name": "stdout",
     "output_type": "stream",
     "text": [
      "24\n",
      "-- number of adjacent vertices : 1284\n",
      "Simulating data based on sparse patches.\n"
     ]
    },
    {
     "name": "stderr",
     "output_type": "stream",
     "text": [
      "100%|██████████| 2/2 [00:00<00:00,  3.96it/s]\n",
      "100%|██████████| 2/2 [00:00<?, ?it/s]\n"
     ]
    },
    {
     "name": "stdout",
     "output_type": "stream",
     "text": [
      "source data shape:  (1284, 1000) (1284, 1000)\n"
     ]
    },
    {
     "name": "stderr",
     "output_type": "stream",
     "text": [
      "100%|██████████| 2/2 [00:00<00:00,  6.84it/s]\n"
     ]
    }
   ],
   "source": [
    "from invert import all_solvers, Solver\n",
    "settings = dict(number_of_sources=(1,10), extents=(1, 40), duration_of_trial=1, target_snr=(1,25))\n",
    "\n",
    "\n",
    "errors = {sname: [] for sname in all_solvers}\n",
    "solvers = dict()\n",
    "for i in range(25):\n",
    "    print(i)\n",
    "    sim = Simulation(fwd, info, settings).simulate(2)\n",
    "    stc = sim.source_data[0]\n",
    "    evoked = sim.eeg_data[0].average()\n",
    "\n",
    "    for solver_name in all_solvers:\n",
    "        solver = Solver(solver=solver_name)\n",
    "\n",
    "        if solver.name.lower() == \"multiple sparse priors\" or \"bayesian\" in solver.name.lower():\n",
    "            solvers[solver_name] = solver.make_inverse_operator(fwd, evoked, alpha=\"auto\")\n",
    "        else:\n",
    "            if not solver_name in solvers:\n",
    "                solvers[solver_name] = solver.make_inverse_operator(fwd, alpha=\"auto\")\n",
    "        stc_hat = solvers[solver_name].apply_inverse_operator(evoked)\n",
    "        # stc_hat.plot(**pp, brain_kwargs=dict(title=solver.name))\n",
    "        error = np.mean([pearsonr(a, b)[0] for a, b in zip(stc.data.T, stc_hat.data.T)])\n",
    "        errors[solver_name].append( error )"
   ]
  },
  {
   "cell_type": "code",
   "execution_count": 52,
   "metadata": {},
   "outputs": [
    {
     "data": {
      "text/plain": [
       "<AxesSubplot:>"
      ]
     },
     "execution_count": 52,
     "metadata": {},
     "output_type": "execute_result"
    }
   ],
   "source": [
    "import pandas as pd\n",
    "import seaborn as sns\n",
    "sns.set(font_scale=0.8)\n",
    "df = pd.DataFrame(errors)\n",
    "sorted_index = df.median().sort_values().index\n",
    "df = df[sorted_index]\n",
    "sns.boxplot(data=df)"
   ]
  },
  {
   "cell_type": "code",
   "execution_count": null,
   "metadata": {},
   "outputs": [],
   "source": [
    "from invert.solvers.multiple_sparse_priors import SolverMultipleSparsePriors\n",
    "from invert.solvers.loreta import SolverLORETA, SolverSLORETA, SolverELORETA\n",
    "from invert.solvers.wrop import SolverBackusGilbert, SolverLAURA\n",
    "from invert.solvers.smap import SolverSMAP\n",
    "from invert.solvers.minimum_norm_estimates import SolverDynamicStatisticalParametricMapping, SolverWeightedMinimumNorm, SolverMinimumNorm\n",
    "solvers = [SolverMultipleSparsePriors, SolverLORETA, SolverSLORETA, SolverELORETA, SolverBackusGilbert, SolverLAURA, SolverSMAP, SolverDynamicStatisticalParametricMapping, SolverWeightedMinimumNorm, SolverMinimumNorm]\n",
    "\n",
    "for solver in solvers:\n",
    "    solver_ = solver()\n",
    "    if solver_.name == \"Multiple Sparse Priors\":\n",
    "        solver_.make_inverse_operator(fwd, evoked, alpha='auto')\n",
    "    else:\n",
    "        solver_.make_inverse_operator(fwd, alpha='auto')\n",
    "    stc_hat = solver_.apply_inverse_operator(evoked)\n",
    "    stc_hat.plot(**pp, brain_kwargs=dict(title=solver_.name))\n",
    "\n"
   ]
  },
  {
   "cell_type": "code",
   "execution_count": null,
   "metadata": {},
   "outputs": [],
   "source": [
    "from mne.minimum_norm import make_inverse_operator as mne_inverse\n",
    "from mne.minimum_norm import apply_inverse as mne_apply\n",
    "from mne import make_ad_hoc_cov\n",
    "noise_cov = make_ad_hoc_cov(evoked.info, verbose=0)\n",
    "mne_io = mne_inverse(evoked.info, fwd, noise_cov=noise_cov, fixed=True, loose=0, depth=0, verbose=0)\n",
    "stc_hat = mne_apply(evoked, mne_io, method=\"MNE\", verbose=0)\n",
    "stc_hat.plot(**pp)"
   ]
  },
  {
   "cell_type": "code",
   "execution_count": null,
   "metadata": {},
   "outputs": [],
   "source": []
  }
 ],
 "metadata": {
  "kernelspec": {
   "display_name": "Python 3.8.10 ('invertenv')",
   "language": "python",
   "name": "python3"
  },
  "language_info": {
   "codemirror_mode": {
    "name": "ipython",
    "version": 3
   },
   "file_extension": ".py",
   "mimetype": "text/x-python",
   "name": "python",
   "nbconvert_exporter": "python",
   "pygments_lexer": "ipython3",
   "version": "3.8.10"
  },
  "orig_nbformat": 4,
  "vscode": {
   "interpreter": {
    "hash": "dda1e5657e486f74a7b39841fb8103db2af51a77394f44c39a7821a371af47bd"
   }
  }
 },
 "nbformat": 4,
 "nbformat_minor": 2
}
