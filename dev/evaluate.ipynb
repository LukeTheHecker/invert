{
 "cells": [
  {
   "cell_type": "code",
   "execution_count": 1,
   "metadata": {},
   "outputs": [],
   "source": [
    "%load_ext autoreload\n",
    "%autoreload 2\n",
    "%matplotlib qt\n",
    "import sys; sys.path.insert(0, '../')\n",
    "import numpy as np\n",
    "from matplotlib import pyplot as plt\n",
    "from scipy.stats import pearsonr\n",
    "import mne\n",
    "from esinet import Simulation\n",
    "from esinet.forward import get_info, create_forward_model\n",
    "from esinet.util import unpack_fwd\n",
    "pp = dict(surface='white', hemi='both')"
   ]
  },
  {
   "cell_type": "code",
   "execution_count": 2,
   "metadata": {},
   "outputs": [
    {
     "name": "stderr",
     "output_type": "stream",
     "text": [
      "[Parallel(n_jobs=4)]: Using backend LokyBackend with 4 concurrent workers.\n",
      "[Parallel(n_jobs=4)]: Done   2 out of   4 | elapsed:    3.8s remaining:    3.8s\n",
      "[Parallel(n_jobs=4)]: Done   4 out of   4 | elapsed:    3.9s remaining:    0.0s\n",
      "[Parallel(n_jobs=4)]: Done   4 out of   4 | elapsed:    3.9s finished\n",
      "[Parallel(n_jobs=4)]: Using backend LokyBackend with 4 concurrent workers.\n",
      "[Parallel(n_jobs=4)]: Done   2 out of   4 | elapsed:    0.3s remaining:    0.3s\n",
      "[Parallel(n_jobs=4)]: Done   4 out of   4 | elapsed:    0.4s remaining:    0.0s\n",
      "[Parallel(n_jobs=4)]: Done   4 out of   4 | elapsed:    0.4s finished\n",
      "[Parallel(n_jobs=4)]: Using backend LokyBackend with 4 concurrent workers.\n",
      "[Parallel(n_jobs=4)]: Done   2 out of   4 | elapsed:    0.5s remaining:    0.5s\n",
      "[Parallel(n_jobs=4)]: Done   4 out of   4 | elapsed:    0.6s remaining:    0.0s\n",
      "[Parallel(n_jobs=4)]: Done   4 out of   4 | elapsed:    0.6s finished\n"
     ]
    }
   ],
   "source": [
    "info = get_info(kind='biosemi128')\n",
    "fwd = create_forward_model(info=info, sampling='ico3')\n",
    "\n",
    "leadfield, pos = unpack_fwd(fwd)[1:3]\n",
    "n_chans, n_dipoles = leadfield.shape"
   ]
  },
  {
   "cell_type": "markdown",
   "metadata": {},
   "source": [
    "# Simulate"
   ]
  },
  {
   "cell_type": "code",
   "execution_count": null,
   "metadata": {},
   "outputs": [],
   "source": [
    "settings = dict(number_of_sources=3, extents=(1, 25), duration_of_trial=0.01, target_snr=5)\n",
    "\n",
    "sim = Simulation(fwd, info, settings).simulate(2)\n",
    "stc = sim.source_data[0]\n",
    "evoked = sim.eeg_data[0].average()\n",
    "\n",
    "stc.data /= abs(stc.data).max()\n",
    "brain = stc.plot(**pp)\n",
    "brain.add_text(0.1, 0.9, 'Ground Truth', 'title',\n",
    "               font_size=14)\n",
    "evoked.plot_joint()"
   ]
  },
  {
   "cell_type": "markdown",
   "metadata": {},
   "source": [
    "# Solve"
   ]
  },
  {
   "cell_type": "code",
   "execution_count": null,
   "metadata": {},
   "outputs": [],
   "source": [
    "from invert import Solver\n",
    "solver = Solver(\"SSMP\")\n",
    "solver.make_inverse_operator(fwd, evoked)\n",
    "stc_ = solver.apply_inverse_operator(evoked)\n",
    "stc_.data /= abs(stc_.data).max()\n",
    "brain = stc_.plot(**pp)\n",
    "brain.add_text(0.1, 0.9, solver.name, 'title',\n",
    "               font_size=14)\n",
    "\n",
    "evoked_ = mne.EvokedArray(fwd[\"sol\"][\"data\"] @ stc_.data, info)\n",
    "evoked_.plot_joint()"
   ]
  },
  {
   "cell_type": "code",
   "execution_count": null,
   "metadata": {},
   "outputs": [],
   "source": [
    "from invert import Solver\n",
    "\n",
    "# solver_ = Solver(\"eLORETA\")\n",
    "# solver_.make_inverse_operator(fwd, evoked)\n",
    "stc_ = solver_.apply_inverse_operator(evoked)\n",
    "stc_.data /= abs(stc_.data).max()\n",
    "brain = stc_.plot(**pp)\n",
    "brain.add_text(0.1, 0.9, solver_.name, 'title',\n",
    "               font_size=14)\n",
    "\n",
    "evoked_ = mne.EvokedArray(fwd[\"sol\"][\"data\"] @ stc_.data, info)\n",
    "evoked_.plot_joint()"
   ]
  },
  {
   "cell_type": "markdown",
   "metadata": {},
   "source": [
    "# Big Loop"
   ]
  },
  {
   "cell_type": "code",
   "execution_count": null,
   "metadata": {},
   "outputs": [],
   "source": [
    "from invert import Solver\n",
    "# from invert.config import all_solvers\n",
    "from invert.evaluate import nmse, corr, eval_mean_localization_error, eval_auc\n",
    "from invert.adapters import contextualize_bd\n",
    "import pickle as pkl\n",
    "\n",
    "\n",
    "all_solvers = [ \"SOMP\", \"SSMP\", \"SubSMP\", \"MNE\", \"dSPM\", \"LORETA\", \"eLORETA\", \"Bayesian Beamformer LORETA\"]\n",
    "settings = dict(number_of_sources=(1, 4), extents=(1, 25), duration_of_trial=0.1, target_snr=1e99)\n",
    "\n",
    "# errors_corr = {sname: [] for sname in all_solvers}\n",
    "# errors_mle = {sname: [] for sname in all_solvers}\n",
    "# errors_auc = {sname: [] for sname in all_solvers}\n",
    "\n",
    "# solvers = dict()\n",
    "\n",
    "for i in range(20):\n",
    "    print(i)\n",
    "    sim = Simulation(fwd, info, settings).simulate(2)\n",
    "    stc = sim.source_data[0]\n",
    "    evoked = sim.eeg_data[0].average()\n",
    "\n",
    "    for solver_name in all_solvers:\n",
    "        print(solver_name)\n",
    "        solver = Solver(solver=solver_name)\n",
    "        if (not solver_name in solvers):\n",
    "            solvers[solver_name] = solver.make_inverse_operator(fwd, evoked, alpha=\"auto\")\n",
    "        stc_hat = solvers[solver_name].apply_inverse_operator(evoked)\n",
    "        # stc_hat.plot(**pp, brain_kwargs=dict(title=solver.name))\n",
    "        # error = np.mean(corr(stc.data, stc_hat.data))\n",
    "        \n",
    "        error_corr = np.mean(corr(stc.data, stc_hat.data))\n",
    "        try:\n",
    "            error_mle = eval_mean_localization_error(stc.data[:, 0], stc_hat.data[:, 0], pos)\n",
    "        except:\n",
    "            error_mle = np.nan\n",
    "        error_auc = eval_auc(stc.data[:, 0], stc_hat.data[:, 0], pos)\n",
    "\n",
    "        errors_corr[solver_name].append( error_corr )\n",
    "        errors_mle[solver_name].append( error_mle )\n",
    "        errors_auc[solver_name].append( error_auc )\n",
    "        # print(error_corr, error_mle, error_auc)\n",
    "    \n",
    "    # print(\"Saving errors\")\n",
    "    # fn = \"errors.pkl\"\n",
    "    # with open(fn, 'wb') as f:\n",
    "    #     pkl.dump(errors, f)"
   ]
  },
  {
   "cell_type": "code",
   "execution_count": null,
   "metadata": {},
   "outputs": [],
   "source": [
    "# import pickle as pkl\n",
    "# fn = \"errors.pkl\"\n",
    "# with open(fn, 'rb') as f:\n",
    "#     errors = pkl.load(f)"
   ]
  },
  {
   "cell_type": "markdown",
   "metadata": {},
   "source": [
    "# Plot"
   ]
  },
  {
   "cell_type": "code",
   "execution_count": null,
   "metadata": {},
   "outputs": [],
   "source": [
    "df = pd.DataFrame(errors_mle)\n",
    "\n",
    "plt.figure()\n",
    "sns.distplot(df[\"eLORETA\"])\n",
    "sns.distplot(df[\"SubSMP\"])"
   ]
  },
  {
   "cell_type": "code",
   "execution_count": null,
   "metadata": {},
   "outputs": [],
   "source": [
    "import pandas as pd\n",
    "import seaborn as sns\n",
    "sns.set(font_scale=0.8)\n",
    "\n",
    "df = pd.DataFrame(errors_corr)\n",
    "# df = pd.DataFrame(errors_mle)\n",
    "# df = pd.DataFrame(errors_auc)\n",
    "\n",
    "sorted_index = df.median().sort_values().index\n",
    "df = df[sorted_index]\n",
    "\n",
    "plt.figure()\n",
    "sns.boxplot(data=df)\n",
    "plt.title(\"Correlation with ground truth\")\n",
    "\n",
    "\n",
    "df_mean_var = pd.concat([df.mean(), df.std()], axis=1)\n",
    "df_mean_var = df_mean_var.rename(columns={0: \"Median\", 1: \"Variance\"})\n",
    "df_mean_var[\"MedVar\"] = df_mean_var[\"Median\"] / df_mean_var[\"Variance\"]\n",
    "df_mean_var[\"Method\"] = df_mean_var.index\n",
    "display(df_mean_var)\n",
    "\n",
    "plt.figure()\n",
    "sns.scatterplot(x=\"Median\", y=\"Variance\", hue=\"Method\", size=\"MedVar\", data=df_mean_var)\n",
    "plt.xlabel(\"Median\")\n",
    "plt.ylabel(\"Variance\")\n"
   ]
  },
  {
   "cell_type": "code",
   "execution_count": null,
   "metadata": {},
   "outputs": [],
   "source": [
    "settings = dict(number_of_sources=3, extents=(25, 35), duration_of_trial=0.025, target_snr=99999)\n",
    "\n",
    "sim = Simulation(fwd, info, settings).simulate(2)\n",
    "stc = sim.source_data[0]\n",
    "evoked = sim.eeg_data[0].average()\n",
    "\n",
    "brain = stc.plot(**pp)\n",
    "brain.add_text(0.1, 0.9, 'Ground Truth', 'title',\n",
    "               font_size=14)"
   ]
  },
  {
   "cell_type": "code",
   "execution_count": null,
   "metadata": {},
   "outputs": [],
   "source": [
    "# from invert.solvers.empirical_bayes import SolverChampagne\n",
    "# from invert.solvers.esinet import SolverFullyConnected\n",
    "# solver_fc = SolverFullyConnected().make_inverse_operator(fwd, evoked)\n",
    "# solver_ch = SolverChampagne().make_inverse_operator(fwd, evoked)\n",
    "from invert.evaluate import nmse, corr\n",
    "\n",
    "stc_hat = solver_ch.apply_inverse_operator(evoked)\n",
    "stc_hat.plot(**pp)\n",
    "# brain.add_text(0.1, 0.9, \"Champagne\", 'title',\n",
    "#                font_size=14)\n",
    "error_ch = np.mean(corr(abs(stc.data), abs(stc_hat.data)))\n",
    "\n",
    "stc_hat = solver_fc.apply_inverse_operator(evoked)\n",
    "stc_hat.plot(**pp)\n",
    "# brain.add_text(0.1, 0.9, \"Fully-Connected\", 'title',\n",
    "#                font_size=14)\n",
    "error_fc = np.mean(corr(abs(stc.data), abs(stc_hat.data)))\n",
    "\n",
    "print(f\"Champ: {error_ch}\\nFC: {error_fc}\")"
   ]
  },
  {
   "cell_type": "code",
   "execution_count": null,
   "metadata": {},
   "outputs": [],
   "source": []
  }
 ],
 "metadata": {
  "kernelspec": {
   "display_name": "Python 3.8.10 ('invertenv')",
   "language": "python",
   "name": "python3"
  },
  "language_info": {
   "codemirror_mode": {
    "name": "ipython",
    "version": 3
   },
   "file_extension": ".py",
   "mimetype": "text/x-python",
   "name": "python",
   "nbconvert_exporter": "python",
   "pygments_lexer": "ipython3",
   "version": "3.8.10"
  },
  "orig_nbformat": 4,
  "vscode": {
   "interpreter": {
    "hash": "109cbb5ed194d0e1c7aea844cf0a4a10faadf2a56a1c0eb03142356ad9dcb9c6"
   }
  }
 },
 "nbformat": 4,
 "nbformat_minor": 2
}
