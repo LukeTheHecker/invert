{
 "cells": [
  {
   "cell_type": "code",
   "execution_count": null,
   "metadata": {},
   "outputs": [],
   "source": [
    "%load_ext autoreload\n",
    "%autoreload 2\n",
    "%matplotlib qt\n",
    "import sys; sys.path.insert(0, '../')\n",
    "import numpy as np\n",
    "from matplotlib import pyplot as plt\n",
    "from scipy.stats import pearsonr\n",
    "import mne\n",
    "from esinet import Simulation\n",
    "from esinet.forward import get_info, create_forward_model\n",
    "from esinet.util import unpack_fwd\n",
    "pp = dict(surface='white', hemi='both')"
   ]
  },
  {
   "cell_type": "markdown",
   "metadata": {},
   "source": [
    "# Get Forward Model"
   ]
  },
  {
   "cell_type": "code",
   "execution_count": null,
   "metadata": {},
   "outputs": [],
   "source": [
    "info = get_info(kind='biosemi32')\n",
    "fwd = create_forward_model(info=info, sampling='ico3')\n",
    "\n",
    "leadfield, pos = unpack_fwd(fwd)[1:3]\n",
    "n_chans, n_dipoles = leadfield.shape"
   ]
  },
  {
   "cell_type": "markdown",
   "metadata": {},
   "source": [
    "# Get sample data"
   ]
  },
  {
   "cell_type": "code",
   "execution_count": null,
   "metadata": {},
   "outputs": [],
   "source": [
    "settings = dict(number_of_sources=3, extents=(25, 40), duration_of_trial=1, target_snr=200)\n",
    "\n",
    "sim = Simulation(fwd, info, settings).simulate(2)\n",
    "stc = sim.source_data[0]\n",
    "evoked = sim.eeg_data[0].average()\n",
    "\n",
    "brain = stc.plot(**pp)\n",
    "brain.add_text(0.1, 0.9, 'Ground Truth', 'title',\n",
    "               font_size=14)"
   ]
  },
  {
   "cell_type": "code",
   "execution_count": null,
   "metadata": {},
   "outputs": [],
   "source": [
    "from scipy.sparse.csgraph import laplacian\n",
    "from scipy.spatial.distance import cdist\n",
    "adjacency = mne.spatial_src_adjacency(fwd['src'], verbose=0).toarray()\n",
    "gradient = np.gradient(adjacency)\n",
    "gradient = np.stack([abs(gradient[0]), abs(gradient[1])], axis=0).mean(axis=0)\n",
    "laplace_operator = laplacian(adjacency)\n",
    "B = np.diag(np.linalg.norm(leadfield, axis=0))\n",
    "leadfield_cov = leadfield.T @ leadfield \n",
    "gradient_2 = (abs(np.gradient(leadfield_cov)[0]) + abs(np.gradient(leadfield_cov)[1])) / 2\n",
    "gradient_2 = gradient_2 * adjacency\n",
    "\n",
    "\n",
    "dist = cdist(pos, pos)      \n",
    "gradient_2 = (abs(np.gradient(dist)[0]) + abs(np.gradient(dist)[1])) / 2\n",
    "\n",
    "plt.figure()\n",
    "plt.imshow(laplace_operator)\n",
    "plt.colorbar()\n",
    "\n",
    "# from scipy.ndimage import gaussian_gradient_magnitude, morphological_gradient\n",
    "# gradient = gaussian_gradient_magnitude(adjacency,1)\n",
    "\n",
    "plt.figure()\n",
    "plt.imshow(gradient_2)\n",
    "plt.colorbar()"
   ]
  },
  {
   "cell_type": "markdown",
   "metadata": {},
   "source": [
    "# Regularization Optimizations"
   ]
  },
  {
   "cell_type": "code",
   "execution_count": null,
   "metadata": {},
   "outputs": [],
   "source": [
    "# from invert.solvers.multiple_sparse_priors import SolverMultipleSparsePriors\n",
    "# from invert.solvers.loreta import SolverLORETA, SolverSLORETA, SolverELORETA\n",
    "# from invert.solvers.wrop import SolverBackusGilbert, SolverLAURA\n",
    "# from invert.solvers.smap import SolverSMAP\n",
    "# from invert.solvers.minimum_norm_estimates import SolverDynamicStatisticalParametricMapping, SolverWeightedMinimumNorm, SolverMinimumNorm\n",
    "from invert import Solver\n",
    "solver = Solver(solver=\"S-Map\")\n",
    "\n",
    "\n",
    "solver.make_inverse_operator(fwd, alpha=\"auto\")\n",
    "stc_hat = solver.apply_inverse_operator(evoked)\n",
    "stc_hat.plot(**pp, brain_kwargs=dict(title=solver.name))\n",
    "\n"
   ]
  },
  {
   "cell_type": "code",
   "execution_count": null,
   "metadata": {},
   "outputs": [],
   "source": [
    "from invert.solvers.multiple_sparse_priors import SolverMultipleSparsePriors\n",
    "from invert.solvers.loreta import SolverLORETA, SolverSLORETA, SolverELORETA\n",
    "from invert.solvers.wrop import SolverBackusGilbert, SolverLAURA\n",
    "from invert.solvers.smap import SolverSMAP\n",
    "from invert.solvers.minimum_norm_estimates import SolverDynamicStatisticalParametricMapping, SolverWeightedMinimumNorm, SolverMinimumNorm\n",
    "solvers = [SolverMultipleSparsePriors, SolverLORETA, SolverSLORETA, SolverELORETA, SolverBackusGilbert, SolverLAURA, SolverSMAP, SolverDynamicStatisticalParametricMapping, SolverWeightedMinimumNorm, SolverMinimumNorm]\n",
    "\n",
    "for solver in solvers:\n",
    "    solver_ = solver()\n",
    "    if solver_.name == \"Multiple Sparse Priors\":\n",
    "        solver_.make_inverse_operator(fwd, evoked, alpha='auto')\n",
    "    else:\n",
    "        solver_.make_inverse_operator(fwd, alpha='auto')\n",
    "    stc_hat = solver_.apply_inverse_operator(evoked)\n",
    "    stc_hat.plot(**pp, brain_kwargs=dict(title=solver_.name))\n",
    "\n"
   ]
  },
  {
   "cell_type": "code",
   "execution_count": null,
   "metadata": {},
   "outputs": [],
   "source": [
    "from mne.minimum_norm import make_inverse_operator as mne_inverse\n",
    "from mne.minimum_norm import apply_inverse as mne_apply\n",
    "from mne import make_ad_hoc_cov\n",
    "noise_cov = make_ad_hoc_cov(evoked.info, verbose=0)\n",
    "mne_io = mne_inverse(evoked.info, fwd, noise_cov=noise_cov, fixed=True, loose=0, depth=0, verbose=0)\n",
    "stc_hat = mne_apply(evoked, mne_io, method=\"MNE\", verbose=0)\n",
    "stc_hat.plot(**pp)"
   ]
  },
  {
   "cell_type": "code",
   "execution_count": null,
   "metadata": {},
   "outputs": [],
   "source": []
  }
 ],
 "metadata": {
  "kernelspec": {
   "display_name": "Python (invertenv)",
   "language": "python",
   "name": "invertenv"
  },
  "language_info": {
   "codemirror_mode": {
    "name": "ipython",
    "version": 3
   },
   "file_extension": ".py",
   "mimetype": "text/x-python",
   "name": "python",
   "nbconvert_exporter": "python",
   "pygments_lexer": "ipython3",
   "version": "3.8.10"
  },
  "orig_nbformat": 4,
  "vscode": {
   "interpreter": {
    "hash": "dda1e5657e486f74a7b39841fb8103db2af51a77394f44c39a7821a371af47bd"
   }
  }
 },
 "nbformat": 4,
 "nbformat_minor": 2
}
