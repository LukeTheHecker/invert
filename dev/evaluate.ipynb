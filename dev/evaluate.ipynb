{
 "cells": [
  {
   "cell_type": "code",
   "execution_count": null,
   "metadata": {},
   "outputs": [],
   "source": [
    "%load_ext autoreload\n",
    "%autoreload 2\n",
    "%matplotlib qt\n",
    "import sys; sys.path.insert(0, '../')\n",
    "import numpy as np\n",
    "from matplotlib import pyplot as plt\n",
    "from scipy.stats import pearsonr\n",
    "import mne\n",
    "sys.path.insert(0, '../../esinet')\n",
    "\n",
    "from esinet import Simulation\n",
    "from esinet.forward import get_info, create_forward_model\n",
    "from esinet.util import unpack_fwd\n",
    "pp = dict(surface='white', hemi='both', verbose=0)"
   ]
  },
  {
   "cell_type": "code",
   "execution_count": null,
   "metadata": {},
   "outputs": [],
   "source": [
    "info = get_info(kind='biosemi64')\n",
    "fwd = create_forward_model(info=info, sampling='ico3')\n",
    "\n",
    "leadfield, pos = unpack_fwd(fwd)[1:3]\n",
    "n_chans, n_dipoles = leadfield.shape"
   ]
  },
  {
   "cell_type": "markdown",
   "metadata": {},
   "source": [
    "# Simulate"
   ]
  },
  {
   "cell_type": "code",
   "execution_count": null,
   "metadata": {},
   "outputs": [],
   "source": [
    "settings = dict(\n",
    "    number_of_sources=4,\n",
    "    extents=(1, 25),\n",
    "    duration_of_trial=0.2,\n",
    "    amplitudes=(99, 100),\n",
    "    target_snr=1e99,\n",
    "    beta_noise=0,\n",
    "    method=\"standard\")\n",
    "\n",
    "sim = Simulation(fwd, info, settings).simulate(2)\n",
    "stc = sim.source_data[0]\n",
    "evoked = sim.eeg_data[0].average()\n",
    "\n",
    "stc.data /= abs(stc.data).max()\n",
    "brain = stc.plot(**pp)\n",
    "brain.add_text(0.1, 0.9, 'Ground Truth', 'title',\n",
    "               font_size=14)\n",
    "evoked.plot_joint()"
   ]
  },
  {
   "cell_type": "markdown",
   "metadata": {},
   "source": [
    "# Solve"
   ]
  },
  {
   "cell_type": "code",
   "execution_count": null,
   "metadata": {},
   "outputs": [],
   "source": [
    "from invert import Solver\n",
    "solver = Solver(\"lowsnrchampagne\")\n",
    "solver.make_inverse_operator(fwd, evoked, alpha=\"auto\")\n",
    "stc_ = solver.apply_inverse_operator(evoked)\n",
    "# stc_.data /= abs(stc_.data).max()\n",
    "brain = stc_.plot(**pp)\n",
    "brain.add_text(0.1, 0.9, solver.name, 'title',\n",
    "               font_size=14)\n",
    "\n",
    "evoked_ = mne.EvokedArray(fwd[\"sol\"][\"data\"] @ stc_.data, info).set_eeg_reference(\"average\", projection=True)\n",
    "evoked_.plot_joint()\n",
    "\n",
    "print(\"r = \", pearsonr(abs(stc.data).mean(axis=-1), abs(stc_.data).mean(axis=-1))[0])\n",
    "print(\"L1 = \",  np.linalg.norm(stc_.data, ord=1))"
   ]
  },
  {
   "cell_type": "code",
   "execution_count": null,
   "metadata": {},
   "outputs": [],
   "source": [
    "from invert import Solver\n",
    "solver = Solver(\"Source-MAP\")\n",
    "solver.make_inverse_operator(fwd, evoked, alpha=\"auto\")\n",
    "stc_ = solver.apply_inverse_operator(evoked)\n",
    "\n",
    "brain = stc_.plot(**pp)\n",
    "brain.add_text(0.1, 0.9, solver.name, 'title',\n",
    "               font_size=14)\n",
    "\n",
    "evoked_ = mne.EvokedArray(fwd[\"sol\"][\"data\"] @ stc_.data, info).set_eeg_reference(\"average\", projection=True)\n",
    "evoked_.plot_joint()\n",
    "\n",
    "print(\"r = \", pearsonr(abs(stc.data).mean(axis=-1), abs(stc_.data).mean(axis=-1))[0])\n",
    "print(\"L1 = \",  np.linalg.norm(stc_.data, ord=1))"
   ]
  },
  {
   "cell_type": "code",
   "execution_count": null,
   "metadata": {},
   "outputs": [],
   "source": [
    "from invert import Solver\n",
    "solver = Solver(\"Gamma-MAP-MSP\")\n",
    "solver.make_inverse_operator(fwd, evoked, alpha=\"auto\")\n",
    "stc_ = solver.apply_inverse_operator(evoked)\n",
    "\n",
    "brain = stc_.plot(**pp)\n",
    "brain.add_text(0.1, 0.9, solver.name, 'title',\n",
    "               font_size=14)\n",
    "\n",
    "evoked_ = mne.EvokedArray(fwd[\"sol\"][\"data\"] @ stc_.data, info).set_eeg_reference(\"average\", projection=True)\n",
    "evoked_.plot_joint()\n",
    "\n",
    "print(\"r = \", pearsonr(abs(stc.data).mean(axis=-1), abs(stc_.data).mean(axis=-1))[0])\n",
    "print(\"L1 = \",  np.linalg.norm(stc_.data, ord=1))"
   ]
  },
  {
   "cell_type": "code",
   "execution_count": null,
   "metadata": {},
   "outputs": [],
   "source": [
    "from invert import Solver\n",
    "solver = Solver(\"Source-MAP-MSP\")\n",
    "solver.make_inverse_operator(fwd, evoked, alpha=\"auto\")\n",
    "stc_ = solver.apply_inverse_operator(evoked)\n",
    "\n",
    "brain = stc_.plot(**pp)\n",
    "brain.add_text(0.1, 0.9, solver.name, 'title',\n",
    "               font_size=14)\n",
    "\n",
    "evoked_ = mne.EvokedArray(fwd[\"sol\"][\"data\"] @ stc_.data, info).set_eeg_reference(\"average\", projection=True)\n",
    "evoked_.plot_joint()\n",
    "\n",
    "print(\"r = \", pearsonr(abs(stc.data).mean(axis=-1), abs(stc_.data).mean(axis=-1))[0])\n",
    "print(\"L1 = \",  np.linalg.norm(stc_.data, ord=1))"
   ]
  },
  {
   "cell_type": "markdown",
   "metadata": {},
   "source": [
    "# Big Loop"
   ]
  },
  {
   "cell_type": "code",
   "execution_count": null,
   "metadata": {},
   "outputs": [],
   "source": [
    "from invert import Solver\n",
    "# from invert.config import all_solvers\n",
    "from invert.evaluate import nmse, corr, eval_mean_localization_error, eval_auc\n",
    "from invert.adapters import contextualize_bd\n",
    "import pickle as pkl\n",
    "\n",
    "\n",
    "all_solvers = [ \"MNE\", \"wMNE\", \"dSPM\", \"FISTA\", \"L1L2\",\n",
    "                \"LORETA\", \"sLORETA\", \"eLORETA\", \n",
    "                \"LAURA\", \"Backus-Gilbert\", \n",
    "                \"S-MAP\",\n",
    "                \"Champagne\", \"Multiple Sparse Priors\", \"Bayesian LORETA\", \"Bayesian MNE\", \"Bayesian Beamformer\", \"Bayesian Beamformer LORETA\",\n",
    "                \"BCS\", \"Gamma-MAP\", \"Source-MAP\", \"Gamma-MAP-MSP\", \"Source-MAP-MSP\",\n",
    "                \"MVAB\", \"LCMV\", \"SMV\", \"WNMV\", \"HOCMV\", \"ESMV\", \"MCMV\", \"ESMCMV\", \"ReciPSIICOS\", \"SAM\",\n",
    "                # \"Fully-Connected\", \n",
    "                # \"LUCAS\",\n",
    "                # \"OMP\", \"COSAMP\", \"SOMP\", \"REMBO\", \"SP\", \"SSP\",\n",
    "                # \"SMP\", \"SSMP\", \"SubSMP\",\n",
    "                \"EPIFOCUS\",\n",
    "                \"MUSIC\", \"RAP-MUSIC\", \"TRAP-MUSIC\", \"JAZZ-MUSIC\",\n",
    "            ]\n",
    "redo_solvers = np.array([\"Champagne\", \"Multiple Sparse Priors\", \n",
    "            \"Bayesian LORETA\", \"Bayesian MNE\", \"Bayesian Beamformer\", \n",
    "            \"Bayesian Beamformer LORETA\", \"Gamma-MAP\", \"Source-MAP\"])\n",
    "\n",
    "all_solvers = [\"TRAP-MUSIC\", \"JAZZ-MUSIC\", \"LCMV\", \"sLORETA\"]\n",
    "\n",
    "settings = dict(\n",
    "    number_of_sources=(1, 10), \n",
    "    extents=(1, 25), \n",
    "    duration_of_trial=1, \n",
    "    target_snr=(1, 100))\n",
    "alpha = \"auto\"\n",
    "\n",
    "errors_corr = {sname: [] for sname in all_solvers}\n",
    "errors_mle = {sname: [] for sname in all_solvers}\n",
    "errors_auc = {sname: [] for sname in all_solvers}\n",
    "errors_nmse = {sname: [] for sname in all_solvers}\n",
    "\n",
    "solvers = dict()\n",
    "sim = Simulation(fwd, info, settings).simulate(100)\n",
    "    \n",
    "for i in range(sim.n_samples):\n",
    "    print(i)\n",
    "    stc = sim.source_data[i]\n",
    "    evoked = sim.eeg_data[i].average()\n",
    "\n",
    "    for solver_name in all_solvers :\n",
    "        print(solver_name)\n",
    "        solver = Solver(solver=solver_name)\n",
    "        if (not solver_name in solvers) or solver_name in redo_solvers:\n",
    "            if solver_name == \"Fully-Connected\":\n",
    "                solvers[solver_name] = solver.make_inverse_operator(fwd, evoked, alpha=alpha, settings=dict(duration_of_trial=0., target_snr=settings[\"target_snr\"], extents=settings[\"extents\"]), n_simulations=5000)\n",
    "            else:\n",
    "                solvers[solver_name] = solver.make_inverse_operator(fwd, evoked, alpha=alpha)\n",
    "        # stc_hat.plot(**pp, brain_kwargs=dict(title=solver.name))\n",
    "        # error = np.mean(corr(stc.data, stc_hat.data))\n",
    "        \n",
    "        try:\n",
    "            stc_hat = solvers[solver_name].apply_inverse_operator(evoked)\n",
    "            error_corr = np.mean(corr(stc.data, stc_hat.data))\n",
    "\n",
    "            error_mle = eval_mean_localization_error(stc.data[:, 0], stc_hat.data[:, 0], pos)\n",
    "            error_auc = eval_auc(stc.data[:, 0], stc_hat.data[:, 0], pos)\n",
    "            error_nmse = np.median(nmse(stc.data, stc_hat.data))\n",
    "\n",
    "        except:\n",
    "            print(\"\\t...didnt work this time\")\n",
    "            error_mle = np.nan\n",
    "            error_auc = np.nan\n",
    "            error_corr = np.nan\n",
    "            error_nmse = np.nan\n",
    "\n",
    "        errors_corr[solver_name].append( error_corr )\n",
    "        errors_mle[solver_name].append( error_mle )\n",
    "        errors_auc[solver_name].append( error_auc )\n",
    "        errors_nmse[solver_name].append( error_nmse )\n",
    "\n",
    "\n",
    "    print(\"Saving errors\")\n",
    "    fn = \"errors.pkl\"\n",
    "    with open(fn, 'wb') as f:\n",
    "        pkl.dump([errors_corr, errors_mle, errors_auc, errors_nmse, sim.simulation_info], f)"
   ]
  },
  {
   "cell_type": "code",
   "execution_count": null,
   "metadata": {},
   "outputs": [],
   "source": [
    "# import pickle as pkl\n",
    "# fn = \"errors.pkl\"\n",
    "# with open(fn, 'rb') as f:\n",
    "#     errors_corr, errors_mle, errors_auc = pkl.load(f)"
   ]
  },
  {
   "cell_type": "code",
   "execution_count": null,
   "metadata": {},
   "outputs": [],
   "source": [
    "# for key, val in errors_mle.items():\n",
    "#     errors_mle[key] = val[:31]\n",
    "\n",
    "# for key, val in errors_corr.items():\n",
    "#     errors_mle[key] = val[:31]\n",
    "\n",
    "# for key, val in errors_auc.items():\n",
    "#     errors_mle[key] = val[:31]\n",
    "    "
   ]
  },
  {
   "cell_type": "markdown",
   "metadata": {},
   "source": [
    "# Plot"
   ]
  },
  {
   "cell_type": "code",
   "execution_count": null,
   "metadata": {},
   "outputs": [],
   "source": [
    "import pandas as pd\n",
    "import seaborn as sns\n",
    "sns.set(font_scale=0.8)\n",
    "errors = [errors_corr, errors_mle, errors_auc, errors_nmse]\n",
    "error_names = [\"errors_corr\", \"errors_mle\", \"errors_auc\", \"errors_nmse\"]\n",
    "for error, error_name in zip(errors, error_names):\n",
    "    df = pd.DataFrame(error)\n",
    "\n",
    "\n",
    "    sorted_index = df.median().sort_values().index\n",
    "    df = df[sorted_index]\n",
    "\n",
    "    plt.figure()\n",
    "    sns.boxplot(data=df)\n",
    "    plt.title(error_name)\n",
    "\n",
    "\n",
    "# df_mean_var = pd.concat([df.mean(), df.std()], axis=1)\n",
    "# df_mean_var = df_mean_var.rename(columns={0: \"Median\", 1: \"Variance\"})\n",
    "# df_mean_var[\"MedVar\"] = df_mean_var[\"Median\"] / df_mean_var[\"Variance\"]\n",
    "# df_mean_var[\"Method\"] = df_mean_var.index\n",
    "# df_mean_var = df_mean_var.sort_values(by=\"Median\")\n",
    "# display(df_mean_var)\n",
    "\n",
    "# plt.figure()\n",
    "# sns.scatterplot(x=\"Median\", y=\"Variance\", hue=\"Method\", size=\"MedVar\", data=df_mean_var)\n",
    "# plt.xlabel(\"Median\")\n",
    "# plt.ylabel(\"Variance\")\n"
   ]
  },
  {
   "cell_type": "code",
   "execution_count": null,
   "metadata": {},
   "outputs": [],
   "source": [
    "settings = dict(number_of_sources=3, extents=(25, 35), duration_of_trial=0.025, target_snr=99999)\n",
    "\n",
    "sim = Simulation(fwd, info, settings).simulate(2)\n",
    "stc = sim.source_data[0]\n",
    "evoked = sim.eeg_data[0].average()\n",
    "\n",
    "brain = stc.plot(**pp)\n",
    "brain.add_text(0.1, 0.9, 'Ground Truth', 'title',\n",
    "               font_size=14)"
   ]
  },
  {
   "cell_type": "code",
   "execution_count": null,
   "metadata": {},
   "outputs": [],
   "source": []
  }
 ],
 "metadata": {
  "kernelspec": {
   "display_name": "Python 3.8.10 ('invertenv')",
   "language": "python",
   "name": "python3"
  },
  "language_info": {
   "codemirror_mode": {
    "name": "ipython",
    "version": 3
   },
   "file_extension": ".py",
   "mimetype": "text/x-python",
   "name": "python",
   "nbconvert_exporter": "python",
   "pygments_lexer": "ipython3",
   "version": "3.8.10"
  },
  "orig_nbformat": 4,
  "vscode": {
   "interpreter": {
    "hash": "109cbb5ed194d0e1c7aea844cf0a4a10faadf2a56a1c0eb03142356ad9dcb9c6"
   }
  }
 },
 "nbformat": 4,
 "nbformat_minor": 2
}
