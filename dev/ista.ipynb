{
 "cells": [
  {
   "cell_type": "code",
   "execution_count": null,
   "metadata": {},
   "outputs": [],
   "source": [
    "%load_ext autoreload\n",
    "%autoreload 2\n",
    "\n",
    "import sys; \n",
    "sys.path.insert(0, '../../esinet')\n",
    "sys.path.insert(0, '../')\n",
    "\n",
    "import numpy as np\n",
    "from copy import deepcopy\n",
    "from scipy.sparse.csgraph import laplacian\n",
    "from matplotlib import pyplot as plt\n",
    "from scipy.spatial.distance import cdist\n",
    "from scipy.stats import pearsonr\n",
    "import mne\n",
    "from esinet import Simulation\n",
    "from esinet.forward import get_info, create_forward_model\n",
    "from esinet.util import unpack_fwd\n",
    "from invert.cmaps import parula\n",
    "pp = dict(surface='white', hemi='both')"
   ]
  },
  {
   "cell_type": "markdown",
   "metadata": {},
   "source": [
    "# Forward Model"
   ]
  },
  {
   "cell_type": "code",
   "execution_count": null,
   "metadata": {},
   "outputs": [],
   "source": [
    "info = get_info(kind='biosemi32')\n",
    "fwd = create_forward_model(info=info, sampling='ico3')\n",
    "adjacency = mne.spatial_src_adjacency(fwd['src'], verbose=0).toarray()\n",
    "leadfield, pos = unpack_fwd(fwd)[1:3]\n",
    "n_chans, n_dipoles = leadfield.shape\n",
    "dist = cdist(pos, pos)"
   ]
  },
  {
   "cell_type": "markdown",
   "metadata": {},
   "source": [
    "# Simulation"
   ]
  },
  {
   "cell_type": "code",
   "execution_count": 193,
   "metadata": {},
   "outputs": [
    {
     "name": "stdout",
     "output_type": "stream",
     "text": [
      "Simulating data based on sparse patches.\n"
     ]
    },
    {
     "name": "stderr",
     "output_type": "stream",
     "text": [
      "100%|██████████| 2/2 [00:00<00:00, 19.61it/s]\n",
      "100%|██████████| 2/2 [00:00<?, ?it/s]\n",
      "100%|██████████| 2/2 [00:00<00:00, 285.68it/s]"
     ]
    },
    {
     "name": "stdout",
     "output_type": "stream",
     "text": [
      "Using control points [2.34699485e-09 5.67297007e-09 5.62983532e-08]\n"
     ]
    },
    {
     "name": "stderr",
     "output_type": "stream",
     "text": [
      "\n"
     ]
    },
    {
     "name": "stdout",
     "output_type": "stream",
     "text": [
      "For automatic theme detection, \"darkdetect\" has to be installed! You can install it with `pip install darkdetect`\n",
      "To use light mode, \"qdarkstyle\" has to be installed! You can install it with `pip install qdarkstyle`\n"
     ]
    },
    {
     "name": "stdout",
     "output_type": "stream",
     "text": [
      "Using control points [5.61701841e-09 5.61701841e-09 2.22843899e-08]\n"
     ]
    }
   ],
   "source": [
    "settings = dict(number_of_sources=5, extents=(1, 40), duration_of_trial=0.01, target_snr=99999999999)\n",
    "# settings = dict(number_of_sources=1, extents=25, duration_of_trial=0.01, target_snr=99999)\n",
    "\n",
    "sim = Simulation(fwd, info, settings).simulate(2)\n",
    "stc = sim.source_data[0]\n",
    "evoked = sim.eeg_data[0].average()\n",
    "y = evoked.data[:, 0]\n",
    "x = stc.data[:, 0]\n",
    "\n",
    "brain = stc.plot(**pp)\n",
    "brain.add_text(0.1, 0.9, 'Ground Truth', 'title',\n",
    "               font_size=14)"
   ]
  },
  {
   "cell_type": "markdown",
   "metadata": {},
   "source": [
    "# Defs"
   ]
  },
  {
   "cell_type": "code",
   "execution_count": 194,
   "metadata": {},
   "outputs": [],
   "source": [
    "def soft_thresholding(r, lam):\n",
    "    r = np.squeeze(np.array(r))\n",
    "    C = np.sign(r) * np.clip(abs(r) - lam, a_min=0, a_max=None)\n",
    "    return C\n",
    "\n",
    "def zero_norm(x):\n",
    "    return (x!=0).sum()\n",
    "\n",
    "adjacency_non_diag = deepcopy(adjacency)\n",
    "np.fill_diagonal(adjacency_non_diag, 0)\n",
    "neigh_idc = [np.where(ad)[0] for ad in adjacency_non_diag]\n",
    "\n",
    "def smoothness_l1(x, adjacency, lam_smooth=0.1):\n",
    "    amplitudes_of_neighbors = get_amplitudes_of_neighbors(x, adjacency)\n",
    "    term = np.sum( abs(x) - (amplitudes_of_neighbors * lam_smooth) )\n",
    "    # print(abs(x).sum(), (amplitudes_of_neighbors * lam_smooth).sum())\n",
    "    return term\n",
    "def get_l1(x):\n",
    "    return np.sum( abs(x) )\n",
    "\n",
    "def get_amplitudes_of_neighbors(x, neigh_idc):\n",
    "    # x_adj = (x[:, np.newaxis] @ x[np.newaxis, :] )* adjacency\n",
    "    # np.fill_diagonal(x_adj, 0)\n",
    "    # amplitudes_of_neighbors = np.sum(abs(x_adj), axis=0)\n",
    "    amplitudes_of_neighbors = [np.mean(abs(x[idc])) for idc in neigh_idc]\n",
    "    return np.array(amplitudes_of_neighbors)\n",
    "\n",
    "def get_gradient_of_neighbors(x, neigh_idc):\n",
    "    # x_adj = (x[:, np.newaxis] @ x[np.newaxis, :] )* adjacency\n",
    "    # np.fill_diagonal(x_adj, 0)\n",
    "    # amplitudes_of_neighbors = np.sum(abs(x_adj), axis=0)\n",
    "    amplitudes_of_neighbors = [np.mean(abs(x[idc])) for idc in neigh_idc]\n",
    "    return abs(x) - np.array(amplitudes_of_neighbors)**2\n",
    "\n"
   ]
  },
  {
   "cell_type": "markdown",
   "metadata": {},
   "source": [
    "# ISTA"
   ]
  },
  {
   "cell_type": "code",
   "execution_count": null,
   "metadata": {},
   "outputs": [],
   "source": [
    "t_total = int(1e5)\n",
    "A = deepcopy(leadfield)\n",
    "\n",
    "n_chans, n_dipoles = A.shape\n",
    "beta = 1 / np.sum(A**2)\n",
    "lam = 1e-14\n",
    "x_t = np.zeros(n_dipoles)\n",
    "errors = []\n",
    "A_H = np.matrix(A).getH()\n",
    "# for t in range(t_total):\n",
    "t = 0\n",
    "while True:\n",
    "    v_t = y - A @ x_t\n",
    "    errors.append( np.linalg.norm(v_t) )\n",
    "    if np.mod(t, 1000) == 0:\n",
    "        print(f\"iter {t} error {errors[-1]} maxval {abs(x_t).max()}\")\n",
    "    r = x_t + beta * A_H @ v_t\n",
    "    x_tp = soft_thresholding(r, lam)\n",
    "    if np.any(np.isnan(x_tp)):# or (t > 1 and errors [-1] > errors[-2]):\n",
    "        break\n",
    "    x_t = x_tp\n",
    "    t += 1"
   ]
  },
  {
   "cell_type": "markdown",
   "metadata": {},
   "source": [
    "## Evaluate"
   ]
  },
  {
   "cell_type": "code",
   "execution_count": null,
   "metadata": {},
   "outputs": [],
   "source": [
    "stc_ = stc.copy()\n",
    "stc_.data[:, 0] = x_t / abs(x_t).max()\n",
    "stc_.plot(**pp)"
   ]
  },
  {
   "cell_type": "markdown",
   "metadata": {},
   "source": [
    "# FISTA"
   ]
  },
  {
   "cell_type": "code",
   "execution_count": 203,
   "metadata": {},
   "outputs": [
    {
     "name": "stdout",
     "output_type": "stream",
     "text": [
      "iter 0 error 2.7312522523848175e-10 maxval 1.0015689852552044e-10\n",
      "iter 1000 error 7.041236428244176e-16 maxval 2.5818149650497366e-09\n",
      "iter 2000 error 4.97396098571199e-16 maxval 3.92990996816069e-09\n",
      "iter 3000 error 4.0816077341013986e-16 maxval 5.5387359214237704e-09\n",
      "iter 4000 error 3.762934594791658e-16 maxval 6.761021383041815e-09\n",
      "iter 5000 error 3.161366937276759e-16 maxval 8.44329553239271e-09\n",
      "iter 6000 error 1.6653006954950299e-16 maxval 9.099291216199116e-09\n",
      "iter 7000 error 4.742679402625187e-16 maxval 9.118952777984684e-09\n",
      "iter 8000 error 2.643690319697674e-16 maxval 1.0341329437709912e-08\n",
      "iter 9000 error 2.6758298782002387e-16 maxval 1.0870015870632981e-08\n",
      "iter 10000 error 2.798162603386793e-16 maxval 1.199448229317194e-08\n",
      "iter 11000 error 2.0519171315656232e-16 maxval 1.302577414538684e-08\n",
      "iter 12000 error 2.988221839267419e-16 maxval 1.4056519565592392e-08\n",
      "iter 13000 error 2.0539717333160852e-16 maxval 1.4347264621618977e-08\n",
      "iter 14000 error 2.122112653697268e-16 maxval 1.4644280946832078e-08\n",
      "iter 15000 error 2.6869930606266874e-16 maxval 1.4798160031138537e-08\n",
      "iter 16000 error 1.81501920271183e-16 maxval 1.4668133871399362e-08\n",
      "iter 17000 error 1.9834470177121209e-16 maxval 1.4461893570460285e-08\n",
      "iter 18000 error 2.245080490860508e-16 maxval 1.4279299882285598e-08\n",
      "iter 19000 error 1.9037819873725568e-16 maxval 1.4303048779156271e-08\n",
      "iter 20000 error 2.2113347865317765e-16 maxval 1.4285786787493532e-08\n",
      "iter 21000 error 2.027018360386372e-16 maxval 1.4287668580463124e-08\n",
      "iter 22000 error 2.3006539011044782e-16 maxval 1.4326348048353996e-08\n",
      "iter 23000 error 1.998323135963921e-16 maxval 1.4444121441102605e-08\n",
      "iter 24000 error 1.9775755908686846e-16 maxval 1.447388732946775e-08\n",
      "iter 25000 error 1.9950441370965076e-16 maxval 1.4425902247808435e-08\n",
      "iter 26000 error 2.112808134672344e-16 maxval 1.4354502160363742e-08\n",
      "iter 27000 error 2.1985922132316242e-16 maxval 1.4343087650763083e-08\n",
      "iter 28000 error 1.9885477025237408e-16 maxval 1.4377382054243702e-08\n",
      "iter 29000 error 1.9301182480117705e-16 maxval 1.4405755379703195e-08\n",
      "iter 30000 error 1.9020568496563779e-16 maxval 1.436275145613345e-08\n",
      "iter 31000 error 2.063129174787766e-16 maxval 1.4286347969977167e-08\n",
      "iter 32000 error 2.0467053699746738e-16 maxval 1.4256896486115267e-08\n",
      "iter 33000 error 2.0646313621601112e-16 maxval 1.4249047418340415e-08\n",
      "iter 34000 error 2.0252031469501792e-16 maxval 1.4255406776891355e-08\n",
      "iter 35000 error 1.947583652285325e-16 maxval 1.4274183168391917e-08\n",
      "iter 36000 error 1.9974652629097095e-16 maxval 1.4267151676127518e-08\n",
      "iter 37000 error 1.9810928158136175e-16 maxval 1.4263808699821593e-08\n",
      "iter 38000 error 2.002799231042484e-16 maxval 1.4290589083645294e-08\n",
      "iter 39000 error 1.9677865447706015e-16 maxval 1.43092822150361e-08\n",
      "iter 40000 error 1.9854522537512098e-16 maxval 1.4282433646065228e-08\n",
      "iter 41000 error 2.0682357200791054e-16 maxval 1.4240768435852773e-08\n",
      "iter 42000 error 2.083842145396447e-16 maxval 1.4227522220509009e-08\n",
      "iter 43000 error 2.0003273706908684e-16 maxval 1.425997929735773e-08\n",
      "iter 44000 error 1.9666567356212352e-16 maxval 1.4301520046449413e-08\n",
      "iter 45000 error 1.9457544815213872e-16 maxval 1.4297019851905362e-08\n",
      "iter 46000 error 2.0342692164777285e-16 maxval 1.4259962626006025e-08\n",
      "Finished after 46902 iterations, error = 1.5422052846153408e-16\n",
      "Neighbor Term:  -1.67216212366983e-14 L1 Term:  -2.780872225246584e-09\n"
     ]
    }
   ],
   "source": [
    "t_total = int(1e5)\n",
    "A = deepcopy(leadfield)\n",
    "n_chans, n_dipoles = A.shape\n",
    "beta = 1 / np.sum(A**2)\n",
    "lam = 1e-14\n",
    "patience = 10000\n",
    "x_t = np.zeros(n_dipoles)\n",
    "x_t_prev = np.zeros(n_dipoles)\n",
    "x_best = np.zeros(n_dipoles)\n",
    "error_best = np.inf\n",
    "errors = []\n",
    "A_H = np.matrix(A).getH()\n",
    "for t in range(t_total):\n",
    "# t = 0\n",
    "# while True:\n",
    "    v_t = y - A @ x_t\n",
    "    \n",
    "    r = x_t + beta * A_H @ v_t + ((t-2)/(t+1)) * (x_t - x_t_prev)\n",
    "    x_tplus = soft_thresholding(r, lam)\n",
    "    \n",
    "    x_t_prev = deepcopy(x_t)\n",
    "    x_t = x_tplus\n",
    "    error = np.sum((y - A @ x_t)**2) * 0.5 + lam * abs(x_t).sum()\n",
    "    errors.append( error )\n",
    "\n",
    "    if error < error_best:\n",
    "        x_best = deepcopy(x_t)\n",
    "        error_best = error\n",
    "    if t>patience and  (np.any(np.isnan(x_tplus))  or np.all(np.array(errors[-patience:-1]) < errors[-1] )):\n",
    "        break\n",
    "    if np.mod(t, 1000) == 0:\n",
    "        print(f\"iter {t} error {errors[-1]} maxval {abs(x_t).max()}\")\n",
    "\n",
    "print(f\"Finished after {t} iterations, error = {error_best}\")\n",
    "print(\"Neighbor Term: \", np.sum(get_gradient_of_neighbors(x_t, adjacency)*np.sign(x_t))*1e-5, \"L1 Term: \", np.sum(x_best))"
   ]
  },
  {
   "cell_type": "markdown",
   "metadata": {},
   "source": [
    "## Evaluate"
   ]
  },
  {
   "cell_type": "code",
   "execution_count": 204,
   "metadata": {},
   "outputs": [
    {
     "name": "stdout",
     "output_type": "stream",
     "text": [
      "Using control points [5.67297007e-09 1.86717457e-08 6.59507534e-01]\n",
      "For automatic theme detection, \"darkdetect\" has to be installed! You can install it with `pip install darkdetect`\n",
      "To use light mode, \"qdarkstyle\" has to be installed! You can install it with `pip install qdarkstyle`\n"
     ]
    },
    {
     "data": {
      "text/plain": [
       "<mne.viz._brain._brain.Brain at 0x2840dd17550>"
      ]
     },
     "execution_count": 204,
     "metadata": {},
     "output_type": "execute_result"
    },
    {
     "name": "stdout",
     "output_type": "stream",
     "text": [
      "Using control points [0.01421222 0.12895882 0.95355272]\n"
     ]
    }
   ],
   "source": [
    "stc_ = stc.copy()\n",
    "stc_.data[:, 0] = x_best / abs(x_best).max()\n",
    "stc_.plot(**pp, brain_kwargs=dict(title=\"FISTA\"))"
   ]
  },
  {
   "cell_type": "markdown",
   "metadata": {},
   "source": [
    "# S-Fista"
   ]
  },
  {
   "cell_type": "code",
   "execution_count": 201,
   "metadata": {},
   "outputs": [
    {
     "name": "stdout",
     "output_type": "stream",
     "text": [
      "iter 0 error 2.7359715425398443e-10 maxval 1.0015689852552044e-10\n",
      "iter 100 error 2.6099725186117462e-12 maxval 1.165446975323222e-09\n",
      "iter 200 error 2.4767326912724186e-12 maxval 1.4973652289947094e-09\n",
      "iter 300 error 2.330893687803134e-12 maxval 1.71461236223066e-09\n",
      "iter 400 error 2.225570947298678e-12 maxval 1.9070616029349935e-09\n",
      "iter 500 error 2.1307568375809016e-12 maxval 2.087351690679838e-09\n",
      "iter 600 error 2.0688192522689617e-12 maxval 2.3427175759392686e-09\n",
      "iter 700 error 2.0304930966354808e-12 maxval 2.6104566417851464e-09\n",
      "iter 800 error 2.0126248441725004e-12 maxval 2.899000675890662e-09\n",
      "iter 900 error 2.005232806930119e-12 maxval 3.1877998581756076e-09\n",
      "iter 1000 error 2.024993310893875e-12 maxval 3.4875256948271964e-09\n",
      "iter 1100 error 2.033892838861355e-12 maxval 3.810262232880209e-09\n",
      "iter 1200 error 2.061128752358467e-12 maxval 4.191389703510768e-09\n",
      "iter 1300 error 2.1184281798814412e-12 maxval 4.668857709394873e-09\n",
      "iter 1400 error 2.2099116193579173e-12 maxval 5.229221149644068e-09\n",
      "iter 1500 error 2.3109886469048344e-12 maxval 5.882313725350438e-09\n",
      "iter 1600 error 2.4606378454555613e-12 maxval 6.562703549775824e-09\n",
      "iter 1700 error 2.675269488412264e-12 maxval 7.316273194749411e-09\n",
      "iter 1800 error 2.9824035533884015e-12 maxval 8.204997863894884e-09\n",
      "iter 1900 error 3.3444183160201978e-12 maxval 9.672562660029719e-09\n",
      "iter 2000 error 3.815217876193747e-12 maxval 1.1876324683767662e-08\n",
      "iter 2100 error 4.4842022402390195e-12 maxval 1.4693184234307831e-08\n",
      "iter 2200 error 5.351533402039665e-12 maxval 1.8304254421586553e-08\n",
      "iter 2300 error 6.482711110675698e-12 maxval 2.2973010865960368e-08\n",
      "iter 2400 error 7.939022095914132e-12 maxval 2.9032484205031052e-08\n",
      "iter 2500 error 9.845077384638893e-12 maxval 3.6919906404094715e-08\n",
      "iter 2600 error 1.2366838018322072e-11 maxval 4.720224590973545e-08\n",
      "iter 2700 error 1.5692715410398003e-11 maxval 6.063781273458125e-08\n",
      "iter 2800 error 2.0060267395320448e-11 maxval 7.821106368267235e-08\n",
      "iter 2900 error 2.5842689817899287e-11 maxval 1.0123464118124156e-07\n",
      "iter 3000 error 3.344648426791947e-11 maxval 1.3143676552056192e-07\n",
      "iter 3100 error 4.345244161637756e-11 maxval 1.7112022447930456e-07\n",
      "iter 3200 error 5.6612954651998446e-11 maxval 2.2331763278977239e-07\n",
      "iter 3300 error 7.395150898638228e-11 maxval 2.9206364233355126e-07\n",
      "iter 3400 error 9.682945056737064e-11 maxval 3.826943147426895e-07\n",
      "iter 3500 error 1.270748745133088e-10 maxval 5.022992443209865e-07\n",
      "iter 3600 error 1.6706152204950462e-10 maxval 6.603110884895333e-07\n",
      "iter 3700 error 2.1998450760609813e-10 maxval 8.692472196681944e-07\n",
      "iter 3800 error 2.900537255264944e-10 maxval 1.1457597282850009e-06\n",
      "iter 3900 error 3.8290942220235553e-10 maxval 1.5120387407156793e-06\n",
      "iter 4000 error 5.060694033595086e-10 maxval 1.997600727309334e-06\n",
      "iter 4100 error 6.695069855640406e-10 maxval 2.6417906688971014e-06\n",
      "iter 4200 error 8.865539755611328e-10 maxval 3.4970583716537407e-06\n",
      "iter 4300 error 1.1749816826433905e-09 maxval 4.6333592660527445e-06\n",
      "iter 4400 error 1.5585001627061433e-09 maxval 6.144048219416111e-06\n",
      "iter 4500 error 2.0687859797235675e-09 maxval 8.153770701206994e-06\n",
      "iter 4600 error 2.748179817418501e-09 maxval 1.0829013407776526e-05\n",
      "iter 4700 error 3.6532305600990464e-09 maxval 1.4392281743105544e-05\n",
      "iter 4800 error 4.859515795543716e-09 maxval 1.914104627796654e-05\n",
      "iter 4900 error 6.468156934839317e-09 maxval 2.547317717624559e-05\n",
      "iter 5000 error 8.614476717435452e-09 maxval 3.3921064822776056e-05\n",
      "iter 5100 error 1.1479614634974935e-08 maxval 4.519736495969346e-05\n",
      "iter 5200 error 1.5306128052569994e-08 maxval 6.025642663879048e-05\n",
      "iter 5300 error 2.0418984009546614e-08 maxval 8.037671747719375e-05\n",
      "iter 5400 error 2.725367010725991e-08 maxval 0.00010727153294655686\n",
      "iter 5500 error 3.63939870611449e-08 maxval 0.0001432377268864414\n",
      "iter 5600 error 4.862282080397372e-08 maxval 0.0001913554843472962\n",
      "iter 5700 error 6.49904770002104e-08 maxval 0.0002557568783245456\n",
      "iter 5800 error 8.690632041022692e-08 maxval 0.0003419868760079782\n",
      "iter 5900 error 1.1626226049943887e-07 maxval 0.00045748881053422197\n",
      "iter 6000 error 1.5559858078528343e-07 maxval 0.0006122573498073744\n",
      "iter 6100 error 2.083272825448565e-07 maxval 0.0008197170037960402\n",
      "iter 6200 error 2.7903247081686946e-07 maxval 0.0010979043737815966\n",
      "iter 6300 error 3.738745549445483e-07 maxval 0.0014710595096716697\n",
      "iter 6400 error 5.011345558862659e-07 maxval 0.0019717684490192077\n",
      "iter 6500 error 6.719467892570537e-07 maxval 0.002643848515227899\n",
      "iter 6600 error 9.012854241715763e-07 maxval 0.003546234722378346\n",
      "iter 6700 error 1.2092931633254765e-06 maxval 0.004758215772317753\n",
      "iter 6800 error 1.6230705139354594e-06 maxval 0.006386489779467243\n",
      "iter 6900 error 2.179085622745461e-06 maxval 0.008574674142445504\n",
      "iter 7000 error 2.9264194865520184e-06 maxval 0.011516125718545558\n",
      "iter 7100 error 3.931135387923221e-06 maxval 0.01547122700138167\n",
      "iter 7200 error 5.282160976998845e-06 maxval 0.02079069844495824\n",
      "iter 7300 error 7.09920060654656e-06 maxval 0.027947043569074886\n",
      "iter 7400 error 9.543382190468638e-06 maxval 0.037576971618724815\n",
      "iter 7500 error 1.2831554922873284e-05 maxval 0.050538639954792464\n",
      "iter 7600 error 1.725549728418566e-05 maxval 0.06798890590960162\n",
      "iter 7700 error 2.3207660360604547e-05 maxval 0.09148759971490203\n",
      "iter 7800 error 3.12157720158382e-05 maxval 0.12313828966751784\n",
      "iter 7900 error 4.1989611948744906e-05 maxval 0.16577833597622457\n",
      "iter 8000 error 5.648502597425873e-05 maxval 0.22323552425435034\n",
      "iter 8100 error 7.599478743478752e-05 maxval 0.30067464054010457\n",
      "iter 8200 error 0.00010228390755739136 maxval 0.40506553716747956\n",
      "iter 8300 error 0.00013783356185117178 maxval 0.5458153513421135\n",
      "iter 8400 error 0.00018636036378942217 maxval 0.7356223615212605\n",
      "iter 8500 error 0.00025397467064485667 maxval 0.9916291934660006\n",
      "iter 8600 error 0.0003520134007631078 maxval 1.3369802811563951\n",
      "iter 8700 error 0.0005042988118841794 maxval 1.8029248996249272\n",
      "iter 8800 error 0.0007674303552881153 maxval 2.4316557339178866\n",
      "iter 8900 error 0.0013281000126464451 maxval 3.280139029884182\n",
      "iter 9000 error 0.002808500536799748 maxval 4.425279307000966\n",
      "iter 9100 error 0.00729003446642685 maxval 5.97087827069332\n",
      "iter 9200 error 0.0229568646888484 maxval 8.057005127334824\n",
      "iter 9300 error 0.0774730735189619 maxval 10.872599052127034\n",
      "iter 9400 error 0.25716575321139945 maxval 14.672393359245982\n",
      "iter 9500 error 0.8205027461212848 maxval 19.799623793225038\n",
      "iter 9600 error 2.596464695140149 maxval 26.716451943590958\n",
      "iter 9700 error 8.516608804823806 maxval 36.04487629091036\n",
      "iter 9800 error 25.834591638431696 maxval 48.62170371571677\n",
      "iter 9900 error 72.59611511119456 maxval 65.57248364046002\n",
      "iter 10000 error 193.73785651216488 maxval 88.41170078845519\n",
      "Finished after 10001 iterations, error = 2.005112918653251e-12\n",
      "Neighbor Term:  0.025437798026093344 L1 Term:  1.347022667044377e-07\n"
     ]
    }
   ],
   "source": [
    "t_total = int(1e5)\n",
    "A = deepcopy(leadfield)\n",
    "n_chans, n_dipoles = A.shape\n",
    "beta = 1 / np.sum(A**2)\n",
    "lam = 1e-14\n",
    "patience = 10000\n",
    "x_t = np.zeros(n_dipoles)\n",
    "x_t_prev = np.zeros(n_dipoles)\n",
    "x_best = np.zeros(n_dipoles)\n",
    "lam_gradient = 1e-5\n",
    "error_best = np.inf\n",
    "errors = []\n",
    "A_H = np.matrix(A).getH()\n",
    "for t in range(t_total):\n",
    "# t = 0\n",
    "# while True:\n",
    "    v_t = y - A @ x_t\n",
    "    r = x_t + beta * A_H @ v_t + ((t-2)/(t+1)) * (x_t - x_t_prev) + get_gradient_of_neighbors(x_t, adjacency) * lam_gradient # * np.sign(x_t)\n",
    "    \n",
    "    x_tplus = soft_thresholding(r, lam)\n",
    "    \n",
    "    x_t_prev = deepcopy(x_t)\n",
    "    x_t = x_tplus\n",
    "     \n",
    "    error = np.sum((y - A @ x_t)**2) * 0.5 + lam * abs(x_t).sum() + np.sum(get_gradient_of_neighbors(x_t, adjacency) * lam_gradient )  # * np.sign(x_t)\n",
    "    errors.append( error )\n",
    "\n",
    "    if errors[-1] < error_best:\n",
    "        x_best = deepcopy(x_t)\n",
    "        error_best = errors[-1]\n",
    "    if t>patience and  (np.any(np.isnan(x_tplus))  or np.all(np.array(errors[-patience:-1]) < errors[-1] )):\n",
    "        break\n",
    "    if np.mod(t, 100) == 0:\n",
    "        print(f\"iter {t} error {errors[-1]} maxval {abs(x_t).max()}\")\n",
    "\n",
    "print(f\"Finished after {t} iterations, error = {error_best}\")\n",
    "print(\"Neighbor Term: \", np.sum(get_gradient_of_neighbors(x_t, adjacency)*np.sign(x_t))*lam_gradient, \"L1 Term: \", np.sum(x_best))"
   ]
  },
  {
   "cell_type": "markdown",
   "metadata": {},
   "source": [
    "# Evaluate"
   ]
  },
  {
   "cell_type": "code",
   "execution_count": 202,
   "metadata": {},
   "outputs": [
    {
     "name": "stdout",
     "output_type": "stream",
     "text": [
      "Using control points [0.0048464  0.0318313  0.61397084]\n",
      "For automatic theme detection, \"darkdetect\" has to be installed! You can install it with `pip install darkdetect`\n",
      "To use light mode, \"qdarkstyle\" has to be installed! You can install it with `pip install qdarkstyle`\n"
     ]
    },
    {
     "data": {
      "text/plain": [
       "<mne.viz._brain._brain.Brain at 0x28409998640>"
      ]
     },
     "execution_count": 202,
     "metadata": {},
     "output_type": "execute_result"
    },
    {
     "name": "stdout",
     "output_type": "stream",
     "text": [
      "Using control points [0.31341884 0.40073647 0.86956696]\n"
     ]
    }
   ],
   "source": [
    "stc_ = stc.copy()\n",
    "stc_.data[:, 0] = x_best / abs(x_best).max()\n",
    "stc_.plot(**pp, brain_kwargs=dict(title=\"S-FISTA\"))"
   ]
  },
  {
   "cell_type": "markdown",
   "metadata": {},
   "source": [
    "# MXNE"
   ]
  },
  {
   "cell_type": "code",
   "execution_count": null,
   "metadata": {},
   "outputs": [],
   "source": [
    "noise_cov = mne.make_ad_hoc_cov(evoked.info)\n",
    "evoked.set_eeg_reference(\"average\", projection=True)\n",
    "stc_mxne = mne.inverse_sparse.mixed_norm(evoked, fwd, noise_cov, alpha='sure', \n",
    "        loose=0, depth=0.8, maxit=3000, tol=0.0001, active_set_size=10, \n",
    "        debias=True, time_pca=True, weights=None, weights_min=0.0, solver='auto', \n",
    "        n_mxne_iter=1, return_residual=False, return_as_dipoles=False, \n",
    "        dgap_freq=10, rank=None, pick_ori=None, sure_alpha_grid='auto', \n",
    "        random_state=None, verbose=None)\n",
    "stc_mxne.data /= abs(stc_mxne.data).max()\n",
    "stc_mxne.plot(**pp, brain_kwargs=dict(title=\"MXNE\"))"
   ]
  },
  {
   "cell_type": "code",
   "execution_count": null,
   "metadata": {},
   "outputs": [],
   "source": [
    "stc_mxne.data.shape"
   ]
  },
  {
   "cell_type": "code",
   "execution_count": null,
   "metadata": {},
   "outputs": [],
   "source": [
    "from scipy.stats import pearsonr\n",
    "corr = lambda x, y: pearsonr(x, y)[0]\n",
    "print(corr(stc.data.flatten(), stc_mxne.data.flatten()))\n",
    "print(corr(stc.data.flatten(), stc_.data.flatten()))"
   ]
  },
  {
   "cell_type": "code",
   "execution_count": null,
   "metadata": {},
   "outputs": [],
   "source": [
    "noise_cov = mne.make_ad_hoc_cov(evoked.info)\n",
    "evoked.set_eeg_reference(\"average\", projection=True)\n",
    "stc_rap = mne.beamformer.rap_music(evoked, fwd, noise_cov, n_dipoles=5, return_residual=False, verbose=None)\n"
   ]
  },
  {
   "cell_type": "code",
   "execution_count": null,
   "metadata": {},
   "outputs": [],
   "source": [
    "mne.inverse_sparse.make_stc_from_dipoles(stc_rap, fwd[\"src\"]).plot(**pp)"
   ]
  },
  {
   "cell_type": "code",
   "execution_count": null,
   "metadata": {},
   "outputs": [],
   "source": [
    "np.any(np.diff(fwd[\"src\"][1][\"vertno\"])<0)"
   ]
  },
  {
   "cell_type": "code",
   "execution_count": null,
   "metadata": {},
   "outputs": [],
   "source": [
    "fwd"
   ]
  },
  {
   "cell_type": "code",
   "execution_count": null,
   "metadata": {},
   "outputs": [],
   "source": []
  }
 ],
 "metadata": {
  "kernelspec": {
   "display_name": "Python 3.8.10 ('invertenv')",
   "language": "python",
   "name": "python3"
  },
  "language_info": {
   "codemirror_mode": {
    "name": "ipython",
    "version": 3
   },
   "file_extension": ".py",
   "mimetype": "text/x-python",
   "name": "python",
   "nbconvert_exporter": "python",
   "pygments_lexer": "ipython3",
   "version": "3.8.10"
  },
  "orig_nbformat": 4,
  "vscode": {
   "interpreter": {
    "hash": "dda1e5657e486f74a7b39841fb8103db2af51a77394f44c39a7821a371af47bd"
   }
  }
 },
 "nbformat": 4,
 "nbformat_minor": 2
}
