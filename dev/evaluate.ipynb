{
 "cells": [
  {
   "cell_type": "code",
   "execution_count": 1,
   "metadata": {},
   "outputs": [],
   "source": [
    "%load_ext autoreload\n",
    "%autoreload 2\n",
    "%matplotlib qt\n",
    "\n",
    "import sys; sys.path.insert(0, '../') \n",
    "import numpy as np\n",
    "from matplotlib import pyplot as plt\n",
    "from scipy.stats import pearsonr\n",
    "from scipy.spatial.distance import cdist\n",
    "import mne\n",
    "\n",
    "from invert.forward import get_info, create_forward_model\n",
    "from invert.util import pos_from_forward\n",
    "from invert.evaluate import eval_auc, eval_mean_localization_error, eval_mean_localization_error_old\n",
    "\n",
    "pp = dict(surface='white', hemi='both', verbose=0)"
   ]
  },
  {
   "cell_type": "code",
   "execution_count": 2,
   "metadata": {},
   "outputs": [
    {
     "name": "stderr",
     "output_type": "stream",
     "text": [
      "c:\\Users\\lukas\\miniconda3\\envs\\flap2\\lib\\site-packages\\paramiko\\transport.py:219: CryptographyDeprecationWarning: Blowfish has been deprecated\n",
      "  \"class\": algorithms.Blowfish,\n"
     ]
    },
    {
     "data": {
      "text/html": [
       "<table class=\"table table-hover table-striped table-sm table-responsive small\">\n",
       "    <tr>\n",
       "        <th>Good channels</th>\n",
       "        <td>128 EEG</td>\n",
       "    </tr>\n",
       "    <tr>\n",
       "        <th>Bad channels</th>\n",
       "        <td>None</td>\n",
       "    </tr>\n",
       "    <tr>\n",
       "        <th>Source space</th>\n",
       "        <td>Surface with 8196 vertices</td>\n",
       "    </tr>\n",
       "    <tr>\n",
       "        <th>Source orientation</th>\n",
       "        <td>Fixed</td>\n",
       "    </tr>\n",
       "</table>"
      ],
      "text/plain": [
       "<Forward | MEG channels: 0 | EEG channels: 128 | Source space: Surface with 8196 vertices | Source orientation: Fixed>"
      ]
     },
     "execution_count": 2,
     "metadata": {},
     "output_type": "execute_result"
    }
   ],
   "source": [
    "sampling = \"oct6\"\n",
    "info = get_info(kind='biosemi128')\n",
    "fwd = create_forward_model(info=info, sampling=sampling)\n",
    "pos = pos_from_forward(fwd)\n",
    "leadfield = fwd[\"sol\"][\"data\"]\n",
    "n_chans, n_dipoles = leadfield.shape\n",
    "\n",
    "source_model = fwd['src']\n",
    "vertices = [source_model[0]['vertno'], source_model[1]['vertno']]\n",
    "adjacency = mne.spatial_src_adjacency(fwd[\"src\"], verbose=0)\n",
    "distance_matrix = cdist(pos, pos)\n",
    "fwd"
   ]
  },
  {
   "attachments": {},
   "cell_type": "markdown",
   "metadata": {},
   "source": [
    "# Simulate"
   ]
  },
  {
   "cell_type": "code",
   "execution_count": 16,
   "metadata": {},
   "outputs": [],
   "source": [
    "from invert.simulate import generator\n",
    "sim_params = dict(\n",
    "    use_cov=False,\n",
    "    return_mask=False,\n",
    "    batch_repetitions=1,\n",
    "    batch_size=1,\n",
    "    n_sources=2,\n",
    "    n_orders=(0, 3),\n",
    "    snr_range=(1, 1),\n",
    "    amplitude_range=(1, 1),\n",
    "    n_timecourses=200,\n",
    "    n_timepoints=50,\n",
    "    scale_data=False,\n",
    "    add_forward_error=False,\n",
    "    forward_error=0.5,\n",
    "    inter_source_correlation=0.5,\n",
    "    iid_noise=True, \n",
    "    return_info=True,\n",
    "    random_seed=43)\n",
    "\n",
    "gen = generator(fwd, **sim_params)"
   ]
  },
  {
   "cell_type": "code",
   "execution_count": 2,
   "metadata": {},
   "outputs": [
    {
     "data": {
      "text/plain": [
       "array([1., 1., 1., 0.])"
      ]
     },
     "execution_count": 2,
     "metadata": {},
     "output_type": "execute_result"
    }
   ],
   "source": [
    "import numpy as np\n",
    "from scipy.sparse import csr_matrix\n",
    "\n",
    "def scale_rows_by_max(matrix):\n",
    "    # Find the maximum value for each row\n",
    "    row_max = matrix.max(axis=1).toarray().ravel()\n",
    "\n",
    "    # Check for zeros to prevent division by zero\n",
    "    row_max[row_max == 0] = 1\n",
    "\n",
    "    # Compute the scaling factors for each row\n",
    "    scaling_factors = 1 / row_max\n",
    "\n",
    "    # Multiply each row by its corresponding scaling factor\n",
    "    return csr_matrix(matrix.multiply(scaling_factors.reshape(-1, 1)))\n",
    "\n",
    "# Create an example csr_matrix\n",
    "matrix = csr_matrix([\n",
    "    [1, 2, 0, 0],\n",
    "    [0, 0, 3, 4],\n",
    "    [5, 6, 0, 0],\n",
    "    [0, 0, 0, 0]\n",
    "])\n",
    "\n",
    "# Scale the rows of the matrix\n",
    "scaled_matrix = scale_rows_by_max(matrix)\n",
    "scaled_matrix.toarray().max(axis=1)"
   ]
  },
  {
   "cell_type": "code",
   "execution_count": 7,
   "metadata": {},
   "outputs": [
    {
     "data": {
      "text/plain": [
       "array([[2],\n",
       "       [0],\n",
       "       [6],\n",
       "       [0]], dtype=int32)"
      ]
     },
     "execution_count": 7,
     "metadata": {},
     "output_type": "execute_result"
    }
   ],
   "source": [
    "matrix = csr_matrix([\n",
    "    [1, 2, 0, 0],\n",
    "    [0, 0, 3, 4],\n",
    "    [5, 6, 0, 0],\n",
    "    [0, 0, 0, 0]\n",
    "])\n",
    "matrix[:, 1].toarray()"
   ]
  },
  {
   "cell_type": "code",
   "execution_count": 17,
   "metadata": {},
   "outputs": [
    {
     "name": "stdout",
     "output_type": "stream",
     "text": [
      "No projector specified for this dataset. Please consider the method self.add_proj.\n",
      "NOTE: pick_channels() is a legacy function. New code should use inst.pick(...).\n",
      "No projector specified for this dataset. Please consider the method self.add_proj.\n",
      "NOTE: pick_channels() is a legacy function. New code should use inst.pick(...).\n"
     ]
    },
    {
     "data": {
      "text/html": [
       "<div>\n",
       "<style scoped>\n",
       "    .dataframe tbody tr th:only-of-type {\n",
       "        vertical-align: middle;\n",
       "    }\n",
       "\n",
       "    .dataframe tbody tr th {\n",
       "        vertical-align: top;\n",
       "    }\n",
       "\n",
       "    .dataframe thead th {\n",
       "        text-align: right;\n",
       "    }\n",
       "</style>\n",
       "<table border=\"1\" class=\"dataframe\">\n",
       "  <thead>\n",
       "    <tr style=\"text-align: right;\">\n",
       "      <th></th>\n",
       "      <th>n_sources</th>\n",
       "      <th>amplitudes</th>\n",
       "      <th>snr</th>\n",
       "      <th>inter_source_correlations</th>\n",
       "      <th>n_orders</th>\n",
       "      <th>diffusion_parameter</th>\n",
       "      <th>n_timepoints</th>\n",
       "      <th>n_timecourses</th>\n",
       "      <th>iid_noise</th>\n",
       "    </tr>\n",
       "  </thead>\n",
       "  <tbody>\n",
       "    <tr>\n",
       "      <th>0</th>\n",
       "      <td>2</td>\n",
       "      <td>[1.0, 1.0]</td>\n",
       "      <td>1.0</td>\n",
       "      <td>0.5</td>\n",
       "      <td>[0, 3]</td>\n",
       "      <td>0.1</td>\n",
       "      <td>50</td>\n",
       "      <td>200</td>\n",
       "      <td>True</td>\n",
       "    </tr>\n",
       "  </tbody>\n",
       "</table>\n",
       "</div>"
      ],
      "text/plain": [
       "   n_sources  amplitudes  snr  inter_source_correlations n_orders  \\\n",
       "0          2  [1.0, 1.0]  1.0                        0.5   [0, 3]   \n",
       "\n",
       "   diffusion_parameter  n_timepoints  n_timecourses  iid_noise  \n",
       "0                  0.1            50            200       True  "
      ]
     },
     "execution_count": 17,
     "metadata": {},
     "output_type": "execute_result"
    }
   ],
   "source": [
    "x, y, sim_info = gen.__next__()\n",
    "\n",
    "tmin = 0\n",
    "tstep = 1/info[\"sfreq\"]\n",
    "subject = \"fsaverage\"\n",
    "evoked = mne.EvokedArray(x[0].T, info, tmin=tmin)\n",
    "stc = mne.SourceEstimate(y[0].T, vertices, tmin=tmin, tstep=tstep, \n",
    "                        subject=subject, verbose=0)\n",
    "\n",
    "brain = stc.plot(**pp)\n",
    "brain.add_text(0.1, 0.9, \"Ground Truth\", 'title',\n",
    "               font_size=14)\n",
    "evoked.plot_joint(title=\"Ground Truth\")\n",
    "\n",
    "evoked_clean = mne.EvokedArray(leadfield @ y[0].T, info, tmin=tmin)\n",
    "evoked_clean.plot_joint(title=\"Ground Truth Noiseless\")\n",
    "\n",
    "sim_info"
   ]
  },
  {
   "attachments": {},
   "cell_type": "markdown",
   "metadata": {},
   "source": [
    "# Solve"
   ]
  },
  {
   "cell_type": "markdown",
   "metadata": {},
   "source": [
    "## FLAP"
   ]
  },
  {
   "cell_type": "code",
   "execution_count": 18,
   "metadata": {},
   "outputs": [
    {
     "name": "stdout",
     "output_type": "stream",
     "text": [
      "NOTE: pick_types() is a legacy function. New code should use inst.pick(...).\n",
      "NOTE: pick_channels() is a legacy function. New code should use inst.pick(...).\n",
      "iters:  1\n",
      "NOTE: pick_types() is a legacy function. New code should use inst.pick(...).\n",
      "NOTE: pick_channels() is a legacy function. New code should use inst.pick(...).\n",
      "EEG channel type selected for re-referencing\n",
      "Adding average EEG reference projection.\n",
      "1 projection items deactivated\n",
      "Average reference projection was added, but has not been applied yet. Use the apply_proj method to apply it.\n",
      "Created an SSP operator (subspace dimension = 1)\n",
      "1 projection items activated\n",
      "SSP projectors applied...\n",
      "NOTE: pick_channels() is a legacy function. New code should use inst.pick(...).\n",
      "[1651, 7370]\n",
      "[2697, 5106]\n",
      "Flexible Alternating Projections mle =  9.89910432798944  mm\n"
     ]
    }
   ],
   "source": [
    "from invert import Solver\n",
    "\n",
    "solver = Solver(\"Flex-AP\")\n",
    "solver.make_inverse_operator(fwd, evoked, n_orders=3, refine_solution=True, n=sim_params[\"n_sources\"], d=sim_params[\"n_sources\"])\n",
    "stc_ = solver.apply_inverse_operator(evoked)\n",
    "stc_.data /= abs(stc_.data).max()\n",
    "brain = stc_.plot(**pp)\n",
    "brain.add_text(0.1, 0.9, solver.name, 'title',\n",
    "               font_size=14)\n",
    "\n",
    "evoked_ = mne.EvokedArray(fwd[\"sol\"][\"data\"] @ stc_.data, info).set_eeg_reference(\"average\", projection=True)\n",
    "evoked_.plot_joint()\n",
    "\n",
    "# print(solver.name, \" r = \", pearsonr(abs(stc.data).mean(axis=-1), abs(stc_.data).mean(axis=-1))[0])\n",
    "\n",
    "mle = eval_mean_localization_error(stc.data, stc_.data, adjacency.toarray(), adjacency.toarray(), distance_matrix)\n",
    "print(solver.name, \"mle = \", mle, \" mm\")"
   ]
  },
  {
   "cell_type": "code",
   "execution_count": 59,
   "metadata": {},
   "outputs": [
    {
     "name": "stdout",
     "output_type": "stream",
     "text": [
      "EEG channel type selected for re-referencing\n",
      "Adding average EEG reference projection.\n",
      "1 projection items deactivated\n",
      "Average reference projection was added, but has not been applied yet. Use the apply_proj method to apply it.\n",
      "Created an SSP operator (subspace dimension = 1)\n",
      "1 projection items activated\n",
      "SSP projectors applied...\n",
      "[5098, 11842]\n",
      "[5098, 17819]\n",
      "Flexible Alternating Projections mle =  3.0211357598079296  mm\n"
     ]
    }
   ],
   "source": [
    "from invert import Solver\n",
    "\n",
    "solver2 = Solver(\"Flex-AP\")\n",
    "solver2.make_inverse_operator(fwd_error, evoked, n_orders=3, refine_solution=True, n=sim_params[\"n_sources\"], d=sim_params[\"n_sources\"])\n",
    "stc_ = solver2.apply_inverse_operator(evoked)\n",
    "stc_.data /= abs(stc_.data).max()\n",
    "brain = stc_.plot(**pp)\n",
    "brain.add_text(0.1, 0.9, solver2.name, 'title',\n",
    "               font_size=14)\n",
    "\n",
    "evoked_ = mne.EvokedArray(fwd[\"sol\"][\"data\"] @ stc_.data, info).set_eeg_reference(\"average\", projection=True)\n",
    "evoked_.plot_joint()\n",
    "\n",
    "# print(solver2.name, \" r = \", pearsonr(abs(stc.data).mean(axis=-1), abs(stc_.data).mean(axis=-1))[0])\n",
    "\n",
    "mle = eval_mean_localization_error(stc.data, stc_.data, adjacency.toarray(), adjacency.toarray(), distance_matrix)\n",
    "print(solver2.name, \"mle = \", mle, \" mm\")"
   ]
  },
  {
   "attachments": {},
   "cell_type": "markdown",
   "metadata": {},
   "source": [
    "## FLEX-MUSIC"
   ]
  },
  {
   "cell_type": "code",
   "execution_count": 35,
   "metadata": {},
   "outputs": [
    {
     "name": "stdout",
     "output_type": "stream",
     "text": [
      "EEG channel type selected for re-referencing\n",
      "Adding average EEG reference projection.\n",
      "1 projection items deactivated\n",
      "Average reference projection was added, but has not been applied yet. Use the apply_proj method to apply it.\n",
      "Created an SSP operator (subspace dimension = 1)\n",
      "1 projection items activated\n",
      "SSP projectors applied...\n",
      "[567, 665, 864]\n",
      "[567, 665, 864]\n",
      "FLEX-MUSIC mle =  0.0  mm\n"
     ]
    }
   ],
   "source": [
    "from invert import Solver\n",
    "\n",
    "solver = Solver(\"Flex-Music\")\n",
    "\n",
    "solver.make_inverse_operator(fwd, evoked, n_orders=3, refine_solution=False, stop_crit=0., n=sim_params[\"n_sources\"], k=sim_params[\"n_sources\"])\n",
    "stc_ = solver.apply_inverse_operator(evoked)\n",
    "stc_.data /= abs(stc_.data).max()\n",
    "brain = stc_.plot(**pp)\n",
    "brain.add_text(0.1, 0.9, solver.name, 'title',\n",
    "               font_size=14)\n",
    "\n",
    "evoked_ = mne.EvokedArray(fwd[\"sol\"][\"data\"] @ stc_.data, info).set_eeg_reference(\"average\", projection=True)\n",
    "evoked_.plot_joint()\n",
    "\n",
    "# print(solver.name, \" r = \", pearsonr(abs(stc.data).mean(axis=-1), abs(stc_.data).mean(axis=-1))[0])\n",
    "mle = eval_mean_localization_error(stc.data, stc_.data, adjacency.toarray(), adjacency.toarray(), distance_matrix)\n",
    "print(solver.name, \"mle = \", mle, \" mm\")"
   ]
  },
  {
   "cell_type": "code",
   "execution_count": 97,
   "metadata": {},
   "outputs": [
    {
     "name": "stdout",
     "output_type": "stream",
     "text": [
      "EEG channel type selected for re-referencing\n",
      "Adding average EEG reference projection.\n",
      "1 projection items deactivated\n",
      "Average reference projection was added, but has not been applied yet. Use the apply_proj method to apply it.\n",
      "Created an SSP operator (subspace dimension = 1)\n",
      "1 projection items activated\n",
      "SSP projectors applied...\n",
      "Exact Low Resolution Tomography  r =  0.0002475337592547726\n"
     ]
    }
   ],
   "source": [
    "from invert import Solver\n",
    "alpha = \"auto\"\n",
    "# solver = Solver(\"eLORETA\", n_reg_params=3)\n",
    "# solver.make_inverse_operator(fwd, evoked, alpha=alpha)\n",
    "stc_ = solver.apply_inverse_operator(evoked)\n",
    "\n",
    "stc_.data /= abs(stc_.data).max()\n",
    "brain = stc_.plot(**pp)\n",
    "brain.add_text(0.1, 0.9, solver.name, 'title',\n",
    "               font_size=14)\n",
    "\n",
    "evoked_ = mne.EvokedArray(fwd[\"sol\"][\"data\"] @ stc_.data, info).set_eeg_reference(\"average\", projection=True)\n",
    "evoked_.plot_joint()\n",
    "\n",
    "print(solver.name, \" r = \", pearsonr(abs(stc.data).mean(axis=-1), abs(stc_.data).mean(axis=-1))[0])"
   ]
  },
  {
   "cell_type": "code",
   "execution_count": 93,
   "metadata": {},
   "outputs": [
    {
     "name": "stdout",
     "output_type": "stream",
     "text": [
      "EEG channel type selected for re-referencing\n",
      "Adding average EEG reference projection.\n",
      "1 projection items deactivated\n",
      "Average reference projection was added, but has not been applied yet. Use the apply_proj method to apply it.\n",
      "Created an SSP operator (subspace dimension = 1)\n",
      "1 projection items activated\n",
      "SSP projectors applied...\n",
      "MM-Champagne  r =  0.007178908046684864\n"
     ]
    }
   ],
   "source": [
    "from invert import Solver\n",
    "alpha = \"auto\"\n",
    "solver = Solver(\"mm champagne\", n_reg_params=20)\n",
    "solver.make_inverse_operator(fwd, evoked, alpha=alpha)\n",
    "stc_ = solver.apply_inverse_operator(evoked)\n",
    "\n",
    "stc_.data /= abs(stc_.data).max()\n",
    "brain = stc_.plot(**pp)\n",
    "brain.add_text(0.1, 0.9, solver.name, 'title',\n",
    "               font_size=14)\n",
    "\n",
    "evoked_ = mne.EvokedArray(fwd[\"sol\"][\"data\"] @ stc_.data, info).set_eeg_reference(\"average\", projection=True)\n",
    "evoked_.plot_joint()\n",
    "\n",
    "print(solver.name, \" r = \", pearsonr(abs(stc.data).mean(axis=-1), abs(stc_.data).mean(axis=-1))[0])"
   ]
  },
  {
   "cell_type": "code",
   "execution_count": 94,
   "metadata": {},
   "outputs": [
    {
     "name": "stdout",
     "output_type": "stream",
     "text": [
      "EEG channel type selected for re-referencing\n",
      "Adding average EEG reference projection.\n",
      "1 projection items deactivated\n",
      "Average reference projection was added, but has not been applied yet. Use the apply_proj method to apply it.\n",
      "Created an SSP operator (subspace dimension = 1)\n",
      "1 projection items activated\n",
      "SSP projectors applied...\n",
      "Convexity-Champagne  r =  0.007178908046684879\n"
     ]
    },
    {
     "name": "stdout",
     "output_type": "stream",
     "text": [
      "Using control points [0.24827738 0.29163679 0.49145195]\n",
      "Using control points [0.60792442 0.65697058 0.87015384]\n"
     ]
    }
   ],
   "source": [
    "from invert import Solver\n",
    "alpha = \"auto\"\n",
    "solver = Solver(\"convexity champagne\", n_reg_params=20)\n",
    "solver.make_inverse_operator(fwd, evoked, alpha=alpha)\n",
    "stc_ = solver.apply_inverse_operator(evoked)\n",
    "\n",
    "stc_.data /= abs(stc_.data).max()\n",
    "brain = stc_.plot(**pp)\n",
    "brain.add_text(0.1, 0.9, solver.name, 'title',\n",
    "               font_size=14)\n",
    "\n",
    "evoked_ = mne.EvokedArray(fwd[\"sol\"][\"data\"] @ stc_.data, info).set_eeg_reference(\"average\", projection=True)\n",
    "evoked_.plot_joint()\n",
    "\n",
    "print(solver.name, \" r = \", pearsonr(abs(stc.data).mean(axis=-1), abs(stc_.data).mean(axis=-1))[0])"
   ]
  },
  {
   "cell_type": "code",
   "execution_count": 56,
   "metadata": {},
   "outputs": [
    {
     "name": "stdout",
     "output_type": "stream",
     "text": [
      "EEG channel type selected for re-referencing\n",
      "Adding average EEG reference projection.\n",
      "1 projection items deactivated\n",
      "Average reference projection was added, but has not been applied yet. Use the apply_proj method to apply it.\n",
      "Created an SSP operator (subspace dimension = 1)\n",
      "1 projection items activated\n",
      "SSP projectors applied...\n",
      "Gamma-MAP  r =  -0.0011556078965318196\n"
     ]
    },
    {
     "name": "stdout",
     "output_type": "stream",
     "text": [
      "Using control points [0.         0.         0.00047254]\n",
      "Using control points [0.00000000e+00 4.81066968e-06 7.92442736e-02]\n",
      "Using control points [2.64885227e-16 3.64871534e-14 9.60985077e-03]\n"
     ]
    }
   ],
   "source": [
    "from invert import Solver\n",
    "alpha = 0.1\n",
    "solver = Solver(\"Gamma-MAP\")\n",
    "solver.make_inverse_operator(fwd, evoked, alpha=alpha)\n",
    "stc_ = solver.apply_inverse_operator(evoked)\n",
    "\n",
    "stc_.data /= abs(stc_.data).max()\n",
    "brain = stc_.plot(**pp)\n",
    "brain.add_text(0.1, 0.9, solver.name, 'title',\n",
    "               font_size=14)\n",
    "\n",
    "evoked_ = mne.EvokedArray(fwd[\"sol\"][\"data\"] @ stc_.data, info).set_eeg_reference(\"average\", projection=True)\n",
    "evoked_.plot_joint()\n",
    "\n",
    "print(solver.name, \" r = \", pearsonr(abs(stc.data).mean(axis=-1), abs(stc_.data).mean(axis=-1))[0])"
   ]
  },
  {
   "attachments": {},
   "cell_type": "markdown",
   "metadata": {},
   "source": [
    "# Other"
   ]
  },
  {
   "cell_type": "code",
   "execution_count": 26,
   "metadata": {},
   "outputs": [
    {
     "name": "stdout",
     "output_type": "stream",
     "text": [
      "Adding average EEG reference projection.\n",
      "1 projection items deactivated\n",
      "Average reference projection was added, but has not been applied yet. Use the apply_proj method to apply it.\n",
      "Created an SSP operator (subspace dimension = 1)\n",
      "1 projection items activated\n",
      "SSP projectors applied...\n",
      "r =  0.6948346974579134\n",
      "L1 =  1.858965745005016\n"
     ]
    },
    {
     "name": "stdout",
     "output_type": "stream",
     "text": [
      "Using control points [0.         0.         0.21985127]\n",
      "Using control points [0.         0.         0.21985127]\n",
      "Using control points [0.         0.         0.00074315]\n"
     ]
    }
   ],
   "source": [
    "from invert import Solver\n",
    "solver = Solver(\"FLEX\")\n",
    "solver.make_inverse_operator(fwd, evoked, alpha=\"auto\")\n",
    "\n",
    "stc_ = solver.apply_inverse_operator(evoked)\n",
    "\n",
    "stc_.data /= abs(stc_.data).max()\n",
    "brain = stc_.plot(**pp)\n",
    "brain.add_text(0.1, 0.9, solver.name, 'title',\n",
    "               font_size=14)\n",
    "\n",
    "evoked_ = mne.EvokedArray(fwd[\"sol\"][\"data\"] @ stc_.data, info).set_eeg_reference(\"average\", projection=True)\n",
    "evoked_.plot_joint()\n",
    "\n",
    "print(\"r = \", pearsonr(abs(stc.data).mean(axis=-1), abs(stc_.data).mean(axis=-1))[0])\n",
    "print(\"L1 = \",  np.linalg.norm(stc_.data, ord=1))"
   ]
  },
  {
   "cell_type": "code",
   "execution_count": 71,
   "metadata": {},
   "outputs": [
    {
     "name": "stdout",
     "output_type": "stream",
     "text": [
      "\n",
      "Neg Log Likelihoods:\n",
      "Weighted Minimum Norm Estimate: 2.9394164039239108e+16\n",
      "Standardized Low Resolution Tomography: 7056644664954265.0\n",
      "Local Auto-Regressive Average: 4.146360417359438e+16\n",
      "Convexity-Champagne: 4.2470080857763565e+17\n",
      "Gamma-MAP: 3.1260108546333396e+21\n",
      "HOCMCMV Beamformer: 1.910786963009039e+16\n",
      "Smooth Simultaneous Matching Pursuit: 3.5832611079591326e+19\n",
      "FLEX-MUSIC: 1.5352123438904883e+21\n",
      "Final likelihood: 3.710577509644482e+16\n",
      "\n",
      "EEG channel type selected for re-referencing\n",
      "Adding average EEG reference projection.\n",
      "1 projection items deactivated\n",
      "Average reference projection was added, but has not been applied yet. Use the apply_proj method to apply it.\n",
      "Created an SSP operator (subspace dimension = 1)\n",
      "1 projection items activated\n",
      "SSP projectors applied...\n",
      "r =  0.5801999577680862\n",
      "L1 =  19.037933114897022\n"
     ]
    },
    {
     "name": "stdout",
     "output_type": "stream",
     "text": [
      "Using control points [0.00000000e+00 1.65519602e-05 1.04781600e-03]\n",
      "Using control points [0.01916428 0.02408992 0.33659396]\n",
      "Using control points [0.02326119 0.02898724 0.3457652 ]\n",
      "Using control points [0.00000000e+00 2.30515891e-05 8.79191639e-04]\n",
      "Using control points [0.01387627 0.01928899 0.32717469]\n",
      "Using control points [0.01650014 0.02247438 0.32797067]\n",
      "Using control points [0.01387627 0.01928899 0.32717469]\n",
      "Using control points [0.01650014 0.02247438 0.32797067]\n",
      "Using control points [0.00000000e+00 2.30515891e-05 8.79191639e-04]\n"
     ]
    }
   ],
   "source": [
    "from invert.ensemble import Ensemble\n",
    "solver_list = [\"wMNE\", \"sLORETA\", \"LAURA\", \"Convexity Champagne\", \"GAMMA-MAP\", \"HOCMCMV\", \"SSMP\", \"FLEX-MUSIC\"]\n",
    "\n",
    "solver = Ensemble(solver_list, summary_type=\"mean\")\n",
    "solver.make_inverse_operator(fwd, evoked)\n",
    "\n",
    "stc_ = solver.apply_inverse_operator(evoked)\n",
    "\n",
    "stc_.data /= abs(stc_.data).max()\n",
    "brain = stc_.plot(**pp)\n",
    "brain.add_text(0.1, 0.9, solver.name, 'title',\n",
    "               font_size=14)\n",
    "\n",
    "evoked_ = mne.EvokedArray(fwd[\"sol\"][\"data\"] @ stc_.data, info).set_eeg_reference(\"average\", projection=True)\n",
    "evoked_.plot_joint()\n",
    "\n",
    "print(\"r = \", pearsonr(abs(stc.data).mean(axis=-1), abs(stc_.data).mean(axis=-1))[0])\n",
    "print(\"L1 = \",  np.linalg.norm(stc_.data, ord=1))"
   ]
  },
  {
   "cell_type": "code",
   "execution_count": 36,
   "metadata": {},
   "outputs": [
    {
     "name": "stdout",
     "output_type": "stream",
     "text": [
      "EEG channel type selected for re-referencing\n",
      "Adding average EEG reference projection.\n",
      "1 projection items deactivated\n",
      "Average reference projection was added, but has not been applied yet. Use the apply_proj method to apply it.\n",
      "Created an SSP operator (subspace dimension = 1)\n",
      "1 projection items activated\n",
      "SSP projectors applied...\n",
      "r =  0.1500066745955677\n",
      "L1 =  2.440536143086816\n"
     ]
    },
    {
     "name": "stdout",
     "output_type": "stream",
     "text": [
      "Using control points [0.         0.         0.18246018]\n"
     ]
    }
   ],
   "source": [
    "from invert.solvers import SolverFLEXMUSIC_2\n",
    "solver = SolverFLEXMUSIC_2()\n",
    "solver.make_inverse_operator(fwd, evoked, alpha=\"auto\")\n",
    "\n",
    "stc_ = solver.apply_inverse_operator(evoked)\n",
    "\n",
    "stc_.data /= abs(stc_.data).max()\n",
    "brain = stc_.plot(**pp)\n",
    "brain.add_text(0.1, 0.9, solver.name, 'title',\n",
    "               font_size=14)\n",
    "\n",
    "evoked_ = mne.EvokedArray(fwd[\"sol\"][\"data\"] @ stc_.data, info).set_eeg_reference(\"average\", projection=True)\n",
    "evoked_.plot_joint()\n",
    "\n",
    "print(\"r = \", pearsonr(abs(stc.data).mean(axis=-1), abs(stc_.data).mean(axis=-1))[0])\n",
    "print(\"L1 = \",  np.linalg.norm(stc_.data, ord=1))"
   ]
  },
  {
   "attachments": {},
   "cell_type": "markdown",
   "metadata": {},
   "source": [
    "# Big Loop"
   ]
  },
  {
   "cell_type": "code",
   "execution_count": null,
   "metadata": {},
   "outputs": [],
   "source": [
    "from invert import Solver\n",
    "# from invert.config import all_solvers\n",
    "from invert.evaluate import nmse, corr, eval_mean_localization_error, eval_auc\n",
    "from invert.adapters import contextualize_bd\n",
    "import pickle as pkl\n",
    "\n",
    "\n",
    "all_solvers = [ \"MNE\", \"wMNE\", \"dSPM\", \"FISTA\", \"L1L2\",\n",
    "                \"LORETA\", \"sLORETA\", \"eLORETA\", \n",
    "                \"LAURA\", \"Backus-Gilbert\", \n",
    "                \"S-MAP\",\n",
    "                \"Champagne\", \"Multiple Sparse Priors\", \"Bayesian LORETA\", \"Bayesian MNE\", \"Bayesian Beamformer\", \"Bayesian Beamformer LORETA\",\n",
    "                \"BCS\", \"Gamma-MAP\", \"Source-MAP\", \"Gamma-MAP-MSP\", \"Source-MAP-MSP\",\n",
    "                \"MVAB\", \"LCMV\", \"SMV\", \"WNMV\", \"HOCMV\", \"ESMV\", \"MCMV\", \"ESMCMV\", \"ReciPSIICOS\", \"SAM\",\n",
    "                # \"Fully-Connected\", \n",
    "                # \"LUCAS\",\n",
    "                # \"OMP\", \"COSAMP\", \"SOMP\", \"REMBO\", \"SP\", \"SSP\",\n",
    "                # \"SMP\", \"SSMP\", \"SubSMP\",\n",
    "                \"EPIFOCUS\",\n",
    "                \"MUSIC\", \"RAP-MUSIC\", \"TRAP-MUSIC\", \"JAZZ-MUSIC\",\n",
    "            ]\n",
    "redo_solvers = np.array([\"Champagne\", \"Multiple Sparse Priors\", \n",
    "            \"Bayesian LORETA\", \"Bayesian MNE\", \"Bayesian Beamformer\", \n",
    "            \"Bayesian Beamformer LORETA\", \"Gamma-MAP\", \"Source-MAP\"])\n",
    "\n",
    "all_solvers = [\"TRAP-MUSIC\", \"JAZZ-MUSIC\", \"LCMV\", \"sLORETA\"]\n",
    "\n",
    "settings = dict(\n",
    "    number_of_sources=(1, 10), \n",
    "    extents=(1, 25), \n",
    "    duration_of_trial=1, \n",
    "    target_snr=(1, 100))\n",
    "alpha = \"auto\"\n",
    "\n",
    "errors_corr = {sname: [] for sname in all_solvers}\n",
    "errors_mle = {sname: [] for sname in all_solvers}\n",
    "errors_auc = {sname: [] for sname in all_solvers}\n",
    "errors_nmse = {sname: [] for sname in all_solvers}\n",
    "\n",
    "solvers = dict()\n",
    "sim = Simulation(fwd, info, settings).simulate(100)\n",
    "    \n",
    "for i in range(sim.n_samples):\n",
    "    print(i)\n",
    "    stc = sim.source_data[i]\n",
    "    evoked = sim.eeg_data[i].average()\n",
    "\n",
    "    for solver_name in all_solvers :\n",
    "        print(solver_name)\n",
    "        solver = Solver(solver=solver_name)\n",
    "        if (not solver_name in solvers) or solver_name in redo_solvers:\n",
    "            if solver_name == \"Fully-Connected\":\n",
    "                solvers[solver_name] = solver.make_inverse_operator(fwd, evoked, alpha=alpha, settings=dict(duration_of_trial=0., target_snr=settings[\"target_snr\"], extents=settings[\"extents\"]), n_simulations=5000)\n",
    "            else:\n",
    "                solvers[solver_name] = solver.make_inverse_operator(fwd, evoked, alpha=alpha)\n",
    "        # stc_hat.plot(**pp, brain_kwargs=dict(title=solver.name))\n",
    "        # error = np.mean(corr(stc.data, stc_hat.data))\n",
    "        \n",
    "        try:\n",
    "            stc_hat = solvers[solver_name].apply_inverse_operator(evoked)\n",
    "            error_corr = np.mean(corr(stc.data, stc_hat.data))\n",
    "\n",
    "            error_mle = eval_mean_localization_error(stc.data[:, 0], stc_hat.data[:, 0], pos)\n",
    "            error_auc = eval_auc(stc.data[:, 0], stc_hat.data[:, 0], pos)\n",
    "            error_nmse = np.median(nmse(stc.data, stc_hat.data))\n",
    "\n",
    "        except:\n",
    "            print(\"\\t...didnt work this time\")\n",
    "            error_mle = np.nan\n",
    "            error_auc = np.nan\n",
    "            error_corr = np.nan\n",
    "            error_nmse = np.nan\n",
    "\n",
    "        errors_corr[solver_name].append( error_corr )\n",
    "        errors_mle[solver_name].append( error_mle )\n",
    "        errors_auc[solver_name].append( error_auc )\n",
    "        errors_nmse[solver_name].append( error_nmse )\n",
    "\n",
    "\n",
    "    print(\"Saving errors\")\n",
    "    fn = \"errors.pkl\"\n",
    "    with open(fn, 'wb') as f:\n",
    "        pkl.dump([errors_corr, errors_mle, errors_auc, errors_nmse, sim.simulation_info], f)"
   ]
  },
  {
   "cell_type": "code",
   "execution_count": null,
   "metadata": {},
   "outputs": [],
   "source": [
    "# import pickle as pkl\n",
    "# fn = \"errors.pkl\"\n",
    "# with open(fn, 'rb') as f:\n",
    "#     errors_corr, errors_mle, errors_auc = pkl.load(f)"
   ]
  },
  {
   "cell_type": "code",
   "execution_count": null,
   "metadata": {},
   "outputs": [],
   "source": [
    "# for key, val in errors_mle.items():\n",
    "#     errors_mle[key] = val[:31]\n",
    "\n",
    "# for key, val in errors_corr.items():\n",
    "#     errors_mle[key] = val[:31]\n",
    "\n",
    "# for key, val in errors_auc.items():\n",
    "#     errors_mle[key] = val[:31]\n",
    "    "
   ]
  },
  {
   "attachments": {},
   "cell_type": "markdown",
   "metadata": {},
   "source": [
    "# Plot"
   ]
  },
  {
   "cell_type": "code",
   "execution_count": null,
   "metadata": {},
   "outputs": [],
   "source": [
    "import pandas as pd\n",
    "import seaborn as sns\n",
    "sns.set(font_scale=0.8)\n",
    "errors = [errors_corr, errors_mle, errors_auc, errors_nmse]\n",
    "error_names = [\"errors_corr\", \"errors_mle\", \"errors_auc\", \"errors_nmse\"]\n",
    "for error, error_name in zip(errors, error_names):\n",
    "    df = pd.DataFrame(error)\n",
    "\n",
    "\n",
    "    sorted_index = df.median().sort_values().index\n",
    "    df = df[sorted_index]\n",
    "\n",
    "    plt.figure()\n",
    "    sns.boxplot(data=df)\n",
    "    plt.title(error_name)\n",
    "\n",
    "\n",
    "# df_mean_var = pd.concat([df.mean(), df.std()], axis=1)\n",
    "# df_mean_var = df_mean_var.rename(columns={0: \"Median\", 1: \"Variance\"})\n",
    "# df_mean_var[\"MedVar\"] = df_mean_var[\"Median\"] / df_mean_var[\"Variance\"]\n",
    "# df_mean_var[\"Method\"] = df_mean_var.index\n",
    "# df_mean_var = df_mean_var.sort_values(by=\"Median\")\n",
    "# display(df_mean_var)\n",
    "\n",
    "# plt.figure()\n",
    "# sns.scatterplot(x=\"Median\", y=\"Variance\", hue=\"Method\", size=\"MedVar\", data=df_mean_var)\n",
    "# plt.xlabel(\"Median\")\n",
    "# plt.ylabel(\"Variance\")\n"
   ]
  },
  {
   "cell_type": "code",
   "execution_count": null,
   "metadata": {},
   "outputs": [],
   "source": [
    "settings = dict(number_of_sources=3, extents=(25, 35), duration_of_trial=0.025, target_snr=99999)\n",
    "\n",
    "sim = Simulation(fwd, info, settings).simulate(2)\n",
    "stc = sim.source_data[0]\n",
    "evoked = sim.eeg_data[0].average()\n",
    "\n",
    "brain = stc.plot(**pp)\n",
    "brain.add_text(0.1, 0.9, 'Ground Truth', 'title',\n",
    "               font_size=14)"
   ]
  },
  {
   "cell_type": "code",
   "execution_count": null,
   "metadata": {},
   "outputs": [],
   "source": []
  }
 ],
 "metadata": {
  "kernelspec": {
   "display_name": "invertenv",
   "language": "python",
   "name": "python3"
  },
  "language_info": {
   "codemirror_mode": {
    "name": "ipython",
    "version": 3
   },
   "file_extension": ".py",
   "mimetype": "text/x-python",
   "name": "python",
   "nbconvert_exporter": "python",
   "pygments_lexer": "ipython3",
   "version": "3.10.12"
  },
  "orig_nbformat": 4,
  "vscode": {
   "interpreter": {
    "hash": "dda1e5657e486f74a7b39841fb8103db2af51a77394f44c39a7821a371af47bd"
   }
  }
 },
 "nbformat": 4,
 "nbformat_minor": 2
}
