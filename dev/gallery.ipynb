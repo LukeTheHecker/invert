{
 "cells": [
  {
   "cell_type": "code",
   "execution_count": 1,
   "metadata": {},
   "outputs": [],
   "source": [
    "%matplotlib inline\n",
    "%load_ext autoreload\n",
    "%autoreload 2\n",
    "import sys; sys.path.insert(0, '../')\n",
    "import numpy as np\n",
    "from matplotlib import pyplot as plt\n",
    "from scipy.stats import pearsonr\n",
    "import mne\n",
    "\n",
    "from invert.forward import get_info, create_forward_model\n",
    "from invert.util import pos_from_forward\n",
    "pp = dict(surface='inflated', hemi='both', clim=dict(kind=\"percent\", pos_lims=(0, 99, 100)), colorbar=False, verbose=0)"
   ]
  },
  {
   "cell_type": "code",
   "execution_count": 2,
   "metadata": {},
   "outputs": [
    {
     "name": "stderr",
     "output_type": "stream",
     "text": [
      "[Parallel(n_jobs=4)]: Using backend LokyBackend with 4 concurrent workers.\n",
      "[Parallel(n_jobs=4)]: Done   2 out of   4 | elapsed:    5.0s remaining:    5.0s\n",
      "[Parallel(n_jobs=4)]: Done   4 out of   4 | elapsed:    5.3s remaining:    0.0s\n",
      "[Parallel(n_jobs=4)]: Done   4 out of   4 | elapsed:    5.3s finished\n",
      "[Parallel(n_jobs=4)]: Using backend LokyBackend with 4 concurrent workers.\n",
      "[Parallel(n_jobs=4)]: Done   2 out of   4 | elapsed:    0.2s remaining:    0.2s\n",
      "[Parallel(n_jobs=4)]: Done   4 out of   4 | elapsed:    0.3s remaining:    0.0s\n",
      "[Parallel(n_jobs=4)]: Done   4 out of   4 | elapsed:    0.3s finished\n",
      "[Parallel(n_jobs=4)]: Using backend LokyBackend with 4 concurrent workers.\n",
      "[Parallel(n_jobs=4)]: Done   2 out of   4 | elapsed:    0.3s remaining:    0.3s\n",
      "[Parallel(n_jobs=4)]: Done   4 out of   4 | elapsed:    0.3s remaining:    0.0s\n",
      "[Parallel(n_jobs=4)]: Done   4 out of   4 | elapsed:    0.3s finished\n"
     ]
    }
   ],
   "source": [
    "info = get_info(kind='biosemi64')\n",
    "fwd = create_forward_model(info=info, sampling='ico3')\n",
    "pos = pos_from_forward(fwd)\n",
    "leadfield = fwd[\"sol\"][\"data\"]\n",
    "n_chans, n_dipoles = leadfield.shape\n",
    "source_model = fwd['src']\n",
    "vertices = [source_model[0]['vertno'], source_model[1]['vertno']]"
   ]
  },
  {
   "cell_type": "markdown",
   "metadata": {},
   "source": [
    "# Simulate"
   ]
  },
  {
   "cell_type": "code",
   "execution_count": 29,
   "metadata": {},
   "outputs": [
    {
     "name": "stdout",
     "output_type": "stream",
     "text": [
      "(2568, 1284)\n"
     ]
    }
   ],
   "source": [
    "from invert.solvers.esinet import generator\n",
    "\n",
    "sim_params = dict(\n",
    "    use_cov=False, \n",
    "    return_mask=False, \n",
    "    batch_repetitions=1,\n",
    "    batch_size=1,\n",
    "    n_sources=1, \n",
    "    n_orders=(2, 3), \n",
    "    snr_range=(100, 101), \n",
    "    n_timecourses=1,\n",
    "    scale_data=False)\n",
    "    \n",
    "\n",
    "gen = generator(fwd, **sim_params)\n",
    "x, y = gen.__next__()\n",
    "\n",
    "tmin = 0\n",
    "tstep = 1/info[\"sfreq\"]\n",
    "subject = \"fsaverage\"\n",
    "evoked = mne.EvokedArray(x[0].T, info, tmin=tmin)\n",
    "stc = mne.SourceEstimate(y[0].T, vertices, tmin=tmin, tstep=tstep, \n",
    "                        subject=subject, verbose=0)\n"
   ]
  },
  {
   "cell_type": "code",
   "execution_count": 30,
   "metadata": {},
   "outputs": [],
   "source": [
    "brain = stc.plot(**pp, brain_kwargs=dict(title=\"Ground Truth\"))\n",
    "brain.add_text(0.1, 0.9, \"Ground Truth\", 'title', font_size=16)"
   ]
  },
  {
   "cell_type": "code",
   "execution_count": 31,
   "metadata": {},
   "outputs": [],
   "source": [
    "%matplotlib inline\n",
    "from invert import Solver\n",
    "from invert.config import all_solvers\n",
    "\n",
    "# Plot Ground Truth\n",
    "brain = stc.plot(**pp, brain_kwargs=dict(title=\"Ground Truth\"))\n",
    "brain.add_text(0.1, 0.9, \"Ground Truth\", 'title', font_size=16)\n",
    "img = brain.screenshot()\n",
    "brain.close()\n",
    "\n",
    "plt.figure()\n",
    "plt.imshow(img)\n",
    "plt.axis(\"off\")\n",
    "fname = f\"../figures/solver_gallery/GroundTruth\"\n",
    "plt.savefig(fname, dpi=150)\n",
    "plt.close()\n"
   ]
  },
  {
   "cell_type": "code",
   "execution_count": 32,
   "metadata": {},
   "outputs": [
    {
     "ename": "KeyboardInterrupt",
     "evalue": "",
     "output_type": "error",
     "traceback": [
      "\u001b[1;31m---------------------------------------------------------------------------\u001b[0m",
      "\u001b[1;31mKeyboardInterrupt\u001b[0m                         Traceback (most recent call last)",
      "\u001b[1;32mc:\\Users\\Lukas\\Documents\\projects\\invert\\dev\\gallery.ipynb Cell 7\u001b[0m in \u001b[0;36m<cell line: 19>\u001b[1;34m()\u001b[0m\n\u001b[0;32m     <a href='vscode-notebook-cell:/c%3A/Users/Lukas/Documents/projects/invert/dev/gallery.ipynb#X13sZmlsZQ%3D%3D?line=18'>19</a>\u001b[0m \u001b[39mfor\u001b[39;00m solver_name \u001b[39min\u001b[39;00m all_solvers[:]:\n\u001b[0;32m     <a href='vscode-notebook-cell:/c%3A/Users/Lukas/Documents/projects/invert/dev/gallery.ipynb#X13sZmlsZQ%3D%3D?line=19'>20</a>\u001b[0m     solver \u001b[39m=\u001b[39m Solver(solver_name)\n\u001b[1;32m---> <a href='vscode-notebook-cell:/c%3A/Users/Lukas/Documents/projects/invert/dev/gallery.ipynb#X13sZmlsZQ%3D%3D?line=20'>21</a>\u001b[0m     solver\u001b[39m.\u001b[39;49mmake_inverse_operator(fwd, evoked)\n\u001b[0;32m     <a href='vscode-notebook-cell:/c%3A/Users/Lukas/Documents/projects/invert/dev/gallery.ipynb#X13sZmlsZQ%3D%3D?line=21'>22</a>\u001b[0m     stc_ \u001b[39m=\u001b[39m solver\u001b[39m.\u001b[39mapply_inverse_operator(evoked)\n\u001b[0;32m     <a href='vscode-notebook-cell:/c%3A/Users/Lukas/Documents/projects/invert/dev/gallery.ipynb#X13sZmlsZQ%3D%3D?line=22'>23</a>\u001b[0m     brain \u001b[39m=\u001b[39m stc_\u001b[39m.\u001b[39mplot(\u001b[39m*\u001b[39m\u001b[39m*\u001b[39mpp, brain_kwargs\u001b[39m=\u001b[39m\u001b[39mdict\u001b[39m(title\u001b[39m=\u001b[39msolver\u001b[39m.\u001b[39mname))\n",
      "File \u001b[1;32mc:\\Users\\Lukas\\Documents\\projects\\invert\\dev\\..\\invert\\solvers\\empirical_bayes.py:221\u001b[0m, in \u001b[0;36mSolverEMChampagne.make_inverse_operator\u001b[1;34m(self, forward, mne_obj, alpha, max_iter, noise_cov, prune, pruning_thresh, convergence_criterion, *args, **kwargs)\u001b[0m\n\u001b[0;32m    219\u001b[0m inverse_operators \u001b[39m=\u001b[39m []\n\u001b[0;32m    220\u001b[0m \u001b[39mfor\u001b[39;00m alpha \u001b[39min\u001b[39;00m \u001b[39mself\u001b[39m\u001b[39m.\u001b[39malphas:\n\u001b[1;32m--> 221\u001b[0m     inverse_operator \u001b[39m=\u001b[39m \u001b[39mself\u001b[39;49m\u001b[39m.\u001b[39;49mem_champagne(data, alpha, max_iter\u001b[39m=\u001b[39;49mmax_iter, prune\u001b[39m=\u001b[39;49mprune, pruning_thresh\u001b[39m=\u001b[39;49mpruning_thresh, convergence_criterion\u001b[39m=\u001b[39;49mconvergence_criterion)\n\u001b[0;32m    222\u001b[0m     inverse_operators\u001b[39m.\u001b[39mappend( inverse_operator )\n\u001b[0;32m    223\u001b[0m \u001b[39mself\u001b[39m\u001b[39m.\u001b[39minverse_operators \u001b[39m=\u001b[39m [InverseOperator(inverse_operator, \u001b[39mself\u001b[39m\u001b[39m.\u001b[39mname) \u001b[39mfor\u001b[39;00m inverse_operator \u001b[39min\u001b[39;00m inverse_operators]\n",
      "File \u001b[1;32mc:\\Users\\Lukas\\Documents\\projects\\invert\\dev\\..\\invert\\solvers\\empirical_bayes.py:290\u001b[0m, in \u001b[0;36mSolverEMChampagne.em_champagne\u001b[1;34m(self, Y, alpha, max_iter, prune, pruning_thresh, convergence_criterion)\u001b[0m\n\u001b[0;32m    288\u001b[0m Sigma_y \u001b[39m=\u001b[39m (alpha\u001b[39m*\u001b[39m\u001b[39m*\u001b[39m\u001b[39m2\u001b[39m) \u001b[39m*\u001b[39m I \u001b[39m+\u001b[39m L \u001b[39m@\u001b[39m Gamma \u001b[39m@\u001b[39m L\u001b[39m.\u001b[39mT\n\u001b[0;32m    289\u001b[0m Sigma_y_inv \u001b[39m=\u001b[39m np\u001b[39m.\u001b[39mlinalg\u001b[39m.\u001b[39minv(Sigma_y)\n\u001b[1;32m--> 290\u001b[0m Sigma_x \u001b[39m=\u001b[39m Gamma \u001b[39m-\u001b[39;49m Gamma \u001b[39m@\u001b[39;49m L\u001b[39m.\u001b[39;49mT \u001b[39m@\u001b[39;49m Sigma_y_inv \u001b[39m@\u001b[39;49m L \u001b[39m@\u001b[39;49m Gamma\n\u001b[0;32m    291\u001b[0m mu_x \u001b[39m=\u001b[39m Gamma \u001b[39m@\u001b[39m L\u001b[39m.\u001b[39mT \u001b[39m@\u001b[39m Sigma_y_inv \u001b[39m@\u001b[39m Y_scaled\n\u001b[0;32m    292\u001b[0m loss \u001b[39m=\u001b[39m np\u001b[39m.\u001b[39mtrace(L\u001b[39m@Gamma\u001b[39m\u001b[39m@L\u001b[39m\u001b[39m.\u001b[39mT) \u001b[39m+\u001b[39m (\u001b[39m1\u001b[39m\u001b[39m/\u001b[39mn_times) \u001b[39m*\u001b[39m (Y_scaled\u001b[39m.\u001b[39mT\u001b[39m@Sigma_y\u001b[39m\u001b[39m@Y_scaled\u001b[39m)\u001b[39m.\u001b[39msum()\n",
      "\u001b[1;31mKeyboardInterrupt\u001b[0m: "
     ]
    }
   ],
   "source": [
    "%matplotlib inline\n",
    "from invert import Solver\n",
    "from invert.config import all_solvers\n",
    "\n",
    "# Plot Ground Truth\n",
    "brain = stc.plot(**pp, brain_kwargs=dict(title=\"Ground Truth\"))\n",
    "brain.add_text(0.1, 0.9, \"Ground Truth\", 'title', font_size=16)\n",
    "img = brain.screenshot()\n",
    "brain.close()\n",
    "\n",
    "plt.figure()\n",
    "plt.imshow(img)\n",
    "plt.axis(\"off\")\n",
    "fname = f\"../figures/solver_gallery/GroundTruth\"\n",
    "plt.savefig(fname, dpi=150)\n",
    "plt.close()\n",
    "\n",
    "# Plot Source Estimates\n",
    "for solver_name in all_solvers:\n",
    "    solver = Solver(solver_name)\n",
    "    solver.make_inverse_operator(fwd, evoked)\n",
    "    stc_ = solver.apply_inverse_operator(evoked)\n",
    "    brain = stc_.plot(**pp, brain_kwargs=dict(title=solver.name))\n",
    "    brain.add_text(0.1, 0.9, solver.name, 'title', font_size=16)\n",
    "    img = brain.screenshot()\n",
    "    brain.close()\n",
    "    \n",
    "    fig = plt.figure()\n",
    "    plt.imshow(img)\n",
    "    plt.axis(\"off\")\n",
    "\n",
    "    fname = f\"../figures/solver_gallery/{solver.name}\"\n",
    "    plt.savefig(fname, dpi=150)\n",
    "    plt.close()"
   ]
  },
  {
   "cell_type": "markdown",
   "metadata": {},
   "source": [
    "# Solve"
   ]
  },
  {
   "cell_type": "code",
   "execution_count": null,
   "metadata": {},
   "outputs": [
    {
     "name": "stdout",
     "output_type": "stream",
     "text": [
      "Adding average EEG reference projection.\n",
      "1 projection items deactivated\n",
      "Average reference projection was added, but has not been applied yet. Use the apply_proj method to apply it.\n",
      "Created an SSP operator (subspace dimension = 1)\n",
      "1 projection items activated\n",
      "SSP projectors applied...\n",
      "r =  0.19636086828602\n",
      "L1 =  20.113617\n"
     ]
    },
    {
     "name": "stdout",
     "output_type": "stream",
     "text": [
      "Using control points [0.0476362  0.05874738 0.41511153]\n",
      "Using control points [0.0476362  0.05874738 0.41511153]\n",
      "Using control points [0.0476362  0.05874738 0.41511153]\n",
      "Using control points [0.0476362  0.05874738 0.41511153]\n",
      "Using control points [0.01255137 0.10915932 0.70373472]\n",
      "Using control points [0.01255137 0.10915932 0.70373472]\n",
      "Using control points [0.02688973 0.03550795 0.22265582]\n",
      "Using control points [0.01029644 0.04761037 0.63900793]\n",
      "Using control points [0.02688973 0.03550795 0.22265582]\n"
     ]
    }
   ],
   "source": [
    "# from invert import Solver\n",
    "# solver = Solver(\"lstm\")\n",
    "# solver.make_inverse_operator(fwd, evoked, alpha=\"auto\")\n",
    "stc_ = solver.apply_inverse_operator(evoked)\n",
    "\n",
    "stc_.data /= abs(stc_.data).max()\n",
    "brain = stc_.plot(**pp)\n",
    "brain.add_text(0.1, 0.9, solver.name, 'title',\n",
    "               font_size=14)\n",
    "\n",
    "evoked_ = mne.EvokedArray(fwd[\"sol\"][\"data\"] @ stc_.data, info).set_eeg_reference(\"average\", projection=True)\n",
    "evoked_.plot_joint()\n",
    "\n",
    "print(\"r = \", pearsonr(abs(stc.data).mean(axis=-1), abs(stc_.data).mean(axis=-1))[0])\n",
    "print(\"L1 = \",  np.linalg.norm(stc_.data, ord=1))"
   ]
  }
 ],
 "metadata": {
  "kernelspec": {
   "display_name": "invertenv",
   "language": "python",
   "name": "python3"
  },
  "language_info": {
   "codemirror_mode": {
    "name": "ipython",
    "version": 3
   },
   "file_extension": ".py",
   "mimetype": "text/x-python",
   "name": "python",
   "nbconvert_exporter": "python",
   "pygments_lexer": "ipython3",
   "version": "3.8.10"
  },
  "orig_nbformat": 4,
  "vscode": {
   "interpreter": {
    "hash": "109cbb5ed194d0e1c7aea844cf0a4a10faadf2a56a1c0eb03142356ad9dcb9c6"
   }
  }
 },
 "nbformat": 4,
 "nbformat_minor": 2
}
