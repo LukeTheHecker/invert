{
 "cells": [
  {
   "cell_type": "code",
   "execution_count": 1,
   "metadata": {},
   "outputs": [],
   "source": [
    "%load_ext autoreload\n",
    "%autoreload 2\n",
    "\n",
    "import sys; \n",
    "sys.path.insert(0, '../../esinet')\n",
    "sys.path.insert(0, '../')\n",
    "\n",
    "import numpy as np\n",
    "from copy import deepcopy\n",
    "from scipy.sparse.csgraph import laplacian\n",
    "from matplotlib import pyplot as plt\n",
    "from scipy.spatial.distance import cdist\n",
    "from scipy.stats import pearsonr\n",
    "import mne\n",
    "from esinet import Simulation\n",
    "from esinet.forward import get_info, create_forward_model\n",
    "from esinet.util import unpack_fwd\n",
    "from invert.adapters import focuss\n",
    "from invert.cmaps import parula\n",
    "pp = dict(surface='white', hemi='both')"
   ]
  },
  {
   "cell_type": "markdown",
   "metadata": {},
   "source": [
    "# Get Forward Model"
   ]
  },
  {
   "cell_type": "code",
   "execution_count": 2,
   "metadata": {},
   "outputs": [
    {
     "name": "stderr",
     "output_type": "stream",
     "text": [
      "[Parallel(n_jobs=4)]: Using backend LokyBackend with 4 concurrent workers.\n",
      "[Parallel(n_jobs=4)]: Done   2 out of   4 | elapsed:    4.7s remaining:    4.7s\n",
      "[Parallel(n_jobs=4)]: Done   4 out of   4 | elapsed:    4.8s remaining:    0.0s\n",
      "[Parallel(n_jobs=4)]: Done   4 out of   4 | elapsed:    4.8s finished\n",
      "[Parallel(n_jobs=4)]: Using backend LokyBackend with 4 concurrent workers.\n",
      "[Parallel(n_jobs=4)]: Done   2 out of   4 | elapsed:    0.1s remaining:    0.1s\n",
      "[Parallel(n_jobs=4)]: Done   4 out of   4 | elapsed:    0.2s remaining:    0.0s\n",
      "[Parallel(n_jobs=4)]: Done   4 out of   4 | elapsed:    0.2s finished\n",
      "[Parallel(n_jobs=4)]: Using backend LokyBackend with 4 concurrent workers.\n",
      "[Parallel(n_jobs=4)]: Done   2 out of   4 | elapsed:    0.5s remaining:    0.5s\n",
      "[Parallel(n_jobs=4)]: Done   4 out of   4 | elapsed:    0.6s remaining:    0.0s\n",
      "[Parallel(n_jobs=4)]: Done   4 out of   4 | elapsed:    0.6s finished\n"
     ]
    }
   ],
   "source": [
    "info = get_info(kind='biosemi128')\n",
    "fwd = create_forward_model(info=info, sampling='ico3')\n",
    "\n",
    "leadfield, pos = unpack_fwd(fwd)[1:3]\n",
    "leadfield = np.stack([ll-ll.mean() for ll in leadfield.T], axis=-1)\n",
    "n_chans, n_dipoles = leadfield.shape\n",
    "dist = cdist(pos, pos)"
   ]
  },
  {
   "cell_type": "markdown",
   "metadata": {},
   "source": [
    "# Get sample data"
   ]
  },
  {
   "cell_type": "code",
   "execution_count": 15,
   "metadata": {},
   "outputs": [
    {
     "name": "stdout",
     "output_type": "stream",
     "text": [
      "Simulating data based on sparse patches.\n"
     ]
    },
    {
     "name": "stderr",
     "output_type": "stream",
     "text": [
      "100%|██████████| 2/2 [00:00<00:00,  7.44it/s]\n",
      "100%|██████████| 2/2 [00:00<00:00, 2003.97it/s]\n",
      "100%|██████████| 2/2 [00:00<00:00,  5.45it/s]\n"
     ]
    },
    {
     "name": "stdout",
     "output_type": "stream",
     "text": [
      "Using control points [9.28598093e-12 2.64108126e-10 1.98652822e-08]\n",
      "For automatic theme detection, \"darkdetect\" has to be installed! You can install it with `pip install darkdetect`\n",
      "To use light mode, \"qdarkstyle\" has to be installed! You can install it with `pip install qdarkstyle`\n"
     ]
    }
   ],
   "source": [
    "# settings = dict(number_of_sources=1, extents=1, duration_of_trial=0.1, target_snr=1e99)\n",
    "settings = dict(number_of_sources=2, extents=25, duration_of_trial=0.1, target_snr=1e99)\n",
    "\n",
    "sim = Simulation(fwd, info, settings).simulate(2)\n",
    "stc = sim.source_data[0]\n",
    "evoked = sim.eeg_data[0].average()\n",
    "M = evoked.data\n",
    "M = np.stack([mm-mm.mean() for mm in M.T], axis=-1)\n",
    "\n",
    "brain = stc.plot(**pp)\n",
    "brain.add_text(0.1, 0.9, 'Ground Truth', 'title',\n",
    "               font_size=14)"
   ]
  },
  {
   "cell_type": "markdown",
   "metadata": {},
   "source": [
    "# Minimum Norm Estimate"
   ]
  },
  {
   "cell_type": "code",
   "execution_count": 4,
   "metadata": {},
   "outputs": [
    {
     "name": "stdout",
     "output_type": "stream",
     "text": [
      "Using control points [4.10336231e-09 5.37624062e-09 2.05873333e-08]\n",
      "For automatic theme detection, \"darkdetect\" has to be installed! You can install it with `pip install darkdetect`\n",
      "To use light mode, \"qdarkstyle\" has to be installed! You can install it with `pip install qdarkstyle`\n"
     ]
    },
    {
     "name": "stdout",
     "output_type": "stream",
     "text": [
      "Using control points [3.08605966e-09 3.98129040e-09 1.09998127e-08]\n",
      "Using control points [6.18467587e-09 8.21353217e-09 5.39839727e-08]\n"
     ]
    }
   ],
   "source": [
    "alpha = 0.001\n",
    "# if n_chans>n_dipoles:\n",
    "# D_MNE = np.linalg.inv(leadfield.T @ leadfield + alpha * np.identity(n_dipoles)) @ leadfield.T @ M\n",
    "# else:\n",
    "D_MNE = leadfield.T @ np.linalg.inv(leadfield @ leadfield.T + alpha * np.identity(n_chans)) @ M\n",
    "\n",
    "\n",
    "stc_hat = stc.copy()\n",
    "stc_hat.data = D_MNE\n",
    "brain = stc_hat.plot(**pp)\n",
    "brain.add_text(0.1, 0.9, 'MNE', 'title',\n",
    "               font_size=14)"
   ]
  },
  {
   "cell_type": "markdown",
   "metadata": {},
   "source": [
    "# Weighted Minimum Norm Estimate"
   ]
  },
  {
   "cell_type": "code",
   "execution_count": 5,
   "metadata": {},
   "outputs": [
    {
     "name": "stdout",
     "output_type": "stream",
     "text": [
      "Using control points [4.08305412e-09 5.37580985e-09 1.69555175e-08]\n",
      "For automatic theme detection, \"darkdetect\" has to be installed! You can install it with `pip install darkdetect`\n",
      "To use light mode, \"qdarkstyle\" has to be installed! You can install it with `pip install qdarkstyle`\n"
     ]
    },
    {
     "name": "stdout",
     "output_type": "stream",
     "text": [
      "Using control points [2.89564412e-09 3.76475241e-09 9.22730534e-09]\n"
     ]
    }
   ],
   "source": [
    "alpha = 0.001\n",
    "omega = np.diag(np.linalg.norm(leadfield, axis=0))\n",
    "I_3 = np.identity(3)\n",
    "W = omega # np.kron(omega, I_3)\n",
    "\n",
    "D_WMNE = np.linalg.inv(W.T @ W) @ leadfield.T  @ np.linalg.inv(leadfield @ np.linalg.inv(W.T @ W) @ leadfield.T + alpha * np.identity(n_chans)) @ M\n",
    "\n",
    "stc_hat = stc.copy()\n",
    "stc_hat.data = D_WMNE\n",
    "r = np.median([pearsonr(abs(s_pred), abs(s_true))[0] for s_pred, s_true in zip(stc_hat.data.T, stc.data.T)])\n",
    "brain = stc_hat.plot(**pp)\n",
    "brain.add_text(0.1, 0.9, f'wMNE (r={r:.2f})', 'title',\n",
    "               font_size=14)"
   ]
  },
  {
   "cell_type": "markdown",
   "metadata": {},
   "source": [
    "# MNE with FOCUSS (Focal underdetermined system solution)"
   ]
  },
  {
   "cell_type": "code",
   "execution_count": null,
   "metadata": {},
   "outputs": [],
   "source": [
    "alpha = 0.001\n",
    "\n",
    "D_MNE = leadfield.T @ np.linalg.inv(leadfield @ leadfield.T + alpha * np.identity(n_chans)) @ M\n",
    "D_FOCUSS = focuss(D_MNE, M, leadfield, alpha)\n",
    "\n",
    "stc_hat = stc.copy()\n",
    "stc_hat.data = D_FOCUSS\n",
    "brain = stc_hat.plot(**pp)\n",
    "brain.add_text(0.1, 0.9, 'MNE FOCUSS', 'title',\n",
    "            font_size=14)"
   ]
  },
  {
   "cell_type": "markdown",
   "metadata": {},
   "source": [
    "# Contextual Minimum Norm"
   ]
  },
  {
   "cell_type": "code",
   "execution_count": null,
   "metadata": {},
   "outputs": [],
   "source": [
    "from invert import inverse_loreta, contextualize, contextualize_bd\n",
    "import tensorflow as tf\n",
    "from scipy.stats import pearsonr\n",
    "\n",
    "\n",
    "stc_instant = inverse_loreta(M, leadfield, fwd)\n",
    "D_cmne = contextualize_bd(stc_instant, leadfield, num_epochs=20)\n",
    "\n",
    "stc = sim.source_data[0]\n",
    "\n",
    "\n",
    "stc_hat = stc.copy()\n",
    "stc_hat.data = D_cmne\n",
    "r = np.median([pearsonr(abs(s_pred), abs(s_true))[0] for s_pred, s_true in zip(stc_hat.data.T, stc.data.T)])\n",
    "brain = stc_hat.plot(**pp)\n",
    "brain.add_text(0.1, 0.9, f'CMNE (r={r:.2f})', 'title',\n",
    "               font_size=14)"
   ]
  },
  {
   "cell_type": "markdown",
   "metadata": {},
   "source": [
    "# dSPM"
   ]
  },
  {
   "cell_type": "code",
   "execution_count": null,
   "metadata": {},
   "outputs": [],
   "source": [
    "alpha = 0.001\n",
    "\n",
    "noise_cov = np.identity(n_chans) + np.random.rand(n_chans, n_chans)*0.1\n",
    "source_cov = np.identity(n_dipoles)\n",
    "\n",
    "M_norm = (1/np.sqrt(noise_cov)) @ M\n",
    "G_norm = (1/np.sqrt(noise_cov)) @ leadfield\n",
    "\n",
    "K = source_cov @ G_norm.T @ np.linalg.inv(G_norm @ source_cov @ G_norm.T + alpha**2 * np.identity(n_chans))\n",
    "W_dSPM = np.diag(np.sqrt(1/np.diagonal(K @ noise_cov @ K.T)))\n",
    "K_dSPM = W_dSPM @ K\n",
    "D_dSPM = K_dSPM @ M_norm\n",
    "\n",
    "\n",
    "stc_hat = stc.copy()\n",
    "stc_hat.data = D_dSPM\n",
    "brain = stc_hat.plot(**pp)\n",
    "brain.add_text(0.1, 0.9, 'dSPM', 'title',\n",
    "               font_size=14)"
   ]
  },
  {
   "cell_type": "markdown",
   "metadata": {},
   "source": [
    "# LORETA"
   ]
  },
  {
   "cell_type": "code",
   "execution_count": null,
   "metadata": {},
   "outputs": [],
   "source": [
    "alpha = 2\n",
    "adjacency = mne.spatial_src_adjacency(fwd['src']).toarray()\n",
    "B = np.diag(np.linalg.norm(leadfield, axis=0))\n",
    "laplace_operator = laplacian(adjacency)\n",
    "D_LOR = np.linalg.inv(leadfield.T @ leadfield + alpha * B @ laplace_operator.T @ laplace_operator @ B) @ leadfield.T @ M\n",
    "# D_LOR = np.linalg.inv(B @ laplace_operator.T @ laplace_operator @ B) @ leadfield.T @ (leadfield @ np.linalg.pinv(B @ laplace_operator.T @ laplace_operator @ B) @ leadfield.T + alpha * np.identity(n_chans) ) @ M\n",
    "\n",
    "stc_hat = stc.copy()\n",
    "D_LOR /= np.abs(D_LOR).max()\n",
    "stc_hat.data = D_LOR\n",
    "r = np.median([pearsonr(a, b)[0] for a, b in zip(stc.data.T, stc_hat.data.T)])\n",
    "brain = stc_hat.plot(**pp)\n",
    "brain.add_text(0.1, 0.9, f'LORETA (r={r:.2f})', 'title',\n",
    "            font_size=14)"
   ]
  },
  {
   "cell_type": "markdown",
   "metadata": {},
   "source": [
    "# sLORETA"
   ]
  },
  {
   "cell_type": "code",
   "execution_count": null,
   "metadata": {},
   "outputs": [],
   "source": [
    "alpha = 0.001\n",
    "K_MNE = leadfield.T @ np.linalg.inv(leadfield @ leadfield.T + alpha * np.identity(n_chans))\n",
    "W_diag = 1 / np.diag(K_MNE @ leadfield)\n",
    "\n",
    "W_slor = np.diag(W_diag)\n",
    "\n",
    "W_slor = np.sqrt(W_slor)\n",
    "\n",
    "K_slor = W_slor @ K_MNE\n",
    "D_SLOR = K_slor @ M\n",
    "D_SLOR[np.isnan(D_SLOR)] = 0\n",
    "\n",
    "stc_hat = stc.copy()\n",
    "stc_hat.data = D_SLOR\n",
    "r = np.median([pearsonr(a, b)[0] for a, b in zip(stc.data.T, stc_hat.data.T)])\n",
    "brain = stc_hat.plot(**pp)\n",
    "brain.add_text(0.1, 0.9, f'sLORETA (r={r:.2f})', 'title',\n",
    "            font_size=14)"
   ]
  },
  {
   "cell_type": "markdown",
   "metadata": {},
   "source": [
    "# eLORETA"
   ]
  },
  {
   "cell_type": "code",
   "execution_count": null,
   "metadata": {},
   "outputs": [],
   "source": [
    "from invert import calc_eloreta_D\n",
    "stop_crit = 0.005\n",
    "alpha = 0.001\n",
    "\n",
    "D, C = calc_eloreta_D(leadfield, alpha, stop_crit=stop_crit)\n",
    "K_elor = np.linalg.inv(D) @ leadfield.T @ np.linalg.inv( leadfield @ np.linalg.inv(D) @ leadfield.T + alpha * np.identity(n_chans) )\n",
    "D_ELOR = K_elor @ M\n",
    "\n",
    "stc_hat = stc.copy()\n",
    "stc_hat.data = D_ELOR\n",
    "r = np.median([pearsonr(a, b)[0] for a, b in zip(stc.data.T, stc_hat.data.T)])\n",
    "brain = stc_hat.plot(**pp)\n",
    "brain.add_text(0.1, 0.9, f'eLORETA (r={r:.2f})', 'title',\n",
    "            font_size=14)"
   ]
  },
  {
   "cell_type": "markdown",
   "metadata": {},
   "source": [
    "# LAURA"
   ]
  },
  {
   "cell_type": "code",
   "execution_count": null,
   "metadata": {},
   "outputs": [],
   "source": [
    "alpha = 200\n",
    "drop_off = 2\n",
    "d = cdist(pos, pos)\n",
    "# Get the adjacency matrix of the source spaces\n",
    "adj = mne.spatial_src_adjacency(fwd[\"src\"], verbose=0).toarray()\n",
    "for i in range(d.shape[0]):\n",
    "    # find dipoles that are no neighbor to dipole i\n",
    "    non_neighbors = np.where(~adj.astype(bool)[i, :])[0]\n",
    "    # append dipole itself\n",
    "    non_neighbors = np.append(non_neighbors, i)\n",
    "    # set non-neighbors to zero\n",
    "    d[i, non_neighbors] = 0\n",
    "A = -d**-drop_off\n",
    "A[np.isinf(A)] = 0\n",
    "W = np.identity(A.shape[0])\n",
    "M_j = W @ A\n",
    "\n",
    "# Source Space metric\n",
    "W_j = np.linalg.inv(M_j.T @ M_j)\n",
    "W_j_inv = np.linalg.inv(W_j)\n",
    "\n",
    "W_d = np.linalg.inv(np.identity(n_chans))\n",
    "noise_term = (alpha**2) * np.linalg.inv(W_d)\n",
    "G = W_j_inv @ leadfield.T @ np.linalg.inv(leadfield @ W_j_inv @ leadfield.T + noise_term)\n",
    "D_LAURA = G @ M\n",
    "\n",
    "stc_hat.data = D_LAURA\n",
    "r = np.median([pearsonr(a, b)[0] for a, b in zip(stc.data.T, stc_hat.data.T)])\n",
    "brain = stc_hat.plot(**pp)\n",
    "brain.add_text(0.1, 0.9, f'LAURA (r={r:.2f})', 'title',\n",
    "            font_size=14)"
   ]
  },
  {
   "cell_type": "markdown",
   "metadata": {},
   "source": [
    "# VARETA"
   ]
  },
  {
   "cell_type": "code",
   "execution_count": null,
   "metadata": {},
   "outputs": [],
   "source": [
    "# 1) J & JVareta given; find A\n",
    "# 2) A given, find J\n",
    "# 3) repeat until convergence"
   ]
  },
  {
   "cell_type": "code",
   "execution_count": null,
   "metadata": {},
   "outputs": [],
   "source": [
    " \n",
    "# alpha = 0.001\n",
    "# adjacency = mne.spatial_src_adjacency(fwd['src'], verbose=0).toarray()\n",
    "# B = np.diag(np.linalg.norm(leadfield, axis=0))\n",
    "# L = laplacian(adjacency)  # non-singular univariate discrete laplacian -> is that correct?\n",
    "# D_LOR = np.linalg.inv(leadfield.T @ leadfield + alpha * B @ L.T @ L @ B) @ leadfield.T @ M\n",
    "# D_Last = deepcopy(D_LOR)[:, 0][:, np.newaxis]\n",
    "# W = np.diag(np.linalg.norm(leadfield, axis=0))  # WMNE weight matrix (depth weighting)\n",
    "# tau = 1  # controls smoothness\n",
    "# alpha_2 = 1  # controls importance of grid point\n",
    "# # for t in range(M.shape[1]):\n",
    "# t = 0\n",
    "# A = np.identity(n_dipoles)  # in paper: large lambda\n",
    "    \n",
    "# # for _ in range(10):\n",
    "# term_1 = np.linalg.norm( M[:, t] - leadfield @ D_Last )\n",
    "# term_2 = np.linalg.norm( A@L * W * D_Last )\n",
    "# term_3 = tau**2 * np.linalg.norm( L * np.diag(np.log(np.diagonal(A))) - alpha_2 )\n",
    "\n",
    "\n",
    "# # D_VAR = term_1 + term_2 + term_3\n",
    "\n",
    "# from scipy.optimize import minimize\n",
    "# def find_lambda(A, m, leadfield, D_Last, L, W, tau, alpha_2):\n",
    "#     A = A.reshape(leadfield.shape[1], leadfield.shape[1])\n",
    "#     term_1 = np.linalg.norm( M[:, t] - leadfield @ D_Last )\n",
    "#     term_2 = np.linalg.norm( A@L * W * D_Last )\n",
    "#     term_3 = tau**2 * np.linalg.norm( L * np.diag(np.log(np.diagonal(A))) - alpha_2 )\n",
    "#     return term_1 + term_2 + term_3\n",
    "# # find_lambda(A, M[:, t], leadfield, D_Last, L, W, tau, alpha_2)\n",
    "# minimize(find_lambda, A.flatten(), args=(M[:, t], leadfield, D_Last, L, W, tau, alpha_2), method='L-BFGS-B')"
   ]
  },
  {
   "cell_type": "markdown",
   "metadata": {},
   "source": [
    "# S-MAP"
   ]
  },
  {
   "cell_type": "code",
   "execution_count": 5,
   "metadata": {},
   "outputs": [
    {
     "name": "stdout",
     "output_type": "stream",
     "text": [
      "-- number of adjacent vertices : 1284\n",
      "Using control points [7.35968128e-09 9.53787601e-09 2.72470932e-08]\n",
      "For automatic theme detection, \"darkdetect\" has to be installed! You can install it with `pip install darkdetect`\n",
      "To use light mode, \"qdarkstyle\" has to be installed! You can install it with `pip install qdarkstyle`\n"
     ]
    },
    {
     "name": "stdout",
     "output_type": "stream",
     "text": [
      "Using control points [3.34827580e-09 4.01349516e-09 6.88505491e-09]\n",
      "Using control points [3.10302337e-09 3.58375427e-09 8.05604369e-09]\n",
      "Using control points [3.06603482e-09 3.49012487e-09 6.18109851e-09]\n",
      "Using control points [1.85061260e-09 2.57456726e-09 1.28449832e-08]\n",
      "Using control points [1.02169732e-08 1.26327276e-08 2.06648478e-08]\n",
      "Using control points [7.40397775e-09 8.89350830e-09 1.46702587e-08]\n",
      "Using control points [1.65547772e-09 2.11952751e-09 8.40794931e-09]\n",
      "Using control points [2.15190964e-09 2.59001994e-09 3.99474721e-09]\n",
      "Using control points [3.05550428e-10 1.35564108e-09 1.81373825e-08]\n",
      "Using control points [1.76870253e-10 1.06454415e-09 1.18943805e-08]\n",
      "Using control points [2.04128420e-10 9.13980860e-10 1.31557843e-08]\n",
      "Using control points [4.16117485e-12 2.50452198e-11 1.79075588e-08]\n",
      "Using control points [4.61471351e-10 2.20934384e-09 3.71231778e-08]\n",
      "Using control points [4.83465753e-10 1.99159172e-09 2.99959703e-08]\n",
      "Using control points [5.82142147e-11 3.50378884e-10 1.51167009e-08]\n",
      "Using control points [1.33257359e-10 8.02047491e-10 7.73561282e-09]\n"
     ]
    }
   ],
   "source": [
    "alpha = 0.001\n",
    "adjacency = mne.spatial_src_adjacency(fwd['src']).toarray()\n",
    "B = np.diag(np.linalg.norm(leadfield, axis=0))\n",
    "laplace_operator = laplacian(adjacency)\n",
    "D_LOR = np.linalg.inv(leadfield.T @ leadfield + alpha * B @ laplace_operator.T @ laplace_operator @ B) @ leadfield.T @ M\n",
    "\n",
    "gradient = np.gradient(B)[0] #np.gradient(B)[0]\n",
    "D_SMAP = np.linalg.inv(leadfield.T @ leadfield + alpha * gradient.T @ gradient) @ leadfield.T @ M\n",
    "# D_SMAP = np.linalg.inv(gradient.T @ gradient) @ leadfield.T @ np.linalg.inv(leadfield @ np.linalg.inv( gradient.T @ gradient ) @ leadfield.T + alpha * np.identity(n_chans)) @ M\n",
    "\n",
    "stc_hat = stc.copy()\n",
    "stc_hat.data = D_SMAP\n",
    "r = np.median([pearsonr(a, b)[0] for a, b in zip(stc.data.T, stc_hat.data.T)])\n",
    "brain = stc_hat.plot(**pp)\n",
    "brain.add_text(0.1, 0.9, f'S-MAP (r={r:.2f})', 'title',\n",
    "            font_size=14)"
   ]
  },
  {
   "cell_type": "markdown",
   "metadata": {},
   "source": [
    "# ESINET"
   ]
  },
  {
   "cell_type": "code",
   "execution_count": null,
   "metadata": {},
   "outputs": [],
   "source": [
    "from esinet import Net\n",
    "import tensorflow as tf\n",
    "sim_train = Simulation(fwd, info, settings=dict(duration_of_trial=0, target_snr=999)).simulate(10000)\n",
    "net = Net(fwd, n_dense_units=512, n_lstm_layers=0, activation_function='tanh').fit(sim_train)\n",
    "# del sim_train\n",
    "\n",
    "D_ESINET = net.predict(sim.eeg_data[0])[0].data\n",
    "\n",
    "stc_hat = stc.copy()\n",
    "stc_hat.data = D_ESINET\n",
    "r = np.mean([pearsonr(a, b)[0] for a, b in zip(stc_hat.data.T, stc.data.T)])\n",
    "brain = stc_hat.plot(**pp)\n",
    "brain.add_text(0.1, 0.9, f'ESINET (r={r:.2f})', 'title',\n",
    "            font_size=14)\n",
    "\n",
    "\n",
    "D_cESINET = contextualize_bd(D_ESINET, fwd)\n",
    "stc_hat.data = D_cESINET\n",
    "brain = stc_hat.plot(**pp)\n",
    "r = np.mean([pearsonr(a, b)[0] for a, b in zip(stc_hat.data.T, stc.data.T)])\n",
    "brain.add_text(0.1, 0.9, f'cESINET (r={r:.2f})', 'title',\n",
    "            font_size=14)"
   ]
  },
  {
   "cell_type": "markdown",
   "metadata": {},
   "source": [
    "# Backus-Gilbert"
   ]
  },
  {
   "cell_type": "code",
   "execution_count": null,
   "metadata": {},
   "outputs": [],
   "source": [
    "# Calculate distance matrix\n",
    "dist = cdist(pos, pos)\n",
    "\n",
    "print(\"Get W_BG\")\n",
    "W_BG = []\n",
    "for i in range(n_dipoles):\n",
    "    W_gamma_BG = np.diag(dist[i, :])\n",
    "    W_BG.append(W_gamma_BG)\n",
    "\n",
    "print(\"Get C\")\n",
    "C = []\n",
    "for i in range(n_dipoles):\n",
    "    C_gamma = leadfield @ W_BG[i] @ leadfield.T\n",
    "    C.append(C_gamma)\n",
    "\n",
    "print(\"Get F\")\n",
    "F = leadfield @ leadfield.T\n",
    "\n",
    "print(\"Get E\")\n",
    "E = []\n",
    "for i in range(n_dipoles):\n",
    "    E_gamma = C[i] + F\n",
    "    E.append(E_gamma)\n",
    "\n",
    "print(\"Get L\")\n",
    "L = leadfield @ np.ones((n_dipoles, 1))\n",
    "\n",
    "print(\"Get T\")\n",
    "T = []\n",
    "for i in range(n_dipoles):\n",
    "    E_gamma_pinv = np.linalg.pinv(E[i])\n",
    "    T_gamma = (E_gamma_pinv @ L) / (L.T @ E_gamma_pinv @ L)\n",
    "    T.append(T_gamma)\n",
    "\n",
    "T_final = np.stack(T, axis=0)[:, :, 0]\n",
    "D_BG = T_final @ M\n",
    "\n",
    "stc_hat = stc.copy()\n",
    "stc_hat.data = D_BG\n",
    "brain = stc_hat.plot(**pp)\n",
    "brain.add_text(0.1, 0.9, 'Backus-Gilbert', 'title',\n",
    "            font_size=14)"
   ]
  },
  {
   "cell_type": "markdown",
   "metadata": {},
   "source": [
    "# Multiple Sparse Priors"
   ]
  },
  {
   "cell_type": "code",
   "execution_count": null,
   "metadata": {},
   "outputs": [],
   "source": [
    "D_MSP = inverse_msp(evoked, fwd)\n",
    "\n",
    "stc_hat = stc.copy()\n",
    "stc_hat.data = D_MSP\n",
    "r = np.median([pearsonr(a, b)[0] for a, b in zip(stc.data.T, stc_hat.data.T)])\n",
    "brain = stc_hat.plot(**pp)\n",
    "brain.add_text(0.1, 0.9, f'MSP (r={r:.2f})', 'title',\n",
    "            font_size=14)\n",
    "\n",
    "# D_bLORETA = inverse_msp(evoked, fwd, inversion_type=\"LORETA\")\n",
    "\n",
    "# stc_hat = stc.copy()\n",
    "# stc_hat.data = D_bLORETA\n",
    "# r = np.median([pearsonr(a, b)[0] for a, b in zip(stc.data.T, stc_hat.data.T)])\n",
    "# brain = stc_hat.plot(**pp)\n",
    "# brain.add_text(0.1, 0.9, f'Bayesian LORETA (r={r:.2f})', 'title',\n",
    "#             font_size=14)"
   ]
  },
  {
   "cell_type": "markdown",
   "metadata": {},
   "source": [
    "\n",
    "# LUCAS"
   ]
  },
  {
   "cell_type": "code",
   "execution_count": null,
   "metadata": {},
   "outputs": [],
   "source": [
    "stc_hat.data = np.mean([D_MNE , D_WMNE, D_LOR, D_SLOR, D_ELOR, D_LAURA, D_SMAP, D_ESINET, D_BG, D_MSP], axis=0)\n",
    "brain = stc_hat.plot(**pp)\n",
    "brain.add_text(0.1, 0.9, 'LUCAS', 'title',\n",
    "            font_size=14)\n",
    "\n",
    "stc_hat.data = contextualize(stc_hat.data, fwd)\n",
    "brain = stc_hat.plot(**pp)\n",
    "brain.add_text(0.1, 0.9, 'cLUCAS', 'title',\n",
    "            font_size=14)"
   ]
  },
  {
   "cell_type": "markdown",
   "metadata": {},
   "source": [
    "# Beamformer"
   ]
  },
  {
   "cell_type": "code",
   "execution_count": 16,
   "metadata": {},
   "outputs": [
    {
     "name": "stdout",
     "output_type": "stream",
     "text": [
      "Using control points [3.65139580e-21 6.28544879e-21 4.68946033e-19]\n",
      "For automatic theme detection, \"darkdetect\" has to be installed! You can install it with `pip install darkdetect`\n",
      "To use light mode, \"qdarkstyle\" has to be installed! You can install it with `pip install qdarkstyle`\n"
     ]
    },
    {
     "ename": "ValueError",
     "evalue": "Times should be between -0.2 and -0.101.",
     "output_type": "error",
     "traceback": [
      "\u001b[1;31m---------------------------------------------------------------------------\u001b[0m",
      "\u001b[1;31mValueError\u001b[0m                                Traceback (most recent call last)",
      "\u001b[1;32mc:\\Users\\Lukas\\Documents\\projects\\invert\\dev\\main.ipynb Zelle 38\u001b[0m in \u001b[0;36m<cell line: 37>\u001b[1;34m()\u001b[0m\n\u001b[0;32m     <a href='vscode-notebook-cell:/c%3A/Users/Lukas/Documents/projects/invert/dev/main.ipynb#X52sZmlsZQ%3D%3D?line=34'>35</a>\u001b[0m \u001b[39mfrom\u001b[39;00m \u001b[39mesinet\u001b[39;00m\u001b[39m.\u001b[39;00m\u001b[39mutil\u001b[39;00m \u001b[39mimport\u001b[39;00m get_eeg_from_source\n\u001b[0;32m     <a href='vscode-notebook-cell:/c%3A/Users/Lukas/Documents/projects/invert/dev/main.ipynb#X52sZmlsZQ%3D%3D?line=35'>36</a>\u001b[0m evoked_hat \u001b[39m=\u001b[39m get_eeg_from_source(stc, fwd, evoked\u001b[39m.\u001b[39minfo)\n\u001b[1;32m---> <a href='vscode-notebook-cell:/c%3A/Users/Lukas/Documents/projects/invert/dev/main.ipynb#X52sZmlsZQ%3D%3D?line=36'>37</a>\u001b[0m evoked_hat\u001b[39m.\u001b[39;49mplot_topomap(times\u001b[39m=\u001b[39;49m[\u001b[39m0\u001b[39;49m])\n\u001b[0;32m     <a href='vscode-notebook-cell:/c%3A/Users/Lukas/Documents/projects/invert/dev/main.ipynb#X52sZmlsZQ%3D%3D?line=38'>39</a>\u001b[0m evoked_hat \u001b[39m=\u001b[39m get_eeg_from_source(stc_hat, fwd, evoked\u001b[39m.\u001b[39minfo)\n\u001b[0;32m     <a href='vscode-notebook-cell:/c%3A/Users/Lukas/Documents/projects/invert/dev/main.ipynb#X52sZmlsZQ%3D%3D?line=39'>40</a>\u001b[0m evoked_hat\u001b[39m.\u001b[39mplot_topomap(times\u001b[39m=\u001b[39m[\u001b[39m0\u001b[39m])\n",
      "File \u001b[1;32mc:\\Users\\Lukas\\Envs\\invertenv\\lib\\site-packages\\mne\\evoked.py:488\u001b[0m, in \u001b[0;36mEvoked.plot_topomap\u001b[1;34m(self, times, ch_type, vmin, vmax, cmap, sensors, colorbar, scalings, units, res, size, cbar_fmt, time_unit, time_format, proj, show, show_names, title, mask, mask_params, outlines, contours, image_interp, average, axes, extrapolate, sphere, border, nrows, ncols)\u001b[0m\n\u001b[0;32m    477\u001b[0m \u001b[39m@copy_function_doc_to_method_doc\u001b[39m(plot_evoked_topomap)\n\u001b[0;32m    478\u001b[0m \u001b[39mdef\u001b[39;00m \u001b[39mplot_topomap\u001b[39m(\u001b[39mself\u001b[39m, times\u001b[39m=\u001b[39m\u001b[39m\"\u001b[39m\u001b[39mauto\u001b[39m\u001b[39m\"\u001b[39m, ch_type\u001b[39m=\u001b[39m\u001b[39mNone\u001b[39;00m, vmin\u001b[39m=\u001b[39m\u001b[39mNone\u001b[39;00m,\n\u001b[0;32m    479\u001b[0m                  vmax\u001b[39m=\u001b[39m\u001b[39mNone\u001b[39;00m, cmap\u001b[39m=\u001b[39m\u001b[39mNone\u001b[39;00m, sensors\u001b[39m=\u001b[39m\u001b[39mTrue\u001b[39;00m, colorbar\u001b[39m=\u001b[39m\u001b[39mTrue\u001b[39;00m,\n\u001b[1;32m   (...)\u001b[0m\n\u001b[0;32m    486\u001b[0m                  axes\u001b[39m=\u001b[39m\u001b[39mNone\u001b[39;00m, extrapolate\u001b[39m=\u001b[39m_EXTRAPOLATE_DEFAULT, sphere\u001b[39m=\u001b[39m\u001b[39mNone\u001b[39;00m,\n\u001b[0;32m    487\u001b[0m                  border\u001b[39m=\u001b[39m_BORDER_DEFAULT, nrows\u001b[39m=\u001b[39m\u001b[39m1\u001b[39m, ncols\u001b[39m=\u001b[39m\u001b[39m'\u001b[39m\u001b[39mauto\u001b[39m\u001b[39m'\u001b[39m):\n\u001b[1;32m--> 488\u001b[0m     \u001b[39mreturn\u001b[39;00m plot_evoked_topomap(\n\u001b[0;32m    489\u001b[0m         \u001b[39mself\u001b[39;49m, times\u001b[39m=\u001b[39;49mtimes, ch_type\u001b[39m=\u001b[39;49mch_type, vmin\u001b[39m=\u001b[39;49mvmin,\n\u001b[0;32m    490\u001b[0m         vmax\u001b[39m=\u001b[39;49mvmax, cmap\u001b[39m=\u001b[39;49mcmap, sensors\u001b[39m=\u001b[39;49msensors, colorbar\u001b[39m=\u001b[39;49mcolorbar,\n\u001b[0;32m    491\u001b[0m         scalings\u001b[39m=\u001b[39;49mscalings, units\u001b[39m=\u001b[39;49munits, res\u001b[39m=\u001b[39;49mres,\n\u001b[0;32m    492\u001b[0m         size\u001b[39m=\u001b[39;49msize, cbar_fmt\u001b[39m=\u001b[39;49mcbar_fmt, time_unit\u001b[39m=\u001b[39;49mtime_unit,\n\u001b[0;32m    493\u001b[0m         time_format\u001b[39m=\u001b[39;49mtime_format, proj\u001b[39m=\u001b[39;49mproj, show\u001b[39m=\u001b[39;49mshow,\n\u001b[0;32m    494\u001b[0m         show_names\u001b[39m=\u001b[39;49mshow_names, title\u001b[39m=\u001b[39;49mtitle, mask\u001b[39m=\u001b[39;49mmask,\n\u001b[0;32m    495\u001b[0m         mask_params\u001b[39m=\u001b[39;49mmask_params, outlines\u001b[39m=\u001b[39;49moutlines, contours\u001b[39m=\u001b[39;49mcontours,\n\u001b[0;32m    496\u001b[0m         image_interp\u001b[39m=\u001b[39;49mimage_interp, average\u001b[39m=\u001b[39;49maverage,\n\u001b[0;32m    497\u001b[0m         axes\u001b[39m=\u001b[39;49maxes, extrapolate\u001b[39m=\u001b[39;49mextrapolate, sphere\u001b[39m=\u001b[39;49msphere, border\u001b[39m=\u001b[39;49mborder,\n\u001b[0;32m    498\u001b[0m         nrows\u001b[39m=\u001b[39;49mnrows, ncols\u001b[39m=\u001b[39;49mncols)\n",
      "File \u001b[1;32mc:\\Users\\Lukas\\Envs\\invertenv\\lib\\site-packages\\mne\\viz\\topomap.py:1626\u001b[0m, in \u001b[0;36mplot_evoked_topomap\u001b[1;34m(***failed resolving arguments***)\u001b[0m\n\u001b[0;32m   1623\u001b[0m space \u001b[39m=\u001b[39m \u001b[39m1\u001b[39m \u001b[39m/\u001b[39m (\u001b[39m2.\u001b[39m \u001b[39m*\u001b[39m evoked\u001b[39m.\u001b[39minfo[\u001b[39m'\u001b[39m\u001b[39msfreq\u001b[39m\u001b[39m'\u001b[39m])\n\u001b[0;32m   1624\u001b[0m \u001b[39mif\u001b[39;00m (\u001b[39mmax\u001b[39m(times) \u001b[39m>\u001b[39m \u001b[39mmax\u001b[39m(evoked\u001b[39m.\u001b[39mtimes) \u001b[39m+\u001b[39m space \u001b[39mor\u001b[39;00m\n\u001b[0;32m   1625\u001b[0m         \u001b[39mmin\u001b[39m(times) \u001b[39m<\u001b[39m \u001b[39mmin\u001b[39m(evoked\u001b[39m.\u001b[39mtimes) \u001b[39m-\u001b[39m space):\n\u001b[1;32m-> 1626\u001b[0m     \u001b[39mraise\u001b[39;00m \u001b[39mValueError\u001b[39;00m(\u001b[39mf\u001b[39m\u001b[39m'\u001b[39m\u001b[39mTimes should be between \u001b[39m\u001b[39m{\u001b[39;00mevoked\u001b[39m.\u001b[39mtimes[\u001b[39m0\u001b[39m]\u001b[39m:\u001b[39;00m\u001b[39m0.3\u001b[39m\u001b[39m}\u001b[39;00m\u001b[39m and \u001b[39m\u001b[39m'\u001b[39m\n\u001b[0;32m   1627\u001b[0m                      \u001b[39mf\u001b[39m\u001b[39m'\u001b[39m\u001b[39m{\u001b[39;00mevoked\u001b[39m.\u001b[39mtimes[\u001b[39m-\u001b[39m\u001b[39m1\u001b[39m]\u001b[39m:\u001b[39;00m\u001b[39m0.3\u001b[39m\u001b[39m}\u001b[39;00m\u001b[39m.\u001b[39m\u001b[39m'\u001b[39m)\n\u001b[0;32m   1628\u001b[0m \u001b[39m# create axes\u001b[39;00m\n\u001b[0;32m   1629\u001b[0m want_axes \u001b[39m=\u001b[39m n_times \u001b[39m+\u001b[39m \u001b[39mint\u001b[39m(colorbar)\n",
      "\u001b[1;31mValueError\u001b[0m: Times should be between -0.2 and -0.101."
     ]
    }
   ],
   "source": [
    "C = M @ M.T\n",
    "C_inv = np.linalg.inv(C)\n",
    "N = np.identity(n_chans)\n",
    "\n",
    "W = []\n",
    "P = []\n",
    "roh = []\n",
    "mu = 0#100\n",
    "v_sq = 1# np.linalg.norm(leadfield)\n",
    "reg_term = np.linalg.inv(C + mu*v_sq*np.identity(n_chans))\n",
    "for i in range(n_dipoles):\n",
    "    # W_i = np.linalg.inv(leadfield[:, i][np.newaxis] @ C_inv @ leadfield[:, i][np.newaxis].T) * leadfield[:, i][np.newaxis] @ C_inv\n",
    "    W_i = np.linalg.inv(leadfield[:, i][np.newaxis] @ reg_term @ leadfield[:, i][np.newaxis].T) * leadfield[:, i][np.newaxis] @ reg_term\n",
    "    \n",
    "    P_i = W_i @ C @ W_i.T\n",
    "    roh_i = W_i @ N @ W_i.T\n",
    "    W.append(W_i)\n",
    "    P.append(P_i)\n",
    "    roh.append(roh_i)\n",
    "\n",
    "W = np.concatenate(W, axis=0)\n",
    "P = np.stack(P)[:, 0, 0]\n",
    "roh = np.stack(roh)[:, 0, 0]\n",
    "Z = P / roh\n",
    "D_LCMV = W @ M\n",
    "\n",
    "stc_hat = stc.copy()\n",
    "stc_hat.data = D_LCMV\n",
    "\n",
    "brain = stc_hat.plot(**pp)\n",
    "brain.add_text(0.1, 0.9, 'Beamformer', 'title',\n",
    "               font_size=14)\n",
    "\n",
    "\n",
    "from esinet.util import get_eeg_from_source\n",
    "evoked_hat = get_eeg_from_source(stc, fwd, evoked.info)\n",
    "evoked_hat.plot_topomap(times=[0])\n",
    "\n",
    "evoked_hat = get_eeg_from_source(stc_hat, fwd, evoked.info)\n",
    "evoked_hat.plot_topomap(times=[0])\n"
   ]
  },
  {
   "cell_type": "code",
   "execution_count": 12,
   "metadata": {},
   "outputs": [
    {
     "name": "stdout",
     "output_type": "stream",
     "text": [
      "Using control points [1.57832649e-13 2.61009806e-13 1.77431980e-11]\n",
      "For automatic theme detection, \"darkdetect\" has to be installed! You can install it with `pip install darkdetect`\n",
      "To use light mode, \"qdarkstyle\" has to be installed! You can install it with `pip install qdarkstyle`\n"
     ]
    },
    {
     "data": {
      "image/png": "[encoded data removed]",
      "text/plain": [
       "<MNEFigure size 300x220 with 2 Axes>"
      ]
     },
     "metadata": {},
     "output_type": "display_data"
    },
    {
     "name": "stdout",
     "output_type": "stream",
     "text": [
      "Using control points [1.57759219e-13 2.60781314e-13 1.77431980e-11]\n",
      "For automatic theme detection, \"darkdetect\" has to be installed! You can install it with `pip install darkdetect`\n",
      "To use light mode, \"qdarkstyle\" has to be installed! You can install it with `pip install qdarkstyle`\n"
     ]
    },
    {
     "data": {
      "image/png": "[encoded data removed]",
      "text/plain": [
       "<MNEFigure size 300x220 with 2 Axes>"
      ]
     },
     "metadata": {},
     "output_type": "display_data"
    },
    {
     "data": {
      "image/png": "[encoded data removed]",
      "text/plain": [
       "<MNEFigure size 300x220 with 2 Axes>"
      ]
     },
     "execution_count": 12,
     "metadata": {},
     "output_type": "execute_result"
    },
    {
     "name": "stdout",
     "output_type": "stream",
     "text": [
      "Using control points [8.24617402e-14 1.26780241e-13 4.49633833e-12]\n"
     ]
    }
   ],
   "source": [
    "C = M @ M.T\n",
    "C_inv = np.linalg.inv(C)\n",
    "W = np.zeros((n_dipoles, n_chans))\n",
    "D = np.zeros(n_dipoles)\n",
    "L = -np.linalg.inv(leadfield.T @ C_inv @ leadfield)\n",
    "\n",
    "for i in range(n_dipoles):\n",
    "    W_i = np.linalg.inv(leadfield[:, i][np.newaxis] @ C_inv @ leadfield[:, i][np.newaxis].T) @ leadfield[:, i][np.newaxis] @ C_inv\n",
    "    # print(W_i.shape)\n",
    "    W[i] = W_i\n",
    "    D[i] = np.trace( np.linalg.inv(leadfield[:, i][np.newaxis] @ C_inv @  leadfield[:, i][np.newaxis].T) )\n",
    "    # D[i] = np.trace( W[i][np.newaxis] @ C @  W[i][np.newaxis].T )\n",
    "D_LCMV = W@M\n",
    "\n",
    "# D_LCMV /= np.max(abs(D_LCMV))\n",
    "stc_hat = stc.copy()\n",
    "stc_hat.data = D_LCMV\n",
    "brain = stc_hat.plot(**pp)\n",
    "brain.add_text(0.1, 0.9, 'Beamformer', 'title',\n",
    "               font_size=14)\n",
    "\n",
    "from esinet.util import get_eeg_from_source\n",
    "evoked_hat = get_eeg_from_source(stc_hat, fwd, evoked.info)\n",
    "evoked_hat.plot_topomap(times=[0])\n",
    "\n",
    "stc_hat = stc_hat.copy()\n",
    "stc_hat.data[:,0] = D\n",
    "brain = stc_hat.plot(**pp)\n",
    "brain.add_text(0.1, 0.9, 'Variance', 'title',\n",
    "               font_size=14)\n",
    "from esinet.util import get_eeg_from_source\n",
    "\n",
    "evoked_hat = get_eeg_from_source(stc_hat, fwd, evoked.info)\n",
    "evoked_hat.plot_topomap(times=[0])"
   ]
  },
  {
   "cell_type": "markdown",
   "metadata": {},
   "source": [
    "# Saved for later"
   ]
  },
  {
   "cell_type": "code",
   "execution_count": null,
   "metadata": {},
   "outputs": [],
   "source": [
    "from esinet.util import get_eeg_from_source\n",
    "evoked_hat = get_eeg_from_source(stc_hat, fwd, info, tmin=stc.tmin)\n",
    "evoked_hat.plot_topomap()"
   ]
  },
  {
   "cell_type": "code",
   "execution_count": null,
   "metadata": {},
   "outputs": [],
   "source": [
    "evoked.plot_topomap()"
   ]
  },
  {
   "cell_type": "code",
   "execution_count": null,
   "metadata": {},
   "outputs": [],
   "source": []
  }
 ],
 "metadata": {
  "kernelspec": {
   "display_name": "Python 3.8.10 ('invertenv')",
   "language": "python",
   "name": "python3"
  },
  "language_info": {
   "codemirror_mode": {
    "name": "ipython",
    "version": 3
   },
   "file_extension": ".py",
   "mimetype": "text/x-python",
   "name": "python",
   "nbconvert_exporter": "python",
   "pygments_lexer": "ipython3",
   "version": "3.8.10"
  },
  "orig_nbformat": 4,
  "vscode": {
   "interpreter": {
    "hash": "dda1e5657e486f74a7b39841fb8103db2af51a77394f44c39a7821a371af47bd"
   }
  }
 },
 "nbformat": 4,
 "nbformat_minor": 2
}
